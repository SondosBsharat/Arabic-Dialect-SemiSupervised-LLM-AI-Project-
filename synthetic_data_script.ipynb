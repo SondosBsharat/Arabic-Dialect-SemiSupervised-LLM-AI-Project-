{
 "cells": [
  {
   "cell_type": "code",
   "execution_count": 14,
   "metadata": {},
   "outputs": [
    {
     "name": "stdout",
     "output_type": "stream",
     "text": [
      "Requirement already satisfied: openai in /Users/menaattia/opt/anaconda3/envs/ai701/lib/python3.8/site-packages (1.54.3)\n",
      "Requirement already satisfied: tqdm>4 in /Users/menaattia/opt/anaconda3/envs/ai701/lib/python3.8/site-packages (from openai) (4.66.5)\n",
      "Requirement already satisfied: pydantic<3,>=1.9.0 in /Users/menaattia/opt/anaconda3/envs/ai701/lib/python3.8/site-packages (from openai) (2.9.2)\n",
      "Requirement already satisfied: distro<2,>=1.7.0 in /Users/menaattia/opt/anaconda3/envs/ai701/lib/python3.8/site-packages (from openai) (1.9.0)\n",
      "Requirement already satisfied: jiter<1,>=0.4.0 in /Users/menaattia/opt/anaconda3/envs/ai701/lib/python3.8/site-packages (from openai) (0.7.0)\n",
      "Requirement already satisfied: typing-extensions<5,>=4.11 in /Users/menaattia/opt/anaconda3/envs/ai701/lib/python3.8/site-packages (from openai) (4.12.2)\n",
      "Requirement already satisfied: httpx<1,>=0.23.0 in /Users/menaattia/opt/anaconda3/envs/ai701/lib/python3.8/site-packages (from openai) (0.27.2)\n",
      "Requirement already satisfied: anyio<5,>=3.5.0 in /Users/menaattia/opt/anaconda3/envs/ai701/lib/python3.8/site-packages (from openai) (4.5.2)\n",
      "Requirement already satisfied: sniffio in /Users/menaattia/opt/anaconda3/envs/ai701/lib/python3.8/site-packages (from openai) (1.3.1)\n",
      "Requirement already satisfied: exceptiongroup>=1.0.2 in /Users/menaattia/opt/anaconda3/envs/ai701/lib/python3.8/site-packages (from anyio<5,>=3.5.0->openai) (1.2.2)\n",
      "Requirement already satisfied: idna>=2.8 in /Users/menaattia/opt/anaconda3/envs/ai701/lib/python3.8/site-packages (from anyio<5,>=3.5.0->openai) (3.10)\n",
      "Requirement already satisfied: httpcore==1.* in /Users/menaattia/opt/anaconda3/envs/ai701/lib/python3.8/site-packages (from httpx<1,>=0.23.0->openai) (1.0.6)\n",
      "Requirement already satisfied: certifi in /Users/menaattia/opt/anaconda3/envs/ai701/lib/python3.8/site-packages (from httpx<1,>=0.23.0->openai) (2024.8.30)\n",
      "Requirement already satisfied: h11<0.15,>=0.13 in /Users/menaattia/opt/anaconda3/envs/ai701/lib/python3.8/site-packages (from httpcore==1.*->httpx<1,>=0.23.0->openai) (0.14.0)\n",
      "Requirement already satisfied: pydantic-core==2.23.4 in /Users/menaattia/opt/anaconda3/envs/ai701/lib/python3.8/site-packages (from pydantic<3,>=1.9.0->openai) (2.23.4)\n",
      "Requirement already satisfied: annotated-types>=0.6.0 in /Users/menaattia/opt/anaconda3/envs/ai701/lib/python3.8/site-packages (from pydantic<3,>=1.9.0->openai) (0.7.0)\n",
      "Requirement already satisfied: python-dotenv in /Users/menaattia/opt/anaconda3/envs/ai701/lib/python3.8/site-packages (0.21.0)\n"
     ]
    }
   ],
   "source": [
    "!pip install openai\n",
    "!pip install python-dotenv"
   ]
  },
  {
   "cell_type": "code",
   "execution_count": 34,
   "metadata": {},
   "outputs": [],
   "source": [
    "from openai import OpenAI\n",
    "import os\n",
    "import csv\n",
    "from dotenv import load_dotenv\n",
    "\n",
    "load_dotenv() \n",
    "\n",
    "OPENAI_API_KEY = os.getenv('OPENAI_API_KEY')\n",
    "\n",
    "client = OpenAI(api_key=OPENAI_API_KEY)"
   ]
  },
  {
   "cell_type": "code",
   "execution_count": 229,
   "metadata": {},
   "outputs": [],
   "source": [
    "adj = \"Levantine\"\n",
    "country = \"Jordan, Palestine, Lebanon, or Syria\"\n",
    "\n",
    "topics = [\n",
    "    \"personal updates, including health and wellbeing, family and friends\",\n",
    "    \"relationships and social life, including marriage, friendship, social issues\",\n",
    "    \"social and world events, including news and current events, weather, trends and social media\",\n",
    "    \"technology, including new tech, apps, online trends\",\n",
    "    \"money and finance, including personal finances, shopping and deals, economic updates\",\n",
    "    \"entertainment and pop culture, including TV shows and movies, music, sports\", \n",
    "    \"daily activities, including plans for the day, food and cooking, hobbies and leisure\",\n",
    "    \"travel and experiences, including local experiences and activities, cultural topics\",\n",
    "    \"education and learning, including school, college, and studies\",\n",
    "    \"work and career, including jobs and the workplace\"\n",
    "]\n",
    "\n",
    "prompt = \"Generate 200 unique sentences in the \" + adj + \" Arabic dialect, each capturing different everyday expressions, phrases, or dialogues used in \" + country + \" related to \" + topics[9] + \". Use only the \" + adj + \" dialect, and do not use Modern Standard Arabic. Only output the data and output every sentence on a line without numbering the lines. Avoid redundancy.\"\n",
    "\n",
    "\n",
    "\n",
    "# Parameters\n",
    "model = \"gpt-4o-mini\"\n",
    "max_tokens = 10000\n",
    "temperature = 1\n",
    "\n",
    "# Generate sentences\n",
    "response = client.chat.completions.create(\n",
    "    model=model,\n",
    "    messages=[{\"role\": \"user\", \"content\": prompt}],\n",
    "    max_tokens=max_tokens,\n",
    "    temperature=temperature\n",
    ")"
   ]
  },
  {
   "cell_type": "code",
   "execution_count": 230,
   "metadata": {},
   "outputs": [],
   "source": [
    "response_message = response.choices[0].message.content"
   ]
  },
  {
   "cell_type": "code",
   "execution_count": 231,
   "metadata": {},
   "outputs": [
    {
     "name": "stdout",
     "output_type": "stream",
     "text": [
      "['أنا بشتغل مكتب، وعندي دوام من الصبح للمغرب.  ', 'كيف بتحبي تشتغلي، عن بعد ولا بالمكتب؟  ', 'المدير طلب مني أعمل تقرير عن المشروع.  ', 'لازم أخلص الشغل قبل نهاية الأسبوع.  ', 'هالاجتماع مهم، ما لازم نفوّته.  ', 'يا ريتني كنت محامي لحتى أقدر أساعد الناس.  ', 'الشغل اليوم كان كتير متعب، حاسس حالي مرهق.  ', 'في فرصة عمل جديدة بمدينتنا، سمعت حدا عم يحكي عنها.  ', 'الموظفين عندنا فريق شغل متماسك.  ', 'مرة كنت أشتغل ع مشروع مع فريق من الخارج.  ', 'لو كنت مكانك، بشتغل بشركة أكبر.  ', 'الكادر عندنا كتير مبدع، وبساعدوا بعض.  ', 'في زميل عندي بالقسم يفهم بالتسويق كتير.  ', 'امتيازات العمل عندهم ممتازة.  ', 'أسبوع الجاي عندي مقابلة عمل، شو بتنصحيني؟  ', 'لما تكوني مع زملاءك بالعمل، بتحسي الحماس.  ', 'الأجواء بالمكتب دايمًا بتكون لطيفة.  ', 'الحمد لله على الوظيفة الجديدة يلي حصلت عليها.  ', 'دايمًا عم أتعلم أشياء جديدة بالشغل.  ', 'ممكن أخصص ساعة من وقتي لأسئلة المتدربين.  ', 'المدير عنده وجهة نظر مختلفة، لازم نسمعه.  ', 'العمل الجماعي بيخلي التقدم أسرع.  ', 'شو في مواعيد للدورات التدريبية هالفترة؟  ', 'لعبة البازار بتفتح أبواب جديدة مع الناس.  ', 'أنا بحب أدير مشاريعي بنفسي.  ', 'خلصت من الشغل بدري اليوم، عندي شغل تاني.  ', 'نجاح المشروع كان نتيجة الجهود المشتركة.  ', 'لك عبيت السيرة الذاتية صحيحة؟  ', 'صعب أوازن بين العمل والدراسة.  ', 'هلأ في منشورات عن الوظائف على الإنترنت.  ', 'توظيف التقنيين صار ضروري بالشركات.  ', 'كم ربحك بالشغل اليوم؟  ', 'هالمكتب كتير مرتب، بحب التنظيم.  ', 'امي بتقول الشغل مو عيب، بالعكس.  ', 'بشتغل أربع أيام بالأسبوع، عشان عندي تعديل بالدراسة.  ', 'عندي زميلة تحب العمل مع الأطفال كتير.  ', 'هلأ صرنا نشتغل عن بعد بأكثر الأحيان.  ', 'صارت الاجتماعات بالبنايات تبع الشركات أقل.  ', 'الشغل بروح مع الصحبة الحلوة.  ', 'بشتغل كمسوح ب شركة خدمات.  ', 'كل ما تتعلمي، كل ما تقدري تطوري مهاراتك.  ', 'لازم نراجع خطة العمل بالاجتماع الجاي.  ', 'الضغط بالشغل ممكن يكون مفيد أحيانًا.  ', 'أنا مركزة على المشاريع الطلابية بهالفترة.  ', 'هل في مجال لتطوير مشروعك الخاص؟  ', 'موظفين الطواري بالهلال الأحمر كتير مهمين.  ', 'الشغل مع الشباب بيخلي الواحد يتحمس.  ', 'كيف فينا نرفع مستوى الإنتاج؟  ', 'مكتبنا بحاجه لدعم فني أكبر.  ', 'لما بشتغل معاك، بلاقي أفكار جديدة.  ', 'صرت كثير أحب مجال تصميم الجرافك.  ', 'ليش ما تسجلي بدورات تطوير الذات؟  ', 'في شغل جديد بالخدمات اللوجستية، سمعت عنه.  ', 'أجواء العمل بتخلي الواحد يحب وظيفته.  ', 'خلال هالسنة عم شوف تغييرات كبيرة بالمجال.  ', 'المهارات التواصل بطلت خيار، صارت ضرورة.  ', 'بتحبوا تكونوا مستشارين ولا تنفيذيين؟  ', 'اهتماماتكو بالشغل بتكون دافعة للنجاح.  ', 'مضطرين نرفع الرواتب مع زيادة أسعار المعيشة.  ', 'لازم نكون جاهزين للضغوطات بالموسم.  ', 'عندي فكرة لبحث جديد مرتبط بالشغل.  ', 'النتايج بالأشهر الماضية كانت مبشرة.  ', 'يوم الجمعة، كلنا منلتقى لنناقش الوضع.  ', 'ما في شيء أفضل من إنك تشتغلي بشي بتحبيه.  ', 'الدورات عبر الإنترنت ساعدتني أتعلم عن البرمجة.  ', 'هل عندكم عمل مشترك مع الجامعات؟  ', 'الحمد لله، عندي مساعدة من زملائي بالشغل.  ', 'الشغل عن بعد أكتر راحة للكثير.  ', 'المؤسسات غير الربحية بحاجة لناس مثلنا.  ', 'اليوم حطيت أهداف جديدة لنفسي بالمكتب.  ', 'صعبة الشكوى عن الأداء للفريق.  ', 'بنا لنتعلم كيف نتعامل مع الانتقادات.  ', 'قريبًا رح نتسىهل شغل بالتصميم الداخلي.  ', 'القرارات السريعة لازم تكون مدروسة.  ', 'ممكن نعد خطة جديدة لأبراج الاستثمار.  ', 'الشغل بالمحطة كان أول تجربة إلي.  ', 'الاجتماعات الصباحية بتعطي طاقة إيجابية.  ', 'الناس أوقات بتحتار بين الهوايات والشغل.  ', 'لازم نبحث عن شركاء بمشروعنا.  ', 'لما أدير المشروع بكون حريصة على كل التفاصيل.  ', 'شفت الشعار الجديد اللي عملناه، كتير حلو.  ', 'دوامنا طويل، بس التجربة مميزة.  ', 'الأسئلة المفتوحة أسلوب فعال بالنقاش.  ', 'خايفة من التحديات الجديدة، بس متحمسة.  ', 'وقت العمل عادة ما أراقب الأخبار كثير.  ', 'الشريك بالعمل لازم يتفهم ضغوط الحياة المشتركة.  ', 'الجو بالمكتب مريح، وهذا مفيد للإنتاجية.  ', 'بكرا عندي موعد مع مدير المشروع.  ', 'كلنا بنشتغل على قدر المحبة لتحقيق النجاح.  ', 'ليه ما يطبقوا فكرة المسابقات بالعمل؟  ', 'الحضور مهم، بس الجودة أهم.  ', 'لازم نعرف كيف نوزع المهام بشكل أفضل.  ', 'في أوقات ضغط، لازم نتعامل معها بحكمة.  ', 'فكرة تحفيز الزملاء ببلشنا نطبقها.  ', 'نبحث عن أساليب جديدة لتطوير المهارات.  ', 'الاستثمار في التعليم مستدام وضروري.  ', 'حب المهنة بيخلي الشغل أسهل.  ', 'لازم يكون عندنا رؤية استراتيجية واضحة.  ', 'الدخول لعالم الأعمال يحتاج لتحضير وتخطيط.  ', 'الشغل بالمصنع يحتاج لتركيز ودقة.  ', 'الطريقة اللي منحب نتعاون فيها بتحدد نجاح المشروع.  ', 'هل بيفتحوا مركز للتدريب عاللغات؟  ', 'لما أمشي بالمكتب بشوف وجوه مألوفة.  ', 'التاستيغ الأحدث للشركة كثير مثير.  ', 'الثقة بين الأشخاص بتعزز الفاعلية.  ', 'طموحاتنا لازم تكون مرتفعة، بس واقعية.  ', 'لو وين ما رحت كل واحد عنده وظيفة.  ', 'خبرة العمل تعد من أساسيات النجاح.  ', 'الإخلاص بالمهنة يعطي نتائج إيجابية دائمًا.  ', 'يوم العطلة، بحب ألقاهم وأتبادل الأفكار.  ', 'المسؤولية بترتفع مع الألقاب الجديدة.  ', 'إذا بدك تتقدمي، لازم تتبعي التطورات.  ', 'أنا مهتم بمجال تطوير البرمجيات.  ', 'خليلك هدف واضح لحتى تبقى مشجع.  ', 'الأشخاص الطموحين هم أفضل العاملين.  ', 'أسعى دايمًا لأكون شريكة في النجاحات.  ', 'كثير في أصدقاء بيشتغلوا بخطوط إنتاج جديدة.  ', 'الموسيقى بتساعد على التركيز بمجالات معينة.  ', 'الصبر مهم وليه أثر كبير بالشغل.  ', 'الأفكار الجديدة بتجذب العملاء.  ', 'علينا أن نكون منفتحين على التغذية راجعة.  ', 'الحضور بالمؤتمرات بتفتح أمامك آفاق جديدة.  ', 'بستفاد كثير من خبرات زملائنا الأكبر سناً.  ', 'التحليلات ساعدتنا بفهم نشاط السوق أكثر.  ', 'مشروع يطلب الوقت، بس النتيجة حليمة.  ', 'مهم يكون عندك مهارات تنظيم وقت قوية.  ', 'كوني جاهزة لكل جديد بالمجال.  ', 'لازم التركيز يكون على الهدف النهائي.  ', 'الشركة بتشجع الابتكار والإبداع.  ', 'هدول الزملاء عندهم خبرة غنية.  ', 'الدوام مرهق، بس بتكون النتيجة مرضية.  ', 'الأعمال التجارية ترتكز على التواصل الجيد.  ', 'الاستراتيجيات الخاطئة ممكن تكلف الشركات.  ', 'الجميع مفتوح لأفكار التطوير.  ', 'الأمور بالمكتب تحسنت بشكل ملحوظ.  ', 'شخصية القائد تلعب دور كبير بنجاح الفريق.  ', 'بتمنى تسجّلوا بدورات التغليف الفني.  ', 'احنا نحتاج دم جديد بفريق العمل.  ', 'تجربة العمل مع حدا جديد دايمًا مثيرة.  ', 'الاستمرارية ضرورية لننجح في مشاريعنا.  ', 'ما بقدر أتحمس لشغل كثير بحب.  ', 'توظيف الشباب الطموحين يجدد الروح بالمؤسسة.  ', 'نجاحات المشاريع بتعتمد على الشغف.  ', 'سيناريوهات العمل لازم تبقى مرنة.  ', 'الشغل الجماعي أكبر مصدر للطاقة.  ', 'اختلاف الرؤى يساعد في الابتكار.  ', 'اشتغلت على شاطر طويل مع فريق متنوع.  ', 'عنا تحديات بس إحنا نحبون.  ', 'الشغف يجذب الأفضل في كل مجال.  ', 'التعاون بين الأقسام يعزز الأهداف المشتركة.  ', 'ولدت فكرة كتيت ل مشروع مستمر.  ', 'التوازن بين العمل والحياة مهم للجميع.  ', 'نحن نعمل على بناء سمعة قوية للشركة.  ', 'الاستماع لزملاء العمل يؤثر إيجابيًا على الأداء.  ', 'المرونة في شغلنا عامل أساس.  ', 'أنهيت دوامي ووقتي راح في الاجتماعات.  ', 'الكثير صحفيين بيعملوا مجهود كبير للوصول للمعلومة.  ', 'العلاقات الجيدة بالمكتب تصنع بيئة ممتعة.  ', 'أفكارك مفيدة، لازم نتبناها.  ', 'استفدت كثير من خبرات الصديق بالعمل.  ', 'في يوم تطوعي رح نشارك معهم كفريق.  ', 'مو لازم ننسى اجتهادنا السابق للشريك الجديد.  ', 'الإبداع بالمكتب ينمي ثقافة الابتكار.  ', 'الطقس اليوم بهمني بدي أقدر أروح عالشغل.  ', 'المنافسة السليمة بتخلي الجميع يبدع.  ', 'تشجيع أفكار الشباب مهم للاستدامة.  ', 'الشغف هو الدافع الحقيقي وراء النجاح.  ', 'العمل بالفرق يفرض تحديات ولذّة.  ', 'من المهم أن نحتفظ بإيجابيتنا.  ', 'موسم التخفيضات بيشجع على الشراء.  ', 'كل يوم في فرصة جديدة للتعلم والنمو.  ', 'أوقات العمل بتمر بسرعة بمشاريع مثيرة.  ', 'الإصرار على النجاح يتطلب جهد يومي.  ', 'حللنا بيانات السوق وطلع معنا أفكار جديدة.  ', 'في خطط عشان نطور كفاءة العمل.  ', 'احترامي لزملائي يدفعني دائمًا للتقدم.  ', 'الأفكار البناءة لازم تكون محط تقدير.  ', 'سألت الجيّدين عن كيف أنشؤوا مشاريعهم.  ', 'المنافسة الشريفة تجعل مشاريعنا أقوى.  ', 'التنظيم الجيد يساعد على نجاح أي خطوة.  ', 'في تعاون مع الجامعات لتدريب الطلبة.  ', 'استفدت كثير من نصائح مهنية قدموها لي.  ', 'نحن في حاجة لكثير من الإبداع في المشروع.  ', 'لازم نكون ملتزمين بأوقات العمل.  ', 'إنتاجية الموظفين بترتفع مع جوي مناسب.  ', 'لكل شخص مجهود، وفيه أثر واضح.  ', 'لازم نعمل ورشة عمل عن التوتر.  ', 'الاستجابة السريعة للمتطلبات تعكس احترافية.  ', 'دوام المرأة بيدعم الكثير من الحالات.  ', 'أحيانًا المشاكل عبى القيم نحلها بشكل إيجابي.  ', 'بالإنتاج دائمًا بفكر كيف أجعل الأمور أفضل.  ', 'طريقة تفكيري بتؤثر على الفريق.  ', 'الشروحات بالمؤتمرات تعطي طاقات جديدة.  ', 'عملت روابط خاصة مع المعارضين لأفكارنا.  ', 'رح نشتغل على تحسين تجربة العملاء.  ', 'التوازن بين العمل والحياة يجعلني أكثر سعادة.  ', 'الشغل المبني على الثقة ينجح.  ', 'احنا بحاجة نستثمر بالموظفين الجدد.  ', 'ما تترددي تبدي برأيك، كلنا هنا للنجاح.  ', 'الأفكار الجديدة دائمًا تزيد من الإبداع.  ', 'الدورات التدريبية بتحسن من مهاراتنا.  ', 'التعامل مع الخلافات بالمكتب يتطلب حكمة.  ', 'من الضروري أن يكون لك صوت في العمل.  ', 'الأهداف الواضحة بتساعدنا بالتخطيط.  ', 'علينا أن نوازن بين المهام بلا تسرع.  ', 'تجربتي بالعمل مع الشباب كانت رائعة.  ', 'الدعم العاطفي بالمكان يسهل التحمل.  ', 'الأمور الصغيرة تصنع الفارق بالمشاريع.  ', 'العمل الجماعي يساهم بتوزيع الأعباء.  ', 'لازم أشتغل على خطة طوارئ لمشروعنا.  ', 'الفرز بين الأفكار المقدمة يحتاج إلى مذاكرة دقيقة.  ', 'طالما الستراتيجية موجودة، الأمور بتصير أسهل.  ', 'ركزي على تنفيذ الأفكار بشكل عملي.']\n"
     ]
    }
   ],
   "source": [
    "sentences = response_message.split(\"\\n\")\n",
    "print(sentences)"
   ]
  },
  {
   "cell_type": "code",
   "execution_count": 232,
   "metadata": {},
   "outputs": [],
   "source": [
    "\n",
    "# Define the CSV file name\n",
    "csv_filename = \"levantine_arabic9.csv\"\n",
    "\n",
    "# Open the CSV file in write mode\n",
    "with open(csv_filename, mode=\"w\", newline='', encoding='utf-8') as file:\n",
    "    writer = csv.writer(file)\n",
    "\n",
    "    # Write header\n",
    "    writer.writerow(['ID', 'Text'])\n",
    "\n",
    "    # Write each row from the response data\n",
    "    for idx, sentence in enumerate(sentences):\n",
    "        writer.writerow([idx + 1, sentence]) "
   ]
  },
  {
   "cell_type": "code",
   "execution_count": 233,
   "metadata": {},
   "outputs": [],
   "source": [
    "import pandas as pd\n",
    "import glob\n",
    "\n",
    "# List of all CSV files\n",
    "csv_files = glob.glob(\"levantine_by_topic/*.csv\")\n",
    "\n",
    "# Read and concatenate all CSVs\n",
    "df = pd.concat([pd.read_csv(file) for file in csv_files], ignore_index=True)\n",
    "df = df[\"Text\"]\n",
    "\n",
    "# Save the combined data to a new CSV\n",
    "df.to_csv(\"levantine.csv\", index=False)"
   ]
  }
 ],
 "metadata": {
  "kernelspec": {
   "display_name": "ai701",
   "language": "python",
   "name": "python3"
  },
  "language_info": {
   "codemirror_mode": {
    "name": "ipython",
    "version": 3
   },
   "file_extension": ".py",
   "mimetype": "text/x-python",
   "name": "python",
   "nbconvert_exporter": "python",
   "pygments_lexer": "ipython3",
   "version": "3.8.19"
  }
 },
 "nbformat": 4,
 "nbformat_minor": 2
}
