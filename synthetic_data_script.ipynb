{
 "cells": [
  {
   "cell_type": "code",
   "execution_count": 14,
   "metadata": {},
   "outputs": [
    {
     "name": "stdout",
     "output_type": "stream",
     "text": [
      "Requirement already satisfied: openai in /Users/menaattia/opt/anaconda3/envs/ai701/lib/python3.8/site-packages (1.54.3)\n",
      "Requirement already satisfied: tqdm>4 in /Users/menaattia/opt/anaconda3/envs/ai701/lib/python3.8/site-packages (from openai) (4.66.5)\n",
      "Requirement already satisfied: pydantic<3,>=1.9.0 in /Users/menaattia/opt/anaconda3/envs/ai701/lib/python3.8/site-packages (from openai) (2.9.2)\n",
      "Requirement already satisfied: distro<2,>=1.7.0 in /Users/menaattia/opt/anaconda3/envs/ai701/lib/python3.8/site-packages (from openai) (1.9.0)\n",
      "Requirement already satisfied: jiter<1,>=0.4.0 in /Users/menaattia/opt/anaconda3/envs/ai701/lib/python3.8/site-packages (from openai) (0.7.0)\n",
      "Requirement already satisfied: typing-extensions<5,>=4.11 in /Users/menaattia/opt/anaconda3/envs/ai701/lib/python3.8/site-packages (from openai) (4.12.2)\n",
      "Requirement already satisfied: httpx<1,>=0.23.0 in /Users/menaattia/opt/anaconda3/envs/ai701/lib/python3.8/site-packages (from openai) (0.27.2)\n",
      "Requirement already satisfied: anyio<5,>=3.5.0 in /Users/menaattia/opt/anaconda3/envs/ai701/lib/python3.8/site-packages (from openai) (4.5.2)\n",
      "Requirement already satisfied: sniffio in /Users/menaattia/opt/anaconda3/envs/ai701/lib/python3.8/site-packages (from openai) (1.3.1)\n",
      "Requirement already satisfied: exceptiongroup>=1.0.2 in /Users/menaattia/opt/anaconda3/envs/ai701/lib/python3.8/site-packages (from anyio<5,>=3.5.0->openai) (1.2.2)\n",
      "Requirement already satisfied: idna>=2.8 in /Users/menaattia/opt/anaconda3/envs/ai701/lib/python3.8/site-packages (from anyio<5,>=3.5.0->openai) (3.10)\n",
      "Requirement already satisfied: httpcore==1.* in /Users/menaattia/opt/anaconda3/envs/ai701/lib/python3.8/site-packages (from httpx<1,>=0.23.0->openai) (1.0.6)\n",
      "Requirement already satisfied: certifi in /Users/menaattia/opt/anaconda3/envs/ai701/lib/python3.8/site-packages (from httpx<1,>=0.23.0->openai) (2024.8.30)\n",
      "Requirement already satisfied: h11<0.15,>=0.13 in /Users/menaattia/opt/anaconda3/envs/ai701/lib/python3.8/site-packages (from httpcore==1.*->httpx<1,>=0.23.0->openai) (0.14.0)\n",
      "Requirement already satisfied: pydantic-core==2.23.4 in /Users/menaattia/opt/anaconda3/envs/ai701/lib/python3.8/site-packages (from pydantic<3,>=1.9.0->openai) (2.23.4)\n",
      "Requirement already satisfied: annotated-types>=0.6.0 in /Users/menaattia/opt/anaconda3/envs/ai701/lib/python3.8/site-packages (from pydantic<3,>=1.9.0->openai) (0.7.0)\n",
      "Requirement already satisfied: python-dotenv in /Users/menaattia/opt/anaconda3/envs/ai701/lib/python3.8/site-packages (0.21.0)\n"
     ]
    }
   ],
   "source": [
    "!pip install openai\n",
    "!pip install python-dotenv"
   ]
  },
  {
   "cell_type": "code",
   "execution_count": 34,
   "metadata": {},
   "outputs": [],
   "source": [
    "from openai import OpenAI\n",
    "import os\n",
    "import csv\n",
    "from dotenv import load_dotenv\n",
    "\n",
    "load_dotenv() \n",
    "\n",
    "OPENAI_API_KEY = os.getenv('OPENAI_API_KEY')\n",
    "\n",
    "client = OpenAI(api_key=OPENAI_API_KEY)"
   ]
  },
  {
   "cell_type": "code",
   "execution_count": 43,
   "metadata": {},
   "outputs": [],
   "source": [
    "prompt = \"Generate 50 unique sentences in the Egyptian Arabic dialect, each capturing different everyday expressions, phrases, or dialogues used in Egypt. Use language that reflects Egyptian culture and daily life, without elements of Modern Standard Arabic. Only output the data and output every sentence on a line without numbers. Avoid redundancy.\"\n",
    "\n",
    "# Parameters\n",
    "model = \"gpt-4o-mini\"\n",
    "max_tokens = 2500\n",
    "temperature = 0.7\n",
    "\n",
    "# Generate sentences\n",
    "response = client.chat.completions.create(\n",
    "    model=model,\n",
    "    messages=[{\"role\": \"user\", \"content\": prompt}],\n",
    "    max_tokens=max_tokens,\n",
    "    temperature=temperature\n",
    ")"
   ]
  },
  {
   "cell_type": "code",
   "execution_count": 44,
   "metadata": {},
   "outputs": [],
   "source": [
    "response_message = response.choices[0].message.content"
   ]
  },
  {
   "cell_type": "code",
   "execution_count": 45,
   "metadata": {},
   "outputs": [
    {
     "name": "stdout",
     "output_type": "stream",
     "text": [
      "['يا ريتني كنت معاكم في الرحلة دي.  ', 'الجو هنا حلو جدًا النهاردة، عاوزين نخرج؟  ', 'ممكن تديني شوية مية، أنا عطشان أوي.  ', 'إحنا لازم نروح السوق قبل ما يقفل.  ', 'أنت جبت الفلوس اللي اتفقنا عليها؟  ', 'النهاردة في عزومة عند خالتي، تيجي معايا؟  ', 'بصراحة، الأكل هنا طعمه حكاية!  ', 'انت شفت المباراة امبارح؟ كانت ملحمية!  ', 'أنا مش قادر أستنى العيد، نفسي في الكعك.  ', 'خلي بالك من نفسك وانت راجع بالليل.  ', 'الناس هنا طيبين أوي، بتحس كأنك في عيلتك.  ', 'كل يوم الصبح بشرب فنجان قهوة مع البسكوت.  ', 'الوقت بيجري بسرعة، مش حاسس بيه خالص.  ', 'إحنا محتاجين نعمل حفلة صغيرة في البيت.  ', 'صوت المزيكا طالع من كل حتة، الدنيا فرحانة.  ', 'مفيش حاجة أحلى من لمّة الأصحاب.  ', 'انت عايز تروح فين في الإجازة الجايّة؟  ', 'الشارع زحمة النهاردة، مش عارف أمشي.  ', 'لازم تشوف الفيلم اللي طالع دلوقتي، جامد أوي.  ', 'هي مشغولة شوية، هترد عليك بعدين.  ', 'يلا نروح نعمل شوية تسوق قبل ما نرجع.  ', 'الناس هنا بتحب الضحك والهزار، يعمّروا اليوم.  ', 'النهاردة يوم الخميس، يعني قعدتنا مع بعض.  ', 'ممكن تديني شوية معلومات عن المكان؟  ', 'الأكل المصري هو أحلى أكل في العالم.  ', 'الولد ده زكي أوي، عاوزين نستفيد منه.  ', 'أنا لازم أعمل رياضة أكثر، حاسس بالتعب.  ', 'الليلة دي في حفلة في النادي، هتروح؟  ', 'تعال شوف الشجرة اللي زرعناها، كبرت أوي.  ', 'أنا بحب أسمع الأغاني القديمة، بتحسسني بالحنين.  ', 'ممكن نروح القهوة بعد الفطار؟  ', 'عندك فكرة عن المسلسل الجديد؟  ', 'عزومة العيلة دي بتكون أحلى حاجة في الأسبوع.  ', 'شفت البازار اللي في وسط البلد؟ تحفة!  ', 'أنا عاوز أتعلم شوية مصطلحات جديدة.  ', 'الجو حلو جدًا، يلا نخرج نتمشى شوية.  ', 'دي أول مرة أسمع عن المكان ده، شكله جميل.  ', 'أحب أروح البحر في الصيف، مش ممكن!  ', 'ممكن تساعدني في واجبي، أنا محتاج مساعدة.  ', 'الأكل في البيت أحلى بكتير من المطاعم.  ', 'هل جربت الأكل الشارع؟ طعمه مش هيتنسي.  ', 'الجو هنا فيه روح حلوة، يحسسك بالسعادة.  ', 'إنت عارف إن النهاردة عيد ميلاد صاحبك؟  ', 'أنا كنت في زيارة لصديقي وخلصت وقت حلو.  ', 'الأسواق هنا مليانة حاجات جميلة ورخيصة.  ', 'تعالى شوف الفيديو اللي اتصورت فيه مع العيلة.  ', 'النهاردة هعمل شوية ملوخية، تحب تجيب معايا؟  ', 'أحب أفطر فول وطعمية كل يوم، حكاية.  ', 'المدرسة قربت تفتح، لازم أجهز نفسي.  ', 'أنا مش قادر أنام، عندي أفكار كتير في دماغي.  ', 'الوقت ده هو أحلى وقت للفسحة مع الأصحاب.  ', 'أنت مش معقول، كل مرة تتأخر عن الموعد!  ', 'العيال في الشارع بيلعبوا ويضحكوا، فرحة.  ', 'أنا بحب أسمع القصص القديمة من جدتي.  ', 'النهاردة الجو شتاء، محتاج ألبس جاكت.  ', 'الأسرة هي كل حاجة في حياتنا، صح؟  ', 'اللحمة اللي عند الجزار طازة أوي، لازم تجيب.  ', 'أحب أروح السينما مع العيلة في العطلة.  ', 'الطبيعة هنا مدهشة، بحب أتمشى في البارك.  ', 'الأصوات في الحارة بتجيبلي الذكريات.  ', 'يلا بينا نكمل شغلنا، عندنا شغل كتير النهاردة.  ']\n"
     ]
    }
   ],
   "source": [
    "sentences = response_message.split(\"\\n\")\n",
    "print(sentences)"
   ]
  },
  {
   "cell_type": "code",
   "execution_count": 14,
   "metadata": {},
   "outputs": [],
   "source": [
    "# import re\n",
    "# import json\n",
    "\n",
    "# # Extract the JSON part using regex\n",
    "# json_data = re.search(r'```json\\n(.*?)\\n```', response_message, re.DOTALL).group(1)\n",
    "\n",
    "# # Convert the extracted string to a JSON object\n",
    "# parsed_json = json.loads(json_data)\n",
    "\n",
    "# print(parsed_json)"
   ]
  },
  {
   "cell_type": "code",
   "execution_count": 46,
   "metadata": {},
   "outputs": [],
   "source": [
    "\n",
    "# Define the CSV file name\n",
    "csv_filename = \"egyptian_arabic_sentences1.csv\"\n",
    "\n",
    "# Open the CSV file in write mode\n",
    "with open(csv_filename, mode=\"w\", newline='', encoding='utf-8') as file:\n",
    "    writer = csv.writer(file)\n",
    "\n",
    "    # Write header\n",
    "    writer.writerow(['ID', 'Text'])\n",
    "\n",
    "    # Write each row from the response data\n",
    "    for idx, sentence in enumerate(sentences):\n",
    "        writer.writerow([idx + 1, sentence]) "
   ]
  }
 ],
 "metadata": {
  "kernelspec": {
   "display_name": "ai701",
   "language": "python",
   "name": "python3"
  },
  "language_info": {
   "codemirror_mode": {
    "name": "ipython",
    "version": 3
   },
   "file_extension": ".py",
   "mimetype": "text/x-python",
   "name": "python",
   "nbconvert_exporter": "python",
   "pygments_lexer": "ipython3",
   "version": "3.8.19"
  }
 },
 "nbformat": 4,
 "nbformat_minor": 2
}
