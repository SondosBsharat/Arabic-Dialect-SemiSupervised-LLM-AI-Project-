{
 "cells": [
  {
   "cell_type": "code",
   "execution_count": 14,
   "metadata": {},
   "outputs": [
    {
     "name": "stdout",
     "output_type": "stream",
     "text": [
      "Requirement already satisfied: openai in /Users/menaattia/opt/anaconda3/envs/ai701/lib/python3.8/site-packages (1.54.3)\n",
      "Requirement already satisfied: tqdm>4 in /Users/menaattia/opt/anaconda3/envs/ai701/lib/python3.8/site-packages (from openai) (4.66.5)\n",
      "Requirement already satisfied: pydantic<3,>=1.9.0 in /Users/menaattia/opt/anaconda3/envs/ai701/lib/python3.8/site-packages (from openai) (2.9.2)\n",
      "Requirement already satisfied: distro<2,>=1.7.0 in /Users/menaattia/opt/anaconda3/envs/ai701/lib/python3.8/site-packages (from openai) (1.9.0)\n",
      "Requirement already satisfied: jiter<1,>=0.4.0 in /Users/menaattia/opt/anaconda3/envs/ai701/lib/python3.8/site-packages (from openai) (0.7.0)\n",
      "Requirement already satisfied: typing-extensions<5,>=4.11 in /Users/menaattia/opt/anaconda3/envs/ai701/lib/python3.8/site-packages (from openai) (4.12.2)\n",
      "Requirement already satisfied: httpx<1,>=0.23.0 in /Users/menaattia/opt/anaconda3/envs/ai701/lib/python3.8/site-packages (from openai) (0.27.2)\n",
      "Requirement already satisfied: anyio<5,>=3.5.0 in /Users/menaattia/opt/anaconda3/envs/ai701/lib/python3.8/site-packages (from openai) (4.5.2)\n",
      "Requirement already satisfied: sniffio in /Users/menaattia/opt/anaconda3/envs/ai701/lib/python3.8/site-packages (from openai) (1.3.1)\n",
      "Requirement already satisfied: exceptiongroup>=1.0.2 in /Users/menaattia/opt/anaconda3/envs/ai701/lib/python3.8/site-packages (from anyio<5,>=3.5.0->openai) (1.2.2)\n",
      "Requirement already satisfied: idna>=2.8 in /Users/menaattia/opt/anaconda3/envs/ai701/lib/python3.8/site-packages (from anyio<5,>=3.5.0->openai) (3.10)\n",
      "Requirement already satisfied: httpcore==1.* in /Users/menaattia/opt/anaconda3/envs/ai701/lib/python3.8/site-packages (from httpx<1,>=0.23.0->openai) (1.0.6)\n",
      "Requirement already satisfied: certifi in /Users/menaattia/opt/anaconda3/envs/ai701/lib/python3.8/site-packages (from httpx<1,>=0.23.0->openai) (2024.8.30)\n",
      "Requirement already satisfied: h11<0.15,>=0.13 in /Users/menaattia/opt/anaconda3/envs/ai701/lib/python3.8/site-packages (from httpcore==1.*->httpx<1,>=0.23.0->openai) (0.14.0)\n",
      "Requirement already satisfied: pydantic-core==2.23.4 in /Users/menaattia/opt/anaconda3/envs/ai701/lib/python3.8/site-packages (from pydantic<3,>=1.9.0->openai) (2.23.4)\n",
      "Requirement already satisfied: annotated-types>=0.6.0 in /Users/menaattia/opt/anaconda3/envs/ai701/lib/python3.8/site-packages (from pydantic<3,>=1.9.0->openai) (0.7.0)\n",
      "Requirement already satisfied: python-dotenv in /Users/menaattia/opt/anaconda3/envs/ai701/lib/python3.8/site-packages (0.21.0)\n"
     ]
    }
   ],
   "source": [
    "!pip install openai\n",
    "!pip install python-dotenv"
   ]
  },
  {
   "cell_type": "code",
   "execution_count": 34,
   "metadata": {},
   "outputs": [],
   "source": [
    "from openai import OpenAI\n",
    "import os\n",
    "import csv\n",
    "from dotenv import load_dotenv\n",
    "\n",
    "load_dotenv() \n",
    "\n",
    "OPENAI_API_KEY = os.getenv('OPENAI_API_KEY')\n",
    "\n",
    "client = OpenAI(api_key=OPENAI_API_KEY)"
   ]
  },
  {
   "cell_type": "code",
   "execution_count": 176,
   "metadata": {},
   "outputs": [],
   "source": [
    "adj = \"Moroccan\"\n",
    "country = \"Morocco\"\n",
    "\n",
    "topics = [\n",
    "    \"personal updates, including health and wellbeing, family and friends\",\n",
    "    \"relationships and social life, including marriage, friendship, social issues\",\n",
    "    \"social and world events, including news and current events, weather, trends and social media\",\n",
    "    \"technology, including new tech, apps, online trends\",\n",
    "    \"money and finance, including personal finances, shopping and deals, economic updates\",\n",
    "    \"entertainment and pop culture, including TV shows and movies, music, sports\", \n",
    "    \"daily activities, including plans for the day, food and cooking, hobbies and leisure\",\n",
    "    \"travel and experiences, including local experiences and activities, cultural topics\",\n",
    "    \"education and learning, including school, college, and studies\",\n",
    "    \"work and career, including jobs and the workplace\"\n",
    "]\n",
    "\n",
    "prompt = \"Generate 200 unique sentences in the \" + adj + \" Arabic dialect, each capturing different everyday expressions, phrases, or dialogues used in \" + country + \" related to \" + topics[9] + \". Use only the \" + adj + \" dialect, and do not use Modern Standard Arabic. Only output the data and output every sentence on a line without numbering the lines. Avoid redundancy.\"\n",
    "\n",
    "\n",
    "\n",
    "# Parameters\n",
    "model = \"gpt-4o-mini\"\n",
    "max_tokens = 10000\n",
    "temperature = 1\n",
    "\n",
    "# Generate sentences\n",
    "response = client.chat.completions.create(\n",
    "    model=model,\n",
    "    messages=[{\"role\": \"user\", \"content\": prompt}],\n",
    "    max_tokens=max_tokens,\n",
    "    temperature=temperature\n",
    ")"
   ]
  },
  {
   "cell_type": "code",
   "execution_count": 177,
   "metadata": {},
   "outputs": [],
   "source": [
    "response_message = response.choices[0].message.content"
   ]
  },
  {
   "cell_type": "code",
   "execution_count": 178,
   "metadata": {},
   "outputs": [
    {
     "name": "stdout",
     "output_type": "stream",
     "text": [
      "['خسني نلقا واحد الخدمة اللي تناسبني.  ', 'عندك شي تجربة فهاد الميدان؟  ', 'صافي، غادي نبدى من الغد.  ', 'ما كاين حتى مشكل، أنا مستعد نخدم بجد.  ', 'واش كتعرف شي واحد فالشركة ديالكم؟  ', 'بالصحة، تقضي نهار طويل فالشغل.  ', 'كيضرني راسي من كثرة الخدمة.  ', 'عندي موعد مع المديرة اليوم.  ', 'خاصني نجيب معايا السيرة الذاتية.  ', 'دابا خاصني نكون حاضر فالمكتب بكري.  ', 'حظ سعيد فالمقابلة ديالك.  ', 'الناس هنا قاسين، خدمتي ولا غتكون صعيبة.  ', 'عندنا عطل كل يوم جمعة، عارف؟  ', 'وش كاين مشروع جديد غادي نبداو فيه؟  ', 'فرحانة حيث لقيت خدمة مزيانة.  ', 'خدمتي كتخليني نكتشف ناس جدد.  ', 'بالصحة، كل واحد والوظيفة ديالو.  ', 'دابا خاصني نركز على الهدف ديالي.  ', 'كتعرف شي تقني فالإصلاحات؟  ', 'كيفاش دوزتي النهار فالشغل اليوم؟  ', 'خسني أتعلم تقنيات جديدة.  ', 'أنا ما زلت فبداية الطريق هنا.  ', 'مازال خاصني تطور فالمهنة ديالي.  ', 'كيفاش أنا نكون جزء من هاد الفريق؟  ', 'غادي نتنظر النتائج ديالك.  ', 'صعيب نلقى التوازن بين الخدمة والحياة.  ', 'فين كاين الجلسة العامة؟  ', 'بغيت نسولك على فرص الترقية.  ', 'أنا قلقان شوية من هاد التحدي.  ', 'حمد الله على كل حال، الخدمة ما زالت موجودة.  ', 'شحال من عام وانت خدام فهاد البلاصة؟  ', 'تعارفنا فالأول كان زوين.  ', 'لازم على المهمات تكون واضحة.  ', 'حصلت على تدريب مزيان هاد الصيف.  ', 'يلا كنتي باغي تقلب على خدمة، خاصك تصبر.  ', 'دابا غادي نبدا نبحث على ريسوم والحسابات.  ', 'كلموني فالأسبوع الجاي على العروض الجديدة.  ', 'مني كتخدم، تكتسب خبرة مهمة.  ', 'تقدر تخدم من الدار ولا المكتب؟  ', 'كتبقى الخدمة روتينية إذا ما تبدلناش.  ', 'شفت الشباب الجديد؟ عندهم طاقة عالية!  ', 'كيف داز اليوم فالشركة؟  ', 'خاصنا نكملو المشروع فالأجل المحدد.  ', 'بغيت نقدم استقالتي، ضروري نبدل الجو.  ', 'دابا دخلنا فمرحلة جديدة فالشركة.  ', 'تبارك الله، الخدمة تفتح أبواب جديدة.  ', 'ّلقيت شغل جديد، حاولت نكون إيجابي.  ', 'أنا غادي نكون معاكم فهاد الاجتماع.  ', 'محتاجين نطورو استراتيجياتنا.  ', 'بغاو الناس يشاركو الأفكار ديالهم.  ', 'خلصنا نكونو حاضرين فالمناسبات المهنية.  ', 'ازداد الضغط فالأسابيع الأخيرة.  ', 'كتعرف بشي توصية للنفوذ فالشغل؟  ', 'خذيت عطلة قصيرة باش نرتاح.  ', 'كتبت تقرير شامل على المشروع.  ', 'اختيار الفريقة كيبدا من الأول.  ', 'وقتلت ليك بزاف ديال الأفكار.  ', 'خصك تركز على المواعيد النهائية.  ', 'أنا داخلة فمنافسة مع واحد من الزملاء.  ', 'راك دابا عندك فرصة لتطوير مهاراتك.  ', 'كيفاش كتكتبوا التقرير، عندكم شي سر؟  ', 'تعلمت بزاف من الأخطاء ديالي.  ', 'ميمكنش تخدم بلا ما تكون عندك أهداف.  ', 'الاجتماعات كتعطل الشغل أحيانًا.  ', 'اشنو الأخبار فالمكتب اليوم؟  ', 'لازم نكون منظمين فالأعمال.  ', 'بغيت نكون قائد فالفريق ديالي.  ', 'عندي فكرة جديدة للمشروع اللي غادي نبدأو.  ', 'نتمنى نحقق النجاح مع بعض.  ', 'نعسي مزيان، خاصني أكون فايق فالغد.  ', 'الجميع كيساهم فنجاح الفريق.  ', 'شحال من ساعة فخدمة، ما كافي ولا؟  ', 'عندنا مشاريع خصوصية فالأسابيع الجايين.  ', 'خدمت بالعام الماضي كانت تجربة غير متوقعة.  ', 'سمعت بالاجتماع الجماعي؟ خاصني نحضر.  ', 'التقنيات الجديدة كتغير كلشي فالميدان.  ', 'منين نقدر ناخد دورات تكوينية؟  ', 'دائما حاول نهار جديد.  ', 'الحمد لله على التوفيق، شفتك كتحقق أهدافك.  ', 'أنا كل مرة كنكتشف تحديات جديدة.  ', 'الدوام ديالي بدا فواحد الصباح.  ', 'وقفت معايا فالأوقات الصعبة.  ', 'لازم نتواصلو بكثرة بيناتنا.  ', 'عندي موعد مع الشريك في العمل.  ', 'شفت دابا كيفاش دايرين الفلوس فالمشاريع؟  ', 'غادي نساعدك فالمشاكل اللي كتعاني منها.  ', 'حظ سعيد فتعاملاتك مع الزبناء.  ', 'هداك الشغف كيخليك تتعملق.  ', 'كل واحد كيسعى لتحقيق الطموحات ديالو.  ', 'عملت مع فرقة دولية وكانت تجربة رائعة.  ', 'خاصني نخلص على الخدمات قبل نهاية الشهر.  ', 'غا نقوم بالإعلان على الوظائف الجديدة.  ', 'عندي أمل فالمستقبل ديالي فالعمل.  ', 'شحال من كاليغي خاصنا ننجزو؟  ', 'الالتزام هو الأساس فالخدمة.  ', 'صافي، غادي ندير بيدي فهدشي.  ', 'المعرفة ماشي كافية، خاصة التجربة.  ', 'كيفاش كتعرف تسير الأيام فالشغل؟  ', 'تدريب ميداني مهم نسعى ليه.  ', 'بالصحة ليا ولزملائي الجدد.  ', 'تديك معاك شراب حتى نخلصو الشغل.  ', 'كل شي كيدور فدوامة الشغل.  ', 'عندك أفكار لتطوير المشروع الجديد؟  ', 'التحدي ككيعني كيزيد يقوينا.  ', 'نحتاج نكونو صريحين فالتواصل.  ', 'فكرت باش نكتب تقرير عن الإحصائيات.  ', 'كنتمنى نلقى الإلهام فالعمل.  ', 'عندي بضع أفكار حول تحسين بيئة العمل.  ', 'هاد الفصول محمية لطلبات خاصة.  ', 'لازم نكونو متعاونين باش ننجحو.  ', 'غنردد عليك الأخبار الجيدة بعد الاجتماع.  ', 'مع الزمن تتطوّر المهارات.  ', 'إش غادي تبرمجي فهاد المشروع؟  ', 'لازم نبقى مُحدّدين فالعمل ديالنا.  ', 'الإبداع مهم فوظائفنا.  ', 'سمعت بالعرض الجديد ديال الشراكة.  ', 'بغيت نشارك فندوة قادمة.  ', 'الخطة كانت واضحة، دابا ضعت.  ', 'اشنو غادي تدير فالصيف؟  ', 'الفريق هنا متحمس للبدء!  ', 'حظك حسن، خدمتك غادية مزيانة.  ', 'واش خاصني نغسلك القرارات؟  ', 'تخيّل النجاح قبل ما توصل ليه.  ', 'خدمتي فكرتها كانت بسيطة.  ', 'لازم نكونو مفاهمين وعقلانيين.  ', 'تعاونّا مع خدماء من دول مختلفة.  ', 'شوف كيفاش يمكن لنا نطورو خدماتنا.  ', 'عندي حساسية من الضغوطات!  ', 'نجاحنا هو نجاح المجموعة.  ', 'خاصني نتعامل مع مشكلة جديدة.  ', 'ماكيش تقدر تخدم بلا حماس.  ', 'الأوقات السعيدة فالشغل كتعني الكثير.  ', 'مة لا عجب، العمل يجيب لك رضا.  ', 'وضعوا التحديات، وبدينا نحاربوا.  ', 'فاهمتك، غادي نعاونك قدر المستطاع.  ', 'الجميع كيشتغل بجد، هدا شنو كيعني فريق.  ', 'عندنا تنظيم جديد فالشركة.  ', 'كيجيو الفرص غير لمن يتعب.  ', 'ما تخافيش، خدمتك مستمرة.  ', 'تبارك الله عليكم، خدمتي جديدة.  ', 'عثرنا على حلول عملية للمشاكل.  ', 'تسوية الأتعاب غتكون قبل اللخر.  ', 'استثنينا الجوانب السلبية!  ', 'ممكن نعرفو المستوى ديال الحاجة؟  ', 'خاصني نهتم بالتفاصيل الخدمة.  ', 'هاد المشروع يحتاج لفريق قوي.  ', 'كل نهار وأنتم طيبين فالأشغال!  ', 'كيفاش كتنظم وقتك فهاذ العمل؟  ', 'الختام كان مفرح فالأشغال.  ', 'صعبت الأمور مؤخرًا، لكن غادي نتغلب.  ', 'بغيت تواصل مع الزبناء أكثر.  ', 'عليك أن تكون بارع فحسن استخدام الوقت.  ', 'سمعت بالافتتاح الكبير فالسوق؟  ', 'الشغل نحتاجو نفكروا فيه كفريق.  ', 'اداء جيد، دابا خاصنا الاستمرار.  ', 'لا تبع المقارنة، كل شخص متميز.']\n"
     ]
    }
   ],
   "source": [
    "sentences = response_message.split(\"\\n\")\n",
    "print(sentences)"
   ]
  },
  {
   "cell_type": "code",
   "execution_count": 179,
   "metadata": {},
   "outputs": [],
   "source": [
    "\n",
    "# Define the CSV file name\n",
    "csv_filename = \"moroccan_arabic9.csv\"\n",
    "\n",
    "# Open the CSV file in write mode\n",
    "with open(csv_filename, mode=\"w\", newline='', encoding='utf-8') as file:\n",
    "    writer = csv.writer(file)\n",
    "\n",
    "    # Write header\n",
    "    writer.writerow(['ID', 'Text'])\n",
    "\n",
    "    # Write each row from the response data\n",
    "    for idx, sentence in enumerate(sentences):\n",
    "        writer.writerow([idx + 1, sentence]) "
   ]
  },
  {
   "cell_type": "code",
   "execution_count": 180,
   "metadata": {},
   "outputs": [],
   "source": [
    "import pandas as pd\n",
    "import glob\n",
    "\n",
    "# List of all CSV files\n",
    "csv_files = glob.glob(\"moroccan_by_topic/*.csv\")\n",
    "\n",
    "# Read and concatenate all CSVs\n",
    "df = pd.concat([pd.read_csv(file) for file in csv_files], ignore_index=True)\n",
    "df = df[\"Text\"]\n",
    "\n",
    "# Save the combined data to a new CSV\n",
    "df.to_csv(\"moroccan.csv\", index=False)"
   ]
  }
 ],
 "metadata": {
  "kernelspec": {
   "display_name": "ai701",
   "language": "python",
   "name": "python3"
  },
  "language_info": {
   "codemirror_mode": {
    "name": "ipython",
    "version": 3
   },
   "file_extension": ".py",
   "mimetype": "text/x-python",
   "name": "python",
   "nbconvert_exporter": "python",
   "pygments_lexer": "ipython3",
   "version": "3.8.19"
  }
 },
 "nbformat": 4,
 "nbformat_minor": 2
}
