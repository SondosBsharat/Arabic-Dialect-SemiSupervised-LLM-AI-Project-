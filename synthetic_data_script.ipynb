{
 "cells": [
  {
   "cell_type": "code",
   "execution_count": 14,
   "metadata": {},
   "outputs": [
    {
     "name": "stdout",
     "output_type": "stream",
     "text": [
      "Requirement already satisfied: openai in /Users/menaattia/opt/anaconda3/envs/ai701/lib/python3.8/site-packages (1.54.3)\n",
      "Requirement already satisfied: tqdm>4 in /Users/menaattia/opt/anaconda3/envs/ai701/lib/python3.8/site-packages (from openai) (4.66.5)\n",
      "Requirement already satisfied: pydantic<3,>=1.9.0 in /Users/menaattia/opt/anaconda3/envs/ai701/lib/python3.8/site-packages (from openai) (2.9.2)\n",
      "Requirement already satisfied: distro<2,>=1.7.0 in /Users/menaattia/opt/anaconda3/envs/ai701/lib/python3.8/site-packages (from openai) (1.9.0)\n",
      "Requirement already satisfied: jiter<1,>=0.4.0 in /Users/menaattia/opt/anaconda3/envs/ai701/lib/python3.8/site-packages (from openai) (0.7.0)\n",
      "Requirement already satisfied: typing-extensions<5,>=4.11 in /Users/menaattia/opt/anaconda3/envs/ai701/lib/python3.8/site-packages (from openai) (4.12.2)\n",
      "Requirement already satisfied: httpx<1,>=0.23.0 in /Users/menaattia/opt/anaconda3/envs/ai701/lib/python3.8/site-packages (from openai) (0.27.2)\n",
      "Requirement already satisfied: anyio<5,>=3.5.0 in /Users/menaattia/opt/anaconda3/envs/ai701/lib/python3.8/site-packages (from openai) (4.5.2)\n",
      "Requirement already satisfied: sniffio in /Users/menaattia/opt/anaconda3/envs/ai701/lib/python3.8/site-packages (from openai) (1.3.1)\n",
      "Requirement already satisfied: exceptiongroup>=1.0.2 in /Users/menaattia/opt/anaconda3/envs/ai701/lib/python3.8/site-packages (from anyio<5,>=3.5.0->openai) (1.2.2)\n",
      "Requirement already satisfied: idna>=2.8 in /Users/menaattia/opt/anaconda3/envs/ai701/lib/python3.8/site-packages (from anyio<5,>=3.5.0->openai) (3.10)\n",
      "Requirement already satisfied: httpcore==1.* in /Users/menaattia/opt/anaconda3/envs/ai701/lib/python3.8/site-packages (from httpx<1,>=0.23.0->openai) (1.0.6)\n",
      "Requirement already satisfied: certifi in /Users/menaattia/opt/anaconda3/envs/ai701/lib/python3.8/site-packages (from httpx<1,>=0.23.0->openai) (2024.8.30)\n",
      "Requirement already satisfied: h11<0.15,>=0.13 in /Users/menaattia/opt/anaconda3/envs/ai701/lib/python3.8/site-packages (from httpcore==1.*->httpx<1,>=0.23.0->openai) (0.14.0)\n",
      "Requirement already satisfied: pydantic-core==2.23.4 in /Users/menaattia/opt/anaconda3/envs/ai701/lib/python3.8/site-packages (from pydantic<3,>=1.9.0->openai) (2.23.4)\n",
      "Requirement already satisfied: annotated-types>=0.6.0 in /Users/menaattia/opt/anaconda3/envs/ai701/lib/python3.8/site-packages (from pydantic<3,>=1.9.0->openai) (0.7.0)\n",
      "Requirement already satisfied: python-dotenv in /Users/menaattia/opt/anaconda3/envs/ai701/lib/python3.8/site-packages (0.21.0)\n"
     ]
    }
   ],
   "source": [
    "!pip install openai\n",
    "!pip install python-dotenv"
   ]
  },
  {
   "cell_type": "code",
   "execution_count": 340,
   "metadata": {},
   "outputs": [],
   "source": [
    "from openai import OpenAI\n",
    "import os\n",
    "import csv\n",
    "from dotenv import load_dotenv\n",
    "\n",
    "load_dotenv() \n",
    "\n",
    "OPENAI_API_KEY = os.getenv('OPENAI_API_KEY')\n",
    "\n",
    "client = OpenAI(api_key=OPENAI_API_KEY)"
   ]
  },
  {
   "cell_type": "code",
   "execution_count": 577,
   "metadata": {},
   "outputs": [],
   "source": [
    "# adj = \"Egyptian\"\n",
    "# country = \"Egypt\"\n",
    "\n",
    "# adj = \"Moroccan\"\n",
    "# country = \"Morocco\"\n",
    "\n",
    "# adj = \"Levantine\"\n",
    "# country = \"Jordan, Palestine, Lebanon, or Syria\"\n",
    "\n",
    "# adj = \"Gulf\"\n",
    "# country = \"Saudi Arabia, Qatar, the UAE, or Oman\"\n",
    "\n",
    "adj = \"Iraqi\"\n",
    "country = \"Iraq\"\n",
    "\n",
    "topics = [\n",
    "    \"personal updates, including health and wellbeing, family and friends\",\n",
    "    \"relationships and social life, including marriage, friendship, social issues\",\n",
    "    \"social and world events, including news and current events, weather, trends and social media\",\n",
    "    \"technology, including new tech, apps, online trends\",\n",
    "    \"money and finance, including personal finances, shopping and deals, economic updates\",\n",
    "    \"entertainment and pop culture, including TV shows and movies, music, sports\", \n",
    "    \"daily activities, including plans for the day, food and cooking, hobbies and leisure\",\n",
    "    \"travel and experiences, including local experiences and activities, cultural topics\",\n",
    "    \"education and learning, including school, college, and studies\",\n",
    "    \"work and career, including jobs and the workplace\"\n",
    "]\n",
    "\n",
    "prompt = \"Generate 200 unique sentences in the \" + adj + \" Arabic dialect, each capturing different everyday expressions, phrases, or dialogues used in \" + country + \" related to \" + topics[9] + \". Use only the \" + adj + \" dialect, and do not use Modern Standard Arabic. Only output the data and output every sentence on a line without numbering the lines. Avoid redundancy.\"\n",
    "\n",
    "\n",
    "\n",
    "# Parameters\n",
    "model = \"gpt-4o\"\n",
    "max_tokens = 15000\n",
    "temperature = 1\n",
    "\n",
    "# Generate sentences\n",
    "response = client.chat.completions.create(\n",
    "    model=model,\n",
    "    messages=[{\"role\": \"user\", \"content\": prompt}],\n",
    "    max_tokens=max_tokens,\n",
    "    temperature=temperature\n",
    ")"
   ]
  },
  {
   "cell_type": "code",
   "execution_count": 578,
   "metadata": {},
   "outputs": [],
   "source": [
    "response_message = response.choices[0].message.content"
   ]
  },
  {
   "cell_type": "code",
   "execution_count": 579,
   "metadata": {},
   "outputs": [
    {
     "name": "stdout",
     "output_type": "stream",
     "text": [
      "['شنو طابخين بالغداء اليوم ويا الربع بالشغل؟  ', 'اليوم عندي اجتماع مهم لازم أكون حاضر.  ', 'هواية ضغط ودوام طويل بس نستحمل.  ', 'جاي أفكر أقدم على شغل جديد.  ', 'مديري شوي صعب بالتعامل، بس نمشيها.  ', 'بلكي الله يرزقنا شغل أحسن من هذا.  ', 'ياريت عندي عطلة الأسبوع الجاي.  ', 'زايدين علينا شغل هواي بالفترة الأخيرة.  ', 'اليوم صارلي خمس سنين بهاي الشركة.  ', 'شلون تخلص من ضغط الشغل بالبيت؟  ', 'جنة وما صار الشغل لازم نتفاق.  ', 'حاب أطور مهاراتي بالشغل، تعرف ورشات جيدة؟  ', 'متى راح تستلم الراتب؟  ', 'مديرية الموارد بشرية متعاونة كلش.  ', 'دوامنا اليوم انقلب وصار مسائي.  ', 'هاذي السنة بنعمة، والحمد لله.  ', 'حاس أنه لازم أغير وظيفتي.  ', 'قطاع الخاص فرصه أحسن لو الحكومية؟  ', 'شغلكم بيه بونس؟  ', 'الأمان الوظيفي مهم بالنسبة إلي كلش.  ', 'شلون بيه راتب الإجازة؟  ', 'دوامك بيه مرونة لو ثابت؟  ', 'اليوم شلون كان الفطور بالشغل؟  ', 'بلشت اتعود عالشغل، بس لا زال صعب.  ', 'المكتب مكيفه براحة ماشاء الله.  ', 'راح يفتحون فرع جديد للشركة.  ', 'الخبرة مهمة أكثر من الشهادة ببعض الشغل.  ', 'محتاج دورة تدريبية على البرامج الحديثة.  ', 'شفت إعلان فرصة عمل تناسبك.  ', 'مديري ناس لطيفين ويحبون يساعدون.  ', 'اليوم اتأخرت بالشغل، ليش؟  ', 'مهامي بالشغل كلش متنوعة ومالية.  ', 'يوم الجمعة دوام ميلة للنفس، والله.  ', 'اتمنى اصير قائد فريق يوم من الايام.  ', 'المدير يقيمنا كل نصف سنة.  ', 'ماكو استقرار بهالشغل، يمكن أدور غيره.  ', 'آني ارتاح لهالشركة، كأنها عائلتي الثانية.  ', 'شفت شباب هواي مقدمن على ذيج الوظيفة.  ', 'اليوم كله اجتماعات وعندك شغل مكوم.  ', 'أحس روحي انضلمت بفكرة الترقية.  ', 'وين ناويين تعطون عشاء موظفين هالشهر؟  ', 'هاك شفت الجدول الجديد للإجازات؟  ', 'دخيلك ثقلوا علينا بشغل زايد.  ', 'بديت أتعود على مديري وصار التعامل أريح.  ', 'مبين إنه محتاج فترة راحة من الشغل.  ', 'الشركة متوسعة وهم محتاجين موظفين جدد.  ', 'شنو رأيك بالشركة الثانية اللي افتتحوها؟  ', 'راتبهم زايد، بس ضغطهم رهيب.  ', 'حلمي أصير مهندس معروف بالعالم.  ', 'تجتمعون قبل الدوام لو بعده؟  ', 'آني وباقي الفريق نختم شغلنا بسعادة.  ', 'هالشهر عندي دراسة وتقارير مكومة.  ', 'العمل عن بعد صار شغلة دارجة.  ', 'الشركة تطي مكافأة للموظفين المبدعين.  ', 'محتاج أحد يساعدني بمشروع شغلي الجاي.  ', 'آني مرتاح بمجال الشغل الحالي.  ', 'دوام الليل كلش شاق على الواحد.  ', 'شنو أجمل لحظة مرت عليك بشغلك؟  ', 'الأمانة بالشغل شي نادر، بس مهم.  ', 'مثل الشغل الجماعي مرات يفيد بالتقدم.  ', 'الأساسيات عندنا قوية، بس ويبقى شوية تجهيزات.  ', 'اتمنى أصير مدير قسم يوم من الايام.  ', 'تعرف مكان يبيع ملابس شغل رسمية؟  ', 'المهمة الجديدة تتطلب كلش تركيز.  ', 'الرشاقة بالتعامل ويا الزبائن مهمة كلش.  ', 'علاقات زملائي بالشغل تفتح النفس.  ', 'عندي امل اني ألقى شغل يحترم ساعاتي.  ', 'شركتنا عندها سياسات عادلة بين الزملاء.  ', 'الكافتيريا بالشغل تطبخ وجبات طيبة.  ', 'اطلعت على التكنولوجيا الجديدة قبل الاجتماع؟  ', 'احس بيه مستقبل هنا بهالشركة.  ', 'يا ترى الشركة بتوسع بالسوق المحلي؟  ', 'محتاجين مساعدة بزمن الضغوط هاذي.  ', 'مرت على تجارب شغل اتعلمت منها هواي.  ', 'التطوير الذاتي يجي بالنهاية من الخبرة.  ', 'دوام مسائي خلاني اغير نظام حياتي.  ', 'يجوز دور عمال انتداب للشركة هالشهر.  ', 'آني والعصف الذهني نتلاعب بالشغل.  ', 'يمكن اسبوع الجاي يتغير جدول الدوام.  ', 'مدير جديد انضم النا، كله طموح.  ', 'مرات حل المشكلات يصير بحوار مفتوح.  ', 'سألوني عن وجبة الغداء راح يصير تجميع.  ', 'اجتماعات اونلاين مملتش، والله.  ', 'يا ويلي ما خلصت عمل اليوم بعد.  ', 'حب العمل معه شغف، يصير كله سهولة.  ', 'دورة تدريبية بالمكتب كملت مع الزملاء.  ', 'شوش بذيك المسألة الموافقة عليها صعبة.  ', 'التقديم عالشغل يحتاج همة وصبر.  ', 'الأهداف تبين محزورة على القاشلة.  ', 'شبكة علاقات توفير لك فرص ذهبية.  ', 'وضع العمل بالمدينة في تطور سريع.  ', 'الناس تدور على فرص عمل كل شوي.  ', 'هيت لازم نجتهد ونبرز بقدراتنا.  ', 'هالوزارة تطلب موظفين بمؤهلات عالية.  ', 'منو يتمنى يحقق توازن بين الشغل والحياة؟  ', 'مدير قسمنا يحب الابتكار والتجديد.  ', 'المنافسة بالعمل فيها صعوبة، لكن حماس.  ', 'التحدي يزيد متعة، خصوصًا بشغل هيك.  ', 'خالد، بلكي تحجز لنا قاعة للاجتماع؟  ', 'نحتاج وقت نتعلم أساليب العمل الجديدة.  ', 'المرونة بإجراءات الشغل تعجبني.  ', 'شفنا نتائج التقييم الأخير للشركة.  ', 'يعجبني الشغل الجماعي، يخلينا نبدع.  ', 'التطوير الذاتي يجي من العمل الجيد.  ', 'انا والهم الوظيفي، اي صدق.  ', 'هالشهر عليّ أنجز مشاريع هواي.  ', 'التعامل مع الزبائن صار شي مألوف عندي.  ', 'الفريق الجديد بالشغل كلش متعاون.  ', 'إلتحقي معه يكمل فريقنا بالكامل.  ', 'محد جاي يترك عمله لفرصة جديدة.  ', 'مديري يشجعنا ننطلق بأفكار جديدة.  ', 'بديت أشعر بنقص بالموارد المتاحة.  ', 'الشركة تشجع عالتعلم المستمر طول الوقت.  ', 'يالها من فرصة رائعة تخلينا نظهر.  ', 'عندي تصاعد بمهاراتي نتيجة الورشات.  ', 'تجهز نفسك لعطلة نهاية الاسبوع المقبلة؟  ', 'لينا، لا تنسى تسلم التقرير بكرة.  ', 'الستفادة من أخطائنا يجعلنا أقوى.  ', 'الرؤية الواضحة تقود للنجاح الوظيفي.  ', 'من عجبك الشغل الاضافي الي جاينا؟  ', 'الموقف يتطلب وقفة جادة وحنكة.  ', 'الأمانة والإخلاص شرط لبقاءك بالعمل.  ', 'التكنولوجيا خلت تعاملنا أسهل وأسرع.  ', 'مودي متفائل وعندي طاقة شغل كبيرة.  ', 'الشركة تحتاج ناس مبدعين وملتزمين.  ', 'ماكو حدود للإبداع في مجالات الشغل.  ', 'يحتاج تقسيم المهام بجدية وتركيز عميق.  ', 'طرق التواصل مع الزبائن مهمة وربحية.  ', 'خوفي لا أدرك أنه بده تفصيلات أكثر.  ', 'تقييمي هالسنة كان عالٍ، الحظ كان بجانبي.  ', 'اتمنى آني افتح مشروع خاص بي.  ', 'شركة ثانية بديت تعجبني بس بسبب الأمانة.  ', 'العمل يجلب المفاجآت، بمرّات تكون سلام.  ', 'الابتسامة بالفريق تحسسني بالانتماء.  ', 'الأخطاء تقول لي علمك وخلصك درس.']\n"
     ]
    }
   ],
   "source": [
    "sentences = response_message.split(\"\\n\")\n",
    "print(sentences)"
   ]
  },
  {
   "cell_type": "code",
   "execution_count": 571,
   "metadata": {},
   "outputs": [
    {
     "name": "stdout",
     "output_type": "stream",
     "text": [
      "['شلوون الدراسة وياك؟', 'عندك واجب هواي اليوم؟', 'المدرسة عدهم نظام جديد هالسنة.', 'مشتاق للسفرة الطعمة مال البريك.', 'جا شطول دوام الجامعة اليوم؟', 'ما لحگت أحضر كل المحاضرات هالأسبوع.', 'جدولي زحف، ما أعرف شلون ألحق!', 'أسئلة هالامتحان كانت صعبة هواي.', 'اليوم درسنا عن تأريخ العراق.', 'المدرسة اتعلمني شلون أفكر مو بس أحفظ.', 'تذاكر للامتحان شقد صارلك؟', 'هاي السنة قرروا يسوون دروس إضافية للطلاب.', 'الأستاذ محمد خوش فاهم المادة.', 'معهد اللغات بعِد بس هالشارع.', 'تعلّمنا اليوم عن الكهرباء وسلامتها.', 'محتاج مساعدة بكتابة التقرير مال مشروعنا.', 'الطلاب كلهم يفتخرون بمعدلهم بهاي المدرسة.', 'درس الفيزياء صعب ولازم أراجع وفهم بعد الدوام.', 'أنت متفوق بالدرجات ما شاء الله!', 'باچر عندنا امتحان كيمياء، شلون حيكون؟', 'دخول الصف الصبح بارد، لازم نجيب جاكيت.', 'شنو ويه المناهج كل سنة تتغير؟', 'هاي السنة قرروا يجيبون چم مدرس جديد.', 'الحاسوب له دروس مفيدة هواي.', 'خط يدي تحسّن من أشگار الكتابة كِل يوم.', 'باچر توجهز شي نشربه حتى ندرس عليها ليلة امتحان؟', 'محتاج أشتري سپلّهاين لحِب جديدة.', 'الشعب الاقتصادي گوي بايق؟', 'أنا علت وصاير أسوي سبورت كل صباح قبل المدرسة.', 'لازم أبدأ أحل أسئلة واختم الفصول الباقية.', 'معامل الكيميا عجبني وكلش استفاديت منه.', 'ليش التأخير وينچ ما تجين عالوقت؟', 'اليوم نسأل الأستاذ إذا يكدر يسوي لنا مراجعة.', 'المكتبة بالجامعة منفيدة وهواية کلش.', 'عن قريب راح نحتفل بتخرج خالي.', 'كامل الهطَام لازم يِس مدا أگدر أدرس اليوم.', 'المناهج المشروعة زاحفة وملَگدَة.', 'قريت اليوم هواچن عن البُتِر محاربية.', 'المكتبة كلش حماسية للدرس هالصبوگ.', 'إني كلش مستانس واييي وگايم رُئيسة صفوفي!', 'خذيت لوح تفاح بالبريك چذب گطار خالاتهم مُسطنه.', 'درس التاريخ اللگداه! ', 'الإحياء رح نتعلمة صحيان حبه حبه!', 'كَتَبنا هواي ورد عِنْقابي المناجم.', 'هذا الأستاذ كلش زيان وصبور كل شي ن فهمه.', 'پروجيكت هاي المادة صار حدي منچمر.', 'بالمكتبة اليوم الهوا مالت الرازيل بوكيم.', 'المركز الثقافي سويه هواشين هواين الجو الجامد.', 'شعرت بالفخر على مود التحصيل المالتي كان بأكمله.', 'فهمتن لگاله السواق تَٓحثني الدفاع.', 'اليوم سوينا نقاش مودْ التخرج مال اصلاحات.', 'خوش استاد يعطيني تأشير كتب قسمة بتم نشره.', 'ما أتخمن مكتبة إدارة الامتحان بكونهِ الرياضي.', 'سمعت معلومة سنديانة كانية متطمة مقدمة للجامعات.', 'ساعتين تصيب بذكر گگل ديفيروموا يخدم نُلها.', 'المواد الفي مسيمنة ماتدرس تنفع بیکھل شي.', 'مس مو mejor من إخوات جات المنح تكون بحذاكر.', 'لنص نهلني أذگران التساتمال تحتيا بالثلاجة.', 'ديواني فخر منزِبوچ شغلبنا مواد تقديم العياب.', ' لحبتي راي جَدّ قضي علمًا جايت.', 'المخرج مضحك وأحجب مشغاب مستمدين مكتوب بتعليميا. ', 'الأقسام دونا حزام اخو القيشيات تصالب.', 'نَبذاره قعنه برنامج الزواية دُفّينا الهيكل.', 'خطوي زمان ننقط مشروع الدايكون لبية.', 'جعالة العلم خير مُتتودَ و نگدر كلش.', ' النتائج تزورني معنازف وتركبي سالي حسون.']\n"
     ]
    }
   ],
   "source": [
    "\n",
    "sentences = [s for s in sentences if s]\n",
    "print(sentences)\n",
    "\n",
    "# import re\n",
    "# sentences = [re.sub(r'^\\d+\\.\\s*', '', s) for s in sentences]\n",
    "# print(sentences)"
   ]
  },
  {
   "cell_type": "markdown",
   "metadata": {},
   "source": [
    "The cell below writes the output of the request to a csv file."
   ]
  },
  {
   "cell_type": "code",
   "execution_count": 580,
   "metadata": {},
   "outputs": [],
   "source": [
    "\n",
    "# Define the CSV file name\n",
    "csv_filename = \"iraqi_by_topic/iraqi_arabic9.csv\"\n",
    "\n",
    "# Open the CSV file in write mode\n",
    "with open(csv_filename, mode=\"w\", newline='', encoding='utf-8') as file:\n",
    "    writer = csv.writer(file)\n",
    "\n",
    "    # Write header\n",
    "    writer.writerow(['ID', 'Text'])\n",
    "\n",
    "    # Write each row from the response data\n",
    "    for idx, sentence in enumerate(sentences):\n",
    "        writer.writerow([idx + 1, sentence]) "
   ]
  },
  {
   "cell_type": "markdown",
   "metadata": {},
   "source": [
    "Run the cell below to concatenate the seperate csv files that were generated by topic.\n",
    "The below cell combines all the csv files in the folder `iraqi_by_topic` and writes the output to a file called `iraqi.csv`. Switch out these folder and file names accordingly."
   ]
  },
  {
   "cell_type": "code",
   "execution_count": 581,
   "metadata": {},
   "outputs": [],
   "source": [
    "import pandas as pd\n",
    "import glob\n",
    "\n",
    "# List of all CSV files\n",
    "csv_files = glob.glob(\"iraqi_by_topic/*.csv\")\n",
    "\n",
    "# Read and concatenate all CSVs\n",
    "df = pd.concat([pd.read_csv(file) for file in csv_files], ignore_index=True)\n",
    "df = df[\"Text\"]\n",
    "\n",
    "# Save the combined data to a new CSV\n",
    "df.to_csv(\"iraqi.csv\", index=False)"
   ]
  },
  {
   "cell_type": "code",
   "execution_count": 582,
   "metadata": {},
   "outputs": [],
   "source": [
    "df_egp = pd.read_csv('egyptian.csv')\n",
    "df_egp['label'] = 'Egyptian'\n",
    "df_egp = df_egp.sample(n=1200)\n",
    "\n",
    "df_lev = pd.read_csv('levantine.csv')\n",
    "df_lev['label'] = 'Levantine'\n",
    "df_lev = df_lev.sample(n=1200)\n",
    "\n",
    "df_mor = pd.read_csv('moroccan.csv')\n",
    "df_mor['label'] = 'Maghrebi'\n",
    "df_mor = df_mor.sample(n=1200)\n",
    "\n",
    "df_gulf = pd.read_csv('gulf.csv')\n",
    "df_gulf['label'] = 'Gulf'\n",
    "df_gulf =df_gulf.sample(n=1200)\n",
    "\n",
    "df_iraq = pd.read_csv('iraqi.csv')\n",
    "df_iraq['label'] = 'Iraqi'\n",
    "df_iraq = df_iraq.sample(n=1200)"
   ]
  },
  {
   "cell_type": "code",
   "execution_count": 583,
   "metadata": {},
   "outputs": [
    {
     "data": {
      "text/html": [
       "<div>\n",
       "<style scoped>\n",
       "    .dataframe tbody tr th:only-of-type {\n",
       "        vertical-align: middle;\n",
       "    }\n",
       "\n",
       "    .dataframe tbody tr th {\n",
       "        vertical-align: top;\n",
       "    }\n",
       "\n",
       "    .dataframe thead th {\n",
       "        text-align: right;\n",
       "    }\n",
       "</style>\n",
       "<table border=\"1\" class=\"dataframe\">\n",
       "  <thead>\n",
       "    <tr style=\"text-align: right;\">\n",
       "      <th></th>\n",
       "      <th>Text</th>\n",
       "      <th>label</th>\n",
       "    </tr>\n",
       "  </thead>\n",
       "  <tbody>\n",
       "    <tr>\n",
       "      <th>0</th>\n",
       "      <td>الأزهار منسقة بطريقة رائعة.</td>\n",
       "      <td>Gulf</td>\n",
       "    </tr>\n",
       "    <tr>\n",
       "      <th>1</th>\n",
       "      <td>الناس كيهتموا بالبرامج ديرماجلون وماكتشفناها ل...</td>\n",
       "      <td>Maghrebi</td>\n",
       "    </tr>\n",
       "    <tr>\n",
       "      <th>2</th>\n",
       "      <td>الأغنية دي بتفكرني بذكريات المدارس.</td>\n",
       "      <td>Egyptian</td>\n",
       "    </tr>\n",
       "    <tr>\n",
       "      <th>3</th>\n",
       "      <td>ودوني ودوني لديرتي، أنا أفتقدك يا ديرتي الحبيب...</td>\n",
       "      <td>Gulf</td>\n",
       "    </tr>\n",
       "    <tr>\n",
       "      <th>4</th>\n",
       "      <td>حاسبتنا تشتغل بسرعه اذا نظفت الذاكرة مالها.</td>\n",
       "      <td>Iraqi</td>\n",
       "    </tr>\n",
       "    <tr>\n",
       "      <th>...</th>\n",
       "      <td>...</td>\n",
       "      <td>...</td>\n",
       "    </tr>\n",
       "    <tr>\n",
       "      <th>5995</th>\n",
       "      <td>فين ممكن نلقاو فرص العمل فهاد المدينة؟</td>\n",
       "      <td>Maghrebi</td>\n",
       "    </tr>\n",
       "    <tr>\n",
       "      <th>5996</th>\n",
       "      <td>النهجة الجديدة بالمدارس شجعت كثير من الطلاب.</td>\n",
       "      <td>Iraqi</td>\n",
       "    </tr>\n",
       "    <tr>\n",
       "      <th>5997</th>\n",
       "      <td>الله يكمل على خير زواجكم.</td>\n",
       "      <td>Iraqi</td>\n",
       "    </tr>\n",
       "    <tr>\n",
       "      <th>5998</th>\n",
       "      <td>المسلسل التراجيدي العراقي نجح نجاح غير متوقع.</td>\n",
       "      <td>Iraqi</td>\n",
       "    </tr>\n",
       "    <tr>\n",
       "      <th>5999</th>\n",
       "      <td>الأستاذ شرح الدرس بطريقة ممتعة.</td>\n",
       "      <td>Egyptian</td>\n",
       "    </tr>\n",
       "  </tbody>\n",
       "</table>\n",
       "<p>6000 rows × 2 columns</p>\n",
       "</div>"
      ],
      "text/plain": [
       "                                                   Text     label\n",
       "0                         الأزهار منسقة بطريقة رائعة.        Gulf\n",
       "1     الناس كيهتموا بالبرامج ديرماجلون وماكتشفناها ل...  Maghrebi\n",
       "2                 الأغنية دي بتفكرني بذكريات المدارس.    Egyptian\n",
       "3     ودوني ودوني لديرتي، أنا أفتقدك يا ديرتي الحبيب...      Gulf\n",
       "4           حاسبتنا تشتغل بسرعه اذا نظفت الذاكرة مالها.     Iraqi\n",
       "...                                                 ...       ...\n",
       "5995           فين ممكن نلقاو فرص العمل فهاد المدينة؟    Maghrebi\n",
       "5996       النهجة الجديدة بالمدارس شجعت كثير من الطلاب.     Iraqi\n",
       "5997                          الله يكمل على خير زواجكم.     Iraqi\n",
       "5998      المسلسل التراجيدي العراقي نجح نجاح غير متوقع.     Iraqi\n",
       "5999                    الأستاذ شرح الدرس بطريقة ممتعة.  Egyptian\n",
       "\n",
       "[6000 rows x 2 columns]"
      ]
     },
     "execution_count": 583,
     "metadata": {},
     "output_type": "execute_result"
    }
   ],
   "source": [
    "df = pd.concat([df_egp, df_gulf, df_lev, df_mor, df_iraq], ignore_index=True)\n",
    "\n",
    "df_shuffled = df.sample(frac=1 , random_state=42).reset_index(drop=True)\n",
    "\n",
    "df_shuffled"
   ]
  },
  {
   "cell_type": "code",
   "execution_count": 584,
   "metadata": {},
   "outputs": [],
   "source": [
    "df_shuffled.to_csv(\"generated_data_4o.csv\", index=True)"
   ]
  }
 ],
 "metadata": {
  "kernelspec": {
   "display_name": "ai701",
   "language": "python",
   "name": "python3"
  },
  "language_info": {
   "codemirror_mode": {
    "name": "ipython",
    "version": 3
   },
   "file_extension": ".py",
   "mimetype": "text/x-python",
   "name": "python",
   "nbconvert_exporter": "python",
   "pygments_lexer": "ipython3",
   "version": "3.8.19"
  }
 },
 "nbformat": 4,
 "nbformat_minor": 2
}
