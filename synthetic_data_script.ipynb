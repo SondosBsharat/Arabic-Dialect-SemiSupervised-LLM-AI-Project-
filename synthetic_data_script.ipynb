{
 "cells": [
  {
   "cell_type": "code",
   "execution_count": 14,
   "metadata": {},
   "outputs": [
    {
     "name": "stdout",
     "output_type": "stream",
     "text": [
      "Requirement already satisfied: openai in /Users/menaattia/opt/anaconda3/envs/ai701/lib/python3.8/site-packages (1.54.3)\n",
      "Requirement already satisfied: tqdm>4 in /Users/menaattia/opt/anaconda3/envs/ai701/lib/python3.8/site-packages (from openai) (4.66.5)\n",
      "Requirement already satisfied: pydantic<3,>=1.9.0 in /Users/menaattia/opt/anaconda3/envs/ai701/lib/python3.8/site-packages (from openai) (2.9.2)\n",
      "Requirement already satisfied: distro<2,>=1.7.0 in /Users/menaattia/opt/anaconda3/envs/ai701/lib/python3.8/site-packages (from openai) (1.9.0)\n",
      "Requirement already satisfied: jiter<1,>=0.4.0 in /Users/menaattia/opt/anaconda3/envs/ai701/lib/python3.8/site-packages (from openai) (0.7.0)\n",
      "Requirement already satisfied: typing-extensions<5,>=4.11 in /Users/menaattia/opt/anaconda3/envs/ai701/lib/python3.8/site-packages (from openai) (4.12.2)\n",
      "Requirement already satisfied: httpx<1,>=0.23.0 in /Users/menaattia/opt/anaconda3/envs/ai701/lib/python3.8/site-packages (from openai) (0.27.2)\n",
      "Requirement already satisfied: anyio<5,>=3.5.0 in /Users/menaattia/opt/anaconda3/envs/ai701/lib/python3.8/site-packages (from openai) (4.5.2)\n",
      "Requirement already satisfied: sniffio in /Users/menaattia/opt/anaconda3/envs/ai701/lib/python3.8/site-packages (from openai) (1.3.1)\n",
      "Requirement already satisfied: exceptiongroup>=1.0.2 in /Users/menaattia/opt/anaconda3/envs/ai701/lib/python3.8/site-packages (from anyio<5,>=3.5.0->openai) (1.2.2)\n",
      "Requirement already satisfied: idna>=2.8 in /Users/menaattia/opt/anaconda3/envs/ai701/lib/python3.8/site-packages (from anyio<5,>=3.5.0->openai) (3.10)\n",
      "Requirement already satisfied: httpcore==1.* in /Users/menaattia/opt/anaconda3/envs/ai701/lib/python3.8/site-packages (from httpx<1,>=0.23.0->openai) (1.0.6)\n",
      "Requirement already satisfied: certifi in /Users/menaattia/opt/anaconda3/envs/ai701/lib/python3.8/site-packages (from httpx<1,>=0.23.0->openai) (2024.8.30)\n",
      "Requirement already satisfied: h11<0.15,>=0.13 in /Users/menaattia/opt/anaconda3/envs/ai701/lib/python3.8/site-packages (from httpcore==1.*->httpx<1,>=0.23.0->openai) (0.14.0)\n",
      "Requirement already satisfied: pydantic-core==2.23.4 in /Users/menaattia/opt/anaconda3/envs/ai701/lib/python3.8/site-packages (from pydantic<3,>=1.9.0->openai) (2.23.4)\n",
      "Requirement already satisfied: annotated-types>=0.6.0 in /Users/menaattia/opt/anaconda3/envs/ai701/lib/python3.8/site-packages (from pydantic<3,>=1.9.0->openai) (0.7.0)\n",
      "Requirement already satisfied: python-dotenv in /Users/menaattia/opt/anaconda3/envs/ai701/lib/python3.8/site-packages (0.21.0)\n"
     ]
    }
   ],
   "source": [
    "!pip install openai\n",
    "!pip install python-dotenv"
   ]
  },
  {
   "cell_type": "code",
   "execution_count": 28,
   "metadata": {},
   "outputs": [],
   "source": [
    "from openai import OpenAI\n",
    "import os\n",
    "import csv\n",
    "from dotenv import load_dotenv\n",
    "\n",
    "load_dotenv() \n",
    "\n",
    "OPENAI_API_KEY = os.getenv('OPENAI_API_KEY')\n",
    "\n",
    "client = OpenAI(api_key=OPENAI_API_KEY)"
   ]
  },
  {
   "cell_type": "code",
   "execution_count": 30,
   "metadata": {},
   "outputs": [],
   "source": [
    "prompt = \"Generate 50 unique sentences in the Moroccan Arabic dialect, each capturing different everyday expressions, phrases, or dialogues used in Morocco. Use language that reflects Moroccan culture and daily life, without elements of Modern Standard Arabic. Only output the data and output every sentence on a line without numbers. Avoid redundancy.\"\n",
    "\n",
    "# Parameters\n",
    "model = \"gpt-4o-mini\"\n",
    "max_tokens = 2500\n",
    "temperature = 1\n",
    "\n",
    "# Generate sentences\n",
    "response = client.chat.completions.create(\n",
    "    model=model,\n",
    "    messages=[{\"role\": \"user\", \"content\": prompt}],\n",
    "    max_tokens=max_tokens,\n",
    "    temperature=temperature\n",
    ")"
   ]
  },
  {
   "cell_type": "code",
   "execution_count": 31,
   "metadata": {},
   "outputs": [],
   "source": [
    "response_message = response.choices[0].message.content"
   ]
  },
  {
   "cell_type": "code",
   "execution_count": 32,
   "metadata": {},
   "outputs": [
    {
     "name": "stdout",
     "output_type": "stream",
     "text": [
      "['كيف داير اليوم؟  ', 'عافاك، جبد لي شي خبز من الفورن.  ', 'فين كاين حنا، يا أخويا؟  ', 'بغيت نشرب شي أتاي.  ', 'الجو زوين بزاف اليوم.  ', 'لا باس عليك، إن شاء الله؟  ', 'هذي هي العيشة، يا خوي.  ', 'بغيت ندير مشي في السوق.  ', 'الناس هنا طيبين، صح؟  ', 'كيعجبني المهرجان، خاصني نشارك فيه.  ', 'واش كتشوف عفسة لونة هادي؟  ', 'دير جهدك وماتحبطش.  ', 'عندك لمغاربة واحد القلب الكبير.  ', 'البنت ديالي غتدخل للمدرسة غدا.  ', 'ديما كنبغي ندوز وقت مع العائلة.  ', 'حنا مع بعضنا، غنكونو أقوياء.  ', 'عندك شي خبر على الفلوس ديالي؟  ', 'ماشي ساهل تلقى خدمة مزيانة.  ', 'الطبيعة هنا زوينة وخضراء.  ', 'واش كاين شي حاجة لذيذة في المطعم؟  ', 'دبا كنجريو على الوقت، مابقيناش نلعبو.  ', 'غادي ندير عشا ليا وللصحاب.  ', 'فركة ديال الزعتر كتعجبني.  ', 'عفاك، زيد شوية ملح فالوصفة.  ', 'ڭول ليا، فين مشيتي البارح؟  ', 'بغيت نمشي للمدينة القديمة.  ', 'بنت الجيران طيبة بزاف.  ', 'يا ربي نلقا شي حاجة جميلة.  ', 'بغيت نروّح شوية فالبحر.  ', 'غادي ناخد جولة فالسوق، عافاك.  ', 'الرزاق عند الله، ما تخافش.  ', 'هنا الناس كيعزوا الضياف.  ', 'عندنا عرس فهاد السيمانا!  ', 'الفرحة كاتكون فالعواشر.  ', 'غدا غنخرّج مع صحابي.  ', 'كوني مع الأسرة ديالك، هادي هي الحياة.  ', 'فين غادي تمشي الصيف الجاي؟  ', 'لكني مزيان تعزت راسك.  ', 'خليو القهوة دابا باردة، اجي معايا.  ', 'في الشتا، كنبغيو نلعبو فماء.  ', 'داك الشي اللي كتحمق عليه، راه موجود.  ', 'عاونيني مع التبولة، بغيت نطيب.  ', 'البركة فالصحة، كون بصحة.  ', 'عندك شي فكرة للويكند؟  ', 'ما تسألنيش على الماضي، عيش الحالي.  ', 'راهم كيتخلو علينا فالتجمعات.  ', 'أخويا، راني مسافر لشي بلاد زوينة.  ', 'خايف نكون ممل فالخدمة.  ', 'حشومة، دزّي عليا فالعيد.  ', 'ندير جولة فالأزقة القديمة.  ', 'كل واحد عندو حكايتو.  ', 'كولي طيب، رانية على الدار.  ', 'ما تسيرش بحالك، كن احذر.  ', 'راك عزيز عليا، ما تنسانيش.  ', 'السعادة كاينة مع الأصدقاء.  ', 'بلا ما تعطي داك الشي البوليرا، خليه!  ', 'غنتظارك عند الباب.  ', 'نخرجوا نشوفوا الشمس والغروب.  ', 'السلام عليكم، كيديروا هاد الناس.']\n"
     ]
    }
   ],
   "source": [
    "sentences = response_message.split(\"\\n\")\n",
    "print(sentences)"
   ]
  },
  {
   "cell_type": "code",
   "execution_count": 14,
   "metadata": {},
   "outputs": [],
   "source": [
    "# import re\n",
    "# import json\n",
    "\n",
    "# # Extract the JSON part using regex\n",
    "# json_data = re.search(r'```json\\n(.*?)\\n```', response_message, re.DOTALL).group(1)\n",
    "\n",
    "# # Convert the extracted string to a JSON object\n",
    "# parsed_json = json.loads(json_data)\n",
    "\n",
    "# print(parsed_json)"
   ]
  },
  {
   "cell_type": "code",
   "execution_count": 33,
   "metadata": {},
   "outputs": [],
   "source": [
    "\n",
    "# Define the CSV file name\n",
    "csv_filename = \"moroccan_arabic_sentences1.csv\"\n",
    "\n",
    "# Open the CSV file in write mode\n",
    "with open(csv_filename, mode=\"w\", newline='', encoding='utf-8') as file:\n",
    "    writer = csv.writer(file)\n",
    "\n",
    "    # Write header\n",
    "    writer.writerow(['ID', 'Text'])\n",
    "\n",
    "    # Write each row from the response data\n",
    "    for idx, sentence in enumerate(sentences):\n",
    "        writer.writerow([idx + 1, sentence]) "
   ]
  }
 ],
 "metadata": {
  "kernelspec": {
   "display_name": "ai701",
   "language": "python",
   "name": "python3"
  },
  "language_info": {
   "codemirror_mode": {
    "name": "ipython",
    "version": 3
   },
   "file_extension": ".py",
   "mimetype": "text/x-python",
   "name": "python",
   "nbconvert_exporter": "python",
   "pygments_lexer": "ipython3",
   "version": "3.8.19"
  }
 },
 "nbformat": 4,
 "nbformat_minor": 2
}
