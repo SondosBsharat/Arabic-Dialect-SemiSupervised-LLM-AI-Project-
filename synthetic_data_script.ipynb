{
 "cells": [
  {
   "cell_type": "code",
   "execution_count": 14,
   "metadata": {},
   "outputs": [
    {
     "name": "stdout",
     "output_type": "stream",
     "text": [
      "Requirement already satisfied: openai in /Users/menaattia/opt/anaconda3/envs/ai701/lib/python3.8/site-packages (1.54.3)\n",
      "Requirement already satisfied: tqdm>4 in /Users/menaattia/opt/anaconda3/envs/ai701/lib/python3.8/site-packages (from openai) (4.66.5)\n",
      "Requirement already satisfied: pydantic<3,>=1.9.0 in /Users/menaattia/opt/anaconda3/envs/ai701/lib/python3.8/site-packages (from openai) (2.9.2)\n",
      "Requirement already satisfied: distro<2,>=1.7.0 in /Users/menaattia/opt/anaconda3/envs/ai701/lib/python3.8/site-packages (from openai) (1.9.0)\n",
      "Requirement already satisfied: jiter<1,>=0.4.0 in /Users/menaattia/opt/anaconda3/envs/ai701/lib/python3.8/site-packages (from openai) (0.7.0)\n",
      "Requirement already satisfied: typing-extensions<5,>=4.11 in /Users/menaattia/opt/anaconda3/envs/ai701/lib/python3.8/site-packages (from openai) (4.12.2)\n",
      "Requirement already satisfied: httpx<1,>=0.23.0 in /Users/menaattia/opt/anaconda3/envs/ai701/lib/python3.8/site-packages (from openai) (0.27.2)\n",
      "Requirement already satisfied: anyio<5,>=3.5.0 in /Users/menaattia/opt/anaconda3/envs/ai701/lib/python3.8/site-packages (from openai) (4.5.2)\n",
      "Requirement already satisfied: sniffio in /Users/menaattia/opt/anaconda3/envs/ai701/lib/python3.8/site-packages (from openai) (1.3.1)\n",
      "Requirement already satisfied: exceptiongroup>=1.0.2 in /Users/menaattia/opt/anaconda3/envs/ai701/lib/python3.8/site-packages (from anyio<5,>=3.5.0->openai) (1.2.2)\n",
      "Requirement already satisfied: idna>=2.8 in /Users/menaattia/opt/anaconda3/envs/ai701/lib/python3.8/site-packages (from anyio<5,>=3.5.0->openai) (3.10)\n",
      "Requirement already satisfied: httpcore==1.* in /Users/menaattia/opt/anaconda3/envs/ai701/lib/python3.8/site-packages (from httpx<1,>=0.23.0->openai) (1.0.6)\n",
      "Requirement already satisfied: certifi in /Users/menaattia/opt/anaconda3/envs/ai701/lib/python3.8/site-packages (from httpx<1,>=0.23.0->openai) (2024.8.30)\n",
      "Requirement already satisfied: h11<0.15,>=0.13 in /Users/menaattia/opt/anaconda3/envs/ai701/lib/python3.8/site-packages (from httpcore==1.*->httpx<1,>=0.23.0->openai) (0.14.0)\n",
      "Requirement already satisfied: pydantic-core==2.23.4 in /Users/menaattia/opt/anaconda3/envs/ai701/lib/python3.8/site-packages (from pydantic<3,>=1.9.0->openai) (2.23.4)\n",
      "Requirement already satisfied: annotated-types>=0.6.0 in /Users/menaattia/opt/anaconda3/envs/ai701/lib/python3.8/site-packages (from pydantic<3,>=1.9.0->openai) (0.7.0)\n",
      "Requirement already satisfied: python-dotenv in /Users/menaattia/opt/anaconda3/envs/ai701/lib/python3.8/site-packages (0.21.0)\n"
     ]
    }
   ],
   "source": [
    "!pip install openai\n",
    "!pip install python-dotenv"
   ]
  },
  {
   "cell_type": "code",
   "execution_count": 34,
   "metadata": {},
   "outputs": [],
   "source": [
    "from openai import OpenAI\n",
    "import os\n",
    "import csv\n",
    "from dotenv import load_dotenv\n",
    "\n",
    "load_dotenv() \n",
    "\n",
    "OPENAI_API_KEY = os.getenv('OPENAI_API_KEY')\n",
    "\n",
    "client = OpenAI(api_key=OPENAI_API_KEY)"
   ]
  },
  {
   "cell_type": "code",
   "execution_count": 275,
   "metadata": {},
   "outputs": [],
   "source": [
    "# adj = \"Egyptian\"\n",
    "# country = \"Egypt\"\n",
    "\n",
    "# adj = \"Moroccan\"\n",
    "# country = \"Morocco\"\n",
    "\n",
    "# adj = \"Levantine\"\n",
    "# country = \"Jordan, Palestine, Lebanon, or Syria\"\n",
    "\n",
    "adj = \"Gulf\"\n",
    "country = \"Saudi Arabia, Qatar, the UAE, or Oman\"\n",
    "\n",
    "topics = [\n",
    "    \"personal updates, including health and wellbeing, family and friends\",\n",
    "    \"relationships and social life, including marriage, friendship, social issues\",\n",
    "    \"social and world events, including news and current events, weather, trends and social media\",\n",
    "    \"technology, including new tech, apps, online trends\",\n",
    "    \"money and finance, including personal finances, shopping and deals, economic updates\",\n",
    "    \"entertainment and pop culture, including TV shows and movies, music, sports\", \n",
    "    \"daily activities, including plans for the day, food and cooking, hobbies and leisure\",\n",
    "    \"travel and experiences, including local experiences and activities, cultural topics\",\n",
    "    \"education and learning, including school, college, and studies\",\n",
    "    \"work and career, including jobs and the workplace\"\n",
    "]\n",
    "\n",
    "prompt = \"Generate 200 unique sentences in the \" + adj + \" Arabic dialect, each capturing different everyday expressions, phrases, or dialogues used in \" + country + \" related to \" + topics[9] + \". Use only the \" + adj + \" dialect, and do not use Modern Standard Arabic. Only output the data and output every sentence on a line without numbering the lines. Avoid redundancy.\"\n",
    "\n",
    "\n",
    "\n",
    "# Parameters\n",
    "model = \"gpt-4o-mini\"\n",
    "max_tokens = 10000\n",
    "temperature = 1\n",
    "\n",
    "# Generate sentences\n",
    "response = client.chat.completions.create(\n",
    "    model=model,\n",
    "    messages=[{\"role\": \"user\", \"content\": prompt}],\n",
    "    max_tokens=max_tokens,\n",
    "    temperature=temperature\n",
    ")"
   ]
  },
  {
   "cell_type": "code",
   "execution_count": 276,
   "metadata": {},
   "outputs": [],
   "source": [
    "response_message = response.choices[0].message.content"
   ]
  },
  {
   "cell_type": "code",
   "execution_count": 277,
   "metadata": {},
   "outputs": [
    {
     "name": "stdout",
     "output_type": "stream",
     "text": [
      "['اليوم عندي اجتماع مع مدير المشاريع.', 'وين قاعد تشتغل الحين؟', 'عندنا ضغط كبير في الشغل اليوم.', 'أحتاج أخلص هالمشروع قبل نهاية الأسبوع.', 'المكتب صار ضيق مع كثرة الزملاء.', 'ترى في فرصة عمل جديدة بالمعرض.', 'يوم الأحد راح نبدأ دورة تدريبية جديدة.', 'وين الرفاق؟ خايفين نخلص من الشغل.', 'تحتاج مساعدة في التقرير؟ أنا حاضر.', 'عملي يحتاج تفكير إبداعي على طول.', 'المدير يحب إذا الأمور منظمة ومرتبة.', 'عندنا مناقشة عن تطوير الفريق الأسبوع الجاي.', 'سألت عن الترقية، وما قالي شي.', 'أحب شغلي لأني أتعلم أشياء جديدة كل يوم.', 'خلصت شغلي قبل الوقت المحدد.', 'الأسبوع الماضي رحنا رحلة عمل لمعرض كبير.', 'لازم أضغط على نفسي وأتعلم مستجدات السوق.', 'السكرتير يمشي الأمور بشكل ممتاز في المكتب.', 'أكثر شي يعجبني في شغلي هو التعاون مع الزملاء.', 'كلنا نحتاج نشارك الأفكار لتحسين الأداء.', 'أحب الشغل اللي يتطلب مني التفكير والتحليل.', 'صحيح إننا نشتغل ضغط، لكن النتيجة تكون حلوة.', 'لازم أسوي جدول أعمال لترتيب المهام.', 'إذا تحب تسأل عن تفاصيل الوظيفة، أنا هنا.', 'وزملائي دائمًا يساعدوني في المشاريع الكبيرة.', 'العمل لدي لا يبدأ إلا بعد ما أتأكد من كل التفاصيل.', 'التواصل الجيد مع العملاء مهم جدًا لنجاح العمل.', 'قابس شغلك على المول، تقدر تخدم زباين أكثر.', 'كم راتبك الحالي؟ سمعت إن في زيادة.', 'حاليًا أدرس لغة جديدة لأنها مفيدة للوظيفة.', 'نشتغل ساعات طويلة، بس نبغى نحقق النجاح.', 'لازم أروح للمدير وأشرح له عن الوضع الحالي.', 'ما أحب التأخير، أفضل أخلص الشغل في وقته.', 'التمويل صار أكبر في قسمنا هالسنة.', 'ساعدني في تحضير العرض التقديمي للمدير.', 'المشاريع الجديدة تحتاج مزيد من الإبداع.', 'كمبيوتر المكتب صار فيه مشاكل، فاحتاج بديل.', 'أتمنى ألحق الوظيفة البديلة الأسبوع الجاي.', 'الإجازات شوي محدودة مع زيادة الشغل.', 'شغل العصارة يخذ وقت، بس يتطلب دقة.', 'فرص التطوير الذاتي هنا رائعة.', 'أحب أشتغل مع فريق مكون من مختلف الجنسيات.', 'إذا عندك أفكار جديدة، شاركني إياها.', 'الاجتماعات الأسبوعية تساعدنا على التركيز.', 'عندي لقاء عمل مع أحد العملاء الخميس.', 'هل أنت فاضي؟ نحتاج نتناقش في بعض النقاط.', 'المكتب هنا مريح جدًا، أحب الأجواء.', 'مؤتمرات العمل تعطيك فكرة عن آخر التطورات.', 'هل سمعتي عن خطط التوسع الجديدة؟', 'فوضى المكتب تؤثر على الإنتاجية بشكل كبير.', 'أحتاج أفكار جديدة لتحسين عملنا.', 'كيف تقدرون تتعاملون مع ضغوط الشغل؟', 'سألت المدير إذا نقدر نعتمد نظام العمل عن بعد.', 'الكورس التدريبي اللي حضرته كان مفيد جدًا.', 'الاجتماعات الأشخاص لابد أن تكون فعالة.', 'احرص على تقديم قبول سريع للموضوعات المهمة.', 'معالجة المشاكل بسرعة أفضل من التأخير.', 'بحاث العمل في الرياض دائمًا مميزة.', 'طرق التواصل مع الزملاء عبر البريد الإلكتروني مفيدة.', 'تدريب الموظفين الجدد مسؤولية مهمة.', 'ترتيب المواعيد اليومية يسهل علي إنجاز الشغل.', 'تركز على نفسك وطموحاتك في الشغل.', 'احتاج إجازة، مره متعبة هالأيام.', 'الاستماع للإخوة والزملاء يقوم بتعزيز العلاقات.', 'عندنا لائحة لمواقع خاصة للوظائف الجديدة.', 'أنت وجهك بشوش حتى في أوقات الضغط.', 'التوازن بين العمل والحياة الشخصية مهم جدًا.', 'كيف أحسنت في فعالية العام الماضي؟', 'عليك أن تساهم في تحسين بيئة العمل.', 'نحتاج كل فكرة جديدة في منطقة الفكرة.', 'حدثت بضع تغييرات في مهمتي مؤخرًا.', 'هل تحب العمل بدوام كامل أو جزئي؟', 'لحظة، لازم أرسل الرسالة للمدير.', 'لابد أن نكون إيجابيين في ردودنا على العملاء.', 'اجتماعنا مع العميل كان ناجح.', 'النقاشات الفعالة بين الفرق تساهم في النجاح.', 'عدد الزملاء الجدد في قسمنا عشرة.', 'هو شغل إبداعي، لذلك سيستغرق وقتًا أكثر.', 'أنا مسرور لبدء مشروعي الجديد.', 'حكوني إذا حصلت على هذه الوظيفة.', 'قمت بتغيير خطة العمل بناءً على الملاحظات.', 'لا تنسى تحضير العرض لمؤتمر الأسبوع المقبل.', 'التنظيم في الجدول يساعد في زيادة الإنتاجية.', 'صرنا نشتغل بشكل يواكب التكنولوجيا الحديثة.', 'عندي اقتراح لتغيير طريقة عرض البيانات.', 'تحدثنا عن آلية تطوير الأداء بين الفرق.', 'قاعد أشتغل على مهاراتي الإدارية.', 'تعمل مع فريق محترف مهم جدًا.', 'أحتاج لمكالمة مع مدير الموارد البشرية.', 'لابد من الأشراف على مهام الموظفين الجدد.', 'تعجبني أفكارك، ودي نطبقها في المشروع.', 'الأسبوع الجاي عندنا تقييم لمستوى الإنتاجية.', 'سألت عن القواعد الجديدة المتبعة في المكتب.', 'السوق يحتاج خبراء بتخصصات متعددة.', 'حولنا ضغط الشغل لفرص جديدة.', 'ممكن تتعاون معايا في الساعات القادمة؟', 'وصلت ورقة التقييم؟ أريد أفهم الأفضل.', 'هل يمكننا تنسيق مواعيدنا لتحقيق الأهداف؟', 'الاجتماعات اليوم مهمة لاجتماع المجلس.', 'أريد فرصة أخرى للاستفادة من الدورات.', 'حاول أن تكون مرنًا في تعاملك مع الفرق.', 'الشهر الجاي عندنا مشروع جديد في المرحلة الثانية.', 'سواء كنا في المكتب أو العمل عن بعد.', 'التكنولوجيا تسهل علينا الكثير من المهام.', 'لا تنسى أهمية التنسيق بين الأقسام.', 'تعاوننا كفريق أكد فعالية المشروع.', 'تحسين بيئة العمل مهم لاستخراج إبداع الجميع.', 'الوقت الراهن يتطلب الابداع في جميع التخصصات.', 'دائمًا أبحث عن الفرص لمراجعة سيرتي الذاتية.', 'الصبر مفتاح النجاح في المشاريع الطويلة.', 'جهز نفسك لملاقاة العملاء بأسلوب محترف.', 'الأفكار الجديدة تُعتبر وقود الإبداع في المشاريع.', 'القيادة تحتاج إلى شخصية قوية وإيجابية.', 'تحديث المهارات يساعد العمال في الإنتاج.', 'أسأل أصدقائك عن جهاز العرض للفوز.', 'إذًا، الأسبوع الجاي عندنا موعد للمراجعة.', 'وقت الدوام مر سريع مع الجو الممتع.', 'اجعل كلِّ اجتماع نقاط واضحة للاستفادة.', 'البحث عن مشاكل السوق يعزز التوجه المؤسسي.', 'المسؤوليات تتزايد مع الترقية.', 'رفقتي في العمل تدعم الإنتاجية والمزاج.', 'إذا سمحت لي، بمكانك تسأل عن القضايا.', 'كل واحد فينا عنده دور يسهم به في العمل.', 'الاسئلة المفتوحة تحسن من الحوار في الاجتماعات.', 'أحتاج تجرب بيئة جديدة لتوسيع الأفق.', 'التحاقي بالدورة ساعدني في فهم الأمور أكثر.', 'ما رأيك في الشروط الجديدة للترقية؟', 'انعكاس الأعمال يُظهر لنا الإيجابيات والسلبيات.', 'كل واحد بحاجة للوقت للاستراحة بين المهام.', 'القدرة على الإنجاز تبدأ من التخطيط السليم.', 'العمل جماعي ويساهم في تيسير المشروعات.', 'الصبر والتفاني يضمنان نجاح كل عمل.', 'إذا عندك خبرة، شاركها مع فريقك.', ' قائمة العاملين في الشركة تحتاج تحديث مستمر.', 'التنوع في فريق العمل يعطي نتائج أفضل.', 'هذا المشروع سيكون تحدي لأي شخص.', 'كثير من المجلات تتحدث عن قصص النجاح في العمل.', 'اختيار الموظفين حقا مهم لنجاح الفريق.', 'فريقنا في المكتب أصبح واحد من الأقوى.', 'قريبًا راح تنزل العروض الجديدة في السوق.', 'نحتاج نصنع بيئة عمل تشجع على الإبداع.']\n"
     ]
    }
   ],
   "source": [
    "sentences = response_message.split(\"\\n\")\n",
    "print(sentences)"
   ]
  },
  {
   "cell_type": "code",
   "execution_count": 278,
   "metadata": {},
   "outputs": [],
   "source": [
    "\n",
    "# Define the CSV file name\n",
    "csv_filename = \"gulf_by_topic/gulf_arabic9.csv\"\n",
    "\n",
    "# Open the CSV file in write mode\n",
    "with open(csv_filename, mode=\"w\", newline='', encoding='utf-8') as file:\n",
    "    writer = csv.writer(file)\n",
    "\n",
    "    # Write header\n",
    "    writer.writerow(['ID', 'Text'])\n",
    "\n",
    "    # Write each row from the response data\n",
    "    for idx, sentence in enumerate(sentences):\n",
    "        writer.writerow([idx + 1, sentence]) "
   ]
  },
  {
   "cell_type": "code",
   "execution_count": 279,
   "metadata": {},
   "outputs": [],
   "source": [
    "import pandas as pd\n",
    "import glob\n",
    "\n",
    "# List of all CSV files\n",
    "csv_files = glob.glob(\"gulf_by_topic/*.csv\")\n",
    "\n",
    "# Read and concatenate all CSVs\n",
    "df = pd.concat([pd.read_csv(file) for file in csv_files], ignore_index=True)\n",
    "df = df[\"Text\"]\n",
    "\n",
    "# Save the combined data to a new CSV\n",
    "df.to_csv(\"gulf.csv\", index=False)"
   ]
  }
 ],
 "metadata": {
  "kernelspec": {
   "display_name": "ai701",
   "language": "python",
   "name": "python3"
  },
  "language_info": {
   "codemirror_mode": {
    "name": "ipython",
    "version": 3
   },
   "file_extension": ".py",
   "mimetype": "text/x-python",
   "name": "python",
   "nbconvert_exporter": "python",
   "pygments_lexer": "ipython3",
   "version": "3.8.19"
  }
 },
 "nbformat": 4,
 "nbformat_minor": 2
}
