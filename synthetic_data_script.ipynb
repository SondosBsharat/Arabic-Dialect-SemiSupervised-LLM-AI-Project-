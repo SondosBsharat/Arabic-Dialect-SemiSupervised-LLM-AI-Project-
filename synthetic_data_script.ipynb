{
 "cells": [
  {
   "cell_type": "code",
   "execution_count": 14,
   "metadata": {},
   "outputs": [
    {
     "name": "stdout",
     "output_type": "stream",
     "text": [
      "Requirement already satisfied: openai in /Users/menaattia/opt/anaconda3/envs/ai701/lib/python3.8/site-packages (1.54.3)\n",
      "Requirement already satisfied: tqdm>4 in /Users/menaattia/opt/anaconda3/envs/ai701/lib/python3.8/site-packages (from openai) (4.66.5)\n",
      "Requirement already satisfied: pydantic<3,>=1.9.0 in /Users/menaattia/opt/anaconda3/envs/ai701/lib/python3.8/site-packages (from openai) (2.9.2)\n",
      "Requirement already satisfied: distro<2,>=1.7.0 in /Users/menaattia/opt/anaconda3/envs/ai701/lib/python3.8/site-packages (from openai) (1.9.0)\n",
      "Requirement already satisfied: jiter<1,>=0.4.0 in /Users/menaattia/opt/anaconda3/envs/ai701/lib/python3.8/site-packages (from openai) (0.7.0)\n",
      "Requirement already satisfied: typing-extensions<5,>=4.11 in /Users/menaattia/opt/anaconda3/envs/ai701/lib/python3.8/site-packages (from openai) (4.12.2)\n",
      "Requirement already satisfied: httpx<1,>=0.23.0 in /Users/menaattia/opt/anaconda3/envs/ai701/lib/python3.8/site-packages (from openai) (0.27.2)\n",
      "Requirement already satisfied: anyio<5,>=3.5.0 in /Users/menaattia/opt/anaconda3/envs/ai701/lib/python3.8/site-packages (from openai) (4.5.2)\n",
      "Requirement already satisfied: sniffio in /Users/menaattia/opt/anaconda3/envs/ai701/lib/python3.8/site-packages (from openai) (1.3.1)\n",
      "Requirement already satisfied: exceptiongroup>=1.0.2 in /Users/menaattia/opt/anaconda3/envs/ai701/lib/python3.8/site-packages (from anyio<5,>=3.5.0->openai) (1.2.2)\n",
      "Requirement already satisfied: idna>=2.8 in /Users/menaattia/opt/anaconda3/envs/ai701/lib/python3.8/site-packages (from anyio<5,>=3.5.0->openai) (3.10)\n",
      "Requirement already satisfied: httpcore==1.* in /Users/menaattia/opt/anaconda3/envs/ai701/lib/python3.8/site-packages (from httpx<1,>=0.23.0->openai) (1.0.6)\n",
      "Requirement already satisfied: certifi in /Users/menaattia/opt/anaconda3/envs/ai701/lib/python3.8/site-packages (from httpx<1,>=0.23.0->openai) (2024.8.30)\n",
      "Requirement already satisfied: h11<0.15,>=0.13 in /Users/menaattia/opt/anaconda3/envs/ai701/lib/python3.8/site-packages (from httpcore==1.*->httpx<1,>=0.23.0->openai) (0.14.0)\n",
      "Requirement already satisfied: pydantic-core==2.23.4 in /Users/menaattia/opt/anaconda3/envs/ai701/lib/python3.8/site-packages (from pydantic<3,>=1.9.0->openai) (2.23.4)\n",
      "Requirement already satisfied: annotated-types>=0.6.0 in /Users/menaattia/opt/anaconda3/envs/ai701/lib/python3.8/site-packages (from pydantic<3,>=1.9.0->openai) (0.7.0)\n",
      "Requirement already satisfied: python-dotenv in /Users/menaattia/opt/anaconda3/envs/ai701/lib/python3.8/site-packages (0.21.0)\n"
     ]
    }
   ],
   "source": [
    "!pip install openai\n",
    "!pip install python-dotenv"
   ]
  },
  {
   "cell_type": "code",
   "execution_count": 34,
   "metadata": {},
   "outputs": [],
   "source": [
    "from openai import OpenAI\n",
    "import os\n",
    "import csv\n",
    "from dotenv import load_dotenv\n",
    "\n",
    "load_dotenv() \n",
    "\n",
    "OPENAI_API_KEY = os.getenv('OPENAI_API_KEY')\n",
    "\n",
    "client = OpenAI(api_key=OPENAI_API_KEY)"
   ]
  },
  {
   "cell_type": "code",
   "execution_count": 321,
   "metadata": {},
   "outputs": [],
   "source": [
    "# adj = \"Egyptian\"\n",
    "# country = \"Egypt\"\n",
    "\n",
    "# adj = \"Moroccan\"\n",
    "# country = \"Morocco\"\n",
    "\n",
    "# adj = \"Levantine\"\n",
    "# country = \"Jordan, Palestine, Lebanon, or Syria\"\n",
    "\n",
    "# adj = \"Gulf\"\n",
    "# country = \"Saudi Arabia, Qatar, the UAE, or Oman\"\n",
    "\n",
    "adj = \"Iraqi\"\n",
    "country = \"Iraq\"\n",
    "\n",
    "topics = [\n",
    "    \"personal updates, including health and wellbeing, family and friends\",\n",
    "    \"relationships and social life, including marriage, friendship, social issues\",\n",
    "    \"social and world events, including news and current events, weather, trends and social media\",\n",
    "    \"technology, including new tech, apps, online trends\",\n",
    "    \"money and finance, including personal finances, shopping and deals, economic updates\",\n",
    "    \"entertainment and pop culture, including TV shows and movies, music, sports\", \n",
    "    \"daily activities, including plans for the day, food and cooking, hobbies and leisure\",\n",
    "    \"travel and experiences, including local experiences and activities, cultural topics\",\n",
    "    \"education and learning, including school, college, and studies\",\n",
    "    \"work and career, including jobs and the workplace\"\n",
    "]\n",
    "\n",
    "prompt = \"Generate 200 unique sentences in the \" + adj + \" Arabic dialect, each capturing different everyday expressions, phrases, or dialogues used in \" + country + \" related to \" + topics[5] + \". Use only the \" + adj + \" dialect, and do not use Modern Standard Arabic. Only output the data and output every sentence on a line without numbering the lines. Avoid redundancy.\"\n",
    "\n",
    "\n",
    "\n",
    "# Parameters\n",
    "model = \"gpt-4o-mini\"\n",
    "max_tokens = 10000\n",
    "temperature = 1\n",
    "\n",
    "# Generate sentences\n",
    "response = client.chat.completions.create(\n",
    "    model=model,\n",
    "    messages=[{\"role\": \"user\", \"content\": prompt}],\n",
    "    max_tokens=max_tokens,\n",
    "    temperature=temperature\n",
    ")"
   ]
  },
  {
   "cell_type": "code",
   "execution_count": 322,
   "metadata": {},
   "outputs": [],
   "source": [
    "response_message = response.choices[0].message.content"
   ]
  },
  {
   "cell_type": "code",
   "execution_count": 323,
   "metadata": {},
   "outputs": [
    {
     "name": "stdout",
     "output_type": "stream",
     "text": [
      "['شلونك يا خويه، شفت الحلقة الجديدة من مسلسل \"الأسود الأبيض\"؟  ', 'موسيقى \"ماجد المهندس\" دايمًا تطربني، وش رأيك؟  ', 'الله يا زين المجاملات بين المتسابقين في \"ذا فويس\"!  ', 'اليوم رايحين نشوف فيلم \"الفلوس\" بالجعبة!  ', 'خلصت الموسم الأول من \"صراع العروش\"، شنو رأيك بالنهاية؟  ', 'سمعت أغنية جديدة لبدر الشعلان، صراحة حلوة كلها إحساس.  ', 'تدرين يمه، شنو رأيك ببطولة الكأس، العراق جاب العيد!  ', 'اليوم في عرض لأفلام الرعب في السينما، حاضرين؟  ', 'آخ منك يا ابن الناس، هالبرنامج مضحك لحد الضحك.  ', 'شايف \"وظيفة شاقة\"؟ مرّحب بك يا أبو الهرجة.  ', 'ياخي، صارلي أسبوعين ما شفت \"الراقصة والطبال\"!  ', 'اللعبة \"فورتنايت\" صارت تجيبها الشريحة الكبيرة!  ', 'هل متحمس لمباراة الزوراء والجوية؟ العود بيعلم!  ', 'مسلسل \"أهل الهوى\" صار حديث المدينة!  ', 'أحب أغاني \"بسمة\" لأن تجي بوقت الضيق.  ', 'برنمج \"الموسم\" دايمًا يجذبني بأفكاره الجديدة.  ', 'اليوم عندنا موال، ومتحمس للحضور.  ', 'لاتنسى انك تجيب معاك شغلات للسهرة!  ', 'وين شفت هالكنز يا عم؟ أكيد من صالح الجبوري.  ', 'منو من الشباب صار يشجع مانشستر يونايتد؟  ', 'ياريت نتجمع ونشوف الكلاسيكو سوة!  ', 'تخيلي كيف كانت مباريات كأس الخليج بالسابق!  ', 'كلش حلوة أغنية \"شمس\" للفنانة، تعيش أحلى اللحظات.  ', 'بالأحرى، شنو رأيك بمعلومات \"المسلسلات التركية\" الجديد؟  ', 'حبك للسيارات لابد يكون له تأثير على حياتك اليومية.  ', 'اليوم تجمعنا مع الأصدقاء على \"الفيسبوك\" ومانسينا.  ', 'ازعلت من الحركة اللي صارت مع أبطال \"أفلام الأكشن\"!  ', 'إذا شاركت في المسرحية أكيد رح تكون مبدع، لا تفوت الفرصة.  ', 'بس يشوفوني نقول لهم عن مباراة \"الخالدي\" و\"الشباب\" هم كلهم يحضرون.  ', 'سمعت ان \"أم كلثوم\" يتم سماعها بين الناس حتى اليوم!  ', 'متاكد انك تحب المسلسلات العربية أكثر من الأجنبية؟  ', 'دايمًا أردد أغنية \"الأصالة\" بطريق روحي.  ', 'ياخذوني الشباب للملعب مثل العادة ونحنا نجيب الشاي.  ', 'عندكم فكرة عن أغنية أبرار \"حلوة\" الجديدة، صاير لهم صدا جميلاً!  ', 'سمعت إن \"مجهول\" فاز بجائزة أفضل ممثل السنة.  ', 'أحب أروح السينما يوم الخميس لأن فيها تخفيض.  ', 'لعبو \"البلاستيشن\" كملنا ليوم كامل ما حسينا فيه.  ', 'وين مصمم \"الملابس\" الجديد، أكيد بتفاجئنا بالجديد!  ', 'يا سلام على الدراما العراقية، جابت لنا القصص الحقيقية.  ', 'آها، شفت الدردشة عن الفريق الجيد الخاسر بالمباراة؟  ', 'الكوميديا في \"عشاق الدراما\" كانت على أصولها.  ', 'ما تخلي أغنية \"مجرد صديق\" من قلبك، عرفت ليش؟  ', 'تذكر شلون كنا نلعب في الشارع بعد ما تخلص المباراة؟  ', 'عملت لك توقيع وزينتها بألوان العلم العراقي!  ', 'أحلى ذكريات مع الأقارب في الأعياد، زمان كان وبفرح.  ', 'أرغب أشوف \"محققو الغموض\" لأنه يجذب الانتباه.  ', '\"الكلاسيكو\" دايمًا يكون دافع لمنافسات قوية، متحمسين!  ', 'حلوة الأغاني الريفية وخصوصًا بحفلات الصيف.  ', 'شفت فيلم \"سنة ثانية\" يحكي عن جدتي وذكرياتها الحلوة؟  ', 'متابع للبرامج الثقافية، شوف توفاق الفنان المحبوب!  ', 'تعيّش الأيام الحلوة، سمعت الإمام الجديد يغني؟  ', 'شفتوا لفريق \"الراسينغ\"، إن شاء الله يطلعون أشطر هذا الموسم!  ', 'صراحة، تحبوا مسلسلات \"التشويق\"، ولا الهايكنغ؟  ', 'حفلة \"نانسي عجرم\" عادت من جديد، هل تحضرون؟  ', 'روحي انبارك بسيارة نجم نادي الميناء، فرح جماهيري خرافي.  ', 'البرامج الكوميدية صايرة مسلية علينا بشكل مو طبيعي.  ', 'عادي تروح نتفسح اليوم الجابية؟  ', 'الأفلام القديمة لها طعم خاص، شنو رايك ب\"البنات\"؟  ', 'لعبنا بلاي ستيشن، حالنا حال أي شباب \"هالوقت\".  ', 'ذكرتوني بمسلسل \"العشق الممنوع\"، كان حماسي!  ', 'الجمهور بالملعب زاد من تشجيع الفريق، شلون يعني؟  ', 'كيفج ينشغلوا بي أغاني \"صابر الرباعي\" يتناسبوا مع خاطري.  ', 'نرسم دوائر حول \"الجديدة\"، وبعدين نحدد نص الدردشة!  ', 'الحسرة على \"الموجات القديمة\"، الدنيا تفوت على الشريط.  ', 'بغداد هذا الوكت عندها روح غير، ينتهي السهر.  ', 'إذا قعدت تتفرج على الأفلام تقدر تحكي عن الحظ!  ', 'روح جرب مطعم \"التوابل\" يمدحوا فيه الكل.  ', 'قبل ان نبدأ، يلزم نستمع لمجموعة من الأغاني.  ', 'التفاعل الناس على \"الفيسبوك\" زاد، تساؤلات ومشاجرات!  ', 'شعر شعبي يوصف لنا \"الهرج من المسلسلات التركية\".  ', 'شفت وين اللعبة راد تكون؟ أكيد بالمجمع الكبير.  ', 'أغاني الراب في العراق بالمستقبل بتمثلنا بقوة!  ', 'اليوم بديتي تطلعين في منطقة \"البيضاء\" وتنورين المكان.  ', '\"لهفة\" برنامج قدمت فيه أحلى الحلقات وأجواء خارجية.  ', 'بانت لي \"اللوبوت\" في \"الفن الساخر\" وهي محاضرة جيدة.  ', 'توقعات المباريات راح تكون حرب بين كل الفرق!  ', 'هذول الفنانين صايرين يشوفوا بصوت \"التفاعل الاجتماعي\".  ', 'بنت ومن أفتخر، وش غناها عن \"السماعي\".  ', 'موسيقى \"البدوية\" تحرك الأحشاعر في قلوبنا.  ', 'ألعاب الفيديو سرت الشهرة بين الأجيال، بس تذكر الأرقام!  ', 'تصوير \"الحيوانات المعجزة\" صاير فني ويمتع الكل الأحد.  ', 'ونستنى كل الجمعة، علشان نشوف \"الدراما العراقية\" تكون بأفضل حال.  ', '\"مبايات\"، تتفرج ويصيح الكل من الفرحة.  ', 'أنا متأكد إن \"الكاندي\" راح يكون من أقوى اللاعبين!  ', 'عزيزتي، إيش رأيك أغاني \"العشيق\"!  ', 'نحن جماعة المساء، جلستنا رقص وحدنا في بهجة.  ', 'كلما زاد الترحيب، زاد الضحك والمزاح.  ', 'بنت أصغر عندها صوت رائع جدًا، الكل مبسوط.  ', 'يا حبيبي تدرين، ليش مخفين قصة \"أصالة\" اليوم؟  ', 'سنين من المسلسلات أعادت لنا ذاكرة الطفولة.  ', 'تعال شوفوا \"لالا لاند\"، فيلم خراجي مبذول!  ', 'شافين سصرية \"أم العود\" صايرة براءة وجمال.  ', 'شوقتنا لعيد المكسرات، والطبيعة الخلابة!  ', 'الله يرحم دمع الأهل في طرف الملخص.  ', 'نسيم الأمس دعا لتعزاه الأسهر والعهر.  ', 'كيفك بس، اشتاقيت لجو \"التنس\" بفترة الاحترار.  ', 'مع الأجيال الجديدة، صارن الألوان مختلفة أن تتغير.  ', 'يا جميلين، ودنا نتلمس \"الدراما في الربيع\".  ', 'صمت العالمة وصدى الأغاني تحرك القلب على نور الصفاء.  ', '\"القصص المثيرة\" صارت سلاسل زاهية!  ', 'نتواصل مع \"الفنانة الشابة\" نحب نتحدث بخصوص \"الألبوم الجديد\".  ', 'چويش عيثر للأغنية الجديدة طلتها غريبة!  ', 'تسلميم لفرقة \"الشعبية\"، واحد واحد يبدع لنا بموسيقاه.  ', 'ذكرة \"غوغل\" وأخبار مسلسلات \"دراستنا\" بحسن الأفكار.  ', 'أحب أسمع صدى الجماهير، يشجع الطاقة الإيجابية.  ', 'يا سندس، متى آخر مرة رحتي حفلة موسيقية؟  ', 'كل واحد عنده نجم المفضل، مو شغلة الفرح.  ', 'حبيبي عيدها باحتفال مفاجئ، الكل رقص على أغانيها.  ', 'تغيير \"الأفلام الممتعة\" صار علامة في حياتنا اليومية.  ', 'عاجبني \"العرسية\" بمناسبة تربلته تفرجتهم.  ', 'شفت \"عرب أيدول\" الزين، التعاون يلاقي التنسيق.  ', 'ايش ممكن تطلعين في \"الصيفية\"، أحتاج جواهر.  ', 'حاجاتك مع الأصدقاء تعيد الكل للروح.  ', 'نحتاج لمشاركة الأحلام مع جماعة المبدعين!  ', 'شوقتنا للأغاني \"الوطنية\" وخاصة عندما تستعاد ذكرياتنا.  ', 'كلما أحكي عن \"بالسريعة\"، أكون تعبك وتنزل.  ', 'المسرح الشعبي يعكس تأثيره الفوري!  ', 'دورت القصة بأعجابها، أحسها تمس القلب.  ', 'احتفالات عام 2023 تزيد الطاقة في الناس.  ', 'حدة الأغاني المتنوعة تفرغ معاجين الشباب القديم.  ', 'يوم بحضنه مع العائلة العزيزة، العودة لذكريات زمان.  ', 'أجيالنا بين الفخر والحرية، نرفع أعلام \"الفن\".  ', 'وقت الاحتفالات، نأكل الحلويات ونتسلى مع العائلة.  ', 'هل سمعت عن عمل \"الدرامي\" الجاي، شكل محمس!  ', 'تواجد تراثنا بالعروض يعيد الذكريات من الماضي.  ', 'من أكثر الممتع هو احتفائي مع العائلة وسط \"الموسيقى\".  ', 'تعالي شوفوا بيع الآلات اللعبي، جديدة وحلوة!  ', 'كيف كانت أيام المغامرات، لما كنا نشوف العروض  على التلفزيون.  ', 'استخدم \"سنابشات\" للمشاركة باللحظات، اليوم الجاي.  ', 'يوم واحد برئ وذكرياته ضحكونا الأفلام القديمة.  ', 'لعبنا سوّة واستمتعنا بوقتنا الرائع، باسلوب حديث.  ', 'أحس باشعاع \"سبتوديو\"، نسمع ونشوف الأفلام مع الأصدقاء.  ', 'المدن العريقة مثل بغداد في الوقت الحالي تحتاج أكثر دعم.  ', 'تحسين الأجل في الرحلات و\"الفنون\" ينشي شعبية الأوطان.  ', 'شفناك في \"البازار\"، حركتنا لأجواء الفرح تضرب ميزتها.  ', 'كل واحد من العشاق يرغب بمشاهدة نفس الأفلام.  ', 'أحب أن أشاهد أفلام الأبطال الخارقين وسرقات الأفكار!  ', 'الضحك أثره أحيانًا ينقلب إلى دموع، فلنستمع لنكن صاينين.  ', 'لما أتذكر الأفلام العراقية، أكون في حالة من السعادة.  ', 'توزيعات \"الفن\" تروي لنا قصص طويلة وجميلة.  ', 'أقلّد الفنانين في التعبير عن النجاح والفرحة.  ', 'الجميع صار يجمع التواقيع ويتبادلوها في حفلاتهم.  ', 'المسلسلات الكوميدية تخلينا نبتسم ونهتم بما يحدث.  ', 'دايمًا أكون مستعد لمشاهدة \"البث المباشر\" لحلقات الدراما.  ', 'ذكريا تروّض الشوق في قلوبنا، تصنع \"العيش\" الأجمل.  ', 'يوم العمل \"السمر\"، قمة السعادة بين الطاقم!  ', 'مسرحية باللغة \"العراقية الفصحى\"، مثلما نحبها.  ', 'اليوم، دعنا نتسلى ونشاهد \"بث الحوارات الدرامية\".  ', 'كم ستحصل من الضحكات ستوطد العلاقات مع الأشخاص!  ', 'صادفت طفلة تتغنى بأغاني \"الأفلام\"، كانت سعادتها واضحة.  ', 'كلما شفت \"الأغاني الحلوة\" تذكرنا بالزمن القديم.  ', 'استمتعوا بلعب \"القرصنة\" مع الأسر، دقّوا الأبواب الحديثة!  ', 'زياراتنا للمهرجانات الشعبية تعيد لنا أوقات وأحلام.  ', 'الفن الرفيع ينعش الجذع، ويعكس طابع جديد للأجيال.  ', 'الفنانين الاحياء يحيوا الفضاءات بوجودهم.  ', 'الفنانات الشابات بإبداعاتهم يثيروا الجديد والمختلف.  ', 'أسطورة \"أفلام الخيال\" دائمة تكشف لنا عن عوالم جديدة.  ', 'الفقرات الترفيهية تنضجنا بالمحبة والمودة للجميع.  ', 'فرحة النجاحات تبرز الأساسيات المتألقة بفن الحكايات.  ', 'تحركاتنا بين الأجواء المسلية تخلق وعيًا جديدا!  ', 'مهم إننا نتحدث عن \"الانتخابات\" بلغة الفن والموسيقى.  ', 'إحساس العطلة ينور قلوبنا، مع أغاني الأعياد.  ', 'يومياً نبحث عن عرض مناسب لنجتمع بالناس، فهم أصحابنا.  ', 'دايمًا يحضّروا الأغاني من التراث القديم للمسابقات.  ', 'خليتكم تسألوا عن الأغاني في مدينة \"الوسطى\"!  ', 'افرحي بالأغاني وأنتظار \"الوقت أفضل دائم\"!  ', 'الواقع الافتراضي يجعلنا نشعر لاشياء جديدة وكأننا نعيش فيها.  ', 'التعاون بين الفرق الفنية يعزز من حضور الفن \"العراقي\".  ', 'الذكريات الجميلة تتركز في أذهاننا بسبب الأعمال المبدعة.  ', 'الترتيبات للأفلام الجايز يجب أن تكون بمشاعرنا القريبة.  ', 'الشغف يزيد مع الأغاني والموسيقى خلال الأوقات الممتعة.  ', 'لازم نعتني بالتراث، لنكون حضاريين أكثر وأكبر!  ']\n"
     ]
    }
   ],
   "source": [
    "sentences = response_message.split(\"\\n\")\n",
    "print(sentences)"
   ]
  },
  {
   "cell_type": "markdown",
   "metadata": {},
   "source": [
    "The cell below writes the output of the request to a csv file."
   ]
  },
  {
   "cell_type": "code",
   "execution_count": 324,
   "metadata": {},
   "outputs": [],
   "source": [
    "\n",
    "# Define the CSV file name\n",
    "csv_filename = \"iraqi_by_topic/iraqi_arabic5.csv\"\n",
    "\n",
    "# Open the CSV file in write mode\n",
    "with open(csv_filename, mode=\"w\", newline='', encoding='utf-8') as file:\n",
    "    writer = csv.writer(file)\n",
    "\n",
    "    # Write header\n",
    "    writer.writerow(['ID', 'Text'])\n",
    "\n",
    "    # Write each row from the response data\n",
    "    for idx, sentence in enumerate(sentences):\n",
    "        writer.writerow([idx + 1, sentence]) "
   ]
  },
  {
   "cell_type": "markdown",
   "metadata": {},
   "source": [
    "Run the cell below to concatenate the seperate csv files that were generated by topic.\n",
    "The below cell combines all the csv files in the folder `iraqi_by_topic` and writes the output to a file called `iraqi.csv`. Switch out these folder and file names accordingly."
   ]
  },
  {
   "cell_type": "code",
   "execution_count": 326,
   "metadata": {},
   "outputs": [],
   "source": [
    "import pandas as pd\n",
    "import glob\n",
    "\n",
    "# List of all CSV files\n",
    "csv_files = glob.glob(\"iraqi_by_topic/*.csv\")\n",
    "\n",
    "# Read and concatenate all CSVs\n",
    "df = pd.concat([pd.read_csv(file) for file in csv_files], ignore_index=True)\n",
    "df = df[\"Text\"]\n",
    "\n",
    "# Save the combined data to a new CSV\n",
    "df.to_csv(\"iraqi.csv\", index=False)"
   ]
  },
  {
   "cell_type": "code",
   "execution_count": 336,
   "metadata": {},
   "outputs": [],
   "source": [
    "df_egp = pd.read_csv('generated_data/egyptian.csv')\n",
    "df_egp['label'] = 'Egyptian'\n",
    "df_egp = df_egp.sample(n=1300)\n",
    "\n",
    "df_lev = pd.read_csv('generated_data/levantine.csv')\n",
    "df_lev['label'] = 'Levantine'\n",
    "df_lev = df_lev.sample(n=1300)\n",
    "\n",
    "df_mor = pd.read_csv('generated_data/moroccan.csv')\n",
    "df_mor['label'] = 'Maghrebi'\n",
    "df_mor = df_mor.sample(n=1300)\n",
    "\n",
    "df_gulf = pd.read_csv('generated_data/gulf.csv')\n",
    "df_gulf['label'] = 'Gulf'\n",
    "df_gulf =df_gulf.sample(n=1300)\n",
    "\n",
    "df_iraq = pd.read_csv('generated_data/iraqi.csv')\n",
    "df_iraq['label'] = 'Iraqi'\n",
    "df_iraq = df_iraq.sample(n=1300)"
   ]
  },
  {
   "cell_type": "code",
   "execution_count": 337,
   "metadata": {},
   "outputs": [
    {
     "data": {
      "text/html": [
       "<div>\n",
       "<style scoped>\n",
       "    .dataframe tbody tr th:only-of-type {\n",
       "        vertical-align: middle;\n",
       "    }\n",
       "\n",
       "    .dataframe tbody tr th {\n",
       "        vertical-align: top;\n",
       "    }\n",
       "\n",
       "    .dataframe thead th {\n",
       "        text-align: right;\n",
       "    }\n",
       "</style>\n",
       "<table border=\"1\" class=\"dataframe\">\n",
       "  <thead>\n",
       "    <tr style=\"text-align: right;\">\n",
       "      <th></th>\n",
       "      <th>Text</th>\n",
       "      <th>label</th>\n",
       "    </tr>\n",
       "  </thead>\n",
       "  <tbody>\n",
       "    <tr>\n",
       "      <th>0</th>\n",
       "      <td>شرب الشاي مع النعناع، في وقت الاسترخاء.</td>\n",
       "      <td>Levantine</td>\n",
       "    </tr>\n",
       "    <tr>\n",
       "      <th>1</th>\n",
       "      <td>أمك شلونها، تحسنت صحتها بعد العملية؟</td>\n",
       "      <td>Iraqi</td>\n",
       "    </tr>\n",
       "    <tr>\n",
       "      <th>2</th>\n",
       "      <td>ذهبت لزيارة الأخت، وأحببت الجلسة معها.</td>\n",
       "      <td>Gulf</td>\n",
       "    </tr>\n",
       "    <tr>\n",
       "      <th>3</th>\n",
       "      <td>سمعت إنه فيه فرقة جديدة عم تتكون، بدها جماهير ...</td>\n",
       "      <td>Levantine</td>\n",
       "    </tr>\n",
       "    <tr>\n",
       "      <th>4</th>\n",
       "      <td>خطر لي، هل فعلا نقدر نحب جميعًا؟</td>\n",
       "      <td>Iraqi</td>\n",
       "    </tr>\n",
       "    <tr>\n",
       "      <th>...</th>\n",
       "      <td>...</td>\n",
       "      <td>...</td>\n",
       "    </tr>\n",
       "    <tr>\n",
       "      <th>6495</th>\n",
       "      <td>أسأل عن الطقس، تقدر تتوقع لي الرحلة لأحسن الأس...</td>\n",
       "      <td>Levantine</td>\n",
       "    </tr>\n",
       "    <tr>\n",
       "      <th>6496</th>\n",
       "      <td>مازال كنسمع مبشور عن الفنون المختلطة!</td>\n",
       "      <td>Maghrebi</td>\n",
       "    </tr>\n",
       "    <tr>\n",
       "      <th>6497</th>\n",
       "      <td>جدي كان عنده عيد ميلاده الأسبوع الماضي، كتير ف...</td>\n",
       "      <td>Iraqi</td>\n",
       "    </tr>\n",
       "    <tr>\n",
       "      <th>6498</th>\n",
       "      <td>ابن خالي يشتغل بالتجارة، وهو كاسب زين.</td>\n",
       "      <td>Iraqi</td>\n",
       "    </tr>\n",
       "    <tr>\n",
       "      <th>6499</th>\n",
       "      <td>التحول الرقمي سهّل من حياتنا اليومية.</td>\n",
       "      <td>Egyptian</td>\n",
       "    </tr>\n",
       "  </tbody>\n",
       "</table>\n",
       "<p>6500 rows × 2 columns</p>\n",
       "</div>"
      ],
      "text/plain": [
       "                                                   Text      label\n",
       "0             شرب الشاي مع النعناع، في وقت الاسترخاء.    Levantine\n",
       "1                أمك شلونها، تحسنت صحتها بعد العملية؟        Iraqi\n",
       "2              ذهبت لزيارة الأخت، وأحببت الجلسة معها.         Gulf\n",
       "3     سمعت إنه فيه فرقة جديدة عم تتكون، بدها جماهير ...  Levantine\n",
       "4                    خطر لي، هل فعلا نقدر نحب جميعًا؟        Iraqi\n",
       "...                                                 ...        ...\n",
       "6495  أسأل عن الطقس، تقدر تتوقع لي الرحلة لأحسن الأس...  Levantine\n",
       "6496            مازال كنسمع مبشور عن الفنون المختلطة!     Maghrebi\n",
       "6497  جدي كان عنده عيد ميلاده الأسبوع الماضي، كتير ف...      Iraqi\n",
       "6498           ابن خالي يشتغل بالتجارة، وهو كاسب زين.        Iraqi\n",
       "6499            التحول الرقمي سهّل من حياتنا اليومية.     Egyptian\n",
       "\n",
       "[6500 rows x 2 columns]"
      ]
     },
     "execution_count": 337,
     "metadata": {},
     "output_type": "execute_result"
    }
   ],
   "source": [
    "df = pd.concat([df_egp, df_gulf, df_lev, df_mor, df_iraq], ignore_index=True)\n",
    "\n",
    "df_shuffled = df.sample(frac=1 , random_state=42).reset_index(drop=True)\n",
    "\n",
    "df_shuffled"
   ]
  },
  {
   "cell_type": "code",
   "execution_count": 339,
   "metadata": {},
   "outputs": [],
   "source": [
    "df_shuffled.to_csv(\"generated_data.csv\", index=True)"
   ]
  }
 ],
 "metadata": {
  "kernelspec": {
   "display_name": "ai701",
   "language": "python",
   "name": "python3"
  },
  "language_info": {
   "codemirror_mode": {
    "name": "ipython",
    "version": 3
   },
   "file_extension": ".py",
   "mimetype": "text/x-python",
   "name": "python",
   "nbconvert_exporter": "python",
   "pygments_lexer": "ipython3",
   "version": "3.8.19"
  }
 },
 "nbformat": 4,
 "nbformat_minor": 2
}
