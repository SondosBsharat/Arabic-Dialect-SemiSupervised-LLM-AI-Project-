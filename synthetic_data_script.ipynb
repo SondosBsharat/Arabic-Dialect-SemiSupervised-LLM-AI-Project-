{
 "cells": [
  {
   "cell_type": "code",
   "execution_count": 14,
   "metadata": {},
   "outputs": [
    {
     "name": "stdout",
     "output_type": "stream",
     "text": [
      "Requirement already satisfied: openai in /Users/menaattia/opt/anaconda3/envs/ai701/lib/python3.8/site-packages (1.54.3)\n",
      "Requirement already satisfied: tqdm>4 in /Users/menaattia/opt/anaconda3/envs/ai701/lib/python3.8/site-packages (from openai) (4.66.5)\n",
      "Requirement already satisfied: pydantic<3,>=1.9.0 in /Users/menaattia/opt/anaconda3/envs/ai701/lib/python3.8/site-packages (from openai) (2.9.2)\n",
      "Requirement already satisfied: distro<2,>=1.7.0 in /Users/menaattia/opt/anaconda3/envs/ai701/lib/python3.8/site-packages (from openai) (1.9.0)\n",
      "Requirement already satisfied: jiter<1,>=0.4.0 in /Users/menaattia/opt/anaconda3/envs/ai701/lib/python3.8/site-packages (from openai) (0.7.0)\n",
      "Requirement already satisfied: typing-extensions<5,>=4.11 in /Users/menaattia/opt/anaconda3/envs/ai701/lib/python3.8/site-packages (from openai) (4.12.2)\n",
      "Requirement already satisfied: httpx<1,>=0.23.0 in /Users/menaattia/opt/anaconda3/envs/ai701/lib/python3.8/site-packages (from openai) (0.27.2)\n",
      "Requirement already satisfied: anyio<5,>=3.5.0 in /Users/menaattia/opt/anaconda3/envs/ai701/lib/python3.8/site-packages (from openai) (4.5.2)\n",
      "Requirement already satisfied: sniffio in /Users/menaattia/opt/anaconda3/envs/ai701/lib/python3.8/site-packages (from openai) (1.3.1)\n",
      "Requirement already satisfied: exceptiongroup>=1.0.2 in /Users/menaattia/opt/anaconda3/envs/ai701/lib/python3.8/site-packages (from anyio<5,>=3.5.0->openai) (1.2.2)\n",
      "Requirement already satisfied: idna>=2.8 in /Users/menaattia/opt/anaconda3/envs/ai701/lib/python3.8/site-packages (from anyio<5,>=3.5.0->openai) (3.10)\n",
      "Requirement already satisfied: httpcore==1.* in /Users/menaattia/opt/anaconda3/envs/ai701/lib/python3.8/site-packages (from httpx<1,>=0.23.0->openai) (1.0.6)\n",
      "Requirement already satisfied: certifi in /Users/menaattia/opt/anaconda3/envs/ai701/lib/python3.8/site-packages (from httpx<1,>=0.23.0->openai) (2024.8.30)\n",
      "Requirement already satisfied: h11<0.15,>=0.13 in /Users/menaattia/opt/anaconda3/envs/ai701/lib/python3.8/site-packages (from httpcore==1.*->httpx<1,>=0.23.0->openai) (0.14.0)\n",
      "Requirement already satisfied: pydantic-core==2.23.4 in /Users/menaattia/opt/anaconda3/envs/ai701/lib/python3.8/site-packages (from pydantic<3,>=1.9.0->openai) (2.23.4)\n",
      "Requirement already satisfied: annotated-types>=0.6.0 in /Users/menaattia/opt/anaconda3/envs/ai701/lib/python3.8/site-packages (from pydantic<3,>=1.9.0->openai) (0.7.0)\n",
      "Requirement already satisfied: python-dotenv in /Users/menaattia/opt/anaconda3/envs/ai701/lib/python3.8/site-packages (0.21.0)\n"
     ]
    }
   ],
   "source": [
    "!pip install openai\n",
    "!pip install python-dotenv"
   ]
  },
  {
   "cell_type": "code",
   "execution_count": 2,
   "metadata": {},
   "outputs": [],
   "source": [
    "from openai import OpenAI\n",
    "import os\n",
    "import csv\n",
    "from dotenv import load_dotenv\n",
    "\n",
    "load_dotenv() \n",
    "\n",
    "OPENAI_API_KEY = os.getenv('OPENAI_API_KEY')\n",
    "\n",
    "client = OpenAI(api_key=OPENAI_API_KEY)"
   ]
  },
  {
   "cell_type": "code",
   "execution_count": 16,
   "metadata": {},
   "outputs": [],
   "source": [
    "prompt = \"Generate 50 sentences in Egyptian Arabic. Only output the data and output every sentence on a line without numbers. Avoid redundancy.\"\n",
    "\n",
    "# Parameters\n",
    "model = \"gpt-4o-mini\"\n",
    "max_tokens = 2500\n",
    "temperature = 0.7\n",
    "\n",
    "# Generate sentences\n",
    "response = client.chat.completions.create(\n",
    "    model=model,\n",
    "    messages=[{\"role\": \"user\", \"content\": prompt}],\n",
    "    max_tokens=max_tokens,\n",
    "    temperature=temperature\n",
    ")"
   ]
  },
  {
   "cell_type": "code",
   "execution_count": 17,
   "metadata": {},
   "outputs": [],
   "source": [
    "response_message = response.choices[0].message.content"
   ]
  },
  {
   "cell_type": "code",
   "execution_count": 18,
   "metadata": {},
   "outputs": [
    {
     "name": "stdout",
     "output_type": "stream",
     "text": [
      "['أنا رايح السوق أشتري شوية فواكه.  ', 'النهاردة الجو جميل جداً.  ', 'أنت تحب تشرب شاي ولا قهوة؟  ', 'فين المكان اللي اتفقنا عليه؟  ', 'أنا محتاج أروح المكتبة أدرس.  ', 'الناس هنا طيبين جداً.  ', 'هل سمعت الأخبار الجديدة؟  ', 'أنا بحب أسمع الموسيقى في وقت الفراغ.  ', 'الأكل في المطعم ده لذيذ جداً.  ', 'ممكن تقولي على الطريق للوصول؟  ', 'إحنا هنجتمع عند بيت عمي.  ', 'أنت بتشتغل في أي مجال؟  ', 'الطفل ده شقي جداً.  ', 'الليلة عندنا حفلة كبيرة.  ', 'أنا بحب أقرأ الكتب قبل النوم.  ', 'المدرسة بتفتح الساعة 8 صباحاً.  ', 'هل جربت الأكل المصري التقليدي؟  ', 'البيوت هنا كلها جميلة.  ', 'أنا عايز أتعلم رقص الشرقي.  ', 'الأسعار دلوقتي غالية جداً.  ', 'أنت بتحب السفر ولا تفضل البقاء في البيت؟  ', 'ممكن تساعدني في حل الواجب؟  ', 'الحديقة كانت مليانة زهور.  ', 'الكتاب ده ممتع جداً.  ', 'أنا بحب أمارس الرياضة كل يوم.  ', 'هل تحب الأفلام الكوميدية؟  ', 'الطقس في الصيف حار جداً.  ', 'أنا بشوف أصحابى كل أسبوع.  ', 'الرحلة كانت رائعة جداً.  ', 'أنت عندك حيوانات أليفة في البيت؟  ', 'الأسواق هنا تبيع كل شيء.  ', 'أنا بحب أتعلم لغات جديدة.  ', 'المدينتين مختلفتين تماماً.  ', 'السماء كانت مليانة نجوم.  ', 'الموسيقى بتخلي المزاج أحسن.  ', 'هل تحب الطبخ؟  ', 'الأطفال كانوا بيلعبوا في الشارع.  ', 'الفيلم اللي شفناه كان حزين.  ', 'أنا عايز أروح السينما النهاردة.  ', 'هل ممكن نذهب للبحر يوم الجمعة؟  ', 'الحديقة كانت مليانة أطفال.  ', 'القهوة هنا طعمها ممتاز.  ', 'أنا بحاول أتعلم السباحة.  ', 'الشارع كان زحمة جداً.  ', 'الأكل في العزومة كان لذيذ.  ', 'أنا أحب التمشية في المساء.  ', 'هل عندك فكرة عن المكان الجديد؟  ', 'البيت ده قديم جداً.  ', 'أنا بحب الزهور الملونة.  ', 'الدرس كان صعب شوي.  ', 'العائلة بتجمعنا في المناسبات.  ', 'الشمس طلعت بدري النهاردة.  ', 'أنا بحب أزور الأماكن التاريخية.  ', 'المدينة مليانة معالم سياحية.  ', 'هل تحب القراءة قبل النوم؟  ', 'الحياة هنا مليانة تحديات.  ', 'نفسنا نتقابل قريب.  ', 'الشجرة دي كبيرة جداً.  ', 'أنا بحلم أسافر أوروبا يوماً ما.']\n"
     ]
    }
   ],
   "source": [
    "sentences = response_message.split(\"\\n\")\n",
    "print(sentences)"
   ]
  },
  {
   "cell_type": "code",
   "execution_count": 14,
   "metadata": {},
   "outputs": [],
   "source": [
    "# import re\n",
    "# import json\n",
    "\n",
    "# # Extract the JSON part using regex\n",
    "# json_data = re.search(r'```json\\n(.*?)\\n```', response_message, re.DOTALL).group(1)\n",
    "\n",
    "# # Convert the extracted string to a JSON object\n",
    "# parsed_json = json.loads(json_data)\n",
    "\n",
    "# print(parsed_json)"
   ]
  },
  {
   "cell_type": "code",
   "execution_count": 19,
   "metadata": {},
   "outputs": [],
   "source": [
    "\n",
    "# Define the CSV file name\n",
    "csv_filename = \"egyptian_arabic_sentences.csv\"\n",
    "\n",
    "# Open the CSV file in write mode\n",
    "with open(csv_filename, mode=\"w\", newline='', encoding='utf-8') as file:\n",
    "    writer = csv.writer(file)\n",
    "\n",
    "    # Write header\n",
    "    writer.writerow(['ID', 'Text'])\n",
    "\n",
    "    # Write each row from the response data\n",
    "    for idx, sentence in enumerate(sentences):\n",
    "        writer.writerow([idx + 1, sentence]) "
   ]
  }
 ],
 "metadata": {
  "kernelspec": {
   "display_name": "ai701",
   "language": "python",
   "name": "python3"
  },
  "language_info": {
   "codemirror_mode": {
    "name": "ipython",
    "version": 3
   },
   "file_extension": ".py",
   "mimetype": "text/x-python",
   "name": "python",
   "nbconvert_exporter": "python",
   "pygments_lexer": "ipython3",
   "version": "3.8.19"
  }
 },
 "nbformat": 4,
 "nbformat_minor": 2
}
