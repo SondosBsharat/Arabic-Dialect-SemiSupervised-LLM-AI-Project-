{
 "cells": [
  {
   "cell_type": "code",
   "execution_count": 14,
   "metadata": {},
   "outputs": [
    {
     "name": "stdout",
     "output_type": "stream",
     "text": [
      "Requirement already satisfied: openai in /Users/menaattia/opt/anaconda3/envs/ai701/lib/python3.8/site-packages (1.54.3)\n",
      "Requirement already satisfied: tqdm>4 in /Users/menaattia/opt/anaconda3/envs/ai701/lib/python3.8/site-packages (from openai) (4.66.5)\n",
      "Requirement already satisfied: pydantic<3,>=1.9.0 in /Users/menaattia/opt/anaconda3/envs/ai701/lib/python3.8/site-packages (from openai) (2.9.2)\n",
      "Requirement already satisfied: distro<2,>=1.7.0 in /Users/menaattia/opt/anaconda3/envs/ai701/lib/python3.8/site-packages (from openai) (1.9.0)\n",
      "Requirement already satisfied: jiter<1,>=0.4.0 in /Users/menaattia/opt/anaconda3/envs/ai701/lib/python3.8/site-packages (from openai) (0.7.0)\n",
      "Requirement already satisfied: typing-extensions<5,>=4.11 in /Users/menaattia/opt/anaconda3/envs/ai701/lib/python3.8/site-packages (from openai) (4.12.2)\n",
      "Requirement already satisfied: httpx<1,>=0.23.0 in /Users/menaattia/opt/anaconda3/envs/ai701/lib/python3.8/site-packages (from openai) (0.27.2)\n",
      "Requirement already satisfied: anyio<5,>=3.5.0 in /Users/menaattia/opt/anaconda3/envs/ai701/lib/python3.8/site-packages (from openai) (4.5.2)\n",
      "Requirement already satisfied: sniffio in /Users/menaattia/opt/anaconda3/envs/ai701/lib/python3.8/site-packages (from openai) (1.3.1)\n",
      "Requirement already satisfied: exceptiongroup>=1.0.2 in /Users/menaattia/opt/anaconda3/envs/ai701/lib/python3.8/site-packages (from anyio<5,>=3.5.0->openai) (1.2.2)\n",
      "Requirement already satisfied: idna>=2.8 in /Users/menaattia/opt/anaconda3/envs/ai701/lib/python3.8/site-packages (from anyio<5,>=3.5.0->openai) (3.10)\n",
      "Requirement already satisfied: httpcore==1.* in /Users/menaattia/opt/anaconda3/envs/ai701/lib/python3.8/site-packages (from httpx<1,>=0.23.0->openai) (1.0.6)\n",
      "Requirement already satisfied: certifi in /Users/menaattia/opt/anaconda3/envs/ai701/lib/python3.8/site-packages (from httpx<1,>=0.23.0->openai) (2024.8.30)\n",
      "Requirement already satisfied: h11<0.15,>=0.13 in /Users/menaattia/opt/anaconda3/envs/ai701/lib/python3.8/site-packages (from httpcore==1.*->httpx<1,>=0.23.0->openai) (0.14.0)\n",
      "Requirement already satisfied: pydantic-core==2.23.4 in /Users/menaattia/opt/anaconda3/envs/ai701/lib/python3.8/site-packages (from pydantic<3,>=1.9.0->openai) (2.23.4)\n",
      "Requirement already satisfied: annotated-types>=0.6.0 in /Users/menaattia/opt/anaconda3/envs/ai701/lib/python3.8/site-packages (from pydantic<3,>=1.9.0->openai) (0.7.0)\n",
      "Requirement already satisfied: python-dotenv in /Users/menaattia/opt/anaconda3/envs/ai701/lib/python3.8/site-packages (0.21.0)\n"
     ]
    }
   ],
   "source": [
    "!pip install openai\n",
    "!pip install python-dotenv"
   ]
  },
  {
   "cell_type": "code",
   "execution_count": 34,
   "metadata": {},
   "outputs": [],
   "source": [
    "from openai import OpenAI\n",
    "import os\n",
    "import csv\n",
    "from dotenv import load_dotenv\n",
    "\n",
    "load_dotenv() \n",
    "\n",
    "OPENAI_API_KEY = os.getenv('OPENAI_API_KEY')\n",
    "\n",
    "client = OpenAI(api_key=OPENAI_API_KEY)"
   ]
  },
  {
   "cell_type": "code",
   "execution_count": 47,
   "metadata": {},
   "outputs": [],
   "source": [
    "prompt = \"Generate 50 unique sentences in the Egyptian Arabic dialect, each capturing different everyday expressions, phrases, or dialogues used in Egypt. Use language that reflects Egyptian culture and daily life, without elements of Modern Standard Arabic. Only output the data and output every sentence on a line without numbers. Avoid redundancy.\"\n",
    "\n",
    "# Parameters\n",
    "model = \"gpt-4o-mini\"\n",
    "max_tokens = 2500\n",
    "temperature = 1\n",
    "\n",
    "# Generate sentences\n",
    "response = client.chat.completions.create(\n",
    "    model=model,\n",
    "    messages=[{\"role\": \"user\", \"content\": prompt}],\n",
    "    max_tokens=max_tokens,\n",
    "    temperature=temperature\n",
    ")"
   ]
  },
  {
   "cell_type": "code",
   "execution_count": 48,
   "metadata": {},
   "outputs": [],
   "source": [
    "response_message = response.choices[0].message.content"
   ]
  },
  {
   "cell_type": "code",
   "execution_count": 49,
   "metadata": {},
   "outputs": [
    {
     "name": "stdout",
     "output_type": "stream",
     "text": [
      "['إزيك يا حبيبي، عامل إيه النهاردة؟  ', 'الجو نار بره، حنتشمس وإحنا طالعين؟  ', 'مفيش زي الشاي بالنعناع بعد الأكل.  ', 'يا ريتني كنت معاكو في المصيف.  ', 'إحنا رايحين السوق نشتري خضار، تحب تجيب حاجة؟  ', 'المشوار بعيد، تحب نركب تاكسي؟  ', 'أهلا وسهلا فيك، اتفضل البيت بيتك!  ', 'هو فين أستاذ حلمي؟ ساب الشغل تاني؟  ', 'هتقوم من النوم بدري بكرة عشان الشغل؟  ', 'النهاردة الأكل كان طعمه حكاية!  ', 'تديني رأيك في اللبس الجديد؟  ', 'الولاد كانوا مشاغبين النهاردة في المدرسة.  ', 'محتاج تنزل تشتري حاجات قبل العيد؟  ', 'سألت عن مصطفى، قالي مسافر أسبوع.  ', 'طب ليه حزين كدا؟ حصل حاجة؟  ', 'الفنانين كلهم موجودين في المهرجان النهاردة!  ', 'بكرة في ماتش كبير، تحضر معانا؟  ', 'الصحبة اللي معايا دلوقتي، روعة!  ', 'يلا بينا نروح نلعب شدة ونشرب قهوة.  ', 'فتحي دايما بيحب يضحك على كل حاجة!  ', 'إحنا نحب وكوه كبار، هنعزمكم على الغدا.  ', 'محمود جاوب على سوالك بطريقة غريبة.  ', 'في حارة عندنا مفيش زيها في مصر.  ', 'إحنا لازم نعمل حفل صغيرة في البيت.  ', 'بتحب تأكل كشري ولا بقولك أكل جديد؟  ', 'أخبار رمضان عندكم عامل إزاي؟  ', 'النهاردة الأكل ملوش حل، بجد!  ', 'انت مش قاعد في البيت ليه؟  ', 'خالي عنده مزرعة، وحياتها حلوة أوي.  ', 'حبيبي، الفلوس خلصت ولا لسه؟  ', 'شفت الحلقة الجديدة من المسلسل؟ كانت جامدة!  ', 'الناس في المحطة كانوا متجمعين عشان المطر.  ', 'تعال شوف الفستان اللي جبته، تحس إنه هيناسبني؟  ', 'كل ما يجي العيد، بنلعب مع الأولاد في الشارع.  ', 'المحل عنده خصم، لازم نروح نشتري.  ', 'أول ما اشترينا التذكرة، بدأ المطر ينزل!  ', 'هعاود أتعلم رقص الشرقي قريب، أنت معايا؟  ', 'عندك فكرة عن المناسبة اللي هتحصل في الجيزة؟  ', 'إحنا بنشوف الأفلام على السطح في الصيف.  ', 'المطرب دا صوته حلو أوي، بحبه!  ', 'قاعد مع أصحابك، ولا فضلتي لوحدك؟  ', 'أنا عايز أسافر الإسكندرية، أروح إمتى؟  ', 'الفطار كان ضخم النهاردة، الاستراحة جميلة.  ', 'حبيبي، معاك شواحن للتابلت؟  ', 'أختي بتحب القهوة سادة، أنا بحبها بحليب.  ', 'في كرنفال في المدينة، نفسي أروحه.  ', 'ممكن تجيب لي علبة حلاوة من المحل؟  ', 'الجو العليل على النيل، حاجة جميلة!  ', 'العيال مش بيهدوا، عايزين يلعبوا طول اليوم.  ', 'قولي بقى، قمت من النوم بدري ولا لسه؟  ', 'المباراة كانت حماسية، والفريق كسب!  ', 'يلا نطلع نتمشى شوية، الجو جميل.  ', 'مفيش حاجة أسعد من قعدة مع الأصحاب.  ', 'إحنا ناقصنا نروح مع بعض لأهرامات الجيزة.  ', 'بتحب المزيكا العربية ولا الغربي؟  ', 'اليوتيوب مليان فيديوهات مفيدة، عايز أشارك معاك.  ', 'السمك في العزومة كان طعمه لا يوصف!  ', 'يوم العيد أحلى الأيام، الكل بتجمع.  ', 'ميعادنا مع القهوة كان مفروض النهاردة.']\n"
     ]
    }
   ],
   "source": [
    "sentences = response_message.split(\"\\n\")\n",
    "print(sentences)"
   ]
  },
  {
   "cell_type": "code",
   "execution_count": 14,
   "metadata": {},
   "outputs": [],
   "source": [
    "# import re\n",
    "# import json\n",
    "\n",
    "# # Extract the JSON part using regex\n",
    "# json_data = re.search(r'```json\\n(.*?)\\n```', response_message, re.DOTALL).group(1)\n",
    "\n",
    "# # Convert the extracted string to a JSON object\n",
    "# parsed_json = json.loads(json_data)\n",
    "\n",
    "# print(parsed_json)"
   ]
  },
  {
   "cell_type": "code",
   "execution_count": 50,
   "metadata": {},
   "outputs": [],
   "source": [
    "\n",
    "# Define the CSV file name\n",
    "csv_filename = \"egyptian_arabic_sentences2.csv\"\n",
    "\n",
    "# Open the CSV file in write mode\n",
    "with open(csv_filename, mode=\"w\", newline='', encoding='utf-8') as file:\n",
    "    writer = csv.writer(file)\n",
    "\n",
    "    # Write header\n",
    "    writer.writerow(['ID', 'Text'])\n",
    "\n",
    "    # Write each row from the response data\n",
    "    for idx, sentence in enumerate(sentences):\n",
    "        writer.writerow([idx + 1, sentence]) "
   ]
  }
 ],
 "metadata": {
  "kernelspec": {
   "display_name": "ai701",
   "language": "python",
   "name": "python3"
  },
  "language_info": {
   "codemirror_mode": {
    "name": "ipython",
    "version": 3
   },
   "file_extension": ".py",
   "mimetype": "text/x-python",
   "name": "python",
   "nbconvert_exporter": "python",
   "pygments_lexer": "ipython3",
   "version": "3.8.19"
  }
 },
 "nbformat": 4,
 "nbformat_minor": 2
}
