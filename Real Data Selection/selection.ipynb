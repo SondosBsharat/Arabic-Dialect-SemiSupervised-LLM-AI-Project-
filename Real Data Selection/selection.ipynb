{
 "cells": [
  {
   "cell_type": "code",
   "execution_count": 55,
   "metadata": {},
   "outputs": [],
   "source": [
    "import pandas as pd\n",
    "import os"
   ]
  },
  {
   "cell_type": "code",
   "execution_count": 56,
   "metadata": {},
   "outputs": [],
   "source": [
    "# List of city names\n",
    "Levantine_cities = ['Aleppo','Damascus', 'Beirut','Jerusalem','Amman','Salt']\n",
    "Egyptian_cities=['Alexandria','Aswan','Cairo']\n",
    "Gulf_cities=['Doha', 'Jeddah', 'Riyadh', 'Muscat']\n",
    "Maghrebi_cities=['Algiers','Fes', 'Rabat']\n",
    "Iraqi_ctities=['Baghdad','Basra', 'Mosul']"
   ]
  },
  {
   "cell_type": "code",
   "execution_count": 57,
   "metadata": {},
   "outputs": [],
   "source": [
    "def df_creations(cities, N, list_name):\n",
    "    # List to store DataFrames for each city\n",
    "    df_list = []\n",
    "    \n",
    "    for city in cities:\n",
    "        # Build the file path\n",
    "        file_path = f'../MADAR_Corpus/MADAR.corpus.{city}.tsv'\n",
    "        \n",
    "        # Check if the file exists\n",
    "        if os.path.exists(file_path):\n",
    "            # Read the TSV file into a DataFrame\n",
    "            df = pd.read_csv(file_path, sep='\\t')\n",
    "            \n",
    "            # Randomly sample N rows\n",
    "            df_sampled = df.sample(n=N, random_state=42)  # Set random_state for reproducibility\n",
    "\n",
    "            df_sampled['label'] = list_name\n",
    "            \n",
    "            # Append the sampled DataFrame to the list\n",
    "            df_list.append(df_sampled)\n",
    "        else:\n",
    "            print(f\"File not found: {file_path}\")\n",
    "\n",
    "    # Concatenate all the DataFrames into a single DataFrame\n",
    "    combined_df = pd.concat(df_list, ignore_index=True)\n",
    "\n",
    "    # Shuffle the combined DataFrame\n",
    "    combined_df = combined_df.sample(frac=1, random_state=42).reset_index(drop=True)\n",
    "\n",
    "    # Assign the concatenated DataFrame to a global variable with the list name\n",
    "    globals()[list_name] = combined_df\n"
   ]
  },
  {
   "cell_type": "code",
   "execution_count": 58,
   "metadata": {},
   "outputs": [],
   "source": [
    "# Call the function and pass the list name as a string\n",
    "df_creations(Levantine_cities, 167, 'Levantine')\n",
    "df_creations(Egyptian_cities, 334, 'Egyptian')\n",
    "df_creations(Gulf_cities, 250, 'Gulf')\n",
    "df_creations(Maghrebi_cities, 334, 'Maghrebi')\n",
    "df_creations(Iraqi_ctities, 334, 'Iraqi')\n"
   ]
  },
  {
   "cell_type": "code",
   "execution_count": 59,
   "metadata": {},
   "outputs": [
    {
     "name": "stdout",
     "output_type": "stream",
     "text": [
      "   sentID.BTEC                          split lang  \\\n",
      "0         7671  corpus-6-test-corpus-26-train  MUS   \n",
      "1         2118                 corpus-6-train  RAB   \n",
      "2         9862  corpus-6-test-corpus-26-train  MOS   \n",
      "3        11549                 corpus-6-train  CAI   \n",
      "4        15073   corpus-6-test-corpus-26-test  ALG   \n",
      "\n",
      "                                                sent     label  \n",
      "0                        خذني إلى طريق ابي، من فضلك.      Gulf  \n",
      "1                     كا نتمنى هاد الرحلة دوز مزيان.  Maghrebi  \n",
      "2                   الطريق للنجاح هو \"جنمياكو، \" صح؟     Iraqi  \n",
      "3                             ممكن تتكلم بشويش شوبه؟  Egyptian  \n",
      "4  شحال سعر التوصيلة؟ تقدر تكتبلي سعر التوصيلة عل...  Maghrebi  \n",
      "label\n",
      "Maghrebi     1002\n",
      "Iraqi        1002\n",
      "Egyptian     1002\n",
      "Levantine    1002\n",
      "Gulf         1000\n",
      "Name: count, dtype: int64\n"
     ]
    }
   ],
   "source": [
    "# Concatenate all DataFrames into a single DataFrame\n",
    "all_regions_df = pd.concat([Levantine, Egyptian, Gulf,Maghrebi, Iraqi], ignore_index=True)\n",
    "# Shuffle the concatenated DataFrame\n",
    "all_regions_df = all_regions_df.sample(frac=1, random_state=42).reset_index(drop=True)\n",
    "\n",
    "# Display the first few rows of the final DataFrame\n",
    "print(all_regions_df.head())\n",
    "print(all_regions_df['label'].value_counts())  # Check the distribution by region\n"
   ]
  },
  {
   "cell_type": "code",
   "execution_count": 63,
   "metadata": {},
   "outputs": [],
   "source": [
    "all_regions_df.to_csv('Arabic_dialects.csv', index=False,encoding='utf-8-sig')"
   ]
  },
  {
   "cell_type": "code",
   "execution_count": 61,
   "metadata": {},
   "outputs": [
    {
     "name": "stdout",
     "output_type": "stream",
     "text": [
      "   sentID.BTEC                          split lang  \\\n",
      "0         6866    corpus-6-test-corpus-26-dev  JER   \n",
      "1         3859  corpus-6-test-corpus-26-train  AMM   \n",
      "2         1321  corpus-6-test-corpus-26-train  AMM   \n",
      "3         8551  corpus-6-test-corpus-26-train  JER   \n",
      "4        19507    corpus-6-test-corpus-26-dev  BEI   \n",
      "\n",
      "                                                sent      label  \n",
      "0  هدا بيجي مع صحن سلطة وانت بتنقي بطاطا مقلية أو...  Levantine  \n",
      "1                            شو نوع الخبز اللي عندك؟  Levantine  \n",
      "2  ممكن نحجزلك غرفة مريحة في قصر قديم قريب من ناد...  Levantine  \n",
      "3                                       قديش الورقة؟  Levantine  \n",
      "4                                    شو رأم الصندوء؟  Levantine  \n",
      "<class 'pandas.core.frame.DataFrame'>\n",
      "RangeIndex: 1002 entries, 0 to 1001\n",
      "Data columns (total 5 columns):\n",
      " #   Column       Non-Null Count  Dtype \n",
      "---  ------       --------------  ----- \n",
      " 0   sentID.BTEC  1002 non-null   int64 \n",
      " 1   split        1002 non-null   object\n",
      " 2   lang         1002 non-null   object\n",
      " 3   sent         1002 non-null   object\n",
      " 4   label        1002 non-null   object\n",
      "dtypes: int64(1), object(4)\n",
      "memory usage: 39.3+ KB\n"
     ]
    }
   ],
   "source": [
    "# Now, you can access the combined DataFrame using the name of the list\n",
    "print(Levantine.head())\n",
    "Levantine.info()"
   ]
  }
 ],
 "metadata": {
  "kernelspec": {
   "display_name": "Python 3",
   "language": "python",
   "name": "python3"
  },
  "language_info": {
   "codemirror_mode": {
    "name": "ipython",
    "version": 3
   },
   "file_extension": ".py",
   "mimetype": "text/x-python",
   "name": "python",
   "nbconvert_exporter": "python",
   "pygments_lexer": "ipython3",
   "version": "3.11.4"
  }
 },
 "nbformat": 4,
 "nbformat_minor": 2
}
