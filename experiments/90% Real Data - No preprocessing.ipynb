{
 "cells": [
  {
   "cell_type": "markdown",
   "id": "1a2c0a94",
   "metadata": {
    "papermill": {
     "duration": 0.011653,
     "end_time": "2024-11-16T10:40:10.581577",
     "exception": false,
     "start_time": "2024-11-16T10:40:10.569924",
     "status": "completed"
    },
    "tags": []
   },
   "source": [
    "# 7️⃣ 90% Real Data - No preprocessing"
   ]
  },
  {
   "cell_type": "markdown",
   "id": "e2a51b2c",
   "metadata": {
    "_cell_guid": "b1076dfc-b9ad-4769-8c92-a6c4dae69d19",
    "_uuid": "8f2839f25d086af736a60e9eeb907d3b93b6e0e5",
    "papermill": {
     "duration": 0.00987,
     "end_time": "2024-11-16T10:40:10.601969",
     "exception": false,
     "start_time": "2024-11-16T10:40:10.592099",
     "status": "completed"
    },
    "tags": []
   },
   "source": [
    "# Semi-Supervised Learning (Self-Training) reverse 🔀\n",
    "\n",
    "* Semi-Supervised Learning combines labeled and unlabeled examples\n",
    "* In self-Training, you could convert a Supervised Machine Learning algorithm to a semi-supervised one\n",
    "\n",
    "### **Steps** ✨\n",
    "1. Train supervised model using labeled data\n",
    "2. Make predictions on unlabeled data using the model from the previous step\n",
    "3. Take predictions satisfying probability threshold criteria and add them to the pseudo-labeled set\n",
    "4. combine the labeled and pseudo-labeled data and train the next verion of the model\n",
    "5. Make predictions on the remaining unlabeled data using this model of step 4\n",
    "6. Take predictions satisfying the probability threshold and add them to an existing pseudo-labeled set\n",
    "\n",
    "### **References:** 🔗\n",
    "* https://www.kaggle.com/code/sasakitetsuya/semi-supervised-classification-on-a-text-dataset \n",
    "* https://scikit-learn.ru/example/semi-supervised-classification-on-a-text-dataset/\n"
   ]
  },
  {
   "cell_type": "markdown",
   "id": "a2d185a7",
   "metadata": {
    "papermill": {
     "duration": 0.009917,
     "end_time": "2024-11-16T10:40:10.622210",
     "exception": false,
     "start_time": "2024-11-16T10:40:10.612293",
     "status": "completed"
    },
    "tags": []
   },
   "source": [
    "## Importing "
   ]
  },
  {
   "cell_type": "code",
   "execution_count": 1,
   "id": "92f1978c",
   "metadata": {
    "execution": {
     "iopub.execute_input": "2024-11-16T10:40:10.645104Z",
     "iopub.status.busy": "2024-11-16T10:40:10.644550Z",
     "iopub.status.idle": "2024-11-16T10:40:11.795798Z",
     "shell.execute_reply": "2024-11-16T10:40:11.794161Z"
    },
    "papermill": {
     "duration": 1.167149,
     "end_time": "2024-11-16T10:40:11.799500",
     "exception": false,
     "start_time": "2024-11-16T10:40:10.632351",
     "status": "completed"
    },
    "tags": []
   },
   "outputs": [
    {
     "name": "stdout",
     "output_type": "stream",
     "text": [
      "/kaggle/input/generated-data4o/generated_data_4o.csv\n",
      "/kaggle/input/arabic-real-data-dialects/Arabic_dialects.csv\n",
      "/kaggle/input/generated-data/generated_data.csv\n",
      "/kaggle/input/larger-dialects/Arabic_dialects_Larger.csv\n"
     ]
    }
   ],
   "source": [
    "import warnings\n",
    "warnings.filterwarnings(\"ignore\", category=FutureWarning)\n",
    "import numpy as np # linear algebra\n",
    "import pandas as pd # data processing, CSV file I/O (e.g. pd.read_csv)\n",
    "import matplotlib.pyplot as plt\n",
    "\n",
    "import os\n",
    "for dirname, _, filenames in os.walk('/kaggle/input'):\n",
    "    for filename in filenames:\n",
    "        print(os.path.join(dirname, filename))"
   ]
  },
  {
   "cell_type": "code",
   "execution_count": 2,
   "id": "2c21e788",
   "metadata": {
    "execution": {
     "iopub.execute_input": "2024-11-16T10:40:11.824297Z",
     "iopub.status.busy": "2024-11-16T10:40:11.823348Z",
     "iopub.status.idle": "2024-11-16T10:40:14.686680Z",
     "shell.execute_reply": "2024-11-16T10:40:14.684987Z"
    },
    "papermill": {
     "duration": 2.878512,
     "end_time": "2024-11-16T10:40:14.689735",
     "exception": false,
     "start_time": "2024-11-16T10:40:11.811223",
     "status": "completed"
    },
    "tags": []
   },
   "outputs": [],
   "source": [
    "from sklearn.feature_extraction.text import CountVectorizer\n",
    "from sklearn.feature_extraction.text import TfidfTransformer\n",
    "from sklearn.preprocessing import FunctionTransformer\n",
    "from sklearn.preprocessing import LabelEncoder\n",
    "from sklearn.calibration import CalibratedClassifierCV\n",
    "from sklearn.naive_bayes import MultinomialNB\n",
    "#==============================================different Linear classifiers\n",
    "from sklearn.linear_model import LogisticRegression, SGDClassifier, PassiveAggressiveClassifier, RidgeClassifier\n",
    "from sklearn.svm import LinearSVC\n",
    "#=====================================================\n",
    "from sklearn.model_selection import train_test_split\n",
    "from sklearn.pipeline import Pipeline\n",
    "from sklearn.semi_supervised import SelfTrainingClassifier\n",
    "from sklearn.semi_supervised import LabelSpreading\n",
    "from sklearn.metrics import f1_score\n",
    "from sklearn.metrics import classification_report\n",
    "\n",
    "import re\n",
    "import nltk\n",
    "from nltk.corpus import stopwords"
   ]
  },
  {
   "cell_type": "code",
   "execution_count": 3,
   "id": "48a27836",
   "metadata": {
    "execution": {
     "iopub.execute_input": "2024-11-16T10:40:14.713455Z",
     "iopub.status.busy": "2024-11-16T10:40:14.712214Z",
     "iopub.status.idle": "2024-11-16T10:40:14.784817Z",
     "shell.execute_reply": "2024-11-16T10:40:14.783516Z"
    },
    "papermill": {
     "duration": 0.087681,
     "end_time": "2024-11-16T10:40:14.788030",
     "exception": false,
     "start_time": "2024-11-16T10:40:14.700349",
     "status": "completed"
    },
    "tags": []
   },
   "outputs": [],
   "source": [
    "data1=pd.read_csv('/kaggle/input/generated-data/generated_data.csv')\n",
    "data2=pd.read_csv('/kaggle/input/generated-data4o/generated_data_4o.csv')\n",
    "# Combine the two datasets\n",
    "data_generated = pd.concat([data1, data2], ignore_index=True)"
   ]
  },
  {
   "cell_type": "code",
   "execution_count": 4,
   "id": "c84ce3b0",
   "metadata": {
    "execution": {
     "iopub.execute_input": "2024-11-16T10:40:14.811204Z",
     "iopub.status.busy": "2024-11-16T10:40:14.810708Z",
     "iopub.status.idle": "2024-11-16T10:40:14.841181Z",
     "shell.execute_reply": "2024-11-16T10:40:14.839925Z"
    },
    "papermill": {
     "duration": 0.045666,
     "end_time": "2024-11-16T10:40:14.844553",
     "exception": false,
     "start_time": "2024-11-16T10:40:14.798887",
     "status": "completed"
    },
    "tags": []
   },
   "outputs": [],
   "source": [
    "data_real = pd.read_csv('/kaggle/input/arabic-real-data-dialects/Arabic_dialects.csv')"
   ]
  },
  {
   "cell_type": "markdown",
   "id": "eb63810c",
   "metadata": {
    "papermill": {
     "duration": 0.010117,
     "end_time": "2024-11-16T10:40:14.865103",
     "exception": false,
     "start_time": "2024-11-16T10:40:14.854986",
     "status": "completed"
    },
    "tags": []
   },
   "source": [
    "## Data Preprocessing"
   ]
  },
  {
   "cell_type": "code",
   "execution_count": 5,
   "id": "004c4282",
   "metadata": {
    "execution": {
     "iopub.execute_input": "2024-11-16T10:40:14.887925Z",
     "iopub.status.busy": "2024-11-16T10:40:14.887486Z",
     "iopub.status.idle": "2024-11-16T10:40:14.910664Z",
     "shell.execute_reply": "2024-11-16T10:40:14.909469Z"
    },
    "papermill": {
     "duration": 0.037728,
     "end_time": "2024-11-16T10:40:14.913456",
     "exception": false,
     "start_time": "2024-11-16T10:40:14.875728",
     "status": "completed"
    },
    "tags": []
   },
   "outputs": [
    {
     "data": {
      "text/html": [
       "<div>\n",
       "<style scoped>\n",
       "    .dataframe tbody tr th:only-of-type {\n",
       "        vertical-align: middle;\n",
       "    }\n",
       "\n",
       "    .dataframe tbody tr th {\n",
       "        vertical-align: top;\n",
       "    }\n",
       "\n",
       "    .dataframe thead th {\n",
       "        text-align: right;\n",
       "    }\n",
       "</style>\n",
       "<table border=\"1\" class=\"dataframe\">\n",
       "  <thead>\n",
       "    <tr style=\"text-align: right;\">\n",
       "      <th></th>\n",
       "      <th>Unnamed: 0</th>\n",
       "      <th>Text</th>\n",
       "      <th>label</th>\n",
       "    </tr>\n",
       "  </thead>\n",
       "  <tbody>\n",
       "    <tr>\n",
       "      <th>0</th>\n",
       "      <td>0</td>\n",
       "      <td>شرب الشاي مع النعناع، في وقت الاسترخاء.</td>\n",
       "      <td>Levantine</td>\n",
       "    </tr>\n",
       "    <tr>\n",
       "      <th>1</th>\n",
       "      <td>1</td>\n",
       "      <td>أمك شلونها، تحسنت صحتها بعد العملية؟</td>\n",
       "      <td>Iraqi</td>\n",
       "    </tr>\n",
       "    <tr>\n",
       "      <th>2</th>\n",
       "      <td>2</td>\n",
       "      <td>ذهبت لزيارة الأخت، وأحببت الجلسة معها.</td>\n",
       "      <td>Gulf</td>\n",
       "    </tr>\n",
       "    <tr>\n",
       "      <th>3</th>\n",
       "      <td>3</td>\n",
       "      <td>سمعت إنه فيه فرقة جديدة عم تتكون، بدها جماهير ...</td>\n",
       "      <td>Levantine</td>\n",
       "    </tr>\n",
       "    <tr>\n",
       "      <th>4</th>\n",
       "      <td>4</td>\n",
       "      <td>خطر لي، هل فعلا نقدر نحب جميعًا؟</td>\n",
       "      <td>Iraqi</td>\n",
       "    </tr>\n",
       "  </tbody>\n",
       "</table>\n",
       "</div>"
      ],
      "text/plain": [
       "   Unnamed: 0                                               Text      label\n",
       "0           0          شرب الشاي مع النعناع، في وقت الاسترخاء.    Levantine\n",
       "1           1             أمك شلونها، تحسنت صحتها بعد العملية؟        Iraqi\n",
       "2           2           ذهبت لزيارة الأخت، وأحببت الجلسة معها.         Gulf\n",
       "3           3  سمعت إنه فيه فرقة جديدة عم تتكون، بدها جماهير ...  Levantine\n",
       "4           4                 خطر لي، هل فعلا نقدر نحب جميعًا؟        Iraqi"
      ]
     },
     "execution_count": 5,
     "metadata": {},
     "output_type": "execute_result"
    }
   ],
   "source": [
    "data_generated.head()"
   ]
  },
  {
   "cell_type": "code",
   "execution_count": 6,
   "id": "a157b9d0",
   "metadata": {
    "execution": {
     "iopub.execute_input": "2024-11-16T10:40:14.937648Z",
     "iopub.status.busy": "2024-11-16T10:40:14.936213Z",
     "iopub.status.idle": "2024-11-16T10:40:14.944694Z",
     "shell.execute_reply": "2024-11-16T10:40:14.943455Z"
    },
    "papermill": {
     "duration": 0.023152,
     "end_time": "2024-11-16T10:40:14.947304",
     "exception": false,
     "start_time": "2024-11-16T10:40:14.924152",
     "status": "completed"
    },
    "tags": []
   },
   "outputs": [
    {
     "data": {
      "text/plain": [
       "Index(['Unnamed: 0', 'Text', 'label'], dtype='object')"
      ]
     },
     "execution_count": 6,
     "metadata": {},
     "output_type": "execute_result"
    }
   ],
   "source": [
    "data_generated.columns"
   ]
  },
  {
   "cell_type": "code",
   "execution_count": 7,
   "id": "ec05dbe1",
   "metadata": {
    "execution": {
     "iopub.execute_input": "2024-11-16T10:40:14.970601Z",
     "iopub.status.busy": "2024-11-16T10:40:14.970135Z",
     "iopub.status.idle": "2024-11-16T10:40:14.982854Z",
     "shell.execute_reply": "2024-11-16T10:40:14.981551Z"
    },
    "papermill": {
     "duration": 0.027719,
     "end_time": "2024-11-16T10:40:14.985767",
     "exception": false,
     "start_time": "2024-11-16T10:40:14.958048",
     "status": "completed"
    },
    "tags": []
   },
   "outputs": [],
   "source": [
    "data_generated = data_generated.drop(['Unnamed: 0'], axis=1)"
   ]
  },
  {
   "cell_type": "code",
   "execution_count": 8,
   "id": "778b8d65",
   "metadata": {
    "execution": {
     "iopub.execute_input": "2024-11-16T10:40:15.011209Z",
     "iopub.status.busy": "2024-11-16T10:40:15.010730Z",
     "iopub.status.idle": "2024-11-16T10:40:15.018391Z",
     "shell.execute_reply": "2024-11-16T10:40:15.016969Z"
    },
    "papermill": {
     "duration": 0.024353,
     "end_time": "2024-11-16T10:40:15.021035",
     "exception": false,
     "start_time": "2024-11-16T10:40:14.996682",
     "status": "completed"
    },
    "tags": []
   },
   "outputs": [],
   "source": [
    "data_generated.rename(columns={'Text': 'sent'},inplace=True, errors='raise')"
   ]
  },
  {
   "cell_type": "code",
   "execution_count": 9,
   "id": "1a45071e",
   "metadata": {
    "execution": {
     "iopub.execute_input": "2024-11-16T10:40:15.045060Z",
     "iopub.status.busy": "2024-11-16T10:40:15.044630Z",
     "iopub.status.idle": "2024-11-16T10:40:15.058898Z",
     "shell.execute_reply": "2024-11-16T10:40:15.057459Z"
    },
    "papermill": {
     "duration": 0.029332,
     "end_time": "2024-11-16T10:40:15.061644",
     "exception": false,
     "start_time": "2024-11-16T10:40:15.032312",
     "status": "completed"
    },
    "tags": []
   },
   "outputs": [
    {
     "data": {
      "text/plain": [
       "array(['Levantine', 'Iraqi', 'Gulf', 'Egyptian', 'Maghrebi'], dtype=object)"
      ]
     },
     "execution_count": 9,
     "metadata": {},
     "output_type": "execute_result"
    }
   ],
   "source": [
    "data_generated['label'].unique()"
   ]
  },
  {
   "cell_type": "code",
   "execution_count": 10,
   "id": "96b55b97",
   "metadata": {
    "execution": {
     "iopub.execute_input": "2024-11-16T10:40:15.087103Z",
     "iopub.status.busy": "2024-11-16T10:40:15.086688Z",
     "iopub.status.idle": "2024-11-16T10:40:15.102338Z",
     "shell.execute_reply": "2024-11-16T10:40:15.101033Z"
    },
    "papermill": {
     "duration": 0.032487,
     "end_time": "2024-11-16T10:40:15.105355",
     "exception": false,
     "start_time": "2024-11-16T10:40:15.072868",
     "status": "completed"
    },
    "tags": []
   },
   "outputs": [],
   "source": [
    "label_counts_generated = data_generated['label'].value_counts()"
   ]
  },
  {
   "cell_type": "code",
   "execution_count": 11,
   "id": "52550042",
   "metadata": {
    "execution": {
     "iopub.execute_input": "2024-11-16T10:40:15.129602Z",
     "iopub.status.busy": "2024-11-16T10:40:15.129129Z",
     "iopub.status.idle": "2024-11-16T10:40:15.138986Z",
     "shell.execute_reply": "2024-11-16T10:40:15.137634Z"
    },
    "papermill": {
     "duration": 0.025089,
     "end_time": "2024-11-16T10:40:15.141756",
     "exception": false,
     "start_time": "2024-11-16T10:40:15.116667",
     "status": "completed"
    },
    "tags": []
   },
   "outputs": [
    {
     "data": {
      "text/plain": [
       "label\n",
       "Levantine    2500\n",
       "Iraqi        2500\n",
       "Gulf         2500\n",
       "Egyptian     2500\n",
       "Maghrebi     2500\n",
       "Name: count, dtype: int64"
      ]
     },
     "execution_count": 11,
     "metadata": {},
     "output_type": "execute_result"
    }
   ],
   "source": [
    "label_counts_generated"
   ]
  },
  {
   "cell_type": "code",
   "execution_count": 12,
   "id": "72e5cca4",
   "metadata": {
    "execution": {
     "iopub.execute_input": "2024-11-16T10:40:15.167179Z",
     "iopub.status.busy": "2024-11-16T10:40:15.166209Z",
     "iopub.status.idle": "2024-11-16T10:40:15.181981Z",
     "shell.execute_reply": "2024-11-16T10:40:15.180478Z"
    },
    "papermill": {
     "duration": 0.031574,
     "end_time": "2024-11-16T10:40:15.184796",
     "exception": false,
     "start_time": "2024-11-16T10:40:15.153222",
     "status": "completed"
    },
    "tags": []
   },
   "outputs": [
    {
     "data": {
      "text/html": [
       "<div>\n",
       "<style scoped>\n",
       "    .dataframe tbody tr th:only-of-type {\n",
       "        vertical-align: middle;\n",
       "    }\n",
       "\n",
       "    .dataframe tbody tr th {\n",
       "        vertical-align: top;\n",
       "    }\n",
       "\n",
       "    .dataframe thead th {\n",
       "        text-align: right;\n",
       "    }\n",
       "</style>\n",
       "<table border=\"1\" class=\"dataframe\">\n",
       "  <thead>\n",
       "    <tr style=\"text-align: right;\">\n",
       "      <th></th>\n",
       "      <th>sentID.BTEC</th>\n",
       "      <th>split</th>\n",
       "      <th>lang</th>\n",
       "      <th>sent</th>\n",
       "      <th>label</th>\n",
       "    </tr>\n",
       "  </thead>\n",
       "  <tbody>\n",
       "    <tr>\n",
       "      <th>0</th>\n",
       "      <td>7671</td>\n",
       "      <td>corpus-6-test-corpus-26-train</td>\n",
       "      <td>MUS</td>\n",
       "      <td>خذني إلى طريق ابي، من فضلك.</td>\n",
       "      <td>Gulf</td>\n",
       "    </tr>\n",
       "    <tr>\n",
       "      <th>1</th>\n",
       "      <td>2118</td>\n",
       "      <td>corpus-6-train</td>\n",
       "      <td>RAB</td>\n",
       "      <td>كا نتمنى هاد الرحلة دوز مزيان.</td>\n",
       "      <td>Maghrebi</td>\n",
       "    </tr>\n",
       "    <tr>\n",
       "      <th>2</th>\n",
       "      <td>9862</td>\n",
       "      <td>corpus-6-test-corpus-26-train</td>\n",
       "      <td>MOS</td>\n",
       "      <td>الطريق للنجاح هو \"جنمياكو، \" صح؟</td>\n",
       "      <td>Iraqi</td>\n",
       "    </tr>\n",
       "    <tr>\n",
       "      <th>3</th>\n",
       "      <td>11549</td>\n",
       "      <td>corpus-6-train</td>\n",
       "      <td>CAI</td>\n",
       "      <td>ممكن تتكلم بشويش شوبه؟</td>\n",
       "      <td>Egyptian</td>\n",
       "    </tr>\n",
       "    <tr>\n",
       "      <th>4</th>\n",
       "      <td>15073</td>\n",
       "      <td>corpus-6-test-corpus-26-test</td>\n",
       "      <td>ALG</td>\n",
       "      <td>شحال سعر التوصيلة؟ تقدر تكتبلي سعر التوصيلة عل...</td>\n",
       "      <td>Maghrebi</td>\n",
       "    </tr>\n",
       "  </tbody>\n",
       "</table>\n",
       "</div>"
      ],
      "text/plain": [
       "   sentID.BTEC                          split lang  \\\n",
       "0         7671  corpus-6-test-corpus-26-train  MUS   \n",
       "1         2118                 corpus-6-train  RAB   \n",
       "2         9862  corpus-6-test-corpus-26-train  MOS   \n",
       "3        11549                 corpus-6-train  CAI   \n",
       "4        15073   corpus-6-test-corpus-26-test  ALG   \n",
       "\n",
       "                                                sent     label  \n",
       "0                        خذني إلى طريق ابي، من فضلك.      Gulf  \n",
       "1                     كا نتمنى هاد الرحلة دوز مزيان.  Maghrebi  \n",
       "2                   الطريق للنجاح هو \"جنمياكو، \" صح؟     Iraqi  \n",
       "3                             ممكن تتكلم بشويش شوبه؟  Egyptian  \n",
       "4  شحال سعر التوصيلة؟ تقدر تكتبلي سعر التوصيلة عل...  Maghrebi  "
      ]
     },
     "execution_count": 12,
     "metadata": {},
     "output_type": "execute_result"
    }
   ],
   "source": [
    "data_real.head()"
   ]
  },
  {
   "cell_type": "code",
   "execution_count": 13,
   "id": "0f3c1727",
   "metadata": {
    "execution": {
     "iopub.execute_input": "2024-11-16T10:40:15.209571Z",
     "iopub.status.busy": "2024-11-16T10:40:15.209093Z",
     "iopub.status.idle": "2024-11-16T10:40:15.215968Z",
     "shell.execute_reply": "2024-11-16T10:40:15.214774Z"
    },
    "papermill": {
     "duration": 0.022451,
     "end_time": "2024-11-16T10:40:15.218683",
     "exception": false,
     "start_time": "2024-11-16T10:40:15.196232",
     "status": "completed"
    },
    "tags": []
   },
   "outputs": [],
   "source": [
    "data_real = data_real.drop(['sentID.BTEC', 'split', 'lang'], axis=1)"
   ]
  },
  {
   "cell_type": "code",
   "execution_count": 14,
   "id": "cca7e354",
   "metadata": {
    "execution": {
     "iopub.execute_input": "2024-11-16T10:40:15.244497Z",
     "iopub.status.busy": "2024-11-16T10:40:15.243524Z",
     "iopub.status.idle": "2024-11-16T10:40:15.256149Z",
     "shell.execute_reply": "2024-11-16T10:40:15.254870Z"
    },
    "papermill": {
     "duration": 0.028359,
     "end_time": "2024-11-16T10:40:15.258917",
     "exception": false,
     "start_time": "2024-11-16T10:40:15.230558",
     "status": "completed"
    },
    "tags": []
   },
   "outputs": [
    {
     "data": {
      "text/html": [
       "<div>\n",
       "<style scoped>\n",
       "    .dataframe tbody tr th:only-of-type {\n",
       "        vertical-align: middle;\n",
       "    }\n",
       "\n",
       "    .dataframe tbody tr th {\n",
       "        vertical-align: top;\n",
       "    }\n",
       "\n",
       "    .dataframe thead th {\n",
       "        text-align: right;\n",
       "    }\n",
       "</style>\n",
       "<table border=\"1\" class=\"dataframe\">\n",
       "  <thead>\n",
       "    <tr style=\"text-align: right;\">\n",
       "      <th></th>\n",
       "      <th>sent</th>\n",
       "      <th>label</th>\n",
       "    </tr>\n",
       "  </thead>\n",
       "  <tbody>\n",
       "    <tr>\n",
       "      <th>0</th>\n",
       "      <td>خذني إلى طريق ابي، من فضلك.</td>\n",
       "      <td>Gulf</td>\n",
       "    </tr>\n",
       "    <tr>\n",
       "      <th>1</th>\n",
       "      <td>كا نتمنى هاد الرحلة دوز مزيان.</td>\n",
       "      <td>Maghrebi</td>\n",
       "    </tr>\n",
       "    <tr>\n",
       "      <th>2</th>\n",
       "      <td>الطريق للنجاح هو \"جنمياكو، \" صح؟</td>\n",
       "      <td>Iraqi</td>\n",
       "    </tr>\n",
       "    <tr>\n",
       "      <th>3</th>\n",
       "      <td>ممكن تتكلم بشويش شوبه؟</td>\n",
       "      <td>Egyptian</td>\n",
       "    </tr>\n",
       "    <tr>\n",
       "      <th>4</th>\n",
       "      <td>شحال سعر التوصيلة؟ تقدر تكتبلي سعر التوصيلة عل...</td>\n",
       "      <td>Maghrebi</td>\n",
       "    </tr>\n",
       "  </tbody>\n",
       "</table>\n",
       "</div>"
      ],
      "text/plain": [
       "                                                sent     label\n",
       "0                        خذني إلى طريق ابي، من فضلك.      Gulf\n",
       "1                     كا نتمنى هاد الرحلة دوز مزيان.  Maghrebi\n",
       "2                   الطريق للنجاح هو \"جنمياكو، \" صح؟     Iraqi\n",
       "3                             ممكن تتكلم بشويش شوبه؟  Egyptian\n",
       "4  شحال سعر التوصيلة؟ تقدر تكتبلي سعر التوصيلة عل...  Maghrebi"
      ]
     },
     "execution_count": 14,
     "metadata": {},
     "output_type": "execute_result"
    }
   ],
   "source": [
    "data_real.head()"
   ]
  },
  {
   "cell_type": "code",
   "execution_count": 15,
   "id": "4a999544",
   "metadata": {
    "execution": {
     "iopub.execute_input": "2024-11-16T10:40:15.284389Z",
     "iopub.status.busy": "2024-11-16T10:40:15.283915Z",
     "iopub.status.idle": "2024-11-16T10:40:15.293023Z",
     "shell.execute_reply": "2024-11-16T10:40:15.291656Z"
    },
    "papermill": {
     "duration": 0.025528,
     "end_time": "2024-11-16T10:40:15.296077",
     "exception": false,
     "start_time": "2024-11-16T10:40:15.270549",
     "status": "completed"
    },
    "tags": []
   },
   "outputs": [
    {
     "data": {
      "text/plain": [
       "array(['Gulf', 'Maghrebi', 'Iraqi', 'Egyptian', 'Levantine'], dtype=object)"
      ]
     },
     "execution_count": 15,
     "metadata": {},
     "output_type": "execute_result"
    }
   ],
   "source": [
    "data_real['label'].unique()"
   ]
  },
  {
   "cell_type": "code",
   "execution_count": 16,
   "id": "7731162a",
   "metadata": {
    "execution": {
     "iopub.execute_input": "2024-11-16T10:40:15.322147Z",
     "iopub.status.busy": "2024-11-16T10:40:15.321210Z",
     "iopub.status.idle": "2024-11-16T10:40:15.328782Z",
     "shell.execute_reply": "2024-11-16T10:40:15.327456Z"
    },
    "papermill": {
     "duration": 0.023493,
     "end_time": "2024-11-16T10:40:15.331386",
     "exception": false,
     "start_time": "2024-11-16T10:40:15.307893",
     "status": "completed"
    },
    "tags": []
   },
   "outputs": [],
   "source": [
    "label_counts_real = data_real['label'].value_counts()"
   ]
  },
  {
   "cell_type": "code",
   "execution_count": 17,
   "id": "374d39fd",
   "metadata": {
    "execution": {
     "iopub.execute_input": "2024-11-16T10:40:15.356965Z",
     "iopub.status.busy": "2024-11-16T10:40:15.356517Z",
     "iopub.status.idle": "2024-11-16T10:40:15.365335Z",
     "shell.execute_reply": "2024-11-16T10:40:15.364153Z"
    },
    "papermill": {
     "duration": 0.024748,
     "end_time": "2024-11-16T10:40:15.368061",
     "exception": false,
     "start_time": "2024-11-16T10:40:15.343313",
     "status": "completed"
    },
    "tags": []
   },
   "outputs": [
    {
     "data": {
      "text/plain": [
       "label\n",
       "Maghrebi     1002\n",
       "Iraqi        1002\n",
       "Egyptian     1002\n",
       "Levantine    1002\n",
       "Gulf         1000\n",
       "Name: count, dtype: int64"
      ]
     },
     "execution_count": 17,
     "metadata": {},
     "output_type": "execute_result"
    }
   ],
   "source": [
    "label_counts_real"
   ]
  },
  {
   "cell_type": "markdown",
   "id": "84c1e18c",
   "metadata": {
    "papermill": {
     "duration": 0.012147,
     "end_time": "2024-11-16T10:40:15.392164",
     "exception": false,
     "start_time": "2024-11-16T10:40:15.380017",
     "status": "completed"
    },
    "tags": []
   },
   "source": [
    "## Modeling"
   ]
  },
  {
   "cell_type": "code",
   "execution_count": 18,
   "id": "054d2ffa",
   "metadata": {
    "execution": {
     "iopub.execute_input": "2024-11-16T10:40:15.418444Z",
     "iopub.status.busy": "2024-11-16T10:40:15.417975Z",
     "iopub.status.idle": "2024-11-16T10:40:15.426489Z",
     "shell.execute_reply": "2024-11-16T10:40:15.425029Z"
    },
    "papermill": {
     "duration": 0.024871,
     "end_time": "2024-11-16T10:40:15.429154",
     "exception": false,
     "start_time": "2024-11-16T10:40:15.404283",
     "status": "completed"
    },
    "tags": []
   },
   "outputs": [],
   "source": [
    "sdg_params = dict(alpha=1e-5, penalty='l2', loss='log')\n",
    "arabic_stop_words = [\n",
    "    \"و\", \"في\", \"على\", \"إلى\", \"عن\", \"من\", \"مع\", \"كان\", \"التي\", \"الذي\", \"هذا\",\n",
    "    \"هذه\", \"ذلك\", \"تلك\", \"كل\", \"كما\", \"قد\", \"لقد\", \"ليس\", \"هو\", \"هي\", \"هم\",\n",
    "    \"هن\", \"أنا\", \"نحن\", \"انت\", \"انتِ\", \"لكن\", \"ثم\", \"أو\", \"أيضا\", \"هناك\",\n",
    "    \"هنا\", \"قبل\", \"بعد\"\n",
    "]\n",
    "vectorizer_params = dict(\n",
    "    ngram_range=(1, 5),       # 1-5 grams\n",
    "    min_df=5,                 # Ignore terms that appear in fewer than 5 documents\n",
    "    max_df=0.8,               # Ignore terms that appear in more than 80% of documents\n",
    "    analyzer='word',          # Tokenizes at the word level (common for Arabic text)\n",
    "    stop_words=arabic_stop_words  # None by default, add Arabic stop words if needed\n",
    ")"
   ]
  },
  {
   "cell_type": "code",
   "execution_count": 19,
   "id": "d96b88f0",
   "metadata": {
    "execution": {
     "iopub.execute_input": "2024-11-16T10:40:15.454938Z",
     "iopub.status.busy": "2024-11-16T10:40:15.454431Z",
     "iopub.status.idle": "2024-11-16T10:40:15.466076Z",
     "shell.execute_reply": "2024-11-16T10:40:15.464822Z"
    },
    "papermill": {
     "duration": 0.027772,
     "end_time": "2024-11-16T10:40:15.468932",
     "exception": false,
     "start_time": "2024-11-16T10:40:15.441160",
     "status": "completed"
    },
    "tags": []
   },
   "outputs": [],
   "source": [
    "def pipeline_creation(type_of_supervision, i, count=False):\n",
    "    # Define the list of classifiers and their names\n",
    "    classifiers = [\n",
    "        SGDClassifier(alpha=1e-5, penalty='l2', loss='log_loss', max_iter=1000),\n",
    "        LogisticRegression(max_iter=1000, solver='lbfgs', multi_class='multinomial'),\n",
    "        CalibratedClassifierCV(LinearSVC(), method='isotonic'),\n",
    "        CalibratedClassifierCV(PassiveAggressiveClassifier(max_iter=1000, C=0.5), method='isotonic'),\n",
    "        MultinomialNB(alpha=0.5, fit_prior=True)\n",
    "    ]\n",
    "    \n",
    "    classifier_names = [\n",
    "        \"SGDClassifier\",\n",
    "        \"LogisticRegression\",\n",
    "        \"Calibrated LinearSVC\",\n",
    "        \"Calibrated PassiveAggressiveClassifier\",\n",
    "        \"MultinomialNB\"\n",
    "    ]\n",
    "    \n",
    "    if count:\n",
    "        return len(classifiers)\n",
    "    \n",
    "    # Select classifier based on type of supervision\n",
    "    elif type_of_supervision == \"supervised\":\n",
    "        pipeline = Pipeline([\n",
    "            ('vect', CountVectorizer(**vectorizer_params)),\n",
    "            ('tfidf', TfidfTransformer()),\n",
    "            ('clf', classifiers[i])\n",
    "        ])\n",
    "        return pipeline, classifier_names[i]\n",
    "    \n",
    "    else:  # self-supervised\n",
    "        st_pipeline = Pipeline([\n",
    "            ('vect', CountVectorizer(**vectorizer_params)),\n",
    "            ('tfidf', TfidfTransformer()),\n",
    "            ('clf', SelfTrainingClassifier(classifiers[i], verbose=True))\n",
    "        ])\n",
    "        return st_pipeline, f\"SelfTrainingClassifier with {classifier_names[i]}\"\n"
   ]
  },
  {
   "cell_type": "code",
   "execution_count": 20,
   "id": "4e4080c8",
   "metadata": {
    "execution": {
     "iopub.execute_input": "2024-11-16T10:40:15.495109Z",
     "iopub.status.busy": "2024-11-16T10:40:15.494657Z",
     "iopub.status.idle": "2024-11-16T10:40:15.502132Z",
     "shell.execute_reply": "2024-11-16T10:40:15.501003Z"
    },
    "papermill": {
     "duration": 0.023688,
     "end_time": "2024-11-16T10:40:15.504598",
     "exception": false,
     "start_time": "2024-11-16T10:40:15.480910",
     "status": "completed"
    },
    "tags": []
   },
   "outputs": [],
   "source": [
    "def eval_and_print_metrics(clf, X_train, y_train, X_test, y_test):\n",
    "    print(\"Number of training samples:\", len(X_train))\n",
    "    print(\"Unlabeled samples in training set:\",\n",
    "          sum(1 for x in y_train if x == -1))\n",
    "    clf.fit(X_train, y_train)\n",
    "    y_pred = clf.predict(X_test)\n",
    "    print(\"Micro-averaged F1 score on test set: \"\n",
    "          \"%0.3f\" % f1_score(y_test, y_pred, average='micro'))\n",
    "    print(\"-\" * 10)\n",
    "    print()"
   ]
  },
  {
   "cell_type": "code",
   "execution_count": 21,
   "id": "81039261",
   "metadata": {
    "execution": {
     "iopub.execute_input": "2024-11-16T10:40:15.530092Z",
     "iopub.status.busy": "2024-11-16T10:40:15.529677Z",
     "iopub.status.idle": "2024-11-16T10:40:15.589419Z",
     "shell.execute_reply": "2024-11-16T10:40:15.588016Z"
    },
    "papermill": {
     "duration": 0.07585,
     "end_time": "2024-11-16T10:40:15.592206",
     "exception": false,
     "start_time": "2024-11-16T10:40:15.516356",
     "status": "completed"
    },
    "tags": []
   },
   "outputs": [
    {
     "name": "stdout",
     "output_type": "stream",
     "text": [
      "Training set size: (4006, 2)\n",
      "Test set size: (1002, 2)\n"
     ]
    }
   ],
   "source": [
    "from sklearn.model_selection import train_test_split\n",
    "import pandas as pd\n",
    "\n",
    "# Assuming data_real and data_generated are the dataframes with 'sent' and 'label' columns\n",
    "\n",
    "# Set the ratio of real to generated data in the training set\n",
    "real_ratio = 0.9  # Example: real_ratio% real and 100%-real_ratio% generated in the training set\n",
    "\n",
    "# Step 1: Split the real data into train and test (all test data will come from real data)\n",
    "data_real_train, data_real_test = train_test_split(data_real, test_size=0.2, stratify=data_real['label'], random_state=42)\n",
    "\n",
    "# Step 2: Calculate the number of real and generated samples for the training set\n",
    "num_real_train = int(real_ratio * len(data_real_train))  # Number of samples to take from real data for training\n",
    "num_generated_train = len(data_real_train) - num_real_train  # Remaining samples to take from generated data\n",
    "\n",
    "# Step 3: Subsample the training data from real and generated data according to the specified ratio\n",
    "data_real_train_subsample, _ = train_test_split(data_real_train, train_size=num_real_train, stratify=data_real_train['label'], random_state=42)\n",
    "data_generated_train_subsample, _ = train_test_split(data_generated, train_size=num_generated_train, stratify=data_generated['label'], random_state=42)\n",
    "\n",
    "# Step 4: Concatenate the real and generated subsamples to create the final training set\n",
    "train_data = pd.concat([data_real_train_subsample, data_generated_train_subsample]).sample(frac=1, random_state=42).reset_index(drop=True)\n",
    "\n",
    "# Step 5: Use `data_real_test` as the test set (all real data)\n",
    "\n",
    "# Now, train_data contains the specified ratio of real to generated data, and data_real_test is the test set with only real data\n",
    "print(f\"Training set size: {train_data.shape}\")\n",
    "print(f\"Test set size: {data_real_test.shape}\")\n"
   ]
  },
  {
   "cell_type": "code",
   "execution_count": 22,
   "id": "a912062f",
   "metadata": {
    "execution": {
     "iopub.execute_input": "2024-11-16T10:40:15.618234Z",
     "iopub.status.busy": "2024-11-16T10:40:15.617824Z",
     "iopub.status.idle": "2024-11-16T10:40:25.071865Z",
     "shell.execute_reply": "2024-11-16T10:40:25.070324Z"
    },
    "papermill": {
     "duration": 9.470713,
     "end_time": "2024-11-16T10:40:25.075142",
     "exception": false,
     "start_time": "2024-11-16T10:40:15.604429",
     "status": "completed"
    },
    "tags": []
   },
   "outputs": [
    {
     "name": "stdout",
     "output_type": "stream",
     "text": [
      "****************************************************************************************************\n",
      "Supervised training on 100% of the data using SGDClassifier:\n",
      "Number of training samples: 4006\n",
      "Unlabeled samples in training set: 0\n",
      "Micro-averaged F1 score on test set: 0.657\n",
      "----------\n",
      "\n",
      "              precision    recall  f1-score   support\n",
      "\n",
      "    Egyptian       0.70      0.70      0.70       201\n",
      "        Gulf       0.56      0.47      0.51       200\n",
      "       Iraqi       0.71      0.65      0.68       200\n",
      "   Levantine       0.66      0.67      0.67       201\n",
      "    Maghrebi       0.64      0.80      0.71       200\n",
      "\n",
      "    accuracy                           0.66      1002\n",
      "   macro avg       0.66      0.66      0.65      1002\n",
      "weighted avg       0.66      0.66      0.65      1002\n",
      "\n",
      "Supervised training on 20% of the training data using SGDClassifier:\n",
      "Number of training samples: 792\n",
      "Unlabeled samples in training set: 0\n",
      "Micro-averaged F1 score on test set: 0.482\n",
      "----------\n",
      "\n",
      "              precision    recall  f1-score   support\n",
      "\n",
      "    Egyptian       0.59      0.42      0.49       201\n",
      "        Gulf       0.38      0.23      0.29       200\n",
      "       Iraqi       0.34      0.75      0.47       200\n",
      "   Levantine       0.61      0.45      0.52       201\n",
      "    Maghrebi       0.76      0.56      0.64       200\n",
      "\n",
      "    accuracy                           0.48      1002\n",
      "   macro avg       0.54      0.48      0.48      1002\n",
      "weighted avg       0.54      0.48      0.48      1002\n",
      "\n",
      "SelfTrainingClassifier with SGDClassifier on 20% labeled training data (rest unlabeled):\n",
      "Number of training samples: 4006\n",
      "Unlabeled samples in training set: 3214\n",
      "End of iteration 1, added 1814 new labels.\n",
      "End of iteration 2, added 310 new labels.\n",
      "End of iteration 3, added 93 new labels.\n",
      "End of iteration 4, added 54 new labels.\n",
      "End of iteration 5, added 16 new labels.\n",
      "End of iteration 6, added 32 new labels.\n",
      "End of iteration 7, added 11 new labels.\n",
      "End of iteration 8, added 10 new labels.\n",
      "End of iteration 9, added 9 new labels.\n",
      "End of iteration 10, added 14 new labels.\n",
      "Micro-averaged F1 score on test set: 0.596\n",
      "----------\n",
      "\n",
      "              precision    recall  f1-score   support\n",
      "\n",
      "    Egyptian       0.65      0.61      0.63       201\n",
      "        Gulf       0.49      0.45      0.46       200\n",
      "       Iraqi       0.53      0.63      0.58       200\n",
      "   Levantine       0.58      0.60      0.59       201\n",
      "    Maghrebi       0.76      0.69      0.72       200\n",
      "\n",
      "    accuracy                           0.60      1002\n",
      "   macro avg       0.60      0.60      0.60      1002\n",
      "weighted avg       0.60      0.60      0.60      1002\n",
      "\n",
      "****************************************************************************************************\n",
      "Supervised training on 100% of the data using LogisticRegression:\n",
      "Number of training samples: 4006\n",
      "Unlabeled samples in training set: 0\n",
      "Micro-averaged F1 score on test set: 0.668\n",
      "----------\n",
      "\n",
      "              precision    recall  f1-score   support\n",
      "\n",
      "    Egyptian       0.71      0.72      0.71       201\n",
      "        Gulf       0.47      0.61      0.53       200\n",
      "       Iraqi       0.74      0.62      0.68       200\n",
      "   Levantine       0.67      0.66      0.66       201\n",
      "    Maghrebi       0.84      0.73      0.78       200\n",
      "\n",
      "    accuracy                           0.67      1002\n",
      "   macro avg       0.69      0.67      0.67      1002\n",
      "weighted avg       0.69      0.67      0.67      1002\n",
      "\n",
      "Supervised training on 20% of the training data using LogisticRegression:\n",
      "Number of training samples: 827\n",
      "Unlabeled samples in training set: 0\n",
      "Micro-averaged F1 score on test set: 0.475\n",
      "----------\n",
      "\n",
      "              precision    recall  f1-score   support\n",
      "\n",
      "    Egyptian       0.56      0.53      0.54       201\n",
      "        Gulf       0.39      0.27      0.32       200\n",
      "       Iraqi       0.62      0.28      0.39       200\n",
      "   Levantine       0.32      0.69      0.44       201\n",
      "    Maghrebi       0.82      0.60      0.69       200\n",
      "\n",
      "    accuracy                           0.48      1002\n",
      "   macro avg       0.54      0.47      0.48      1002\n",
      "weighted avg       0.54      0.48      0.48      1002\n",
      "\n",
      "SelfTrainingClassifier with LogisticRegression on 20% labeled training data (rest unlabeled):\n",
      "Number of training samples: 4006\n",
      "Unlabeled samples in training set: 3179\n",
      "End of iteration 1, added 63 new labels.\n",
      "End of iteration 2, added 34 new labels.\n",
      "End of iteration 3, added 17 new labels.\n",
      "End of iteration 4, added 3 new labels.\n",
      "End of iteration 5, added 1 new labels.\n",
      "End of iteration 6, added 1 new labels.\n",
      "End of iteration 7, added 1 new labels.\n",
      "End of iteration 8, added 1 new labels.\n",
      "End of iteration 9, added 1 new labels.\n",
      "Micro-averaged F1 score on test set: 0.562\n",
      "----------\n",
      "\n",
      "              precision    recall  f1-score   support\n",
      "\n",
      "    Egyptian       0.54      0.64      0.58       201\n",
      "        Gulf       0.43      0.33      0.37       200\n",
      "       Iraqi       0.74      0.55      0.63       200\n",
      "   Levantine       0.43      0.62      0.51       201\n",
      "    Maghrebi       0.80      0.68      0.73       200\n",
      "\n",
      "    accuracy                           0.56      1002\n",
      "   macro avg       0.59      0.56      0.56      1002\n",
      "weighted avg       0.59      0.56      0.56      1002\n",
      "\n",
      "****************************************************************************************************\n",
      "Supervised training on 100% of the data using Calibrated LinearSVC:\n",
      "Number of training samples: 4006\n",
      "Unlabeled samples in training set: 0\n",
      "Micro-averaged F1 score on test set: 0.674\n",
      "----------\n",
      "\n",
      "              precision    recall  f1-score   support\n",
      "\n",
      "    Egyptian       0.72      0.71      0.71       201\n",
      "        Gulf       0.53      0.55      0.54       200\n",
      "       Iraqi       0.72      0.65      0.68       200\n",
      "   Levantine       0.73      0.66      0.69       201\n",
      "    Maghrebi       0.68      0.81      0.74       200\n",
      "\n",
      "    accuracy                           0.67      1002\n",
      "   macro avg       0.68      0.67      0.67      1002\n",
      "weighted avg       0.68      0.67      0.67      1002\n",
      "\n",
      "Supervised training on 20% of the training data using Calibrated LinearSVC:\n",
      "Number of training samples: 766\n",
      "Unlabeled samples in training set: 0\n",
      "Micro-averaged F1 score on test set: 0.471\n",
      "----------\n",
      "\n",
      "              precision    recall  f1-score   support\n",
      "\n",
      "    Egyptian       0.67      0.39      0.49       201\n",
      "        Gulf       0.26      0.60      0.36       200\n",
      "       Iraqi       0.60      0.38      0.46       200\n",
      "   Levantine       0.55      0.41      0.47       201\n",
      "    Maghrebi       0.81      0.58      0.68       200\n",
      "\n",
      "    accuracy                           0.47      1002\n",
      "   macro avg       0.58      0.47      0.49      1002\n",
      "weighted avg       0.58      0.47      0.49      1002\n",
      "\n",
      "SelfTrainingClassifier with Calibrated LinearSVC on 20% labeled training data (rest unlabeled):\n",
      "Number of training samples: 4006\n",
      "Unlabeled samples in training set: 3240\n",
      "End of iteration 1, added 471 new labels.\n",
      "End of iteration 2, added 285 new labels.\n",
      "End of iteration 3, added 225 new labels.\n",
      "End of iteration 4, added 176 new labels.\n",
      "End of iteration 5, added 127 new labels.\n",
      "End of iteration 6, added 121 new labels.\n",
      "End of iteration 7, added 111 new labels.\n",
      "End of iteration 8, added 104 new labels.\n",
      "End of iteration 9, added 78 new labels.\n",
      "End of iteration 10, added 80 new labels.\n",
      "Micro-averaged F1 score on test set: 0.569\n",
      "----------\n",
      "\n",
      "              precision    recall  f1-score   support\n",
      "\n",
      "    Egyptian       0.57      0.60      0.59       201\n",
      "        Gulf       0.41      0.32      0.36       200\n",
      "       Iraqi       0.70      0.57      0.63       200\n",
      "   Levantine       0.55      0.53      0.54       201\n",
      "    Maghrebi       0.59      0.82      0.69       200\n",
      "\n",
      "    accuracy                           0.57      1002\n",
      "   macro avg       0.56      0.57      0.56      1002\n",
      "weighted avg       0.56      0.57      0.56      1002\n",
      "\n",
      "****************************************************************************************************\n",
      "Supervised training on 100% of the data using Calibrated PassiveAggressiveClassifier:\n",
      "Number of training samples: 4006\n",
      "Unlabeled samples in training set: 0\n",
      "Micro-averaged F1 score on test set: 0.645\n",
      "----------\n",
      "\n",
      "              precision    recall  f1-score   support\n",
      "\n",
      "    Egyptian       0.68      0.66      0.67       201\n",
      "        Gulf       0.52      0.51      0.52       200\n",
      "       Iraqi       0.70      0.63      0.66       200\n",
      "   Levantine       0.68      0.64      0.66       201\n",
      "    Maghrebi       0.64      0.79      0.71       200\n",
      "\n",
      "    accuracy                           0.64      1002\n",
      "   macro avg       0.65      0.64      0.64      1002\n",
      "weighted avg       0.65      0.64      0.64      1002\n",
      "\n",
      "Supervised training on 20% of the training data using Calibrated PassiveAggressiveClassifier:\n",
      "Number of training samples: 802\n",
      "Unlabeled samples in training set: 0\n",
      "Micro-averaged F1 score on test set: 0.474\n",
      "----------\n",
      "\n",
      "              precision    recall  f1-score   support\n",
      "\n",
      "    Egyptian       0.80      0.36      0.49       201\n",
      "        Gulf       0.38      0.33      0.35       200\n",
      "       Iraqi       0.33      0.69      0.45       200\n",
      "   Levantine       0.49      0.38      0.43       201\n",
      "    Maghrebi       0.74      0.60      0.67       200\n",
      "\n",
      "    accuracy                           0.47      1002\n",
      "   macro avg       0.55      0.47      0.48      1002\n",
      "weighted avg       0.55      0.47      0.48      1002\n",
      "\n",
      "SelfTrainingClassifier with Calibrated PassiveAggressiveClassifier on 20% labeled training data (rest unlabeled):\n",
      "Number of training samples: 4006\n",
      "Unlabeled samples in training set: 3204\n",
      "End of iteration 1, added 378 new labels.\n",
      "End of iteration 2, added 358 new labels.\n",
      "End of iteration 3, added 286 new labels.\n",
      "End of iteration 4, added 245 new labels.\n",
      "End of iteration 5, added 207 new labels.\n",
      "End of iteration 6, added 141 new labels.\n",
      "End of iteration 7, added 110 new labels.\n",
      "End of iteration 8, added 82 new labels.\n",
      "End of iteration 9, added 75 new labels.\n",
      "End of iteration 10, added 63 new labels.\n",
      "Micro-averaged F1 score on test set: 0.554\n",
      "----------\n",
      "\n",
      "              precision    recall  f1-score   support\n",
      "\n",
      "    Egyptian       0.66      0.55      0.60       201\n",
      "        Gulf       0.40      0.43      0.42       200\n",
      "       Iraqi       0.47      0.61      0.53       200\n",
      "   Levantine       0.58      0.47      0.52       201\n",
      "    Maghrebi       0.73      0.70      0.71       200\n",
      "\n",
      "    accuracy                           0.55      1002\n",
      "   macro avg       0.57      0.55      0.56      1002\n",
      "weighted avg       0.57      0.55      0.56      1002\n",
      "\n",
      "****************************************************************************************************\n",
      "Supervised training on 100% of the data using MultinomialNB:\n",
      "Number of training samples: 4006\n",
      "Unlabeled samples in training set: 0\n",
      "Micro-averaged F1 score on test set: 0.640\n",
      "----------\n",
      "\n",
      "              precision    recall  f1-score   support\n",
      "\n",
      "    Egyptian       0.70      0.70      0.70       201\n",
      "        Gulf       0.52      0.48      0.50       200\n",
      "       Iraqi       0.56      0.64      0.60       200\n",
      "   Levantine       0.63      0.65      0.64       201\n",
      "    Maghrebi       0.78      0.73      0.76       200\n",
      "\n",
      "    accuracy                           0.64      1002\n",
      "   macro avg       0.64      0.64      0.64      1002\n",
      "weighted avg       0.64      0.64      0.64      1002\n",
      "\n",
      "Supervised training on 20% of the training data using MultinomialNB:\n",
      "Number of training samples: 780\n",
      "Unlabeled samples in training set: 0\n",
      "Micro-averaged F1 score on test set: 0.454\n",
      "----------\n",
      "\n",
      "              precision    recall  f1-score   support\n",
      "\n",
      "    Egyptian       0.62      0.50      0.55       201\n",
      "        Gulf       0.41      0.20      0.27       200\n",
      "       Iraqi       0.55      0.33      0.41       200\n",
      "   Levantine       0.30      0.68      0.42       201\n",
      "    Maghrebi       0.68      0.56      0.62       200\n",
      "\n",
      "    accuracy                           0.45      1002\n",
      "   macro avg       0.51      0.45      0.45      1002\n",
      "weighted avg       0.51      0.45      0.45      1002\n",
      "\n",
      "SelfTrainingClassifier with MultinomialNB on 20% labeled training data (rest unlabeled):\n",
      "Number of training samples: 4006\n",
      "Unlabeled samples in training set: 3226\n",
      "End of iteration 1, added 130 new labels.\n",
      "End of iteration 2, added 169 new labels.\n",
      "End of iteration 3, added 135 new labels.\n",
      "End of iteration 4, added 82 new labels.\n",
      "End of iteration 5, added 27 new labels.\n",
      "End of iteration 6, added 14 new labels.\n",
      "End of iteration 7, added 5 new labels.\n",
      "End of iteration 8, added 3 new labels.\n",
      "Micro-averaged F1 score on test set: 0.529\n",
      "----------\n",
      "\n",
      "              precision    recall  f1-score   support\n",
      "\n",
      "    Egyptian       0.52      0.62      0.56       201\n",
      "        Gulf       0.56      0.15      0.24       200\n",
      "       Iraqi       0.69      0.52      0.59       200\n",
      "   Levantine       0.57      0.49      0.53       201\n",
      "    Maghrebi       0.45      0.86      0.59       200\n",
      "\n",
      "    accuracy                           0.53      1002\n",
      "   macro avg       0.56      0.53      0.50      1002\n",
      "weighted avg       0.56      0.53      0.50      1002\n",
      "\n"
     ]
    }
   ],
   "source": [
    "# Main code to iterate over classifiers and display results\n",
    "if __name__ == \"__main__\":\n",
    "    results = []\n",
    "#     # Encode labels to handle text labels properly in sklearn classifiers\n",
    "#     label_encoder = LabelEncoder()\n",
    "#     y_encoded = label_encoder.fit_transform(data.label)  # Fit on full set of labels\n",
    "\n",
    "#     X = data.sent\n",
    "#     y = y_encoded\n",
    "#     X_train, X_test, y_train, y_test = train_test_split(X, y, stratify=y, random_state=42)\n",
    "\n",
    "    # Step 1: Encode labels\n",
    "    label_encoder = LabelEncoder()\n",
    "\n",
    "    # Apply label encoding to the combined labels in both train and test sets\n",
    "    train_data['label'] = label_encoder.fit_transform(train_data['label'])\n",
    "    data_real_test['label'] = label_encoder.transform(data_real_test['label'])  # Transform using the same encoder\n",
    "\n",
    "    # Step 2: Define features (X) and labels (y) for train and test sets\n",
    "    X_train = train_data['sent']\n",
    "    y_train = train_data['label']\n",
    "    X_test = data_real_test['sent']\n",
    "    y_test = data_real_test['label']\n",
    "    \n",
    "    # Iterate over each classifier in the pipeline\n",
    "    for i in range(pipeline_creation(0, 0, True)):\n",
    "\n",
    "        print(100 * \"*\")\n",
    "        \n",
    "        # Supervised pipeline\n",
    "        pipeline, classifier_name = pipeline_creation(\"supervised\", i)\n",
    "        print(f\"Supervised training on 100% of the data using {classifier_name}:\")\n",
    "        eval_and_print_metrics(pipeline, X_train, y_train, X_test, y_test)\n",
    "        \n",
    "        # Decode labels to show original values in the classification report\n",
    "        y_test_decoded = label_encoder.inverse_transform(y_test)\n",
    "        y_pred = pipeline.predict(X_test)\n",
    "        y_pred_decoded = label_encoder.inverse_transform(y_pred)\n",
    "        report = classification_report(y_test_decoded, y_pred_decoded, output_dict=True)\n",
    "        print(classification_report(y_test_decoded, y_pred_decoded))\n",
    "        \n",
    "        # Save results for Supervised 100%\n",
    "        results.append({\n",
    "            'Classifier': classifier_name,\n",
    "            'Setting': 'Supervised 100%',\n",
    "            'Accuracy': report['accuracy'],\n",
    "            'F1-Score': report['macro avg']['f1-score']\n",
    "        })\n",
    "\n",
    "        # 20% labeled data setup\n",
    "        y_mask = np.random.rand(len(y_train)) < 0.2  # Random mask for 20% of the data\n",
    "        X_20, y_20 = map(list, zip(*((x, y) for x, y, m in zip(X_train, y_train, y_mask) if m)))\n",
    "        print(f\"Supervised training on 20% of the training data using {classifier_name}:\")\n",
    "        eval_and_print_metrics(pipeline, X_20, y_20, X_test, y_test)\n",
    "\n",
    "        # Decode labels for partial training classification report\n",
    "        y_pred_partial = pipeline.predict(X_test)\n",
    "        y_pred_partial_decoded = label_encoder.inverse_transform(y_pred_partial)\n",
    "        report_partial = classification_report(y_test_decoded, y_pred_partial_decoded, output_dict=True)\n",
    "        print(classification_report(y_test_decoded, y_pred_partial_decoded))\n",
    "\n",
    "        # Save results for Supervised 20%\n",
    "        results.append({\n",
    "            'Classifier': classifier_name,\n",
    "            'Setting': 'Supervised 20%',\n",
    "            'Accuracy': report_partial['accuracy'],\n",
    "            'F1-Score': report_partial['macro avg']['f1-score']\n",
    "        })\n",
    "\n",
    "        # Semi-supervised pipeline with self-training\n",
    "        st_pipeline, st_classifier_name = pipeline_creation(\"semi-supervised\", i)\n",
    "        y_train_semi = np.copy(y_train)  # Copy to modify labels for self-training\n",
    "        y_train_semi[~y_mask] = -1  # Unlabel the non-masked subset\n",
    "\n",
    "        print(f\"{st_classifier_name} on 20% labeled training data (rest unlabeled):\")\n",
    "        eval_and_print_metrics(st_pipeline, X_train, y_train_semi, X_test, y_test)\n",
    "\n",
    "        # Decode labels for semi-supervised classification report\n",
    "        y_pred_semi = st_pipeline.predict(X_test)\n",
    "        y_pred_semi_decoded = label_encoder.inverse_transform(y_pred_semi)\n",
    "        report_semi = classification_report(y_test_decoded, y_pred_semi_decoded, output_dict=True)\n",
    "        print(classification_report(y_test_decoded, y_pred_semi_decoded))\n",
    "\n",
    "        # Save results for Self-Training\n",
    "        results.append({\n",
    "            'Classifier': classifier_name,\n",
    "            'Setting': 'Self-Training',\n",
    "            'Accuracy': report_semi['accuracy'],\n",
    "            'F1-Score': report_semi['macro avg']['f1-score']\n",
    "        })\n"
   ]
  },
  {
   "cell_type": "code",
   "execution_count": 23,
   "id": "22003b0a",
   "metadata": {
    "execution": {
     "iopub.execute_input": "2024-11-16T10:40:25.108102Z",
     "iopub.status.busy": "2024-11-16T10:40:25.107639Z",
     "iopub.status.idle": "2024-11-16T10:40:26.038017Z",
     "shell.execute_reply": "2024-11-16T10:40:26.036101Z"
    },
    "papermill": {
     "duration": 0.95127,
     "end_time": "2024-11-16T10:40:26.042183",
     "exception": false,
     "start_time": "2024-11-16T10:40:25.090913",
     "status": "completed"
    },
    "tags": []
   },
   "outputs": [
    {
     "data": {
      "image/png": "[encoded data removed]",
      "text/plain": [
       "<Figure size 1200x1000 with 2 Axes>"
      ]
     },
     "metadata": {},
     "output_type": "display_data"
    }
   ],
   "source": [
    "\n",
    "# Plotting\n",
    "results_df = pd.DataFrame.from_dict(results)\n",
    "fig, axes = plt.subplots(2, 1, figsize=(12, 10))\n",
    "\n",
    "# Accuracy plot\n",
    "accuracy_df = results_df.pivot(index=\"Classifier\", columns=\"Setting\", values=\"Accuracy\")\n",
    "accuracy_df.plot(kind=\"bar\", ax=axes[0], color=[\"#4daf4a\", \"#377eb8\", \"#e41a1c\"])\n",
    "axes[0].set_title(\"Accuracy Comparison by Classifier and Setting\")\n",
    "axes[0].set_ylabel(\"Accuracy\")\n",
    "axes[0].set_xlabel(\"Classifier\")\n",
    "axes[0].legend(title=\"Setting\", loc=\"center left\", bbox_to_anchor=(1.0, 0.5))\n",
    "axes[0].tick_params(axis='x', rotation=45)\n",
    "\n",
    "# F1-Score plot\n",
    "f1_df = results_df.pivot(index=\"Classifier\", columns=\"Setting\", values=\"F1-Score\")\n",
    "f1_df.plot(kind=\"bar\", ax=axes[1], color=[\"#4daf4a\", \"#377eb8\", \"#e41a1c\"])\n",
    "axes[1].set_title(\"F1-Score Comparison by Classifier and Setting\")\n",
    "axes[1].set_ylabel(\"F1-Score\")\n",
    "axes[1].set_xlabel(\"Classifier\")\n",
    "axes[1].legend(title=\"Setting\", loc=\"center left\", bbox_to_anchor=(1.0, 0.5))\n",
    "axes[1].tick_params(axis='x', rotation=45)\n",
    "\n",
    "# Adjust layout\n",
    "plt.tight_layout()\n",
    "plt.show()\n"
   ]
  },
  {
   "cell_type": "code",
   "execution_count": 24,
   "id": "916ecab5",
   "metadata": {
    "execution": {
     "iopub.execute_input": "2024-11-16T10:40:26.081929Z",
     "iopub.status.busy": "2024-11-16T10:40:26.081483Z",
     "iopub.status.idle": "2024-11-16T10:40:26.102299Z",
     "shell.execute_reply": "2024-11-16T10:40:26.100853Z"
    },
    "papermill": {
     "duration": 0.042808,
     "end_time": "2024-11-16T10:40:26.105052",
     "exception": false,
     "start_time": "2024-11-16T10:40:26.062244",
     "status": "completed"
    },
    "tags": []
   },
   "outputs": [
    {
     "name": "stdout",
     "output_type": "stream",
     "text": [
      "Comparison of Classifier Performance by Setting\n"
     ]
    },
    {
     "data": {
      "text/html": [
       "<div>\n",
       "<style scoped>\n",
       "    .dataframe tbody tr th:only-of-type {\n",
       "        vertical-align: middle;\n",
       "    }\n",
       "\n",
       "    .dataframe tbody tr th {\n",
       "        vertical-align: top;\n",
       "    }\n",
       "\n",
       "    .dataframe thead tr th {\n",
       "        text-align: left;\n",
       "    }\n",
       "\n",
       "    .dataframe thead tr:last-of-type th {\n",
       "        text-align: right;\n",
       "    }\n",
       "</style>\n",
       "<table border=\"1\" class=\"dataframe\">\n",
       "  <thead>\n",
       "    <tr>\n",
       "      <th></th>\n",
       "      <th colspan=\"3\" halign=\"left\">Accuracy</th>\n",
       "    </tr>\n",
       "    <tr>\n",
       "      <th>Setting</th>\n",
       "      <th>Self-Training</th>\n",
       "      <th>Supervised 100%</th>\n",
       "      <th>Supervised 20%</th>\n",
       "    </tr>\n",
       "    <tr>\n",
       "      <th>Classifier</th>\n",
       "      <th></th>\n",
       "      <th></th>\n",
       "      <th></th>\n",
       "    </tr>\n",
       "  </thead>\n",
       "  <tbody>\n",
       "    <tr>\n",
       "      <th>Calibrated LinearSVC</th>\n",
       "      <td>0.568862</td>\n",
       "      <td>0.673653</td>\n",
       "      <td>0.471058</td>\n",
       "    </tr>\n",
       "    <tr>\n",
       "      <th>Calibrated PassiveAggressiveClassifier</th>\n",
       "      <td>0.553892</td>\n",
       "      <td>0.644711</td>\n",
       "      <td>0.474052</td>\n",
       "    </tr>\n",
       "    <tr>\n",
       "      <th>LogisticRegression</th>\n",
       "      <td>0.561876</td>\n",
       "      <td>0.667665</td>\n",
       "      <td>0.475050</td>\n",
       "    </tr>\n",
       "    <tr>\n",
       "      <th>MultinomialNB</th>\n",
       "      <td>0.528942</td>\n",
       "      <td>0.639721</td>\n",
       "      <td>0.454092</td>\n",
       "    </tr>\n",
       "    <tr>\n",
       "      <th>SGDClassifier</th>\n",
       "      <td>0.595808</td>\n",
       "      <td>0.656687</td>\n",
       "      <td>0.482036</td>\n",
       "    </tr>\n",
       "  </tbody>\n",
       "</table>\n",
       "</div>"
      ],
      "text/plain": [
       "                                            Accuracy                  \\\n",
       "Setting                                Self-Training Supervised 100%   \n",
       "Classifier                                                             \n",
       "Calibrated LinearSVC                        0.568862        0.673653   \n",
       "Calibrated PassiveAggressiveClassifier      0.553892        0.644711   \n",
       "LogisticRegression                          0.561876        0.667665   \n",
       "MultinomialNB                               0.528942        0.639721   \n",
       "SGDClassifier                               0.595808        0.656687   \n",
       "\n",
       "                                                       \n",
       "Setting                                Supervised 20%  \n",
       "Classifier                                             \n",
       "Calibrated LinearSVC                         0.471058  \n",
       "Calibrated PassiveAggressiveClassifier       0.474052  \n",
       "LogisticRegression                           0.475050  \n",
       "MultinomialNB                                0.454092  \n",
       "SGDClassifier                                0.482036  "
      ]
     },
     "execution_count": 24,
     "metadata": {},
     "output_type": "execute_result"
    }
   ],
   "source": [
    "# Pivot the DataFrame to reorganize for comparison\n",
    "comparison_df = results_df.pivot(index=\"Classifier\", columns=\"Setting\", values=[\"Accuracy\"])\n",
    "\n",
    "# Display the formatted table\n",
    "print(\"Comparison of Classifier Performance by Setting\")\n",
    "comparison_df"
   ]
  },
  {
   "cell_type": "code",
   "execution_count": 25,
   "id": "d33d0bf7",
   "metadata": {
    "execution": {
     "iopub.execute_input": "2024-11-16T10:40:26.145252Z",
     "iopub.status.busy": "2024-11-16T10:40:26.144771Z",
     "iopub.status.idle": "2024-11-16T10:40:26.171463Z",
     "shell.execute_reply": "2024-11-16T10:40:26.170278Z"
    },
    "papermill": {
     "duration": 0.052392,
     "end_time": "2024-11-16T10:40:26.175497",
     "exception": false,
     "start_time": "2024-11-16T10:40:26.123105",
     "status": "completed"
    },
    "tags": []
   },
   "outputs": [
    {
     "name": "stdout",
     "output_type": "stream",
     "text": [
      "Comparison of Classifier Performance by Setting\n"
     ]
    },
    {
     "data": {
      "text/html": [
       "<div>\n",
       "<style scoped>\n",
       "    .dataframe tbody tr th:only-of-type {\n",
       "        vertical-align: middle;\n",
       "    }\n",
       "\n",
       "    .dataframe tbody tr th {\n",
       "        vertical-align: top;\n",
       "    }\n",
       "\n",
       "    .dataframe thead tr th {\n",
       "        text-align: left;\n",
       "    }\n",
       "\n",
       "    .dataframe thead tr:last-of-type th {\n",
       "        text-align: right;\n",
       "    }\n",
       "</style>\n",
       "<table border=\"1\" class=\"dataframe\">\n",
       "  <thead>\n",
       "    <tr>\n",
       "      <th></th>\n",
       "      <th colspan=\"3\" halign=\"left\">F1-Score</th>\n",
       "    </tr>\n",
       "    <tr>\n",
       "      <th>Setting</th>\n",
       "      <th>Self-Training</th>\n",
       "      <th>Supervised 100%</th>\n",
       "      <th>Supervised 20%</th>\n",
       "    </tr>\n",
       "    <tr>\n",
       "      <th>Classifier</th>\n",
       "      <th></th>\n",
       "      <th></th>\n",
       "      <th></th>\n",
       "    </tr>\n",
       "  </thead>\n",
       "  <tbody>\n",
       "    <tr>\n",
       "      <th>Calibrated LinearSVC</th>\n",
       "      <td>0.560543</td>\n",
       "      <td>0.673063</td>\n",
       "      <td>0.492188</td>\n",
       "    </tr>\n",
       "    <tr>\n",
       "      <th>Calibrated PassiveAggressiveClassifier</th>\n",
       "      <td>0.556233</td>\n",
       "      <td>0.643269</td>\n",
       "      <td>0.478716</td>\n",
       "    </tr>\n",
       "    <tr>\n",
       "      <th>LogisticRegression</th>\n",
       "      <td>0.563995</td>\n",
       "      <td>0.673207</td>\n",
       "      <td>0.476267</td>\n",
       "    </tr>\n",
       "    <tr>\n",
       "      <th>MultinomialNB</th>\n",
       "      <td>0.503488</td>\n",
       "      <td>0.639784</td>\n",
       "      <td>0.452137</td>\n",
       "    </tr>\n",
       "    <tr>\n",
       "      <th>SGDClassifier</th>\n",
       "      <td>0.596309</td>\n",
       "      <td>0.653294</td>\n",
       "      <td>0.481408</td>\n",
       "    </tr>\n",
       "  </tbody>\n",
       "</table>\n",
       "</div>"
      ],
      "text/plain": [
       "                                            F1-Score                  \\\n",
       "Setting                                Self-Training Supervised 100%   \n",
       "Classifier                                                             \n",
       "Calibrated LinearSVC                        0.560543        0.673063   \n",
       "Calibrated PassiveAggressiveClassifier      0.556233        0.643269   \n",
       "LogisticRegression                          0.563995        0.673207   \n",
       "MultinomialNB                               0.503488        0.639784   \n",
       "SGDClassifier                               0.596309        0.653294   \n",
       "\n",
       "                                                       \n",
       "Setting                                Supervised 20%  \n",
       "Classifier                                             \n",
       "Calibrated LinearSVC                         0.492188  \n",
       "Calibrated PassiveAggressiveClassifier       0.478716  \n",
       "LogisticRegression                           0.476267  \n",
       "MultinomialNB                                0.452137  \n",
       "SGDClassifier                                0.481408  "
      ]
     },
     "execution_count": 25,
     "metadata": {},
     "output_type": "execute_result"
    }
   ],
   "source": [
    "# Pivot the DataFrame to reorganize for comparison\n",
    "comparison_df = results_df.pivot(index=\"Classifier\", columns=\"Setting\", values=[\"F1-Score\"])\n",
    "\n",
    "# Display the formatted table\n",
    "print(\"Comparison of Classifier Performance by Setting\")\n",
    "comparison_df"
   ]
  }
 ],
 "metadata": {
  "kaggle": {
   "accelerator": "none",
   "dataSources": [
    {
     "datasetId": 6068996,
     "sourceId": 9883544,
     "sourceType": "datasetVersion"
    },
    {
     "datasetId": 6071343,
     "sourceId": 9886592,
     "sourceType": "datasetVersion"
    },
    {
     "datasetId": 6077150,
     "sourceId": 9894375,
     "sourceType": "datasetVersion"
    },
    {
     "datasetId": 6098689,
     "sourceId": 9922906,
     "sourceType": "datasetVersion"
    }
   ],
   "dockerImageVersionId": 30786,
   "isGpuEnabled": false,
   "isInternetEnabled": true,
   "language": "python",
   "sourceType": "notebook"
  },
  "kernelspec": {
   "display_name": "Python 3",
   "language": "python",
   "name": "python3"
  },
  "language_info": {
   "codemirror_mode": {
    "name": "ipython",
    "version": 3
   },
   "file_extension": ".py",
   "mimetype": "text/x-python",
   "name": "python",
   "nbconvert_exporter": "python",
   "pygments_lexer": "ipython3",
   "version": "3.10.14"
  },
  "papermill": {
   "default_parameters": {},
   "duration": 19.701579,
   "end_time": "2024-11-16T10:40:26.927208",
   "environment_variables": {},
   "exception": null,
   "input_path": "__notebook__.ipynb",
   "output_path": "__notebook__.ipynb",
   "parameters": {},
   "start_time": "2024-11-16T10:40:07.225629",
   "version": "2.6.0"
  }
 },
 "nbformat": 4,
 "nbformat_minor": 5
}
