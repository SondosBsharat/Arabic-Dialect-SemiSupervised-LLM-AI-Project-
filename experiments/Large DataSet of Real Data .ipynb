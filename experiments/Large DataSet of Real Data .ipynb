{
 "cells": [
  {
   "cell_type": "markdown",
   "id": "bd1ca6d3",
   "metadata": {
    "papermill": {
     "duration": 0.008741,
     "end_time": "2024-11-16T10:09:50.952075",
     "exception": false,
     "start_time": "2024-11-16T10:09:50.943334",
     "status": "completed"
    },
    "tags": []
   },
   "source": [
    "# 1️⃣ Large DataSet of Real Data - No preprocessing \n",
    "- Data size is 10k\n",
    "- Real data from MADAR dataset randomly sampled\n",
    "- No preprocessing because seems to decrease accruacy and F1-score"
   ]
  },
  {
   "cell_type": "markdown",
   "id": "a61dc77e",
   "metadata": {
    "_cell_guid": "b1076dfc-b9ad-4769-8c92-a6c4dae69d19",
    "_uuid": "8f2839f25d086af736a60e9eeb907d3b93b6e0e5",
    "papermill": {
     "duration": 0.007243,
     "end_time": "2024-11-16T10:09:50.967592",
     "exception": false,
     "start_time": "2024-11-16T10:09:50.960349",
     "status": "completed"
    },
    "tags": []
   },
   "source": [
    "# Semi-Supervised Learning (Self-Training) reverse 🔀\n",
    "\n",
    "* Semi-Supervised Learning combines labeled and unlabeled examples\n",
    "* In self-Training, you could convert a Supervised Machine Learning algorithm to a semi-supervised one\n",
    "\n",
    "### **Steps** ✨\n",
    "1. Train supervised model using labeled data\n",
    "2. Make predictions on unlabeled data using the model from the previous step\n",
    "3. Take predictions satisfying probability threshold criteria and add them to the pseudo-labeled set\n",
    "4. combine the labeled and pseudo-labeled data and train the next verion of the model\n",
    "5. Make predictions on the remaining unlabeled data using this model of step 4\n",
    "6. Take predictions satisfying the probability threshold and add them to an existing pseudo-labeled set\n",
    "\n",
    "### **References:** 🔗\n",
    "* https://www.kaggle.com/code/sasakitetsuya/semi-supervised-classification-on-a-text-dataset \n",
    "* https://scikit-learn.ru/example/semi-supervised-classification-on-a-text-dataset/\n"
   ]
  },
  {
   "cell_type": "markdown",
   "id": "88ed4d17",
   "metadata": {
    "papermill": {
     "duration": 0.007285,
     "end_time": "2024-11-16T10:09:50.982387",
     "exception": false,
     "start_time": "2024-11-16T10:09:50.975102",
     "status": "completed"
    },
    "tags": []
   },
   "source": [
    "## Importing "
   ]
  },
  {
   "cell_type": "code",
   "execution_count": 1,
   "id": "53e99b5f",
   "metadata": {
    "execution": {
     "iopub.execute_input": "2024-11-16T10:09:51.000093Z",
     "iopub.status.busy": "2024-11-16T10:09:50.999652Z",
     "iopub.status.idle": "2024-11-16T10:09:51.963675Z",
     "shell.execute_reply": "2024-11-16T10:09:51.962518Z"
    },
    "papermill": {
     "duration": 0.976398,
     "end_time": "2024-11-16T10:09:51.966421",
     "exception": false,
     "start_time": "2024-11-16T10:09:50.990023",
     "status": "completed"
    },
    "tags": []
   },
   "outputs": [
    {
     "name": "stdout",
     "output_type": "stream",
     "text": [
      "/kaggle/input/larger-dialects/Arabic_dialects_Larger.csv\n",
      "/kaggle/input/arabic-real-data-dialects/Arabic_dialects.csv\n"
     ]
    }
   ],
   "source": [
    "import warnings\n",
    "warnings.filterwarnings(\"ignore\", category=FutureWarning)\n",
    "import numpy as np # linear algebra\n",
    "import pandas as pd # data processing, CSV file I/O (e.g. pd.read_csv)\n",
    "import matplotlib.pyplot as plt\n",
    "\n",
    "import os\n",
    "for dirname, _, filenames in os.walk('/kaggle/input'):\n",
    "    for filename in filenames:\n",
    "        print(os.path.join(dirname, filename))"
   ]
  },
  {
   "cell_type": "code",
   "execution_count": 2,
   "id": "08459145",
   "metadata": {
    "execution": {
     "iopub.execute_input": "2024-11-16T10:09:51.983747Z",
     "iopub.status.busy": "2024-11-16T10:09:51.983204Z",
     "iopub.status.idle": "2024-11-16T10:09:54.319347Z",
     "shell.execute_reply": "2024-11-16T10:09:54.318328Z"
    },
    "papermill": {
     "duration": 2.348002,
     "end_time": "2024-11-16T10:09:54.322066",
     "exception": false,
     "start_time": "2024-11-16T10:09:51.974064",
     "status": "completed"
    },
    "tags": []
   },
   "outputs": [],
   "source": [
    "from sklearn.feature_extraction.text import CountVectorizer\n",
    "from sklearn.feature_extraction.text import TfidfTransformer\n",
    "from sklearn.preprocessing import FunctionTransformer\n",
    "from sklearn.preprocessing import LabelEncoder\n",
    "from sklearn.calibration import CalibratedClassifierCV\n",
    "from sklearn.naive_bayes import MultinomialNB\n",
    "#==============================================different Linear classifiers\n",
    "from sklearn.linear_model import LogisticRegression, SGDClassifier, PassiveAggressiveClassifier, RidgeClassifier\n",
    "from sklearn.svm import LinearSVC\n",
    "#=====================================================\n",
    "from sklearn.model_selection import train_test_split\n",
    "from sklearn.pipeline import Pipeline\n",
    "from sklearn.semi_supervised import SelfTrainingClassifier\n",
    "from sklearn.semi_supervised import LabelSpreading\n",
    "from sklearn.metrics import f1_score\n",
    "from sklearn.metrics import classification_report\n",
    "\n",
    "import re\n",
    "import nltk\n",
    "from nltk.corpus import stopwords"
   ]
  },
  {
   "cell_type": "code",
   "execution_count": 3,
   "id": "4da1afa9",
   "metadata": {
    "execution": {
     "iopub.execute_input": "2024-11-16T10:09:54.339361Z",
     "iopub.status.busy": "2024-11-16T10:09:54.338788Z",
     "iopub.status.idle": "2024-11-16T10:09:54.404272Z",
     "shell.execute_reply": "2024-11-16T10:09:54.403044Z"
    },
    "papermill": {
     "duration": 0.077205,
     "end_time": "2024-11-16T10:09:54.407024",
     "exception": false,
     "start_time": "2024-11-16T10:09:54.329819",
     "status": "completed"
    },
    "tags": []
   },
   "outputs": [],
   "source": [
    "data=pd.read_csv('/kaggle/input/larger-dialects/Arabic_dialects_Larger.csv')"
   ]
  },
  {
   "cell_type": "markdown",
   "id": "507d6645",
   "metadata": {
    "papermill": {
     "duration": 0.007279,
     "end_time": "2024-11-16T10:09:54.422946",
     "exception": false,
     "start_time": "2024-11-16T10:09:54.415667",
     "status": "completed"
    },
    "tags": []
   },
   "source": [
    "## Data Preprocessing"
   ]
  },
  {
   "cell_type": "code",
   "execution_count": 4,
   "id": "e9b92631",
   "metadata": {
    "execution": {
     "iopub.execute_input": "2024-11-16T10:09:54.439920Z",
     "iopub.status.busy": "2024-11-16T10:09:54.439465Z",
     "iopub.status.idle": "2024-11-16T10:09:54.463985Z",
     "shell.execute_reply": "2024-11-16T10:09:54.462816Z"
    },
    "papermill": {
     "duration": 0.036028,
     "end_time": "2024-11-16T10:09:54.466529",
     "exception": false,
     "start_time": "2024-11-16T10:09:54.430501",
     "status": "completed"
    },
    "tags": []
   },
   "outputs": [
    {
     "data": {
      "text/html": [
       "<div>\n",
       "<style scoped>\n",
       "    .dataframe tbody tr th:only-of-type {\n",
       "        vertical-align: middle;\n",
       "    }\n",
       "\n",
       "    .dataframe tbody tr th {\n",
       "        vertical-align: top;\n",
       "    }\n",
       "\n",
       "    .dataframe thead th {\n",
       "        text-align: right;\n",
       "    }\n",
       "</style>\n",
       "<table border=\"1\" class=\"dataframe\">\n",
       "  <thead>\n",
       "    <tr style=\"text-align: right;\">\n",
       "      <th></th>\n",
       "      <th>sentID.BTEC</th>\n",
       "      <th>split</th>\n",
       "      <th>lang</th>\n",
       "      <th>sent</th>\n",
       "      <th>label</th>\n",
       "    </tr>\n",
       "  </thead>\n",
       "  <tbody>\n",
       "    <tr>\n",
       "      <th>0</th>\n",
       "      <td>2100</td>\n",
       "      <td>corpus-6-test-corpus-26-test</td>\n",
       "      <td>BAS</td>\n",
       "      <td>باك محفظتي وشرد.</td>\n",
       "      <td>Iraqi</td>\n",
       "    </tr>\n",
       "    <tr>\n",
       "      <th>1</th>\n",
       "      <td>10182</td>\n",
       "      <td>corpus-6-test-corpus-26-train</td>\n",
       "      <td>JED</td>\n",
       "      <td>منظر حلو. دي ممرات مشاة حلوة.</td>\n",
       "      <td>Gulf</td>\n",
       "    </tr>\n",
       "    <tr>\n",
       "      <th>2</th>\n",
       "      <td>16292</td>\n",
       "      <td>corpus-6-test-corpus-26-test</td>\n",
       "      <td>ALG</td>\n",
       "      <td>تقدر تديني لكانترباري و ترجعني؟</td>\n",
       "      <td>Maghrebi</td>\n",
       "    </tr>\n",
       "    <tr>\n",
       "      <th>3</th>\n",
       "      <td>412</td>\n",
       "      <td>corpus-6-train</td>\n",
       "      <td>DOH</td>\n",
       "      <td>هذي هدية. ممكن تغلفها؟</td>\n",
       "      <td>Gulf</td>\n",
       "    </tr>\n",
       "    <tr>\n",
       "      <th>4</th>\n",
       "      <td>9431</td>\n",
       "      <td>corpus-6-test-corpus-26-train</td>\n",
       "      <td>MUS</td>\n",
       "      <td>اهني واحده لك سيدي.</td>\n",
       "      <td>Gulf</td>\n",
       "    </tr>\n",
       "  </tbody>\n",
       "</table>\n",
       "</div>"
      ],
      "text/plain": [
       "   sentID.BTEC                          split lang  \\\n",
       "0         2100   corpus-6-test-corpus-26-test  BAS   \n",
       "1        10182  corpus-6-test-corpus-26-train  JED   \n",
       "2        16292   corpus-6-test-corpus-26-test  ALG   \n",
       "3          412                 corpus-6-train  DOH   \n",
       "4         9431  corpus-6-test-corpus-26-train  MUS   \n",
       "\n",
       "                              sent     label  \n",
       "0                 باك محفظتي وشرد.     Iraqi  \n",
       "1    منظر حلو. دي ممرات مشاة حلوة.      Gulf  \n",
       "2  تقدر تديني لكانترباري و ترجعني؟  Maghrebi  \n",
       "3           هذي هدية. ممكن تغلفها؟      Gulf  \n",
       "4              اهني واحده لك سيدي.      Gulf  "
      ]
     },
     "execution_count": 4,
     "metadata": {},
     "output_type": "execute_result"
    }
   ],
   "source": [
    "data.head()"
   ]
  },
  {
   "cell_type": "code",
   "execution_count": 5,
   "id": "19d280c0",
   "metadata": {
    "execution": {
     "iopub.execute_input": "2024-11-16T10:09:54.484504Z",
     "iopub.status.busy": "2024-11-16T10:09:54.484048Z",
     "iopub.status.idle": "2024-11-16T10:09:54.497111Z",
     "shell.execute_reply": "2024-11-16T10:09:54.495665Z"
    },
    "papermill": {
     "duration": 0.02522,
     "end_time": "2024-11-16T10:09:54.499782",
     "exception": false,
     "start_time": "2024-11-16T10:09:54.474562",
     "status": "completed"
    },
    "tags": []
   },
   "outputs": [
    {
     "data": {
      "text/plain": [
       "array(['corpus-6-test-corpus-26-test', 'corpus-6-test-corpus-26-train',\n",
       "       'corpus-6-train', 'corpus-6-test-corpus-26-dev', 'corpus-6-dev'],\n",
       "      dtype=object)"
      ]
     },
     "execution_count": 5,
     "metadata": {},
     "output_type": "execute_result"
    }
   ],
   "source": [
    "data.split.unique()"
   ]
  },
  {
   "cell_type": "code",
   "execution_count": 6,
   "id": "ae217cd5",
   "metadata": {
    "execution": {
     "iopub.execute_input": "2024-11-16T10:09:54.517937Z",
     "iopub.status.busy": "2024-11-16T10:09:54.517491Z",
     "iopub.status.idle": "2024-11-16T10:09:54.525054Z",
     "shell.execute_reply": "2024-11-16T10:09:54.523932Z"
    },
    "papermill": {
     "duration": 0.019731,
     "end_time": "2024-11-16T10:09:54.527711",
     "exception": false,
     "start_time": "2024-11-16T10:09:54.507980",
     "status": "completed"
    },
    "tags": []
   },
   "outputs": [
    {
     "data": {
      "text/plain": [
       "Index(['sentID.BTEC', 'split', 'lang', 'sent', 'label'], dtype='object')"
      ]
     },
     "execution_count": 6,
     "metadata": {},
     "output_type": "execute_result"
    }
   ],
   "source": [
    "data.columns"
   ]
  },
  {
   "cell_type": "code",
   "execution_count": 7,
   "id": "c5ab69e1",
   "metadata": {
    "execution": {
     "iopub.execute_input": "2024-11-16T10:09:54.546523Z",
     "iopub.status.busy": "2024-11-16T10:09:54.546060Z",
     "iopub.status.idle": "2024-11-16T10:09:54.566893Z",
     "shell.execute_reply": "2024-11-16T10:09:54.565633Z"
    },
    "papermill": {
     "duration": 0.033412,
     "end_time": "2024-11-16T10:09:54.569510",
     "exception": false,
     "start_time": "2024-11-16T10:09:54.536098",
     "status": "completed"
    },
    "tags": []
   },
   "outputs": [
    {
     "data": {
      "text/html": [
       "<div>\n",
       "<style scoped>\n",
       "    .dataframe tbody tr th:only-of-type {\n",
       "        vertical-align: middle;\n",
       "    }\n",
       "\n",
       "    .dataframe tbody tr th {\n",
       "        vertical-align: top;\n",
       "    }\n",
       "\n",
       "    .dataframe thead th {\n",
       "        text-align: right;\n",
       "    }\n",
       "</style>\n",
       "<table border=\"1\" class=\"dataframe\">\n",
       "  <thead>\n",
       "    <tr style=\"text-align: right;\">\n",
       "      <th></th>\n",
       "      <th>sent</th>\n",
       "      <th>label</th>\n",
       "    </tr>\n",
       "  </thead>\n",
       "  <tbody>\n",
       "    <tr>\n",
       "      <th>0</th>\n",
       "      <td>باك محفظتي وشرد.</td>\n",
       "      <td>Iraqi</td>\n",
       "    </tr>\n",
       "    <tr>\n",
       "      <th>1</th>\n",
       "      <td>منظر حلو. دي ممرات مشاة حلوة.</td>\n",
       "      <td>Gulf</td>\n",
       "    </tr>\n",
       "    <tr>\n",
       "      <th>2</th>\n",
       "      <td>تقدر تديني لكانترباري و ترجعني؟</td>\n",
       "      <td>Maghrebi</td>\n",
       "    </tr>\n",
       "    <tr>\n",
       "      <th>3</th>\n",
       "      <td>هذي هدية. ممكن تغلفها؟</td>\n",
       "      <td>Gulf</td>\n",
       "    </tr>\n",
       "    <tr>\n",
       "      <th>4</th>\n",
       "      <td>اهني واحده لك سيدي.</td>\n",
       "      <td>Gulf</td>\n",
       "    </tr>\n",
       "    <tr>\n",
       "      <th>...</th>\n",
       "      <td>...</td>\n",
       "      <td>...</td>\n",
       "    </tr>\n",
       "    <tr>\n",
       "      <th>10002</th>\n",
       "      <td>أبا بطارية.</td>\n",
       "      <td>Gulf</td>\n",
       "    </tr>\n",
       "    <tr>\n",
       "      <th>10003</th>\n",
       "      <td>باقي شكلها اخضر.</td>\n",
       "      <td>Gulf</td>\n",
       "    </tr>\n",
       "    <tr>\n",
       "      <th>10004</th>\n",
       "      <td>أبا امسحه.</td>\n",
       "      <td>Gulf</td>\n",
       "    </tr>\n",
       "    <tr>\n",
       "      <th>10005</th>\n",
       "      <td>هو جنب غرفة الامانات.</td>\n",
       "      <td>Levantine</td>\n",
       "    </tr>\n",
       "    <tr>\n",
       "      <th>10006</th>\n",
       "      <td>وخا تنقص لييا من لكمام؟</td>\n",
       "      <td>Maghrebi</td>\n",
       "    </tr>\n",
       "  </tbody>\n",
       "</table>\n",
       "<p>10007 rows × 2 columns</p>\n",
       "</div>"
      ],
      "text/plain": [
       "                                  sent      label\n",
       "0                     باك محفظتي وشرد.      Iraqi\n",
       "1        منظر حلو. دي ممرات مشاة حلوة.       Gulf\n",
       "2      تقدر تديني لكانترباري و ترجعني؟   Maghrebi\n",
       "3               هذي هدية. ممكن تغلفها؟       Gulf\n",
       "4                  اهني واحده لك سيدي.       Gulf\n",
       "...                                ...        ...\n",
       "10002                      أبا بطارية.       Gulf\n",
       "10003                 باقي شكلها اخضر.       Gulf\n",
       "10004                       أبا امسحه.       Gulf\n",
       "10005            هو جنب غرفة الامانات.  Levantine\n",
       "10006          وخا تنقص لييا من لكمام؟   Maghrebi\n",
       "\n",
       "[10007 rows x 2 columns]"
      ]
     },
     "execution_count": 7,
     "metadata": {},
     "output_type": "execute_result"
    }
   ],
   "source": [
    "data.drop(['sentID.BTEC', 'split', 'lang'], axis=1)"
   ]
  },
  {
   "cell_type": "code",
   "execution_count": 8,
   "id": "1a068ece",
   "metadata": {
    "execution": {
     "iopub.execute_input": "2024-11-16T10:09:54.588650Z",
     "iopub.status.busy": "2024-11-16T10:09:54.588174Z",
     "iopub.status.idle": "2024-11-16T10:09:54.599500Z",
     "shell.execute_reply": "2024-11-16T10:09:54.598218Z"
    },
    "papermill": {
     "duration": 0.023728,
     "end_time": "2024-11-16T10:09:54.601945",
     "exception": false,
     "start_time": "2024-11-16T10:09:54.578217",
     "status": "completed"
    },
    "tags": []
   },
   "outputs": [],
   "source": [
    "label_counts = data['label'].value_counts()"
   ]
  },
  {
   "cell_type": "code",
   "execution_count": 9,
   "id": "5e36ba7a",
   "metadata": {
    "execution": {
     "iopub.execute_input": "2024-11-16T10:09:54.621646Z",
     "iopub.status.busy": "2024-11-16T10:09:54.621166Z",
     "iopub.status.idle": "2024-11-16T10:09:54.629271Z",
     "shell.execute_reply": "2024-11-16T10:09:54.628236Z"
    },
    "papermill": {
     "duration": 0.020503,
     "end_time": "2024-11-16T10:09:54.631824",
     "exception": false,
     "start_time": "2024-11-16T10:09:54.611321",
     "status": "completed"
    },
    "tags": []
   },
   "outputs": [
    {
     "data": {
      "text/plain": [
       "label\n",
       "Levantine    2004\n",
       "Iraqi        2001\n",
       "Maghrebi     2001\n",
       "Egyptian     2001\n",
       "Gulf         2000\n",
       "Name: count, dtype: int64"
      ]
     },
     "execution_count": 9,
     "metadata": {},
     "output_type": "execute_result"
    }
   ],
   "source": [
    "label_counts"
   ]
  },
  {
   "cell_type": "markdown",
   "id": "1b465a9a",
   "metadata": {
    "papermill": {
     "duration": 0.008533,
     "end_time": "2024-11-16T10:09:54.649582",
     "exception": false,
     "start_time": "2024-11-16T10:09:54.641049",
     "status": "completed"
    },
    "tags": []
   },
   "source": [
    "## Modeling"
   ]
  },
  {
   "cell_type": "code",
   "execution_count": 10,
   "id": "9e945648",
   "metadata": {
    "execution": {
     "iopub.execute_input": "2024-11-16T10:09:54.668764Z",
     "iopub.status.busy": "2024-11-16T10:09:54.668293Z",
     "iopub.status.idle": "2024-11-16T10:09:54.676773Z",
     "shell.execute_reply": "2024-11-16T10:09:54.675608Z"
    },
    "papermill": {
     "duration": 0.021078,
     "end_time": "2024-11-16T10:09:54.679253",
     "exception": false,
     "start_time": "2024-11-16T10:09:54.658175",
     "status": "completed"
    },
    "tags": []
   },
   "outputs": [],
   "source": [
    "sdg_params = dict(alpha=1e-5, penalty='l2', loss='log')\n",
    "arabic_stop_words = [\n",
    "    \"و\", \"في\", \"على\", \"إلى\", \"عن\", \"من\", \"مع\", \"كان\", \"التي\", \"الذي\", \"هذا\",\n",
    "    \"هذه\", \"ذلك\", \"تلك\", \"كل\", \"كما\", \"قد\", \"لقد\", \"ليس\", \"هو\", \"هي\", \"هم\",\n",
    "    \"هن\", \"أنا\", \"نحن\", \"انت\", \"انتِ\", \"لكن\", \"ثم\", \"أو\", \"أيضا\", \"هناك\",\n",
    "    \"هنا\", \"قبل\", \"بعد\"\n",
    "]\n",
    "vectorizer_params = dict(\n",
    "    ngram_range=(1, 5),       # 1-5 grams\n",
    "    min_df=5,                 # Ignore terms that appear in fewer than 5 documents\n",
    "    max_df=0.8,               # Ignore terms that appear in more than 80% of documents\n",
    "    analyzer='word',          # Tokenizes at the word level (common for Arabic text)\n",
    "    stop_words=arabic_stop_words  # None by default, add Arabic stop words if needed\n",
    ")"
   ]
  },
  {
   "cell_type": "code",
   "execution_count": 11,
   "id": "e0953979",
   "metadata": {
    "execution": {
     "iopub.execute_input": "2024-11-16T10:09:54.698780Z",
     "iopub.status.busy": "2024-11-16T10:09:54.698311Z",
     "iopub.status.idle": "2024-11-16T10:09:54.709114Z",
     "shell.execute_reply": "2024-11-16T10:09:54.708095Z"
    },
    "papermill": {
     "duration": 0.023435,
     "end_time": "2024-11-16T10:09:54.711619",
     "exception": false,
     "start_time": "2024-11-16T10:09:54.688184",
     "status": "completed"
    },
    "tags": []
   },
   "outputs": [],
   "source": [
    "def pipeline_creation(type_of_supervision, i, count=False):\n",
    "    # Define the list of classifiers and their names\n",
    "    classifiers = [\n",
    "        SGDClassifier(alpha=1e-5, penalty='l2', loss='log_loss', max_iter=1000),\n",
    "        LogisticRegression(max_iter=1000, solver='lbfgs', multi_class='multinomial'),\n",
    "        CalibratedClassifierCV(LinearSVC(), method='isotonic'),\n",
    "        CalibratedClassifierCV(PassiveAggressiveClassifier(max_iter=1000, C=0.5), method='isotonic'),\n",
    "        MultinomialNB(alpha=0.5, fit_prior=True)\n",
    "    ]\n",
    "    \n",
    "    classifier_names = [\n",
    "        \"SGDClassifier\",\n",
    "        \"LogisticRegression\",\n",
    "        \"Calibrated LinearSVC\",\n",
    "        \"Calibrated PassiveAggressiveClassifier\",\n",
    "        \"MultinomialNB\"\n",
    "    ]\n",
    "    \n",
    "    if count:\n",
    "        return len(classifiers)\n",
    "    \n",
    "    # Select classifier based on type of supervision\n",
    "    elif type_of_supervision == \"supervised\":\n",
    "        pipeline = Pipeline([\n",
    "            ('vect', CountVectorizer(**vectorizer_params)),\n",
    "            ('tfidf', TfidfTransformer()),\n",
    "            ('clf', classifiers[i])\n",
    "        ])\n",
    "        return pipeline, classifier_names[i]\n",
    "    \n",
    "    else:  # self-supervised\n",
    "        st_pipeline = Pipeline([\n",
    "            ('vect', CountVectorizer(**vectorizer_params)),\n",
    "            ('tfidf', TfidfTransformer()),\n",
    "            ('clf', SelfTrainingClassifier(classifiers[i], verbose=True))\n",
    "        ])\n",
    "        return st_pipeline, f\"SelfTrainingClassifier with {classifier_names[i]}\"\n"
   ]
  },
  {
   "cell_type": "code",
   "execution_count": 12,
   "id": "bf277288",
   "metadata": {
    "execution": {
     "iopub.execute_input": "2024-11-16T10:09:54.731052Z",
     "iopub.status.busy": "2024-11-16T10:09:54.730610Z",
     "iopub.status.idle": "2024-11-16T10:09:54.738374Z",
     "shell.execute_reply": "2024-11-16T10:09:54.737248Z"
    },
    "papermill": {
     "duration": 0.020135,
     "end_time": "2024-11-16T10:09:54.740676",
     "exception": false,
     "start_time": "2024-11-16T10:09:54.720541",
     "status": "completed"
    },
    "tags": []
   },
   "outputs": [],
   "source": [
    "def eval_and_print_metrics(clf, X_train, y_train, X_test, y_test):\n",
    "    print(\"Number of training samples:\", len(X_train))\n",
    "    print(\"Unlabeled samples in training set:\",\n",
    "          sum(1 for x in y_train if x == -1))\n",
    "    clf.fit(X_train, y_train)\n",
    "    y_pred = clf.predict(X_test)\n",
    "    print(\"Micro-averaged F1 score on test set: \"\n",
    "          \"%0.3f\" % f1_score(y_test, y_pred, average='micro'))\n",
    "    print(\"-\" * 10)\n",
    "    print()"
   ]
  },
  {
   "cell_type": "code",
   "execution_count": 13,
   "id": "4e49370f",
   "metadata": {
    "execution": {
     "iopub.execute_input": "2024-11-16T10:09:54.760806Z",
     "iopub.status.busy": "2024-11-16T10:09:54.759668Z",
     "iopub.status.idle": "2024-11-16T10:10:44.709455Z",
     "shell.execute_reply": "2024-11-16T10:10:44.708397Z"
    },
    "papermill": {
     "duration": 49.962733,
     "end_time": "2024-11-16T10:10:44.712174",
     "exception": false,
     "start_time": "2024-11-16T10:09:54.749441",
     "status": "completed"
    },
    "tags": []
   },
   "outputs": [
    {
     "name": "stdout",
     "output_type": "stream",
     "text": [
      "****************************************************************************************************\n",
      "Supervised training on 100% of the data using SGDClassifier:\n",
      "Number of training samples: 7505\n",
      "Unlabeled samples in training set: 0\n",
      "Micro-averaged F1 score on test set: 0.715\n",
      "----------\n",
      "\n",
      "              precision    recall  f1-score   support\n",
      "\n",
      "    Egyptian       0.78      0.71      0.74       500\n",
      "        Gulf       0.61      0.61      0.61       500\n",
      "       Iraqi       0.74      0.76      0.75       500\n",
      "   Levantine       0.73      0.71      0.72       501\n",
      "    Maghrebi       0.72      0.78      0.75       501\n",
      "\n",
      "    accuracy                           0.72      2502\n",
      "   macro avg       0.72      0.72      0.71      2502\n",
      "weighted avg       0.72      0.72      0.71      2502\n",
      "\n",
      "Supervised training on 20% of the training data using SGDClassifier:\n",
      "Number of training samples: 1491\n",
      "Unlabeled samples in training set: 0\n",
      "Micro-averaged F1 score on test set: 0.573\n",
      "----------\n",
      "\n",
      "              precision    recall  f1-score   support\n",
      "\n",
      "    Egyptian       0.64      0.54      0.58       500\n",
      "        Gulf       0.37      0.66      0.48       500\n",
      "       Iraqi       0.67      0.58      0.62       500\n",
      "   Levantine       0.65      0.50      0.57       501\n",
      "    Maghrebi       0.79      0.58      0.67       501\n",
      "\n",
      "    accuracy                           0.57      2502\n",
      "   macro avg       0.62      0.57      0.58      2502\n",
      "weighted avg       0.62      0.57      0.58      2502\n",
      "\n",
      "SelfTrainingClassifier with SGDClassifier on 20% labeled training data (rest unlabeled):\n",
      "Number of training samples: 7505\n",
      "Unlabeled samples in training set: 6014\n",
      "End of iteration 1, added 3342 new labels.\n",
      "End of iteration 2, added 521 new labels.\n",
      "End of iteration 3, added 139 new labels.\n",
      "End of iteration 4, added 69 new labels.\n",
      "End of iteration 5, added 57 new labels.\n",
      "End of iteration 6, added 35 new labels.\n",
      "End of iteration 7, added 13 new labels.\n",
      "End of iteration 8, added 13 new labels.\n",
      "End of iteration 9, added 10 new labels.\n",
      "End of iteration 10, added 4 new labels.\n",
      "Micro-averaged F1 score on test set: 0.641\n",
      "----------\n",
      "\n",
      "              precision    recall  f1-score   support\n",
      "\n",
      "    Egyptian       0.65      0.68      0.66       500\n",
      "        Gulf       0.55      0.55      0.55       500\n",
      "       Iraqi       0.72      0.67      0.69       500\n",
      "   Levantine       0.65      0.58      0.62       501\n",
      "    Maghrebi       0.64      0.73      0.68       501\n",
      "\n",
      "    accuracy                           0.64      2502\n",
      "   macro avg       0.64      0.64      0.64      2502\n",
      "weighted avg       0.64      0.64      0.64      2502\n",
      "\n",
      "****************************************************************************************************\n",
      "Supervised training on 100% of the data using LogisticRegression:\n",
      "Number of training samples: 7505\n",
      "Unlabeled samples in training set: 0\n",
      "Micro-averaged F1 score on test set: 0.720\n",
      "----------\n",
      "\n",
      "              precision    recall  f1-score   support\n",
      "\n",
      "    Egyptian       0.77      0.73      0.75       500\n",
      "        Gulf       0.57      0.67      0.62       500\n",
      "       Iraqi       0.75      0.76      0.76       500\n",
      "   Levantine       0.70      0.70      0.70       501\n",
      "    Maghrebi       0.86      0.73      0.79       501\n",
      "\n",
      "    accuracy                           0.72      2502\n",
      "   macro avg       0.73      0.72      0.72      2502\n",
      "weighted avg       0.73      0.72      0.72      2502\n",
      "\n",
      "Supervised training on 20% of the training data using LogisticRegression:\n",
      "Number of training samples: 1463\n",
      "Unlabeled samples in training set: 0\n",
      "Micro-averaged F1 score on test set: 0.568\n",
      "----------\n",
      "\n",
      "              precision    recall  f1-score   support\n",
      "\n",
      "    Egyptian       0.64      0.56      0.59       500\n",
      "        Gulf       0.51      0.42      0.46       500\n",
      "       Iraqi       0.42      0.76      0.54       500\n",
      "   Levantine       0.66      0.50      0.57       501\n",
      "    Maghrebi       0.83      0.60      0.69       501\n",
      "\n",
      "    accuracy                           0.57      2502\n",
      "   macro avg       0.61      0.57      0.57      2502\n",
      "weighted avg       0.61      0.57      0.57      2502\n",
      "\n",
      "SelfTrainingClassifier with LogisticRegression on 20% labeled training data (rest unlabeled):\n",
      "Number of training samples: 7505\n",
      "Unlabeled samples in training set: 6042\n",
      "End of iteration 1, added 276 new labels.\n",
      "End of iteration 2, added 162 new labels.\n",
      "End of iteration 3, added 114 new labels.\n",
      "End of iteration 4, added 89 new labels.\n",
      "End of iteration 5, added 64 new labels.\n",
      "End of iteration 6, added 33 new labels.\n",
      "End of iteration 7, added 23 new labels.\n",
      "End of iteration 8, added 16 new labels.\n",
      "End of iteration 9, added 9 new labels.\n",
      "Micro-averaged F1 score on test set: 0.636\n",
      "----------\n",
      "\n",
      "              precision    recall  f1-score   support\n",
      "\n",
      "    Egyptian       0.69      0.66      0.67       500\n",
      "        Gulf       0.55      0.47      0.51       500\n",
      "       Iraqi       0.55      0.75      0.63       500\n",
      "   Levantine       0.65      0.61      0.63       501\n",
      "    Maghrebi       0.78      0.68      0.73       501\n",
      "\n",
      "    accuracy                           0.64      2502\n",
      "   macro avg       0.64      0.64      0.64      2502\n",
      "weighted avg       0.64      0.64      0.64      2502\n",
      "\n",
      "****************************************************************************************************\n",
      "Supervised training on 100% of the data using Calibrated LinearSVC:\n",
      "Number of training samples: 7505\n",
      "Unlabeled samples in training set: 0\n",
      "Micro-averaged F1 score on test set: 0.708\n",
      "----------\n",
      "\n",
      "              precision    recall  f1-score   support\n",
      "\n",
      "    Egyptian       0.77      0.70      0.74       500\n",
      "        Gulf       0.64      0.60      0.62       500\n",
      "       Iraqi       0.63      0.79      0.70       500\n",
      "   Levantine       0.69      0.72      0.70       501\n",
      "    Maghrebi       0.85      0.72      0.78       501\n",
      "\n",
      "    accuracy                           0.71      2502\n",
      "   macro avg       0.72      0.71      0.71      2502\n",
      "weighted avg       0.72      0.71      0.71      2502\n",
      "\n",
      "Supervised training on 20% of the training data using Calibrated LinearSVC:\n",
      "Number of training samples: 1505\n",
      "Unlabeled samples in training set: 0\n",
      "Micro-averaged F1 score on test set: 0.580\n",
      "----------\n",
      "\n",
      "              precision    recall  f1-score   support\n",
      "\n",
      "    Egyptian       0.66      0.57      0.61       500\n",
      "        Gulf       0.37      0.64      0.47       500\n",
      "       Iraqi       0.76      0.56      0.65       500\n",
      "   Levantine       0.60      0.52      0.56       501\n",
      "    Maghrebi       0.76      0.61      0.68       501\n",
      "\n",
      "    accuracy                           0.58      2502\n",
      "   macro avg       0.63      0.58      0.59      2502\n",
      "weighted avg       0.63      0.58      0.59      2502\n",
      "\n",
      "SelfTrainingClassifier with Calibrated LinearSVC on 20% labeled training data (rest unlabeled):\n",
      "Number of training samples: 7505\n",
      "Unlabeled samples in training set: 6000\n",
      "End of iteration 1, added 1495 new labels.\n",
      "End of iteration 2, added 1037 new labels.\n",
      "End of iteration 3, added 672 new labels.\n",
      "End of iteration 4, added 480 new labels.\n",
      "End of iteration 5, added 262 new labels.\n",
      "End of iteration 6, added 162 new labels.\n",
      "End of iteration 7, added 113 new labels.\n",
      "End of iteration 8, added 78 new labels.\n",
      "End of iteration 9, added 60 new labels.\n",
      "End of iteration 10, added 38 new labels.\n",
      "Micro-averaged F1 score on test set: 0.659\n",
      "----------\n",
      "\n",
      "              precision    recall  f1-score   support\n",
      "\n",
      "    Egyptian       0.66      0.71      0.68       500\n",
      "        Gulf       0.53      0.59      0.56       500\n",
      "       Iraqi       0.71      0.68      0.70       500\n",
      "   Levantine       0.69      0.60      0.64       501\n",
      "    Maghrebi       0.72      0.72      0.72       501\n",
      "\n",
      "    accuracy                           0.66      2502\n",
      "   macro avg       0.66      0.66      0.66      2502\n",
      "weighted avg       0.66      0.66      0.66      2502\n",
      "\n",
      "****************************************************************************************************\n",
      "Supervised training on 100% of the data using Calibrated PassiveAggressiveClassifier:\n",
      "Number of training samples: 7505\n",
      "Unlabeled samples in training set: 0\n",
      "Micro-averaged F1 score on test set: 0.704\n",
      "----------\n",
      "\n",
      "              precision    recall  f1-score   support\n",
      "\n",
      "    Egyptian       0.77      0.69      0.73       500\n",
      "        Gulf       0.59      0.58      0.59       500\n",
      "       Iraqi       0.74      0.76      0.75       500\n",
      "   Levantine       0.72      0.71      0.71       501\n",
      "    Maghrebi       0.71      0.78      0.74       501\n",
      "\n",
      "    accuracy                           0.70      2502\n",
      "   macro avg       0.71      0.70      0.70      2502\n",
      "weighted avg       0.71      0.70      0.70      2502\n",
      "\n",
      "Supervised training on 20% of the training data using Calibrated PassiveAggressiveClassifier:\n",
      "Number of training samples: 1507\n",
      "Unlabeled samples in training set: 0\n",
      "Micro-averaged F1 score on test set: 0.570\n",
      "----------\n",
      "\n",
      "              precision    recall  f1-score   support\n",
      "\n",
      "    Egyptian       0.61      0.58      0.59       500\n",
      "        Gulf       0.36      0.62      0.45       500\n",
      "       Iraqi       0.76      0.55      0.64       500\n",
      "   Levantine       0.60      0.52      0.56       501\n",
      "    Maghrebi       0.79      0.58      0.67       501\n",
      "\n",
      "    accuracy                           0.57      2502\n",
      "   macro avg       0.62      0.57      0.58      2502\n",
      "weighted avg       0.62      0.57      0.58      2502\n",
      "\n",
      "SelfTrainingClassifier with Calibrated PassiveAggressiveClassifier on 20% labeled training data (rest unlabeled):\n",
      "Number of training samples: 7505\n",
      "Unlabeled samples in training set: 5998\n",
      "End of iteration 1, added 1425 new labels.\n",
      "End of iteration 2, added 829 new labels.\n",
      "End of iteration 3, added 652 new labels.\n",
      "End of iteration 4, added 558 new labels.\n",
      "End of iteration 5, added 402 new labels.\n",
      "End of iteration 6, added 294 new labels.\n",
      "End of iteration 7, added 221 new labels.\n",
      "End of iteration 8, added 160 new labels.\n",
      "End of iteration 9, added 108 new labels.\n",
      "End of iteration 10, added 64 new labels.\n",
      "Micro-averaged F1 score on test set: 0.625\n",
      "----------\n",
      "\n",
      "              precision    recall  f1-score   support\n",
      "\n",
      "    Egyptian       0.63      0.66      0.64       500\n",
      "        Gulf       0.57      0.44      0.50       500\n",
      "       Iraqi       0.55      0.71      0.62       500\n",
      "   Levantine       0.62      0.63      0.63       501\n",
      "    Maghrebi       0.79      0.69      0.74       501\n",
      "\n",
      "    accuracy                           0.63      2502\n",
      "   macro avg       0.63      0.63      0.62      2502\n",
      "weighted avg       0.63      0.63      0.62      2502\n",
      "\n",
      "****************************************************************************************************\n",
      "Supervised training on 100% of the data using MultinomialNB:\n",
      "Number of training samples: 7505\n",
      "Unlabeled samples in training set: 0\n",
      "Micro-averaged F1 score on test set: 0.705\n",
      "----------\n",
      "\n",
      "              precision    recall  f1-score   support\n",
      "\n",
      "    Egyptian       0.76      0.72      0.74       500\n",
      "        Gulf       0.64      0.60      0.62       500\n",
      "       Iraqi       0.76      0.74      0.75       500\n",
      "   Levantine       0.60      0.72      0.65       501\n",
      "    Maghrebi       0.80      0.74      0.77       501\n",
      "\n",
      "    accuracy                           0.71      2502\n",
      "   macro avg       0.71      0.71      0.71      2502\n",
      "weighted avg       0.71      0.71      0.71      2502\n",
      "\n",
      "Supervised training on 20% of the training data using MultinomialNB:\n",
      "Number of training samples: 1461\n",
      "Unlabeled samples in training set: 0\n",
      "Micro-averaged F1 score on test set: 0.561\n",
      "----------\n",
      "\n",
      "              precision    recall  f1-score   support\n",
      "\n",
      "    Egyptian       0.67      0.55      0.60       500\n",
      "        Gulf       0.50      0.37      0.42       500\n",
      "       Iraqi       0.64      0.57      0.61       500\n",
      "   Levantine       0.71      0.49      0.58       501\n",
      "    Maghrebi       0.44      0.82      0.57       501\n",
      "\n",
      "    accuracy                           0.56      2502\n",
      "   macro avg       0.59      0.56      0.56      2502\n",
      "weighted avg       0.59      0.56      0.56      2502\n",
      "\n",
      "SelfTrainingClassifier with MultinomialNB on 20% labeled training data (rest unlabeled):\n",
      "Number of training samples: 7505\n",
      "Unlabeled samples in training set: 6044\n",
      "End of iteration 1, added 500 new labels.\n",
      "End of iteration 2, added 523 new labels.\n",
      "End of iteration 3, added 307 new labels.\n",
      "End of iteration 4, added 162 new labels.\n",
      "End of iteration 5, added 81 new labels.\n",
      "End of iteration 6, added 37 new labels.\n",
      "End of iteration 7, added 29 new labels.\n",
      "End of iteration 8, added 14 new labels.\n",
      "End of iteration 9, added 9 new labels.\n",
      "End of iteration 10, added 7 new labels.\n",
      "Micro-averaged F1 score on test set: 0.623\n",
      "----------\n",
      "\n",
      "              precision    recall  f1-score   support\n",
      "\n",
      "    Egyptian       0.65      0.72      0.69       500\n",
      "        Gulf       0.63      0.26      0.36       500\n",
      "       Iraqi       0.69      0.75      0.72       500\n",
      "   Levantine       0.74      0.50      0.60       501\n",
      "    Maghrebi       0.51      0.89      0.65       501\n",
      "\n",
      "    accuracy                           0.62      2502\n",
      "   macro avg       0.65      0.62      0.60      2502\n",
      "weighted avg       0.65      0.62      0.60      2502\n",
      "\n"
     ]
    }
   ],
   "source": [
    "# Main code to iterate over classifiers and display results\n",
    "if __name__ == \"__main__\":\n",
    "    results = []\n",
    "    # Encode labels to handle text labels properly in sklearn classifiers\n",
    "    label_encoder = LabelEncoder()\n",
    "    y_encoded = label_encoder.fit_transform(data.label)  # Fit on full set of labels\n",
    "\n",
    "    X = data.sent\n",
    "    y = y_encoded\n",
    "    X_train, X_test, y_train, y_test = train_test_split(X, y, stratify=y, random_state=42)\n",
    "    \n",
    "    # Iterate over each classifier in the pipeline\n",
    "    for i in range(pipeline_creation(0, 0, True)):\n",
    "\n",
    "        print(100 * \"*\")\n",
    "        \n",
    "        # Supervised pipeline\n",
    "        pipeline, classifier_name = pipeline_creation(\"supervised\", i)\n",
    "        print(f\"Supervised training on 100% of the data using {classifier_name}:\")\n",
    "        eval_and_print_metrics(pipeline, X_train, y_train, X_test, y_test)\n",
    "        \n",
    "        # Decode labels to show original values in the classification report\n",
    "        y_test_decoded = label_encoder.inverse_transform(y_test)\n",
    "        y_pred = pipeline.predict(X_test)\n",
    "        y_pred_decoded = label_encoder.inverse_transform(y_pred)\n",
    "        report = classification_report(y_test_decoded, y_pred_decoded, output_dict=True)\n",
    "        print(classification_report(y_test_decoded, y_pred_decoded))\n",
    "        \n",
    "        # Save results for Supervised 100%\n",
    "        results.append({\n",
    "            'Classifier': classifier_name,\n",
    "            'Setting': 'Supervised 100%',\n",
    "            'Accuracy': report['accuracy'],\n",
    "            'F1-Score': report['macro avg']['f1-score']\n",
    "        })\n",
    "\n",
    "        # 20% labeled data setup\n",
    "        y_mask = np.random.rand(len(y_train)) < 0.2  # Random mask for 20% of the data\n",
    "        X_20, y_20 = map(list, zip(*((x, y) for x, y, m in zip(X_train, y_train, y_mask) if m)))\n",
    "        print(f\"Supervised training on 20% of the training data using {classifier_name}:\")\n",
    "        eval_and_print_metrics(pipeline, X_20, y_20, X_test, y_test)\n",
    "\n",
    "        # Decode labels for partial training classification report\n",
    "        y_pred_partial = pipeline.predict(X_test)\n",
    "        y_pred_partial_decoded = label_encoder.inverse_transform(y_pred_partial)\n",
    "        report_partial = classification_report(y_test_decoded, y_pred_partial_decoded, output_dict=True)\n",
    "        print(classification_report(y_test_decoded, y_pred_partial_decoded))\n",
    "\n",
    "        # Save results for Supervised 20%\n",
    "        results.append({\n",
    "            'Classifier': classifier_name,\n",
    "            'Setting': 'Supervised 20%',\n",
    "            'Accuracy': report_partial['accuracy'],\n",
    "            'F1-Score': report_partial['macro avg']['f1-score']\n",
    "        })\n",
    "\n",
    "        # Semi-supervised pipeline with self-training\n",
    "        st_pipeline, st_classifier_name = pipeline_creation(\"semi-supervised\", i)\n",
    "        y_train_semi = np.copy(y_train)  # Copy to modify labels for self-training\n",
    "        y_train_semi[~y_mask] = -1  # Unlabel the non-masked subset\n",
    "\n",
    "        print(f\"{st_classifier_name} on 20% labeled training data (rest unlabeled):\")\n",
    "        eval_and_print_metrics(st_pipeline, X_train, y_train_semi, X_test, y_test)\n",
    "\n",
    "        # Decode labels for semi-supervised classification report\n",
    "        y_pred_semi = st_pipeline.predict(X_test)\n",
    "        y_pred_semi_decoded = label_encoder.inverse_transform(y_pred_semi)\n",
    "        report_semi = classification_report(y_test_decoded, y_pred_semi_decoded, output_dict=True)\n",
    "        print(classification_report(y_test_decoded, y_pred_semi_decoded))\n",
    "\n",
    "        # Save results for Self-Training\n",
    "        results.append({\n",
    "            'Classifier': classifier_name,\n",
    "            'Setting': 'Self-Training',\n",
    "            'Accuracy': report_semi['accuracy'],\n",
    "            'F1-Score': report_semi['macro avg']['f1-score']\n",
    "        })\n"
   ]
  },
  {
   "cell_type": "code",
   "execution_count": 14,
   "id": "8e3701ae",
   "metadata": {
    "execution": {
     "iopub.execute_input": "2024-11-16T10:10:44.743757Z",
     "iopub.status.busy": "2024-11-16T10:10:44.743346Z",
     "iopub.status.idle": "2024-11-16T10:10:45.629062Z",
     "shell.execute_reply": "2024-11-16T10:10:45.627905Z"
    },
    "papermill": {
     "duration": 0.904949,
     "end_time": "2024-11-16T10:10:45.632472",
     "exception": false,
     "start_time": "2024-11-16T10:10:44.727523",
     "status": "completed"
    },
    "tags": []
   },
   "outputs": [
    {
     "data": {
      "image/png": "[encoded data removed]",
      "text/plain": [
       "<Figure size 1200x1000 with 2 Axes>"
      ]
     },
     "metadata": {},
     "output_type": "display_data"
    }
   ],
   "source": [
    "\n",
    "# Plotting\n",
    "results_df = pd.DataFrame.from_dict(results)\n",
    "fig, axes = plt.subplots(2, 1, figsize=(12, 10))\n",
    "\n",
    "# Accuracy plot\n",
    "accuracy_df = results_df.pivot(index=\"Classifier\", columns=\"Setting\", values=\"Accuracy\")\n",
    "accuracy_df.plot(kind=\"bar\", ax=axes[0], color=[\"#4daf4a\", \"#377eb8\", \"#e41a1c\"])\n",
    "axes[0].set_title(\"Accuracy Comparison by Classifier and Setting\")\n",
    "axes[0].set_ylabel(\"Accuracy\")\n",
    "axes[0].set_xlabel(\"Classifier\")\n",
    "axes[0].legend(title=\"Setting\", loc=\"center left\", bbox_to_anchor=(1.0, 0.5))\n",
    "axes[0].tick_params(axis='x', rotation=45)\n",
    "\n",
    "# F1-Score plot\n",
    "f1_df = results_df.pivot(index=\"Classifier\", columns=\"Setting\", values=\"F1-Score\")\n",
    "f1_df.plot(kind=\"bar\", ax=axes[1], color=[\"#4daf4a\", \"#377eb8\", \"#e41a1c\"])\n",
    "axes[1].set_title(\"F1-Score Comparison by Classifier and Setting\")\n",
    "axes[1].set_ylabel(\"F1-Score\")\n",
    "axes[1].set_xlabel(\"Classifier\")\n",
    "axes[1].legend(title=\"Setting\", loc=\"center left\", bbox_to_anchor=(1.0, 0.5))\n",
    "axes[1].tick_params(axis='x', rotation=45)\n",
    "\n",
    "# Adjust layout\n",
    "plt.tight_layout()\n",
    "plt.show()\n"
   ]
  },
  {
   "cell_type": "code",
   "execution_count": 15,
   "id": "64a31ac9",
   "metadata": {
    "execution": {
     "iopub.execute_input": "2024-11-16T10:10:45.668383Z",
     "iopub.status.busy": "2024-11-16T10:10:45.667888Z",
     "iopub.status.idle": "2024-11-16T10:10:45.688933Z",
     "shell.execute_reply": "2024-11-16T10:10:45.687813Z"
    },
    "papermill": {
     "duration": 0.043323,
     "end_time": "2024-11-16T10:10:45.693073",
     "exception": false,
     "start_time": "2024-11-16T10:10:45.649750",
     "status": "completed"
    },
    "tags": []
   },
   "outputs": [
    {
     "name": "stdout",
     "output_type": "stream",
     "text": [
      "Comparison of Classifier Performance by Setting\n"
     ]
    },
    {
     "data": {
      "text/html": [
       "<div>\n",
       "<style scoped>\n",
       "    .dataframe tbody tr th:only-of-type {\n",
       "        vertical-align: middle;\n",
       "    }\n",
       "\n",
       "    .dataframe tbody tr th {\n",
       "        vertical-align: top;\n",
       "    }\n",
       "\n",
       "    .dataframe thead tr th {\n",
       "        text-align: left;\n",
       "    }\n",
       "\n",
       "    .dataframe thead tr:last-of-type th {\n",
       "        text-align: right;\n",
       "    }\n",
       "</style>\n",
       "<table border=\"1\" class=\"dataframe\">\n",
       "  <thead>\n",
       "    <tr>\n",
       "      <th></th>\n",
       "      <th colspan=\"3\" halign=\"left\">Accuracy</th>\n",
       "    </tr>\n",
       "    <tr>\n",
       "      <th>Setting</th>\n",
       "      <th>Self-Training</th>\n",
       "      <th>Supervised 100%</th>\n",
       "      <th>Supervised 20%</th>\n",
       "    </tr>\n",
       "    <tr>\n",
       "      <th>Classifier</th>\n",
       "      <th></th>\n",
       "      <th></th>\n",
       "      <th></th>\n",
       "    </tr>\n",
       "  </thead>\n",
       "  <tbody>\n",
       "    <tr>\n",
       "      <th>Calibrated LinearSVC</th>\n",
       "      <td>0.659472</td>\n",
       "      <td>0.707834</td>\n",
       "      <td>0.580336</td>\n",
       "    </tr>\n",
       "    <tr>\n",
       "      <th>Calibrated PassiveAggressiveClassifier</th>\n",
       "      <td>0.625500</td>\n",
       "      <td>0.703837</td>\n",
       "      <td>0.569544</td>\n",
       "    </tr>\n",
       "    <tr>\n",
       "      <th>LogisticRegression</th>\n",
       "      <td>0.635891</td>\n",
       "      <td>0.719824</td>\n",
       "      <td>0.567546</td>\n",
       "    </tr>\n",
       "    <tr>\n",
       "      <th>MultinomialNB</th>\n",
       "      <td>0.623102</td>\n",
       "      <td>0.705436</td>\n",
       "      <td>0.560751</td>\n",
       "    </tr>\n",
       "    <tr>\n",
       "      <th>SGDClassifier</th>\n",
       "      <td>0.641487</td>\n",
       "      <td>0.715028</td>\n",
       "      <td>0.573141</td>\n",
       "    </tr>\n",
       "  </tbody>\n",
       "</table>\n",
       "</div>"
      ],
      "text/plain": [
       "                                            Accuracy                  \\\n",
       "Setting                                Self-Training Supervised 100%   \n",
       "Classifier                                                             \n",
       "Calibrated LinearSVC                        0.659472        0.707834   \n",
       "Calibrated PassiveAggressiveClassifier      0.625500        0.703837   \n",
       "LogisticRegression                          0.635891        0.719824   \n",
       "MultinomialNB                               0.623102        0.705436   \n",
       "SGDClassifier                               0.641487        0.715028   \n",
       "\n",
       "                                                       \n",
       "Setting                                Supervised 20%  \n",
       "Classifier                                             \n",
       "Calibrated LinearSVC                         0.580336  \n",
       "Calibrated PassiveAggressiveClassifier       0.569544  \n",
       "LogisticRegression                           0.567546  \n",
       "MultinomialNB                                0.560751  \n",
       "SGDClassifier                                0.573141  "
      ]
     },
     "execution_count": 15,
     "metadata": {},
     "output_type": "execute_result"
    }
   ],
   "source": [
    "# Pivot the DataFrame to reorganize for comparison\n",
    "comparison_df = results_df.pivot(index=\"Classifier\", columns=\"Setting\", values=[\"Accuracy\"])\n",
    "\n",
    "# Display the formatted table\n",
    "print(\"Comparison of Classifier Performance by Setting\")\n",
    "comparison_df"
   ]
  },
  {
   "cell_type": "code",
   "execution_count": 16,
   "id": "8502a5a8",
   "metadata": {
    "execution": {
     "iopub.execute_input": "2024-11-16T10:10:45.732517Z",
     "iopub.status.busy": "2024-11-16T10:10:45.732076Z",
     "iopub.status.idle": "2024-11-16T10:10:45.753368Z",
     "shell.execute_reply": "2024-11-16T10:10:45.752116Z"
    },
    "papermill": {
     "duration": 0.043526,
     "end_time": "2024-11-16T10:10:45.756370",
     "exception": false,
     "start_time": "2024-11-16T10:10:45.712844",
     "status": "completed"
    },
    "tags": []
   },
   "outputs": [
    {
     "name": "stdout",
     "output_type": "stream",
     "text": [
      "Comparison of Classifier Performance by Setting\n"
     ]
    },
    {
     "data": {
      "text/html": [
       "<div>\n",
       "<style scoped>\n",
       "    .dataframe tbody tr th:only-of-type {\n",
       "        vertical-align: middle;\n",
       "    }\n",
       "\n",
       "    .dataframe tbody tr th {\n",
       "        vertical-align: top;\n",
       "    }\n",
       "\n",
       "    .dataframe thead tr th {\n",
       "        text-align: left;\n",
       "    }\n",
       "\n",
       "    .dataframe thead tr:last-of-type th {\n",
       "        text-align: right;\n",
       "    }\n",
       "</style>\n",
       "<table border=\"1\" class=\"dataframe\">\n",
       "  <thead>\n",
       "    <tr>\n",
       "      <th></th>\n",
       "      <th colspan=\"3\" halign=\"left\">F1-Score</th>\n",
       "    </tr>\n",
       "    <tr>\n",
       "      <th>Setting</th>\n",
       "      <th>Self-Training</th>\n",
       "      <th>Supervised 100%</th>\n",
       "      <th>Supervised 20%</th>\n",
       "    </tr>\n",
       "    <tr>\n",
       "      <th>Classifier</th>\n",
       "      <th></th>\n",
       "      <th></th>\n",
       "      <th></th>\n",
       "    </tr>\n",
       "  </thead>\n",
       "  <tbody>\n",
       "    <tr>\n",
       "      <th>Calibrated LinearSVC</th>\n",
       "      <td>0.660341</td>\n",
       "      <td>0.708765</td>\n",
       "      <td>0.592182</td>\n",
       "    </tr>\n",
       "    <tr>\n",
       "      <th>Calibrated PassiveAggressiveClassifier</th>\n",
       "      <td>0.624286</td>\n",
       "      <td>0.703614</td>\n",
       "      <td>0.582219</td>\n",
       "    </tr>\n",
       "    <tr>\n",
       "      <th>LogisticRegression</th>\n",
       "      <td>0.635456</td>\n",
       "      <td>0.722673</td>\n",
       "      <td>0.571683</td>\n",
       "    </tr>\n",
       "    <tr>\n",
       "      <th>MultinomialNB</th>\n",
       "      <td>0.603403</td>\n",
       "      <td>0.706746</td>\n",
       "      <td>0.557873</td>\n",
       "    </tr>\n",
       "    <tr>\n",
       "      <th>SGDClassifier</th>\n",
       "      <td>0.640828</td>\n",
       "      <td>0.714817</td>\n",
       "      <td>0.584109</td>\n",
       "    </tr>\n",
       "  </tbody>\n",
       "</table>\n",
       "</div>"
      ],
      "text/plain": [
       "                                            F1-Score                  \\\n",
       "Setting                                Self-Training Supervised 100%   \n",
       "Classifier                                                             \n",
       "Calibrated LinearSVC                        0.660341        0.708765   \n",
       "Calibrated PassiveAggressiveClassifier      0.624286        0.703614   \n",
       "LogisticRegression                          0.635456        0.722673   \n",
       "MultinomialNB                               0.603403        0.706746   \n",
       "SGDClassifier                               0.640828        0.714817   \n",
       "\n",
       "                                                       \n",
       "Setting                                Supervised 20%  \n",
       "Classifier                                             \n",
       "Calibrated LinearSVC                         0.592182  \n",
       "Calibrated PassiveAggressiveClassifier       0.582219  \n",
       "LogisticRegression                           0.571683  \n",
       "MultinomialNB                                0.557873  \n",
       "SGDClassifier                                0.584109  "
      ]
     },
     "execution_count": 16,
     "metadata": {},
     "output_type": "execute_result"
    }
   ],
   "source": [
    "# Pivot the DataFrame to reorganize for comparison\n",
    "comparison_df = results_df.pivot(index=\"Classifier\", columns=\"Setting\", values=[\"F1-Score\"])\n",
    "\n",
    "# Display the formatted table\n",
    "print(\"Comparison of Classifier Performance by Setting\")\n",
    "comparison_df"
   ]
  }
 ],
 "metadata": {
  "kaggle": {
   "accelerator": "none",
   "dataSources": [
    {
     "datasetId": 6068996,
     "sourceId": 9883544,
     "sourceType": "datasetVersion"
    },
    {
     "datasetId": 6071343,
     "sourceId": 9886592,
     "sourceType": "datasetVersion"
    }
   ],
   "dockerImageVersionId": 30786,
   "isGpuEnabled": false,
   "isInternetEnabled": true,
   "language": "python",
   "sourceType": "notebook"
  },
  "kernelspec": {
   "display_name": "Python 3",
   "language": "python",
   "name": "python3"
  },
  "language_info": {
   "codemirror_mode": {
    "name": "ipython",
    "version": 3
   },
   "file_extension": ".py",
   "mimetype": "text/x-python",
   "name": "python",
   "nbconvert_exporter": "python",
   "pygments_lexer": "ipython3",
   "version": "3.10.14"
  },
  "papermill": {
   "default_parameters": {},
   "duration": 58.623032,
   "end_time": "2024-11-16T10:10:46.496974",
   "environment_variables": {},
   "exception": null,
   "input_path": "__notebook__.ipynb",
   "output_path": "__notebook__.ipynb",
   "parameters": {},
   "start_time": "2024-11-16T10:09:47.873942",
   "version": "2.6.0"
  }
 },
 "nbformat": 4,
 "nbformat_minor": 5
}
