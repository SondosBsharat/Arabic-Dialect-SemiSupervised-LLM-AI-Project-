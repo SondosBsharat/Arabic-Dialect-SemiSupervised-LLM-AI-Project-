{
 "cells": [
  {
   "cell_type": "markdown",
   "id": "f5850b0f",
   "metadata": {
    "papermill": {
     "duration": 0.007891,
     "end_time": "2024-11-16T10:39:01.144716",
     "exception": false,
     "start_time": "2024-11-16T10:39:01.136825",
     "status": "completed"
    },
    "tags": []
   },
   "source": [
    "# 5️⃣ 10% Real Data - No preprocessing"
   ]
  },
  {
   "cell_type": "markdown",
   "id": "138fc36f",
   "metadata": {
    "_cell_guid": "b1076dfc-b9ad-4769-8c92-a6c4dae69d19",
    "_uuid": "8f2839f25d086af736a60e9eeb907d3b93b6e0e5",
    "papermill": {
     "duration": 0.006792,
     "end_time": "2024-11-16T10:39:01.158863",
     "exception": false,
     "start_time": "2024-11-16T10:39:01.152071",
     "status": "completed"
    },
    "tags": []
   },
   "source": [
    "# Semi-Supervised Learning (Self-Training) reverse 🔀\n",
    "\n",
    "* Semi-Supervised Learning combines labeled and unlabeled examples\n",
    "* In self-Training, you could convert a Supervised Machine Learning algorithm to a semi-supervised one\n",
    "\n",
    "### **Steps** ✨\n",
    "1. Train supervised model using labeled data\n",
    "2. Make predictions on unlabeled data using the model from the previous step\n",
    "3. Take predictions satisfying probability threshold criteria and add them to the pseudo-labeled set\n",
    "4. combine the labeled and pseudo-labeled data and train the next verion of the model\n",
    "5. Make predictions on the remaining unlabeled data using this model of step 4\n",
    "6. Take predictions satisfying the probability threshold and add them to an existing pseudo-labeled set\n",
    "\n",
    "### **References:** 🔗\n",
    "* https://www.kaggle.com/code/sasakitetsuya/semi-supervised-classification-on-a-text-dataset \n",
    "* https://scikit-learn.ru/example/semi-supervised-classification-on-a-text-dataset/\n"
   ]
  },
  {
   "cell_type": "markdown",
   "id": "4a93d84a",
   "metadata": {
    "papermill": {
     "duration": 0.006847,
     "end_time": "2024-11-16T10:39:01.173265",
     "exception": false,
     "start_time": "2024-11-16T10:39:01.166418",
     "status": "completed"
    },
    "tags": []
   },
   "source": [
    "## Importing "
   ]
  },
  {
   "cell_type": "code",
   "execution_count": 1,
   "id": "fb5fd22b",
   "metadata": {
    "execution": {
     "iopub.execute_input": "2024-11-16T10:39:01.189305Z",
     "iopub.status.busy": "2024-11-16T10:39:01.188925Z",
     "iopub.status.idle": "2024-11-16T10:39:02.023346Z",
     "shell.execute_reply": "2024-11-16T10:39:02.022281Z"
    },
    "papermill": {
     "duration": 0.84558,
     "end_time": "2024-11-16T10:39:02.026026",
     "exception": false,
     "start_time": "2024-11-16T10:39:01.180446",
     "status": "completed"
    },
    "tags": []
   },
   "outputs": [
    {
     "name": "stdout",
     "output_type": "stream",
     "text": [
      "/kaggle/input/arabic-real-data-dialects/Arabic_dialects.csv\n",
      "/kaggle/input/larger-dialects/Arabic_dialects_Larger.csv\n",
      "/kaggle/input/generated-data/generated_data.csv\n",
      "/kaggle/input/generated-data4o/generated_data_4o.csv\n"
     ]
    }
   ],
   "source": [
    "import warnings\n",
    "warnings.filterwarnings(\"ignore\", category=FutureWarning)\n",
    "import numpy as np # linear algebra\n",
    "import pandas as pd # data processing, CSV file I/O (e.g. pd.read_csv)\n",
    "import matplotlib.pyplot as plt\n",
    "\n",
    "import os\n",
    "for dirname, _, filenames in os.walk('/kaggle/input'):\n",
    "    for filename in filenames:\n",
    "        print(os.path.join(dirname, filename))"
   ]
  },
  {
   "cell_type": "code",
   "execution_count": 2,
   "id": "53e353f5",
   "metadata": {
    "execution": {
     "iopub.execute_input": "2024-11-16T10:39:02.043540Z",
     "iopub.status.busy": "2024-11-16T10:39:02.043025Z",
     "iopub.status.idle": "2024-11-16T10:39:04.024341Z",
     "shell.execute_reply": "2024-11-16T10:39:04.023200Z"
    },
    "papermill": {
     "duration": 1.992548,
     "end_time": "2024-11-16T10:39:04.027013",
     "exception": false,
     "start_time": "2024-11-16T10:39:02.034465",
     "status": "completed"
    },
    "tags": []
   },
   "outputs": [],
   "source": [
    "from sklearn.feature_extraction.text import CountVectorizer\n",
    "from sklearn.feature_extraction.text import TfidfTransformer\n",
    "from sklearn.preprocessing import FunctionTransformer\n",
    "from sklearn.preprocessing import LabelEncoder\n",
    "from sklearn.calibration import CalibratedClassifierCV\n",
    "from sklearn.naive_bayes import MultinomialNB\n",
    "#==============================================different Linear classifiers\n",
    "from sklearn.linear_model import LogisticRegression, SGDClassifier, PassiveAggressiveClassifier, RidgeClassifier\n",
    "from sklearn.svm import LinearSVC\n",
    "#=====================================================\n",
    "from sklearn.model_selection import train_test_split\n",
    "from sklearn.pipeline import Pipeline\n",
    "from sklearn.semi_supervised import SelfTrainingClassifier\n",
    "from sklearn.semi_supervised import LabelSpreading\n",
    "from sklearn.metrics import f1_score\n",
    "from sklearn.metrics import classification_report\n",
    "\n",
    "import re\n",
    "import nltk\n",
    "from nltk.corpus import stopwords"
   ]
  },
  {
   "cell_type": "code",
   "execution_count": 3,
   "id": "cde47b50",
   "metadata": {
    "execution": {
     "iopub.execute_input": "2024-11-16T10:39:04.043722Z",
     "iopub.status.busy": "2024-11-16T10:39:04.043181Z",
     "iopub.status.idle": "2024-11-16T10:39:04.124453Z",
     "shell.execute_reply": "2024-11-16T10:39:04.123492Z"
    },
    "papermill": {
     "duration": 0.092361,
     "end_time": "2024-11-16T10:39:04.127050",
     "exception": false,
     "start_time": "2024-11-16T10:39:04.034689",
     "status": "completed"
    },
    "tags": []
   },
   "outputs": [],
   "source": [
    "data1=pd.read_csv('/kaggle/input/generated-data/generated_data.csv')\n",
    "data2=pd.read_csv('/kaggle/input/generated-data4o/generated_data_4o.csv')\n",
    "# Combine the two datasets\n",
    "data_generated = pd.concat([data1, data2], ignore_index=True)"
   ]
  },
  {
   "cell_type": "code",
   "execution_count": 4,
   "id": "a4c2b0b8",
   "metadata": {
    "execution": {
     "iopub.execute_input": "2024-11-16T10:39:04.143233Z",
     "iopub.status.busy": "2024-11-16T10:39:04.142856Z",
     "iopub.status.idle": "2024-11-16T10:39:04.176944Z",
     "shell.execute_reply": "2024-11-16T10:39:04.175682Z"
    },
    "papermill": {
     "duration": 0.045164,
     "end_time": "2024-11-16T10:39:04.179647",
     "exception": false,
     "start_time": "2024-11-16T10:39:04.134483",
     "status": "completed"
    },
    "tags": []
   },
   "outputs": [],
   "source": [
    "data_real = pd.read_csv('/kaggle/input/arabic-real-data-dialects/Arabic_dialects.csv')"
   ]
  },
  {
   "cell_type": "markdown",
   "id": "de1ea3a0",
   "metadata": {
    "papermill": {
     "duration": 0.007143,
     "end_time": "2024-11-16T10:39:04.194482",
     "exception": false,
     "start_time": "2024-11-16T10:39:04.187339",
     "status": "completed"
    },
    "tags": []
   },
   "source": [
    "## Data Preprocessing"
   ]
  },
  {
   "cell_type": "code",
   "execution_count": 5,
   "id": "a76ebebd",
   "metadata": {
    "execution": {
     "iopub.execute_input": "2024-11-16T10:39:04.210800Z",
     "iopub.status.busy": "2024-11-16T10:39:04.210382Z",
     "iopub.status.idle": "2024-11-16T10:39:04.229059Z",
     "shell.execute_reply": "2024-11-16T10:39:04.228038Z"
    },
    "papermill": {
     "duration": 0.029576,
     "end_time": "2024-11-16T10:39:04.231437",
     "exception": false,
     "start_time": "2024-11-16T10:39:04.201861",
     "status": "completed"
    },
    "tags": []
   },
   "outputs": [
    {
     "data": {
      "text/html": [
       "<div>\n",
       "<style scoped>\n",
       "    .dataframe tbody tr th:only-of-type {\n",
       "        vertical-align: middle;\n",
       "    }\n",
       "\n",
       "    .dataframe tbody tr th {\n",
       "        vertical-align: top;\n",
       "    }\n",
       "\n",
       "    .dataframe thead th {\n",
       "        text-align: right;\n",
       "    }\n",
       "</style>\n",
       "<table border=\"1\" class=\"dataframe\">\n",
       "  <thead>\n",
       "    <tr style=\"text-align: right;\">\n",
       "      <th></th>\n",
       "      <th>Unnamed: 0</th>\n",
       "      <th>Text</th>\n",
       "      <th>label</th>\n",
       "    </tr>\n",
       "  </thead>\n",
       "  <tbody>\n",
       "    <tr>\n",
       "      <th>0</th>\n",
       "      <td>0</td>\n",
       "      <td>شرب الشاي مع النعناع، في وقت الاسترخاء.</td>\n",
       "      <td>Levantine</td>\n",
       "    </tr>\n",
       "    <tr>\n",
       "      <th>1</th>\n",
       "      <td>1</td>\n",
       "      <td>أمك شلونها، تحسنت صحتها بعد العملية؟</td>\n",
       "      <td>Iraqi</td>\n",
       "    </tr>\n",
       "    <tr>\n",
       "      <th>2</th>\n",
       "      <td>2</td>\n",
       "      <td>ذهبت لزيارة الأخت، وأحببت الجلسة معها.</td>\n",
       "      <td>Gulf</td>\n",
       "    </tr>\n",
       "    <tr>\n",
       "      <th>3</th>\n",
       "      <td>3</td>\n",
       "      <td>سمعت إنه فيه فرقة جديدة عم تتكون، بدها جماهير ...</td>\n",
       "      <td>Levantine</td>\n",
       "    </tr>\n",
       "    <tr>\n",
       "      <th>4</th>\n",
       "      <td>4</td>\n",
       "      <td>خطر لي، هل فعلا نقدر نحب جميعًا؟</td>\n",
       "      <td>Iraqi</td>\n",
       "    </tr>\n",
       "  </tbody>\n",
       "</table>\n",
       "</div>"
      ],
      "text/plain": [
       "   Unnamed: 0                                               Text      label\n",
       "0           0          شرب الشاي مع النعناع، في وقت الاسترخاء.    Levantine\n",
       "1           1             أمك شلونها، تحسنت صحتها بعد العملية؟        Iraqi\n",
       "2           2           ذهبت لزيارة الأخت، وأحببت الجلسة معها.         Gulf\n",
       "3           3  سمعت إنه فيه فرقة جديدة عم تتكون، بدها جماهير ...  Levantine\n",
       "4           4                 خطر لي، هل فعلا نقدر نحب جميعًا؟        Iraqi"
      ]
     },
     "execution_count": 5,
     "metadata": {},
     "output_type": "execute_result"
    }
   ],
   "source": [
    "data_generated.head()"
   ]
  },
  {
   "cell_type": "code",
   "execution_count": 6,
   "id": "43a32cb0",
   "metadata": {
    "execution": {
     "iopub.execute_input": "2024-11-16T10:39:04.249048Z",
     "iopub.status.busy": "2024-11-16T10:39:04.248233Z",
     "iopub.status.idle": "2024-11-16T10:39:04.254901Z",
     "shell.execute_reply": "2024-11-16T10:39:04.253930Z"
    },
    "papermill": {
     "duration": 0.018464,
     "end_time": "2024-11-16T10:39:04.257522",
     "exception": false,
     "start_time": "2024-11-16T10:39:04.239058",
     "status": "completed"
    },
    "tags": []
   },
   "outputs": [
    {
     "data": {
      "text/plain": [
       "Index(['Unnamed: 0', 'Text', 'label'], dtype='object')"
      ]
     },
     "execution_count": 6,
     "metadata": {},
     "output_type": "execute_result"
    }
   ],
   "source": [
    "data_generated.columns"
   ]
  },
  {
   "cell_type": "code",
   "execution_count": 7,
   "id": "86a79e43",
   "metadata": {
    "execution": {
     "iopub.execute_input": "2024-11-16T10:39:04.274503Z",
     "iopub.status.busy": "2024-11-16T10:39:04.274130Z",
     "iopub.status.idle": "2024-11-16T10:39:04.283712Z",
     "shell.execute_reply": "2024-11-16T10:39:04.282613Z"
    },
    "papermill": {
     "duration": 0.020572,
     "end_time": "2024-11-16T10:39:04.285869",
     "exception": false,
     "start_time": "2024-11-16T10:39:04.265297",
     "status": "completed"
    },
    "tags": []
   },
   "outputs": [],
   "source": [
    "data_generated = data_generated.drop(['Unnamed: 0'], axis=1)"
   ]
  },
  {
   "cell_type": "code",
   "execution_count": 8,
   "id": "0ff2a3b7",
   "metadata": {
    "execution": {
     "iopub.execute_input": "2024-11-16T10:39:04.302604Z",
     "iopub.status.busy": "2024-11-16T10:39:04.302235Z",
     "iopub.status.idle": "2024-11-16T10:39:04.307990Z",
     "shell.execute_reply": "2024-11-16T10:39:04.306821Z"
    },
    "papermill": {
     "duration": 0.016701,
     "end_time": "2024-11-16T10:39:04.310232",
     "exception": false,
     "start_time": "2024-11-16T10:39:04.293531",
     "status": "completed"
    },
    "tags": []
   },
   "outputs": [],
   "source": [
    "data_generated.rename(columns={'Text': 'sent'},inplace=True, errors='raise')"
   ]
  },
  {
   "cell_type": "code",
   "execution_count": 9,
   "id": "d23dd413",
   "metadata": {
    "execution": {
     "iopub.execute_input": "2024-11-16T10:39:04.327870Z",
     "iopub.status.busy": "2024-11-16T10:39:04.326814Z",
     "iopub.status.idle": "2024-11-16T10:39:04.338331Z",
     "shell.execute_reply": "2024-11-16T10:39:04.337183Z"
    },
    "papermill": {
     "duration": 0.022551,
     "end_time": "2024-11-16T10:39:04.340425",
     "exception": false,
     "start_time": "2024-11-16T10:39:04.317874",
     "status": "completed"
    },
    "tags": []
   },
   "outputs": [
    {
     "data": {
      "text/plain": [
       "array(['Levantine', 'Iraqi', 'Gulf', 'Egyptian', 'Maghrebi'], dtype=object)"
      ]
     },
     "execution_count": 9,
     "metadata": {},
     "output_type": "execute_result"
    }
   ],
   "source": [
    "data_generated['label'].unique()"
   ]
  },
  {
   "cell_type": "code",
   "execution_count": 10,
   "id": "cbef3d1f",
   "metadata": {
    "execution": {
     "iopub.execute_input": "2024-11-16T10:39:04.357964Z",
     "iopub.status.busy": "2024-11-16T10:39:04.357143Z",
     "iopub.status.idle": "2024-11-16T10:39:04.367314Z",
     "shell.execute_reply": "2024-11-16T10:39:04.366264Z"
    },
    "papermill": {
     "duration": 0.021415,
     "end_time": "2024-11-16T10:39:04.369539",
     "exception": false,
     "start_time": "2024-11-16T10:39:04.348124",
     "status": "completed"
    },
    "tags": []
   },
   "outputs": [],
   "source": [
    "label_counts_generated = data_generated['label'].value_counts()"
   ]
  },
  {
   "cell_type": "code",
   "execution_count": 11,
   "id": "495e586e",
   "metadata": {
    "execution": {
     "iopub.execute_input": "2024-11-16T10:39:04.387197Z",
     "iopub.status.busy": "2024-11-16T10:39:04.386366Z",
     "iopub.status.idle": "2024-11-16T10:39:04.393828Z",
     "shell.execute_reply": "2024-11-16T10:39:04.392873Z"
    },
    "papermill": {
     "duration": 0.018578,
     "end_time": "2024-11-16T10:39:04.395942",
     "exception": false,
     "start_time": "2024-11-16T10:39:04.377364",
     "status": "completed"
    },
    "tags": []
   },
   "outputs": [
    {
     "data": {
      "text/plain": [
       "label\n",
       "Levantine    2500\n",
       "Iraqi        2500\n",
       "Gulf         2500\n",
       "Egyptian     2500\n",
       "Maghrebi     2500\n",
       "Name: count, dtype: int64"
      ]
     },
     "execution_count": 11,
     "metadata": {},
     "output_type": "execute_result"
    }
   ],
   "source": [
    "label_counts_generated"
   ]
  },
  {
   "cell_type": "code",
   "execution_count": 12,
   "id": "2c204478",
   "metadata": {
    "execution": {
     "iopub.execute_input": "2024-11-16T10:39:04.413682Z",
     "iopub.status.busy": "2024-11-16T10:39:04.412726Z",
     "iopub.status.idle": "2024-11-16T10:39:04.424453Z",
     "shell.execute_reply": "2024-11-16T10:39:04.423448Z"
    },
    "papermill": {
     "duration": 0.023244,
     "end_time": "2024-11-16T10:39:04.426829",
     "exception": false,
     "start_time": "2024-11-16T10:39:04.403585",
     "status": "completed"
    },
    "tags": []
   },
   "outputs": [
    {
     "data": {
      "text/html": [
       "<div>\n",
       "<style scoped>\n",
       "    .dataframe tbody tr th:only-of-type {\n",
       "        vertical-align: middle;\n",
       "    }\n",
       "\n",
       "    .dataframe tbody tr th {\n",
       "        vertical-align: top;\n",
       "    }\n",
       "\n",
       "    .dataframe thead th {\n",
       "        text-align: right;\n",
       "    }\n",
       "</style>\n",
       "<table border=\"1\" class=\"dataframe\">\n",
       "  <thead>\n",
       "    <tr style=\"text-align: right;\">\n",
       "      <th></th>\n",
       "      <th>sentID.BTEC</th>\n",
       "      <th>split</th>\n",
       "      <th>lang</th>\n",
       "      <th>sent</th>\n",
       "      <th>label</th>\n",
       "    </tr>\n",
       "  </thead>\n",
       "  <tbody>\n",
       "    <tr>\n",
       "      <th>0</th>\n",
       "      <td>7671</td>\n",
       "      <td>corpus-6-test-corpus-26-train</td>\n",
       "      <td>MUS</td>\n",
       "      <td>خذني إلى طريق ابي، من فضلك.</td>\n",
       "      <td>Gulf</td>\n",
       "    </tr>\n",
       "    <tr>\n",
       "      <th>1</th>\n",
       "      <td>2118</td>\n",
       "      <td>corpus-6-train</td>\n",
       "      <td>RAB</td>\n",
       "      <td>كا نتمنى هاد الرحلة دوز مزيان.</td>\n",
       "      <td>Maghrebi</td>\n",
       "    </tr>\n",
       "    <tr>\n",
       "      <th>2</th>\n",
       "      <td>9862</td>\n",
       "      <td>corpus-6-test-corpus-26-train</td>\n",
       "      <td>MOS</td>\n",
       "      <td>الطريق للنجاح هو \"جنمياكو، \" صح؟</td>\n",
       "      <td>Iraqi</td>\n",
       "    </tr>\n",
       "    <tr>\n",
       "      <th>3</th>\n",
       "      <td>11549</td>\n",
       "      <td>corpus-6-train</td>\n",
       "      <td>CAI</td>\n",
       "      <td>ممكن تتكلم بشويش شوبه؟</td>\n",
       "      <td>Egyptian</td>\n",
       "    </tr>\n",
       "    <tr>\n",
       "      <th>4</th>\n",
       "      <td>15073</td>\n",
       "      <td>corpus-6-test-corpus-26-test</td>\n",
       "      <td>ALG</td>\n",
       "      <td>شحال سعر التوصيلة؟ تقدر تكتبلي سعر التوصيلة عل...</td>\n",
       "      <td>Maghrebi</td>\n",
       "    </tr>\n",
       "  </tbody>\n",
       "</table>\n",
       "</div>"
      ],
      "text/plain": [
       "   sentID.BTEC                          split lang  \\\n",
       "0         7671  corpus-6-test-corpus-26-train  MUS   \n",
       "1         2118                 corpus-6-train  RAB   \n",
       "2         9862  corpus-6-test-corpus-26-train  MOS   \n",
       "3        11549                 corpus-6-train  CAI   \n",
       "4        15073   corpus-6-test-corpus-26-test  ALG   \n",
       "\n",
       "                                                sent     label  \n",
       "0                        خذني إلى طريق ابي، من فضلك.      Gulf  \n",
       "1                     كا نتمنى هاد الرحلة دوز مزيان.  Maghrebi  \n",
       "2                   الطريق للنجاح هو \"جنمياكو، \" صح؟     Iraqi  \n",
       "3                             ممكن تتكلم بشويش شوبه؟  Egyptian  \n",
       "4  شحال سعر التوصيلة؟ تقدر تكتبلي سعر التوصيلة عل...  Maghrebi  "
      ]
     },
     "execution_count": 12,
     "metadata": {},
     "output_type": "execute_result"
    }
   ],
   "source": [
    "data_real.head()"
   ]
  },
  {
   "cell_type": "code",
   "execution_count": 13,
   "id": "f5c98ef3",
   "metadata": {
    "execution": {
     "iopub.execute_input": "2024-11-16T10:39:04.445219Z",
     "iopub.status.busy": "2024-11-16T10:39:04.444132Z",
     "iopub.status.idle": "2024-11-16T10:39:04.450144Z",
     "shell.execute_reply": "2024-11-16T10:39:04.449132Z"
    },
    "papermill": {
     "duration": 0.017446,
     "end_time": "2024-11-16T10:39:04.452440",
     "exception": false,
     "start_time": "2024-11-16T10:39:04.434994",
     "status": "completed"
    },
    "tags": []
   },
   "outputs": [],
   "source": [
    "data_real = data_real.drop(['sentID.BTEC', 'split', 'lang'], axis=1)"
   ]
  },
  {
   "cell_type": "code",
   "execution_count": 14,
   "id": "b31563d0",
   "metadata": {
    "execution": {
     "iopub.execute_input": "2024-11-16T10:39:04.470345Z",
     "iopub.status.busy": "2024-11-16T10:39:04.469947Z",
     "iopub.status.idle": "2024-11-16T10:39:04.481003Z",
     "shell.execute_reply": "2024-11-16T10:39:04.479911Z"
    },
    "papermill": {
     "duration": 0.022462,
     "end_time": "2024-11-16T10:39:04.483062",
     "exception": false,
     "start_time": "2024-11-16T10:39:04.460600",
     "status": "completed"
    },
    "tags": []
   },
   "outputs": [
    {
     "data": {
      "text/html": [
       "<div>\n",
       "<style scoped>\n",
       "    .dataframe tbody tr th:only-of-type {\n",
       "        vertical-align: middle;\n",
       "    }\n",
       "\n",
       "    .dataframe tbody tr th {\n",
       "        vertical-align: top;\n",
       "    }\n",
       "\n",
       "    .dataframe thead th {\n",
       "        text-align: right;\n",
       "    }\n",
       "</style>\n",
       "<table border=\"1\" class=\"dataframe\">\n",
       "  <thead>\n",
       "    <tr style=\"text-align: right;\">\n",
       "      <th></th>\n",
       "      <th>sent</th>\n",
       "      <th>label</th>\n",
       "    </tr>\n",
       "  </thead>\n",
       "  <tbody>\n",
       "    <tr>\n",
       "      <th>0</th>\n",
       "      <td>خذني إلى طريق ابي، من فضلك.</td>\n",
       "      <td>Gulf</td>\n",
       "    </tr>\n",
       "    <tr>\n",
       "      <th>1</th>\n",
       "      <td>كا نتمنى هاد الرحلة دوز مزيان.</td>\n",
       "      <td>Maghrebi</td>\n",
       "    </tr>\n",
       "    <tr>\n",
       "      <th>2</th>\n",
       "      <td>الطريق للنجاح هو \"جنمياكو، \" صح؟</td>\n",
       "      <td>Iraqi</td>\n",
       "    </tr>\n",
       "    <tr>\n",
       "      <th>3</th>\n",
       "      <td>ممكن تتكلم بشويش شوبه؟</td>\n",
       "      <td>Egyptian</td>\n",
       "    </tr>\n",
       "    <tr>\n",
       "      <th>4</th>\n",
       "      <td>شحال سعر التوصيلة؟ تقدر تكتبلي سعر التوصيلة عل...</td>\n",
       "      <td>Maghrebi</td>\n",
       "    </tr>\n",
       "  </tbody>\n",
       "</table>\n",
       "</div>"
      ],
      "text/plain": [
       "                                                sent     label\n",
       "0                        خذني إلى طريق ابي، من فضلك.      Gulf\n",
       "1                     كا نتمنى هاد الرحلة دوز مزيان.  Maghrebi\n",
       "2                   الطريق للنجاح هو \"جنمياكو، \" صح؟     Iraqi\n",
       "3                             ممكن تتكلم بشويش شوبه؟  Egyptian\n",
       "4  شحال سعر التوصيلة؟ تقدر تكتبلي سعر التوصيلة عل...  Maghrebi"
      ]
     },
     "execution_count": 14,
     "metadata": {},
     "output_type": "execute_result"
    }
   ],
   "source": [
    "data_real.head()"
   ]
  },
  {
   "cell_type": "code",
   "execution_count": 15,
   "id": "ec403ad3",
   "metadata": {
    "execution": {
     "iopub.execute_input": "2024-11-16T10:39:04.501492Z",
     "iopub.status.busy": "2024-11-16T10:39:04.500561Z",
     "iopub.status.idle": "2024-11-16T10:39:04.507926Z",
     "shell.execute_reply": "2024-11-16T10:39:04.506942Z"
    },
    "papermill": {
     "duration": 0.018879,
     "end_time": "2024-11-16T10:39:04.510064",
     "exception": false,
     "start_time": "2024-11-16T10:39:04.491185",
     "status": "completed"
    },
    "tags": []
   },
   "outputs": [
    {
     "data": {
      "text/plain": [
       "array(['Gulf', 'Maghrebi', 'Iraqi', 'Egyptian', 'Levantine'], dtype=object)"
      ]
     },
     "execution_count": 15,
     "metadata": {},
     "output_type": "execute_result"
    }
   ],
   "source": [
    "data_real['label'].unique()"
   ]
  },
  {
   "cell_type": "code",
   "execution_count": 16,
   "id": "9ce64076",
   "metadata": {
    "execution": {
     "iopub.execute_input": "2024-11-16T10:39:04.528762Z",
     "iopub.status.busy": "2024-11-16T10:39:04.527805Z",
     "iopub.status.idle": "2024-11-16T10:39:04.533645Z",
     "shell.execute_reply": "2024-11-16T10:39:04.532636Z"
    },
    "papermill": {
     "duration": 0.017494,
     "end_time": "2024-11-16T10:39:04.535848",
     "exception": false,
     "start_time": "2024-11-16T10:39:04.518354",
     "status": "completed"
    },
    "tags": []
   },
   "outputs": [],
   "source": [
    "label_counts_real = data_real['label'].value_counts()"
   ]
  },
  {
   "cell_type": "code",
   "execution_count": 17,
   "id": "98012651",
   "metadata": {
    "execution": {
     "iopub.execute_input": "2024-11-16T10:39:04.554679Z",
     "iopub.status.busy": "2024-11-16T10:39:04.554309Z",
     "iopub.status.idle": "2024-11-16T10:39:04.561682Z",
     "shell.execute_reply": "2024-11-16T10:39:04.560629Z"
    },
    "papermill": {
     "duration": 0.019238,
     "end_time": "2024-11-16T10:39:04.563848",
     "exception": false,
     "start_time": "2024-11-16T10:39:04.544610",
     "status": "completed"
    },
    "tags": []
   },
   "outputs": [
    {
     "data": {
      "text/plain": [
       "label\n",
       "Maghrebi     1002\n",
       "Iraqi        1002\n",
       "Egyptian     1002\n",
       "Levantine    1002\n",
       "Gulf         1000\n",
       "Name: count, dtype: int64"
      ]
     },
     "execution_count": 17,
     "metadata": {},
     "output_type": "execute_result"
    }
   ],
   "source": [
    "label_counts_real"
   ]
  },
  {
   "cell_type": "markdown",
   "id": "e315d7fb",
   "metadata": {
    "papermill": {
     "duration": 0.008358,
     "end_time": "2024-11-16T10:39:04.581049",
     "exception": false,
     "start_time": "2024-11-16T10:39:04.572691",
     "status": "completed"
    },
    "tags": []
   },
   "source": [
    "## Modeling"
   ]
  },
  {
   "cell_type": "code",
   "execution_count": 18,
   "id": "7be1ecdc",
   "metadata": {
    "execution": {
     "iopub.execute_input": "2024-11-16T10:39:04.600724Z",
     "iopub.status.busy": "2024-11-16T10:39:04.599672Z",
     "iopub.status.idle": "2024-11-16T10:39:04.606742Z",
     "shell.execute_reply": "2024-11-16T10:39:04.605666Z"
    },
    "papermill": {
     "duration": 0.019255,
     "end_time": "2024-11-16T10:39:04.608961",
     "exception": false,
     "start_time": "2024-11-16T10:39:04.589706",
     "status": "completed"
    },
    "tags": []
   },
   "outputs": [],
   "source": [
    "sdg_params = dict(alpha=1e-5, penalty='l2', loss='log')\n",
    "arabic_stop_words = [\n",
    "    \"و\", \"في\", \"على\", \"إلى\", \"عن\", \"من\", \"مع\", \"كان\", \"التي\", \"الذي\", \"هذا\",\n",
    "    \"هذه\", \"ذلك\", \"تلك\", \"كل\", \"كما\", \"قد\", \"لقد\", \"ليس\", \"هو\", \"هي\", \"هم\",\n",
    "    \"هن\", \"أنا\", \"نحن\", \"انت\", \"انتِ\", \"لكن\", \"ثم\", \"أو\", \"أيضا\", \"هناك\",\n",
    "    \"هنا\", \"قبل\", \"بعد\"\n",
    "]\n",
    "vectorizer_params = dict(\n",
    "    ngram_range=(1, 5),       # 1-5 grams\n",
    "    min_df=5,                 # Ignore terms that appear in fewer than 5 documents\n",
    "    max_df=0.8,               # Ignore terms that appear in more than 80% of documents\n",
    "    analyzer='word',          # Tokenizes at the word level (common for Arabic text)\n",
    "    stop_words=arabic_stop_words  # None by default, add Arabic stop words if needed\n",
    ")"
   ]
  },
  {
   "cell_type": "code",
   "execution_count": 19,
   "id": "6b38dced",
   "metadata": {
    "execution": {
     "iopub.execute_input": "2024-11-16T10:39:04.627539Z",
     "iopub.status.busy": "2024-11-16T10:39:04.627138Z",
     "iopub.status.idle": "2024-11-16T10:39:04.635906Z",
     "shell.execute_reply": "2024-11-16T10:39:04.635005Z"
    },
    "papermill": {
     "duration": 0.020641,
     "end_time": "2024-11-16T10:39:04.638062",
     "exception": false,
     "start_time": "2024-11-16T10:39:04.617421",
     "status": "completed"
    },
    "tags": []
   },
   "outputs": [],
   "source": [
    "def pipeline_creation(type_of_supervision, i, count=False):\n",
    "    # Define the list of classifiers and their names\n",
    "    classifiers = [\n",
    "        SGDClassifier(alpha=1e-5, penalty='l2', loss='log_loss', max_iter=1000),\n",
    "        LogisticRegression(max_iter=1000, solver='lbfgs', multi_class='multinomial'),\n",
    "        CalibratedClassifierCV(LinearSVC(), method='isotonic'),\n",
    "        CalibratedClassifierCV(PassiveAggressiveClassifier(max_iter=1000, C=0.5), method='isotonic'),\n",
    "        MultinomialNB(alpha=0.5, fit_prior=True)\n",
    "    ]\n",
    "    \n",
    "    classifier_names = [\n",
    "        \"SGDClassifier\",\n",
    "        \"LogisticRegression\",\n",
    "        \"Calibrated LinearSVC\",\n",
    "        \"Calibrated PassiveAggressiveClassifier\",\n",
    "        \"MultinomialNB\"\n",
    "    ]\n",
    "    \n",
    "    if count:\n",
    "        return len(classifiers)\n",
    "    \n",
    "    # Select classifier based on type of supervision\n",
    "    elif type_of_supervision == \"supervised\":\n",
    "        pipeline = Pipeline([\n",
    "            ('vect', CountVectorizer(**vectorizer_params)),\n",
    "            ('tfidf', TfidfTransformer()),\n",
    "            ('clf', classifiers[i])\n",
    "        ])\n",
    "        return pipeline, classifier_names[i]\n",
    "    \n",
    "    else:  # self-supervised\n",
    "        st_pipeline = Pipeline([\n",
    "            ('vect', CountVectorizer(**vectorizer_params)),\n",
    "            ('tfidf', TfidfTransformer()),\n",
    "            ('clf', SelfTrainingClassifier(classifiers[i], verbose=True))\n",
    "        ])\n",
    "        return st_pipeline, f\"SelfTrainingClassifier with {classifier_names[i]}\"\n"
   ]
  },
  {
   "cell_type": "code",
   "execution_count": 20,
   "id": "4385cbf8",
   "metadata": {
    "execution": {
     "iopub.execute_input": "2024-11-16T10:39:04.656498Z",
     "iopub.status.busy": "2024-11-16T10:39:04.656130Z",
     "iopub.status.idle": "2024-11-16T10:39:04.662462Z",
     "shell.execute_reply": "2024-11-16T10:39:04.661395Z"
    },
    "papermill": {
     "duration": 0.01803,
     "end_time": "2024-11-16T10:39:04.664536",
     "exception": false,
     "start_time": "2024-11-16T10:39:04.646506",
     "status": "completed"
    },
    "tags": []
   },
   "outputs": [],
   "source": [
    "def eval_and_print_metrics(clf, X_train, y_train, X_test, y_test):\n",
    "    print(\"Number of training samples:\", len(X_train))\n",
    "    print(\"Unlabeled samples in training set:\",\n",
    "          sum(1 for x in y_train if x == -1))\n",
    "    clf.fit(X_train, y_train)\n",
    "    y_pred = clf.predict(X_test)\n",
    "    print(\"Micro-averaged F1 score on test set: \"\n",
    "          \"%0.3f\" % f1_score(y_test, y_pred, average='micro'))\n",
    "    print(\"-\" * 10)\n",
    "    print()"
   ]
  },
  {
   "cell_type": "code",
   "execution_count": 21,
   "id": "2ba03918",
   "metadata": {
    "execution": {
     "iopub.execute_input": "2024-11-16T10:39:04.683611Z",
     "iopub.status.busy": "2024-11-16T10:39:04.682709Z",
     "iopub.status.idle": "2024-11-16T10:39:04.723030Z",
     "shell.execute_reply": "2024-11-16T10:39:04.721944Z"
    },
    "papermill": {
     "duration": 0.052319,
     "end_time": "2024-11-16T10:39:04.725311",
     "exception": false,
     "start_time": "2024-11-16T10:39:04.672992",
     "status": "completed"
    },
    "tags": []
   },
   "outputs": [
    {
     "name": "stdout",
     "output_type": "stream",
     "text": [
      "Training set size: (4006, 2)\n",
      "Test set size: (1002, 2)\n"
     ]
    }
   ],
   "source": [
    "from sklearn.model_selection import train_test_split\n",
    "import pandas as pd\n",
    "\n",
    "# Assuming data_real and data_generated are the dataframes with 'sent' and 'label' columns\n",
    "\n",
    "# Set the ratio of real to generated data in the training set\n",
    "real_ratio = 0.1  # Example: real_ratio% real and 100%-real_ratio% generated in the training set\n",
    "\n",
    "# Step 1: Split the real data into train and test (all test data will come from real data)\n",
    "data_real_train, data_real_test = train_test_split(data_real, test_size=0.2, stratify=data_real['label'], random_state=42)\n",
    "\n",
    "# Step 2: Calculate the number of real and generated samples for the training set\n",
    "num_real_train = int(real_ratio * len(data_real_train))  # Number of samples to take from real data for training\n",
    "num_generated_train = len(data_real_train) - num_real_train  # Remaining samples to take from generated data\n",
    "\n",
    "# Step 3: Subsample the training data from real and generated data according to the specified ratio\n",
    "data_real_train_subsample, _ = train_test_split(data_real_train, train_size=num_real_train, stratify=data_real_train['label'], random_state=42)\n",
    "data_generated_train_subsample, _ = train_test_split(data_generated, train_size=num_generated_train, stratify=data_generated['label'], random_state=42)\n",
    "\n",
    "# Step 4: Concatenate the real and generated subsamples to create the final training set\n",
    "train_data = pd.concat([data_real_train_subsample, data_generated_train_subsample]).sample(frac=1, random_state=42).reset_index(drop=True)\n",
    "\n",
    "# Step 5: Use `data_real_test` as the test set (all real data)\n",
    "\n",
    "# Now, train_data contains the specified ratio of real to generated data, and data_real_test is the test set with only real data\n",
    "print(f\"Training set size: {train_data.shape}\")\n",
    "print(f\"Test set size: {data_real_test.shape}\")\n"
   ]
  },
  {
   "cell_type": "code",
   "execution_count": 22,
   "id": "78cbb957",
   "metadata": {
    "execution": {
     "iopub.execute_input": "2024-11-16T10:39:04.744396Z",
     "iopub.status.busy": "2024-11-16T10:39:04.744014Z",
     "iopub.status.idle": "2024-11-16T10:39:11.392681Z",
     "shell.execute_reply": "2024-11-16T10:39:11.391568Z"
    },
    "papermill": {
     "duration": 6.661395,
     "end_time": "2024-11-16T10:39:11.395373",
     "exception": false,
     "start_time": "2024-11-16T10:39:04.733978",
     "status": "completed"
    },
    "tags": []
   },
   "outputs": [
    {
     "name": "stdout",
     "output_type": "stream",
     "text": [
      "****************************************************************************************************\n",
      "Supervised training on 100% of the data using SGDClassifier:\n",
      "Number of training samples: 4006\n",
      "Unlabeled samples in training set: 0\n",
      "Micro-averaged F1 score on test set: 0.465\n",
      "----------\n",
      "\n",
      "              precision    recall  f1-score   support\n",
      "\n",
      "    Egyptian       0.54      0.51      0.53       201\n",
      "        Gulf       0.33      0.17      0.23       200\n",
      "       Iraqi       0.50      0.37      0.42       200\n",
      "   Levantine       0.51      0.49      0.50       201\n",
      "    Maghrebi       0.43      0.78      0.55       200\n",
      "\n",
      "    accuracy                           0.47      1002\n",
      "   macro avg       0.46      0.47      0.45      1002\n",
      "weighted avg       0.46      0.47      0.45      1002\n",
      "\n",
      "Supervised training on 20% of the training data using SGDClassifier:\n",
      "Number of training samples: 759\n",
      "Unlabeled samples in training set: 0\n",
      "Micro-averaged F1 score on test set: 0.335\n",
      "----------\n",
      "\n",
      "              precision    recall  f1-score   support\n",
      "\n",
      "    Egyptian       0.57      0.25      0.35       201\n",
      "        Gulf       0.45      0.14      0.22       200\n",
      "       Iraqi       0.30      0.10      0.15       200\n",
      "   Levantine       0.47      0.41      0.44       201\n",
      "    Maghrebi       0.25      0.77      0.38       200\n",
      "\n",
      "    accuracy                           0.34      1002\n",
      "   macro avg       0.41      0.34      0.31      1002\n",
      "weighted avg       0.41      0.34      0.31      1002\n",
      "\n",
      "SelfTrainingClassifier with SGDClassifier on 20% labeled training data (rest unlabeled):\n",
      "Number of training samples: 4006\n",
      "Unlabeled samples in training set: 3247\n",
      "End of iteration 1, added 1425 new labels.\n",
      "End of iteration 2, added 342 new labels.\n",
      "End of iteration 3, added 172 new labels.\n",
      "End of iteration 4, added 72 new labels.\n",
      "End of iteration 5, added 56 new labels.\n",
      "End of iteration 6, added 42 new labels.\n",
      "End of iteration 7, added 28 new labels.\n",
      "End of iteration 8, added 19 new labels.\n",
      "End of iteration 9, added 11 new labels.\n",
      "End of iteration 10, added 5 new labels.\n",
      "Micro-averaged F1 score on test set: 0.416\n",
      "----------\n",
      "\n",
      "              precision    recall  f1-score   support\n",
      "\n",
      "    Egyptian       0.46      0.49      0.47       201\n",
      "        Gulf       0.35      0.12      0.17       200\n",
      "       Iraqi       0.38      0.25      0.30       200\n",
      "   Levantine       0.43      0.47      0.45       201\n",
      "    Maghrebi       0.41      0.76      0.53       200\n",
      "\n",
      "    accuracy                           0.42      1002\n",
      "   macro avg       0.41      0.42      0.39      1002\n",
      "weighted avg       0.41      0.42      0.39      1002\n",
      "\n",
      "****************************************************************************************************\n",
      "Supervised training on 100% of the data using LogisticRegression:\n",
      "Number of training samples: 4006\n",
      "Unlabeled samples in training set: 0\n",
      "Micro-averaged F1 score on test set: 0.487\n",
      "----------\n",
      "\n",
      "              precision    recall  f1-score   support\n",
      "\n",
      "    Egyptian       0.54      0.57      0.55       201\n",
      "        Gulf       0.38      0.18      0.25       200\n",
      "       Iraqi       0.53      0.40      0.46       200\n",
      "   Levantine       0.56      0.49      0.52       201\n",
      "    Maghrebi       0.43      0.79      0.56       200\n",
      "\n",
      "    accuracy                           0.49      1002\n",
      "   macro avg       0.49      0.49      0.47      1002\n",
      "weighted avg       0.49      0.49      0.47      1002\n",
      "\n",
      "Supervised training on 20% of the training data using LogisticRegression:\n",
      "Number of training samples: 821\n",
      "Unlabeled samples in training set: 0\n",
      "Micro-averaged F1 score on test set: 0.337\n",
      "----------\n",
      "\n",
      "              precision    recall  f1-score   support\n",
      "\n",
      "    Egyptian       0.52      0.44      0.47       201\n",
      "        Gulf       0.21      0.10      0.14       200\n",
      "       Iraqi       0.27      0.13      0.18       200\n",
      "   Levantine       0.52      0.22      0.31       201\n",
      "    Maghrebi       0.29      0.79      0.42       200\n",
      "\n",
      "    accuracy                           0.34      1002\n",
      "   macro avg       0.36      0.34      0.30      1002\n",
      "weighted avg       0.36      0.34      0.31      1002\n",
      "\n",
      "SelfTrainingClassifier with LogisticRegression on 20% labeled training data (rest unlabeled):\n",
      "Number of training samples: 4006\n",
      "Unlabeled samples in training set: 3185\n",
      "End of iteration 1, added 16 new labels.\n",
      "End of iteration 2, added 6 new labels.\n",
      "End of iteration 3, added 5 new labels.\n",
      "End of iteration 4, added 5 new labels.\n",
      "End of iteration 5, added 3 new labels.\n",
      "End of iteration 6, added 2 new labels.\n",
      "End of iteration 7, added 1 new labels.\n",
      "Micro-averaged F1 score on test set: 0.436\n",
      "----------\n",
      "\n",
      "              precision    recall  f1-score   support\n",
      "\n",
      "    Egyptian       0.51      0.55      0.53       201\n",
      "        Gulf       0.32      0.17      0.22       200\n",
      "       Iraqi       0.45      0.40      0.42       200\n",
      "   Levantine       0.53      0.32      0.40       201\n",
      "    Maghrebi       0.39      0.75      0.51       200\n",
      "\n",
      "    accuracy                           0.44      1002\n",
      "   macro avg       0.44      0.44      0.42      1002\n",
      "weighted avg       0.44      0.44      0.42      1002\n",
      "\n",
      "****************************************************************************************************\n",
      "Supervised training on 100% of the data using Calibrated LinearSVC:\n",
      "Number of training samples: 4006\n",
      "Unlabeled samples in training set: 0\n",
      "Micro-averaged F1 score on test set: 0.474\n",
      "----------\n",
      "\n",
      "              precision    recall  f1-score   support\n",
      "\n",
      "    Egyptian       0.54      0.56      0.55       201\n",
      "        Gulf       0.33      0.17      0.22       200\n",
      "       Iraqi       0.50      0.43      0.46       200\n",
      "   Levantine       0.56      0.45      0.50       201\n",
      "    Maghrebi       0.43      0.77      0.55       200\n",
      "\n",
      "    accuracy                           0.47      1002\n",
      "   macro avg       0.47      0.47      0.46      1002\n",
      "weighted avg       0.47      0.47      0.46      1002\n",
      "\n",
      "Supervised training on 20% of the training data using Calibrated LinearSVC:\n",
      "Number of training samples: 793\n",
      "Unlabeled samples in training set: 0\n",
      "Micro-averaged F1 score on test set: 0.346\n",
      "----------\n",
      "\n",
      "              precision    recall  f1-score   support\n",
      "\n",
      "    Egyptian       0.54      0.16      0.25       201\n",
      "        Gulf       0.34      0.12      0.17       200\n",
      "       Iraqi       0.25      0.78      0.38       200\n",
      "   Levantine       0.48      0.28      0.36       201\n",
      "    Maghrebi       0.64      0.40      0.49       200\n",
      "\n",
      "    accuracy                           0.35      1002\n",
      "   macro avg       0.45      0.35      0.33      1002\n",
      "weighted avg       0.45      0.35      0.33      1002\n",
      "\n",
      "SelfTrainingClassifier with Calibrated LinearSVC on 20% labeled training data (rest unlabeled):\n",
      "Number of training samples: 4006\n",
      "Unlabeled samples in training set: 3213\n",
      "End of iteration 1, added 65 new labels.\n",
      "End of iteration 2, added 16 new labels.\n",
      "End of iteration 3, added 9 new labels.\n",
      "End of iteration 4, added 3 new labels.\n",
      "End of iteration 5, added 4 new labels.\n",
      "End of iteration 6, added 1 new labels.\n",
      "End of iteration 7, added 1 new labels.\n",
      "Micro-averaged F1 score on test set: 0.458\n",
      "----------\n",
      "\n",
      "              precision    recall  f1-score   support\n",
      "\n",
      "    Egyptian       0.53      0.45      0.49       201\n",
      "        Gulf       0.33      0.21      0.26       200\n",
      "       Iraqi       0.33      0.68      0.45       200\n",
      "   Levantine       0.55      0.36      0.43       201\n",
      "    Maghrebi       0.72      0.59      0.65       200\n",
      "\n",
      "    accuracy                           0.46      1002\n",
      "   macro avg       0.49      0.46      0.46      1002\n",
      "weighted avg       0.49      0.46      0.46      1002\n",
      "\n",
      "****************************************************************************************************\n",
      "Supervised training on 100% of the data using Calibrated PassiveAggressiveClassifier:\n",
      "Number of training samples: 4006\n",
      "Unlabeled samples in training set: 0\n",
      "Micro-averaged F1 score on test set: 0.458\n",
      "----------\n",
      "\n",
      "              precision    recall  f1-score   support\n",
      "\n",
      "    Egyptian       0.53      0.54      0.53       201\n",
      "        Gulf       0.31      0.18      0.23       200\n",
      "       Iraqi       0.50      0.41      0.45       200\n",
      "   Levantine       0.50      0.40      0.45       201\n",
      "    Maghrebi       0.43      0.76      0.55       200\n",
      "\n",
      "    accuracy                           0.46      1002\n",
      "   macro avg       0.45      0.46      0.44      1002\n",
      "weighted avg       0.45      0.46      0.44      1002\n",
      "\n",
      "Supervised training on 20% of the training data using Calibrated PassiveAggressiveClassifier:\n",
      "Number of training samples: 811\n",
      "Unlabeled samples in training set: 0\n",
      "Micro-averaged F1 score on test set: 0.341\n",
      "----------\n",
      "\n",
      "              precision    recall  f1-score   support\n",
      "\n",
      "    Egyptian       0.47      0.36      0.41       201\n",
      "        Gulf       0.26      0.10      0.14       200\n",
      "       Iraqi       0.34      0.19      0.24       200\n",
      "   Levantine       0.55      0.26      0.35       201\n",
      "    Maghrebi       0.28      0.81      0.42       200\n",
      "\n",
      "    accuracy                           0.34      1002\n",
      "   macro avg       0.38      0.34      0.31      1002\n",
      "weighted avg       0.38      0.34      0.31      1002\n",
      "\n",
      "SelfTrainingClassifier with Calibrated PassiveAggressiveClassifier on 20% labeled training data (rest unlabeled):\n",
      "Number of training samples: 4006\n",
      "Unlabeled samples in training set: 3195\n",
      "End of iteration 1, added 16 new labels.\n",
      "End of iteration 2, added 8 new labels.\n",
      "End of iteration 3, added 7 new labels.\n",
      "End of iteration 4, added 2 new labels.\n",
      "End of iteration 5, added 1 new labels.\n",
      "End of iteration 6, added 1 new labels.\n",
      "End of iteration 7, added 3 new labels.\n",
      "End of iteration 8, added 2 new labels.\n",
      "End of iteration 9, added 2 new labels.\n",
      "End of iteration 10, added 1 new labels.\n",
      "Micro-averaged F1 score on test set: 0.402\n",
      "----------\n",
      "\n",
      "              precision    recall  f1-score   support\n",
      "\n",
      "    Egyptian       0.51      0.46      0.48       201\n",
      "        Gulf       0.29      0.17      0.21       200\n",
      "       Iraqi       0.41      0.20      0.27       200\n",
      "   Levantine       0.52      0.41      0.46       201\n",
      "    Maghrebi       0.34      0.78      0.48       200\n",
      "\n",
      "    accuracy                           0.40      1002\n",
      "   macro avg       0.42      0.40      0.38      1002\n",
      "weighted avg       0.42      0.40      0.38      1002\n",
      "\n",
      "****************************************************************************************************\n",
      "Supervised training on 100% of the data using MultinomialNB:\n",
      "Number of training samples: 4006\n",
      "Unlabeled samples in training set: 0\n",
      "Micro-averaged F1 score on test set: 0.477\n",
      "----------\n",
      "\n",
      "              precision    recall  f1-score   support\n",
      "\n",
      "    Egyptian       0.51      0.56      0.54       201\n",
      "        Gulf       0.25      0.34      0.29       200\n",
      "       Iraqi       0.51      0.34      0.41       200\n",
      "   Levantine       0.52      0.50      0.51       201\n",
      "    Maghrebi       0.69      0.65      0.67       200\n",
      "\n",
      "    accuracy                           0.48      1002\n",
      "   macro avg       0.50      0.48      0.48      1002\n",
      "weighted avg       0.50      0.48      0.48      1002\n",
      "\n",
      "Supervised training on 20% of the training data using MultinomialNB:\n",
      "Number of training samples: 804\n",
      "Unlabeled samples in training set: 0\n",
      "Micro-averaged F1 score on test set: 0.286\n",
      "----------\n",
      "\n",
      "              precision    recall  f1-score   support\n",
      "\n",
      "    Egyptian       0.40      0.35      0.37       201\n",
      "        Gulf       0.21      0.57      0.31       200\n",
      "       Iraqi       0.15      0.07      0.09       200\n",
      "   Levantine       0.46      0.28      0.35       201\n",
      "    Maghrebi       0.51      0.17      0.25       200\n",
      "\n",
      "    accuracy                           0.29      1002\n",
      "   macro avg       0.34      0.29      0.27      1002\n",
      "weighted avg       0.34      0.29      0.27      1002\n",
      "\n",
      "SelfTrainingClassifier with MultinomialNB on 20% labeled training data (rest unlabeled):\n",
      "Number of training samples: 4006\n",
      "Unlabeled samples in training set: 3202\n",
      "End of iteration 1, added 20 new labels.\n",
      "End of iteration 2, added 25 new labels.\n",
      "End of iteration 3, added 26 new labels.\n",
      "End of iteration 4, added 26 new labels.\n",
      "End of iteration 5, added 16 new labels.\n",
      "End of iteration 6, added 11 new labels.\n",
      "End of iteration 7, added 10 new labels.\n",
      "End of iteration 8, added 8 new labels.\n",
      "End of iteration 9, added 2 new labels.\n",
      "End of iteration 10, added 1 new labels.\n",
      "Micro-averaged F1 score on test set: 0.401\n",
      "----------\n",
      "\n",
      "              precision    recall  f1-score   support\n",
      "\n",
      "    Egyptian       0.49      0.45      0.47       201\n",
      "        Gulf       0.33      0.13      0.19       200\n",
      "       Iraqi       0.50      0.18      0.26       200\n",
      "   Levantine       0.52      0.39      0.44       201\n",
      "    Maghrebi       0.33      0.85      0.48       200\n",
      "\n",
      "    accuracy                           0.40      1002\n",
      "   macro avg       0.43      0.40      0.37      1002\n",
      "weighted avg       0.43      0.40      0.37      1002\n",
      "\n"
     ]
    }
   ],
   "source": [
    "# Main code to iterate over classifiers and display results\n",
    "if __name__ == \"__main__\":\n",
    "    results = []\n",
    "#     # Encode labels to handle text labels properly in sklearn classifiers\n",
    "#     label_encoder = LabelEncoder()\n",
    "#     y_encoded = label_encoder.fit_transform(data.label)  # Fit on full set of labels\n",
    "\n",
    "#     X = data.sent\n",
    "#     y = y_encoded\n",
    "#     X_train, X_test, y_train, y_test = train_test_split(X, y, stratify=y, random_state=42)\n",
    "\n",
    "    # Step 1: Encode labels\n",
    "    label_encoder = LabelEncoder()\n",
    "\n",
    "    # Apply label encoding to the combined labels in both train and test sets\n",
    "    train_data['label'] = label_encoder.fit_transform(train_data['label'])\n",
    "    data_real_test['label'] = label_encoder.transform(data_real_test['label'])  # Transform using the same encoder\n",
    "\n",
    "    # Step 2: Define features (X) and labels (y) for train and test sets\n",
    "    X_train = train_data['sent']\n",
    "    y_train = train_data['label']\n",
    "    X_test = data_real_test['sent']\n",
    "    y_test = data_real_test['label']\n",
    "    \n",
    "    # Iterate over each classifier in the pipeline\n",
    "    for i in range(pipeline_creation(0, 0, True)):\n",
    "\n",
    "        print(100 * \"*\")\n",
    "        \n",
    "        # Supervised pipeline\n",
    "        pipeline, classifier_name = pipeline_creation(\"supervised\", i)\n",
    "        print(f\"Supervised training on 100% of the data using {classifier_name}:\")\n",
    "        eval_and_print_metrics(pipeline, X_train, y_train, X_test, y_test)\n",
    "        \n",
    "        # Decode labels to show original values in the classification report\n",
    "        y_test_decoded = label_encoder.inverse_transform(y_test)\n",
    "        y_pred = pipeline.predict(X_test)\n",
    "        y_pred_decoded = label_encoder.inverse_transform(y_pred)\n",
    "        report = classification_report(y_test_decoded, y_pred_decoded, output_dict=True)\n",
    "        print(classification_report(y_test_decoded, y_pred_decoded))\n",
    "        \n",
    "        # Save results for Supervised 100%\n",
    "        results.append({\n",
    "            'Classifier': classifier_name,\n",
    "            'Setting': 'Supervised 100%',\n",
    "            'Accuracy': report['accuracy'],\n",
    "            'F1-Score': report['macro avg']['f1-score']\n",
    "        })\n",
    "\n",
    "        # 20% labeled data setup\n",
    "        y_mask = np.random.rand(len(y_train)) < 0.2  # Random mask for 20% of the data\n",
    "        X_20, y_20 = map(list, zip(*((x, y) for x, y, m in zip(X_train, y_train, y_mask) if m)))\n",
    "        print(f\"Supervised training on 20% of the training data using {classifier_name}:\")\n",
    "        eval_and_print_metrics(pipeline, X_20, y_20, X_test, y_test)\n",
    "\n",
    "        # Decode labels for partial training classification report\n",
    "        y_pred_partial = pipeline.predict(X_test)\n",
    "        y_pred_partial_decoded = label_encoder.inverse_transform(y_pred_partial)\n",
    "        report_partial = classification_report(y_test_decoded, y_pred_partial_decoded, output_dict=True)\n",
    "        print(classification_report(y_test_decoded, y_pred_partial_decoded))\n",
    "\n",
    "        # Save results for Supervised 20%\n",
    "        results.append({\n",
    "            'Classifier': classifier_name,\n",
    "            'Setting': 'Supervised 20%',\n",
    "            'Accuracy': report_partial['accuracy'],\n",
    "            'F1-Score': report_partial['macro avg']['f1-score']\n",
    "        })\n",
    "\n",
    "        # Semi-supervised pipeline with self-training\n",
    "        st_pipeline, st_classifier_name = pipeline_creation(\"semi-supervised\", i)\n",
    "        y_train_semi = np.copy(y_train)  # Copy to modify labels for self-training\n",
    "        y_train_semi[~y_mask] = -1  # Unlabel the non-masked subset\n",
    "\n",
    "        print(f\"{st_classifier_name} on 20% labeled training data (rest unlabeled):\")\n",
    "        eval_and_print_metrics(st_pipeline, X_train, y_train_semi, X_test, y_test)\n",
    "\n",
    "        # Decode labels for semi-supervised classification report\n",
    "        y_pred_semi = st_pipeline.predict(X_test)\n",
    "        y_pred_semi_decoded = label_encoder.inverse_transform(y_pred_semi)\n",
    "        report_semi = classification_report(y_test_decoded, y_pred_semi_decoded, output_dict=True)\n",
    "        print(classification_report(y_test_decoded, y_pred_semi_decoded))\n",
    "\n",
    "        # Save results for Self-Training\n",
    "        results.append({\n",
    "            'Classifier': classifier_name,\n",
    "            'Setting': 'Self-Training',\n",
    "            'Accuracy': report_semi['accuracy'],\n",
    "            'F1-Score': report_semi['macro avg']['f1-score']\n",
    "        })\n"
   ]
  },
  {
   "cell_type": "code",
   "execution_count": 23,
   "id": "c3bb5e1d",
   "metadata": {
    "execution": {
     "iopub.execute_input": "2024-11-16T10:39:11.418148Z",
     "iopub.status.busy": "2024-11-16T10:39:11.417732Z",
     "iopub.status.idle": "2024-11-16T10:39:12.142310Z",
     "shell.execute_reply": "2024-11-16T10:39:12.141251Z"
    },
    "papermill": {
     "duration": 0.739601,
     "end_time": "2024-11-16T10:39:12.145631",
     "exception": false,
     "start_time": "2024-11-16T10:39:11.406030",
     "status": "completed"
    },
    "tags": []
   },
   "outputs": [
    {
     "data": {
      "image/png": "[encoded data removed]",
      "text/plain": [
       "<Figure size 1200x1000 with 2 Axes>"
      ]
     },
     "metadata": {},
     "output_type": "display_data"
    }
   ],
   "source": [
    "\n",
    "# Plotting\n",
    "results_df = pd.DataFrame.from_dict(results)\n",
    "fig, axes = plt.subplots(2, 1, figsize=(12, 10))\n",
    "\n",
    "# Accuracy plot\n",
    "accuracy_df = results_df.pivot(index=\"Classifier\", columns=\"Setting\", values=\"Accuracy\")\n",
    "accuracy_df.plot(kind=\"bar\", ax=axes[0], color=[\"#4daf4a\", \"#377eb8\", \"#e41a1c\"])\n",
    "axes[0].set_title(\"Accuracy Comparison by Classifier and Setting\")\n",
    "axes[0].set_ylabel(\"Accuracy\")\n",
    "axes[0].set_xlabel(\"Classifier\")\n",
    "axes[0].legend(title=\"Setting\", loc=\"center left\", bbox_to_anchor=(1.0, 0.5))\n",
    "axes[0].tick_params(axis='x', rotation=45)\n",
    "\n",
    "# F1-Score plot\n",
    "f1_df = results_df.pivot(index=\"Classifier\", columns=\"Setting\", values=\"F1-Score\")\n",
    "f1_df.plot(kind=\"bar\", ax=axes[1], color=[\"#4daf4a\", \"#377eb8\", \"#e41a1c\"])\n",
    "axes[1].set_title(\"F1-Score Comparison by Classifier and Setting\")\n",
    "axes[1].set_ylabel(\"F1-Score\")\n",
    "axes[1].set_xlabel(\"Classifier\")\n",
    "axes[1].legend(title=\"Setting\", loc=\"center left\", bbox_to_anchor=(1.0, 0.5))\n",
    "axes[1].tick_params(axis='x', rotation=45)\n",
    "\n",
    "# Adjust layout\n",
    "plt.tight_layout()\n",
    "plt.show()\n"
   ]
  },
  {
   "cell_type": "code",
   "execution_count": 24,
   "id": "2fba5114",
   "metadata": {
    "execution": {
     "iopub.execute_input": "2024-11-16T10:39:12.174105Z",
     "iopub.status.busy": "2024-11-16T10:39:12.173648Z",
     "iopub.status.idle": "2024-11-16T10:39:12.193477Z",
     "shell.execute_reply": "2024-11-16T10:39:12.192479Z"
    },
    "papermill": {
     "duration": 0.036947,
     "end_time": "2024-11-16T10:39:12.195844",
     "exception": false,
     "start_time": "2024-11-16T10:39:12.158897",
     "status": "completed"
    },
    "tags": []
   },
   "outputs": [
    {
     "name": "stdout",
     "output_type": "stream",
     "text": [
      "Comparison of Classifier Performance by Setting\n"
     ]
    },
    {
     "data": {
      "text/html": [
       "<div>\n",
       "<style scoped>\n",
       "    .dataframe tbody tr th:only-of-type {\n",
       "        vertical-align: middle;\n",
       "    }\n",
       "\n",
       "    .dataframe tbody tr th {\n",
       "        vertical-align: top;\n",
       "    }\n",
       "\n",
       "    .dataframe thead tr th {\n",
       "        text-align: left;\n",
       "    }\n",
       "\n",
       "    .dataframe thead tr:last-of-type th {\n",
       "        text-align: right;\n",
       "    }\n",
       "</style>\n",
       "<table border=\"1\" class=\"dataframe\">\n",
       "  <thead>\n",
       "    <tr>\n",
       "      <th></th>\n",
       "      <th colspan=\"3\" halign=\"left\">Accuracy</th>\n",
       "    </tr>\n",
       "    <tr>\n",
       "      <th>Setting</th>\n",
       "      <th>Self-Training</th>\n",
       "      <th>Supervised 100%</th>\n",
       "      <th>Supervised 20%</th>\n",
       "    </tr>\n",
       "    <tr>\n",
       "      <th>Classifier</th>\n",
       "      <th></th>\n",
       "      <th></th>\n",
       "      <th></th>\n",
       "    </tr>\n",
       "  </thead>\n",
       "  <tbody>\n",
       "    <tr>\n",
       "      <th>Calibrated LinearSVC</th>\n",
       "      <td>0.458084</td>\n",
       "      <td>0.474052</td>\n",
       "      <td>0.346307</td>\n",
       "    </tr>\n",
       "    <tr>\n",
       "      <th>Calibrated PassiveAggressiveClassifier</th>\n",
       "      <td>0.402196</td>\n",
       "      <td>0.458084</td>\n",
       "      <td>0.341317</td>\n",
       "    </tr>\n",
       "    <tr>\n",
       "      <th>LogisticRegression</th>\n",
       "      <td>0.436128</td>\n",
       "      <td>0.487026</td>\n",
       "      <td>0.337325</td>\n",
       "    </tr>\n",
       "    <tr>\n",
       "      <th>MultinomialNB</th>\n",
       "      <td>0.401198</td>\n",
       "      <td>0.477046</td>\n",
       "      <td>0.286427</td>\n",
       "    </tr>\n",
       "    <tr>\n",
       "      <th>SGDClassifier</th>\n",
       "      <td>0.416168</td>\n",
       "      <td>0.465070</td>\n",
       "      <td>0.335329</td>\n",
       "    </tr>\n",
       "  </tbody>\n",
       "</table>\n",
       "</div>"
      ],
      "text/plain": [
       "                                            Accuracy                  \\\n",
       "Setting                                Self-Training Supervised 100%   \n",
       "Classifier                                                             \n",
       "Calibrated LinearSVC                        0.458084        0.474052   \n",
       "Calibrated PassiveAggressiveClassifier      0.402196        0.458084   \n",
       "LogisticRegression                          0.436128        0.487026   \n",
       "MultinomialNB                               0.401198        0.477046   \n",
       "SGDClassifier                               0.416168        0.465070   \n",
       "\n",
       "                                                       \n",
       "Setting                                Supervised 20%  \n",
       "Classifier                                             \n",
       "Calibrated LinearSVC                         0.346307  \n",
       "Calibrated PassiveAggressiveClassifier       0.341317  \n",
       "LogisticRegression                           0.337325  \n",
       "MultinomialNB                                0.286427  \n",
       "SGDClassifier                                0.335329  "
      ]
     },
     "execution_count": 24,
     "metadata": {},
     "output_type": "execute_result"
    }
   ],
   "source": [
    "# Pivot the DataFrame to reorganize for comparison\n",
    "comparison_df = results_df.pivot(index=\"Classifier\", columns=\"Setting\", values=[\"Accuracy\"])\n",
    "\n",
    "# Display the formatted table\n",
    "print(\"Comparison of Classifier Performance by Setting\")\n",
    "comparison_df"
   ]
  },
  {
   "cell_type": "code",
   "execution_count": 25,
   "id": "2aeca2c4",
   "metadata": {
    "execution": {
     "iopub.execute_input": "2024-11-16T10:39:12.223692Z",
     "iopub.status.busy": "2024-11-16T10:39:12.223024Z",
     "iopub.status.idle": "2024-11-16T10:39:12.240580Z",
     "shell.execute_reply": "2024-11-16T10:39:12.239579Z"
    },
    "papermill": {
     "duration": 0.034261,
     "end_time": "2024-11-16T10:39:12.242977",
     "exception": false,
     "start_time": "2024-11-16T10:39:12.208716",
     "status": "completed"
    },
    "tags": []
   },
   "outputs": [
    {
     "name": "stdout",
     "output_type": "stream",
     "text": [
      "Comparison of Classifier Performance by Setting\n"
     ]
    },
    {
     "data": {
      "text/html": [
       "<div>\n",
       "<style scoped>\n",
       "    .dataframe tbody tr th:only-of-type {\n",
       "        vertical-align: middle;\n",
       "    }\n",
       "\n",
       "    .dataframe tbody tr th {\n",
       "        vertical-align: top;\n",
       "    }\n",
       "\n",
       "    .dataframe thead tr th {\n",
       "        text-align: left;\n",
       "    }\n",
       "\n",
       "    .dataframe thead tr:last-of-type th {\n",
       "        text-align: right;\n",
       "    }\n",
       "</style>\n",
       "<table border=\"1\" class=\"dataframe\">\n",
       "  <thead>\n",
       "    <tr>\n",
       "      <th></th>\n",
       "      <th colspan=\"3\" halign=\"left\">F1-Score</th>\n",
       "    </tr>\n",
       "    <tr>\n",
       "      <th>Setting</th>\n",
       "      <th>Self-Training</th>\n",
       "      <th>Supervised 100%</th>\n",
       "      <th>Supervised 20%</th>\n",
       "    </tr>\n",
       "    <tr>\n",
       "      <th>Classifier</th>\n",
       "      <th></th>\n",
       "      <th></th>\n",
       "      <th></th>\n",
       "    </tr>\n",
       "  </thead>\n",
       "  <tbody>\n",
       "    <tr>\n",
       "      <th>Calibrated LinearSVC</th>\n",
       "      <td>0.455167</td>\n",
       "      <td>0.455873</td>\n",
       "      <td>0.327340</td>\n",
       "    </tr>\n",
       "    <tr>\n",
       "      <th>Calibrated PassiveAggressiveClassifier</th>\n",
       "      <td>0.380220</td>\n",
       "      <td>0.441540</td>\n",
       "      <td>0.312228</td>\n",
       "    </tr>\n",
       "    <tr>\n",
       "      <th>LogisticRegression</th>\n",
       "      <td>0.415785</td>\n",
       "      <td>0.468032</td>\n",
       "      <td>0.304987</td>\n",
       "    </tr>\n",
       "    <tr>\n",
       "      <th>MultinomialNB</th>\n",
       "      <td>0.368818</td>\n",
       "      <td>0.481873</td>\n",
       "      <td>0.273380</td>\n",
       "    </tr>\n",
       "    <tr>\n",
       "      <th>SGDClassifier</th>\n",
       "      <td>0.385403</td>\n",
       "      <td>0.446245</td>\n",
       "      <td>0.308328</td>\n",
       "    </tr>\n",
       "  </tbody>\n",
       "</table>\n",
       "</div>"
      ],
      "text/plain": [
       "                                            F1-Score                  \\\n",
       "Setting                                Self-Training Supervised 100%   \n",
       "Classifier                                                             \n",
       "Calibrated LinearSVC                        0.455167        0.455873   \n",
       "Calibrated PassiveAggressiveClassifier      0.380220        0.441540   \n",
       "LogisticRegression                          0.415785        0.468032   \n",
       "MultinomialNB                               0.368818        0.481873   \n",
       "SGDClassifier                               0.385403        0.446245   \n",
       "\n",
       "                                                       \n",
       "Setting                                Supervised 20%  \n",
       "Classifier                                             \n",
       "Calibrated LinearSVC                         0.327340  \n",
       "Calibrated PassiveAggressiveClassifier       0.312228  \n",
       "LogisticRegression                           0.304987  \n",
       "MultinomialNB                                0.273380  \n",
       "SGDClassifier                                0.308328  "
      ]
     },
     "execution_count": 25,
     "metadata": {},
     "output_type": "execute_result"
    }
   ],
   "source": [
    "# Pivot the DataFrame to reorganize for comparison\n",
    "comparison_df = results_df.pivot(index=\"Classifier\", columns=\"Setting\", values=[\"F1-Score\"])\n",
    "\n",
    "# Display the formatted table\n",
    "print(\"Comparison of Classifier Performance by Setting\")\n",
    "comparison_df"
   ]
  }
 ],
 "metadata": {
  "kaggle": {
   "accelerator": "none",
   "dataSources": [
    {
     "datasetId": 6068996,
     "sourceId": 9883544,
     "sourceType": "datasetVersion"
    },
    {
     "datasetId": 6071343,
     "sourceId": 9886592,
     "sourceType": "datasetVersion"
    },
    {
     "datasetId": 6077150,
     "sourceId": 9894375,
     "sourceType": "datasetVersion"
    },
    {
     "datasetId": 6098689,
     "sourceId": 9922906,
     "sourceType": "datasetVersion"
    }
   ],
   "dockerImageVersionId": 30786,
   "isGpuEnabled": false,
   "isInternetEnabled": true,
   "language": "python",
   "sourceType": "notebook"
  },
  "kernelspec": {
   "display_name": "Python 3",
   "language": "python",
   "name": "python3"
  },
  "language_info": {
   "codemirror_mode": {
    "name": "ipython",
    "version": 3
   },
   "file_extension": ".py",
   "mimetype": "text/x-python",
   "name": "python",
   "nbconvert_exporter": "python",
   "pygments_lexer": "ipython3",
   "version": "3.10.14"
  },
  "papermill": {
   "default_parameters": {},
   "duration": 14.389969,
   "end_time": "2024-11-16T10:39:12.877809",
   "environment_variables": {},
   "exception": null,
   "input_path": "__notebook__.ipynb",
   "output_path": "__notebook__.ipynb",
   "parameters": {},
   "start_time": "2024-11-16T10:38:58.487840",
   "version": "2.6.0"
  }
 },
 "nbformat": 4,
 "nbformat_minor": 5
}
