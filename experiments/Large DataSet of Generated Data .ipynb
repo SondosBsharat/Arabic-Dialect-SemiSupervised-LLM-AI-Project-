{
 "cells": [
  {
   "cell_type": "markdown",
   "id": "08647060",
   "metadata": {
    "papermill": {
     "duration": 0.007011,
     "end_time": "2024-11-16T10:23:57.779167",
     "exception": false,
     "start_time": "2024-11-16T10:23:57.772156",
     "status": "completed"
    },
    "tags": []
   },
   "source": [
    "# 2️⃣Large DataSet of Generated Data - No preprocessing\n",
    "\n",
    "- Combining the GPT-4mini and GPT-4o dataset, each contribute to 50% of the generated dataset"
   ]
  },
  {
   "cell_type": "markdown",
   "id": "b4a7af78",
   "metadata": {
    "_cell_guid": "b1076dfc-b9ad-4769-8c92-a6c4dae69d19",
    "_uuid": "8f2839f25d086af736a60e9eeb907d3b93b6e0e5",
    "papermill": {
     "duration": 0.005174,
     "end_time": "2024-11-16T10:23:57.790569",
     "exception": false,
     "start_time": "2024-11-16T10:23:57.785395",
     "status": "completed"
    },
    "tags": []
   },
   "source": [
    "# Semi-Supervised Learning (Self-Training) reverse 🔀\n",
    "\n",
    "* Semi-Supervised Learning combines labeled and unlabeled examples\n",
    "* In self-Training, you could convert a Supervised Machine Learning algorithm to a semi-supervised one\n",
    "\n",
    "### **Steps** ✨\n",
    "1. Train supervised model using labeled data\n",
    "2. Make predictions on unlabeled data using the model from the previous step\n",
    "3. Take predictions satisfying probability threshold criteria and add them to the pseudo-labeled set\n",
    "4. combine the labeled and pseudo-labeled data and train the next verion of the model\n",
    "5. Make predictions on the remaining unlabeled data using this model of step 4\n",
    "6. Take predictions satisfying the probability threshold and add them to an existing pseudo-labeled set\n",
    "\n",
    "### **References:** 🔗\n",
    "* https://www.kaggle.com/code/sasakitetsuya/semi-supervised-classification-on-a-text-dataset \n",
    "* https://scikit-learn.ru/example/semi-supervised-classification-on-a-text-dataset/\n"
   ]
  },
  {
   "cell_type": "markdown",
   "id": "e6034600",
   "metadata": {
    "papermill": {
     "duration": 0.005083,
     "end_time": "2024-11-16T10:23:57.801034",
     "exception": false,
     "start_time": "2024-11-16T10:23:57.795951",
     "status": "completed"
    },
    "tags": []
   },
   "source": [
    "## Importing "
   ]
  },
  {
   "cell_type": "code",
   "execution_count": 1,
   "id": "888e0897",
   "metadata": {
    "execution": {
     "iopub.execute_input": "2024-11-16T10:23:57.813648Z",
     "iopub.status.busy": "2024-11-16T10:23:57.813237Z",
     "iopub.status.idle": "2024-11-16T10:23:58.819800Z",
     "shell.execute_reply": "2024-11-16T10:23:58.818579Z"
    },
    "papermill": {
     "duration": 1.015828,
     "end_time": "2024-11-16T10:23:58.822399",
     "exception": false,
     "start_time": "2024-11-16T10:23:57.806571",
     "status": "completed"
    },
    "tags": []
   },
   "outputs": [
    {
     "name": "stdout",
     "output_type": "stream",
     "text": [
      "/kaggle/input/larger-dialects/Arabic_dialects_Larger.csv\n",
      "/kaggle/input/generated-data4o/generated_data_4o.csv\n",
      "/kaggle/input/generated-data/generated_data.csv\n",
      "/kaggle/input/arabic-real-data-dialects/Arabic_dialects.csv\n"
     ]
    }
   ],
   "source": [
    "import warnings\n",
    "warnings.filterwarnings(\"ignore\", category=FutureWarning)\n",
    "import numpy as np # linear algebra\n",
    "import pandas as pd # data processing, CSV file I/O (e.g. pd.read_csv)\n",
    "import matplotlib.pyplot as plt\n",
    "\n",
    "import os\n",
    "for dirname, _, filenames in os.walk('/kaggle/input'):\n",
    "    for filename in filenames:\n",
    "        print(os.path.join(dirname, filename))"
   ]
  },
  {
   "cell_type": "code",
   "execution_count": 2,
   "id": "ab81b123",
   "metadata": {
    "execution": {
     "iopub.execute_input": "2024-11-16T10:23:58.835458Z",
     "iopub.status.busy": "2024-11-16T10:23:58.834868Z",
     "iopub.status.idle": "2024-11-16T10:24:01.286069Z",
     "shell.execute_reply": "2024-11-16T10:24:01.284768Z"
    },
    "papermill": {
     "duration": 2.460968,
     "end_time": "2024-11-16T10:24:01.288923",
     "exception": false,
     "start_time": "2024-11-16T10:23:58.827955",
     "status": "completed"
    },
    "tags": []
   },
   "outputs": [],
   "source": [
    "from sklearn.feature_extraction.text import CountVectorizer\n",
    "from sklearn.feature_extraction.text import TfidfTransformer\n",
    "from sklearn.preprocessing import FunctionTransformer\n",
    "from sklearn.preprocessing import LabelEncoder\n",
    "from sklearn.calibration import CalibratedClassifierCV\n",
    "from sklearn.naive_bayes import MultinomialNB\n",
    "#==============================================different Linear classifiers\n",
    "from sklearn.linear_model import LogisticRegression, SGDClassifier, PassiveAggressiveClassifier, RidgeClassifier\n",
    "from sklearn.svm import LinearSVC\n",
    "#=====================================================\n",
    "from sklearn.model_selection import train_test_split\n",
    "from sklearn.pipeline import Pipeline\n",
    "from sklearn.semi_supervised import SelfTrainingClassifier\n",
    "from sklearn.semi_supervised import LabelSpreading\n",
    "from sklearn.metrics import f1_score\n",
    "from sklearn.metrics import classification_report\n",
    "\n",
    "import re\n",
    "import nltk\n",
    "from nltk.corpus import stopwords"
   ]
  },
  {
   "cell_type": "code",
   "execution_count": 3,
   "id": "950080ba",
   "metadata": {
    "execution": {
     "iopub.execute_input": "2024-11-16T10:24:01.302346Z",
     "iopub.status.busy": "2024-11-16T10:24:01.301702Z",
     "iopub.status.idle": "2024-11-16T10:24:01.374302Z",
     "shell.execute_reply": "2024-11-16T10:24:01.373029Z"
    },
    "papermill": {
     "duration": 0.082465,
     "end_time": "2024-11-16T10:24:01.377112",
     "exception": false,
     "start_time": "2024-11-16T10:24:01.294647",
     "status": "completed"
    },
    "tags": []
   },
   "outputs": [],
   "source": [
    "data1=pd.read_csv('/kaggle/input/generated-data/generated_data.csv')\n",
    "data2=pd.read_csv('/kaggle/input/generated-data4o/generated_data_4o.csv')\n",
    "# Combine the two datasets\n",
    "data = pd.concat([data1, data2], ignore_index=True)\n",
    "\n"
   ]
  },
  {
   "cell_type": "markdown",
   "id": "249b2f22",
   "metadata": {
    "papermill": {
     "duration": 0.005267,
     "end_time": "2024-11-16T10:24:01.389313",
     "exception": false,
     "start_time": "2024-11-16T10:24:01.384046",
     "status": "completed"
    },
    "tags": []
   },
   "source": [
    "## Data Preprocessing"
   ]
  },
  {
   "cell_type": "code",
   "execution_count": 4,
   "id": "e4bc23e3",
   "metadata": {
    "execution": {
     "iopub.execute_input": "2024-11-16T10:24:01.403438Z",
     "iopub.status.busy": "2024-11-16T10:24:01.402264Z",
     "iopub.status.idle": "2024-11-16T10:24:01.424261Z",
     "shell.execute_reply": "2024-11-16T10:24:01.423106Z"
    },
    "papermill": {
     "duration": 0.031488,
     "end_time": "2024-11-16T10:24:01.426724",
     "exception": false,
     "start_time": "2024-11-16T10:24:01.395236",
     "status": "completed"
    },
    "tags": []
   },
   "outputs": [
    {
     "data": {
      "text/html": [
       "<div>\n",
       "<style scoped>\n",
       "    .dataframe tbody tr th:only-of-type {\n",
       "        vertical-align: middle;\n",
       "    }\n",
       "\n",
       "    .dataframe tbody tr th {\n",
       "        vertical-align: top;\n",
       "    }\n",
       "\n",
       "    .dataframe thead th {\n",
       "        text-align: right;\n",
       "    }\n",
       "</style>\n",
       "<table border=\"1\" class=\"dataframe\">\n",
       "  <thead>\n",
       "    <tr style=\"text-align: right;\">\n",
       "      <th></th>\n",
       "      <th>Unnamed: 0</th>\n",
       "      <th>Text</th>\n",
       "      <th>label</th>\n",
       "    </tr>\n",
       "  </thead>\n",
       "  <tbody>\n",
       "    <tr>\n",
       "      <th>0</th>\n",
       "      <td>0</td>\n",
       "      <td>شرب الشاي مع النعناع، في وقت الاسترخاء.</td>\n",
       "      <td>Levantine</td>\n",
       "    </tr>\n",
       "    <tr>\n",
       "      <th>1</th>\n",
       "      <td>1</td>\n",
       "      <td>أمك شلونها، تحسنت صحتها بعد العملية؟</td>\n",
       "      <td>Iraqi</td>\n",
       "    </tr>\n",
       "    <tr>\n",
       "      <th>2</th>\n",
       "      <td>2</td>\n",
       "      <td>ذهبت لزيارة الأخت، وأحببت الجلسة معها.</td>\n",
       "      <td>Gulf</td>\n",
       "    </tr>\n",
       "    <tr>\n",
       "      <th>3</th>\n",
       "      <td>3</td>\n",
       "      <td>سمعت إنه فيه فرقة جديدة عم تتكون، بدها جماهير ...</td>\n",
       "      <td>Levantine</td>\n",
       "    </tr>\n",
       "    <tr>\n",
       "      <th>4</th>\n",
       "      <td>4</td>\n",
       "      <td>خطر لي، هل فعلا نقدر نحب جميعًا؟</td>\n",
       "      <td>Iraqi</td>\n",
       "    </tr>\n",
       "  </tbody>\n",
       "</table>\n",
       "</div>"
      ],
      "text/plain": [
       "   Unnamed: 0                                               Text      label\n",
       "0           0          شرب الشاي مع النعناع، في وقت الاسترخاء.    Levantine\n",
       "1           1             أمك شلونها، تحسنت صحتها بعد العملية؟        Iraqi\n",
       "2           2           ذهبت لزيارة الأخت، وأحببت الجلسة معها.         Gulf\n",
       "3           3  سمعت إنه فيه فرقة جديدة عم تتكون، بدها جماهير ...  Levantine\n",
       "4           4                 خطر لي، هل فعلا نقدر نحب جميعًا؟        Iraqi"
      ]
     },
     "execution_count": 4,
     "metadata": {},
     "output_type": "execute_result"
    }
   ],
   "source": [
    "data.head()"
   ]
  },
  {
   "cell_type": "code",
   "execution_count": 5,
   "id": "9d4e7082",
   "metadata": {
    "execution": {
     "iopub.execute_input": "2024-11-16T10:24:01.440822Z",
     "iopub.status.busy": "2024-11-16T10:24:01.440418Z",
     "iopub.status.idle": "2024-11-16T10:24:01.447904Z",
     "shell.execute_reply": "2024-11-16T10:24:01.446781Z"
    },
    "papermill": {
     "duration": 0.017612,
     "end_time": "2024-11-16T10:24:01.450271",
     "exception": false,
     "start_time": "2024-11-16T10:24:01.432659",
     "status": "completed"
    },
    "tags": []
   },
   "outputs": [
    {
     "data": {
      "text/plain": [
       "Index(['Unnamed: 0', 'Text', 'label'], dtype='object')"
      ]
     },
     "execution_count": 5,
     "metadata": {},
     "output_type": "execute_result"
    }
   ],
   "source": [
    "data.columns"
   ]
  },
  {
   "cell_type": "code",
   "execution_count": 6,
   "id": "33a02bd0",
   "metadata": {
    "execution": {
     "iopub.execute_input": "2024-11-16T10:24:01.464594Z",
     "iopub.status.busy": "2024-11-16T10:24:01.464159Z",
     "iopub.status.idle": "2024-11-16T10:24:01.485352Z",
     "shell.execute_reply": "2024-11-16T10:24:01.484080Z"
    },
    "papermill": {
     "duration": 0.031311,
     "end_time": "2024-11-16T10:24:01.487739",
     "exception": false,
     "start_time": "2024-11-16T10:24:01.456428",
     "status": "completed"
    },
    "tags": []
   },
   "outputs": [
    {
     "data": {
      "text/html": [
       "<div>\n",
       "<style scoped>\n",
       "    .dataframe tbody tr th:only-of-type {\n",
       "        vertical-align: middle;\n",
       "    }\n",
       "\n",
       "    .dataframe tbody tr th {\n",
       "        vertical-align: top;\n",
       "    }\n",
       "\n",
       "    .dataframe thead th {\n",
       "        text-align: right;\n",
       "    }\n",
       "</style>\n",
       "<table border=\"1\" class=\"dataframe\">\n",
       "  <thead>\n",
       "    <tr style=\"text-align: right;\">\n",
       "      <th></th>\n",
       "      <th>Text</th>\n",
       "      <th>label</th>\n",
       "    </tr>\n",
       "  </thead>\n",
       "  <tbody>\n",
       "    <tr>\n",
       "      <th>0</th>\n",
       "      <td>شرب الشاي مع النعناع، في وقت الاسترخاء.</td>\n",
       "      <td>Levantine</td>\n",
       "    </tr>\n",
       "    <tr>\n",
       "      <th>1</th>\n",
       "      <td>أمك شلونها، تحسنت صحتها بعد العملية؟</td>\n",
       "      <td>Iraqi</td>\n",
       "    </tr>\n",
       "    <tr>\n",
       "      <th>2</th>\n",
       "      <td>ذهبت لزيارة الأخت، وأحببت الجلسة معها.</td>\n",
       "      <td>Gulf</td>\n",
       "    </tr>\n",
       "    <tr>\n",
       "      <th>3</th>\n",
       "      <td>سمعت إنه فيه فرقة جديدة عم تتكون، بدها جماهير ...</td>\n",
       "      <td>Levantine</td>\n",
       "    </tr>\n",
       "    <tr>\n",
       "      <th>4</th>\n",
       "      <td>خطر لي، هل فعلا نقدر نحب جميعًا؟</td>\n",
       "      <td>Iraqi</td>\n",
       "    </tr>\n",
       "    <tr>\n",
       "      <th>...</th>\n",
       "      <td>...</td>\n",
       "      <td>...</td>\n",
       "    </tr>\n",
       "    <tr>\n",
       "      <th>12495</th>\n",
       "      <td>فين ممكن نلقاو فرص العمل فهاد المدينة؟</td>\n",
       "      <td>Maghrebi</td>\n",
       "    </tr>\n",
       "    <tr>\n",
       "      <th>12496</th>\n",
       "      <td>النهجة الجديدة بالمدارس شجعت كثير من الطلاب.</td>\n",
       "      <td>Iraqi</td>\n",
       "    </tr>\n",
       "    <tr>\n",
       "      <th>12497</th>\n",
       "      <td>الله يكمل على خير زواجكم.</td>\n",
       "      <td>Iraqi</td>\n",
       "    </tr>\n",
       "    <tr>\n",
       "      <th>12498</th>\n",
       "      <td>المسلسل التراجيدي العراقي نجح نجاح غير متوقع.</td>\n",
       "      <td>Iraqi</td>\n",
       "    </tr>\n",
       "    <tr>\n",
       "      <th>12499</th>\n",
       "      <td>الأستاذ شرح الدرس بطريقة ممتعة.</td>\n",
       "      <td>Egyptian</td>\n",
       "    </tr>\n",
       "  </tbody>\n",
       "</table>\n",
       "<p>12500 rows × 2 columns</p>\n",
       "</div>"
      ],
      "text/plain": [
       "                                                    Text      label\n",
       "0              شرب الشاي مع النعناع، في وقت الاسترخاء.    Levantine\n",
       "1                 أمك شلونها، تحسنت صحتها بعد العملية؟        Iraqi\n",
       "2               ذهبت لزيارة الأخت، وأحببت الجلسة معها.         Gulf\n",
       "3      سمعت إنه فيه فرقة جديدة عم تتكون، بدها جماهير ...  Levantine\n",
       "4                     خطر لي، هل فعلا نقدر نحب جميعًا؟        Iraqi\n",
       "...                                                  ...        ...\n",
       "12495           فين ممكن نلقاو فرص العمل فهاد المدينة؟     Maghrebi\n",
       "12496       النهجة الجديدة بالمدارس شجعت كثير من الطلاب.      Iraqi\n",
       "12497                          الله يكمل على خير زواجكم.      Iraqi\n",
       "12498      المسلسل التراجيدي العراقي نجح نجاح غير متوقع.      Iraqi\n",
       "12499                    الأستاذ شرح الدرس بطريقة ممتعة.   Egyptian\n",
       "\n",
       "[12500 rows x 2 columns]"
      ]
     },
     "execution_count": 6,
     "metadata": {},
     "output_type": "execute_result"
    }
   ],
   "source": [
    "data.drop(['Unnamed: 0'], axis=1)"
   ]
  },
  {
   "cell_type": "code",
   "execution_count": 7,
   "id": "f0e93a36",
   "metadata": {
    "execution": {
     "iopub.execute_input": "2024-11-16T10:24:01.502393Z",
     "iopub.status.busy": "2024-11-16T10:24:01.501971Z",
     "iopub.status.idle": "2024-11-16T10:24:01.508192Z",
     "shell.execute_reply": "2024-11-16T10:24:01.506866Z"
    },
    "papermill": {
     "duration": 0.016659,
     "end_time": "2024-11-16T10:24:01.510891",
     "exception": false,
     "start_time": "2024-11-16T10:24:01.494232",
     "status": "completed"
    },
    "tags": []
   },
   "outputs": [],
   "source": [
    "data.rename(columns={'Text': 'sent'},inplace=True, errors='raise')"
   ]
  },
  {
   "cell_type": "code",
   "execution_count": 8,
   "id": "d3684285",
   "metadata": {
    "execution": {
     "iopub.execute_input": "2024-11-16T10:24:01.525145Z",
     "iopub.status.busy": "2024-11-16T10:24:01.524681Z",
     "iopub.status.idle": "2024-11-16T10:24:01.538024Z",
     "shell.execute_reply": "2024-11-16T10:24:01.536873Z"
    },
    "papermill": {
     "duration": 0.023251,
     "end_time": "2024-11-16T10:24:01.540374",
     "exception": false,
     "start_time": "2024-11-16T10:24:01.517123",
     "status": "completed"
    },
    "tags": []
   },
   "outputs": [],
   "source": [
    "label_counts = data['label'].value_counts()"
   ]
  },
  {
   "cell_type": "code",
   "execution_count": 9,
   "id": "ce97efc9",
   "metadata": {
    "execution": {
     "iopub.execute_input": "2024-11-16T10:24:01.554830Z",
     "iopub.status.busy": "2024-11-16T10:24:01.554402Z",
     "iopub.status.idle": "2024-11-16T10:24:01.563193Z",
     "shell.execute_reply": "2024-11-16T10:24:01.561950Z"
    },
    "papermill": {
     "duration": 0.018834,
     "end_time": "2024-11-16T10:24:01.565526",
     "exception": false,
     "start_time": "2024-11-16T10:24:01.546692",
     "status": "completed"
    },
    "tags": []
   },
   "outputs": [
    {
     "data": {
      "text/plain": [
       "label\n",
       "Levantine    2500\n",
       "Iraqi        2500\n",
       "Gulf         2500\n",
       "Egyptian     2500\n",
       "Maghrebi     2500\n",
       "Name: count, dtype: int64"
      ]
     },
     "execution_count": 9,
     "metadata": {},
     "output_type": "execute_result"
    }
   ],
   "source": [
    "label_counts"
   ]
  },
  {
   "cell_type": "markdown",
   "id": "ff5f91a4",
   "metadata": {
    "papermill": {
     "duration": 0.006008,
     "end_time": "2024-11-16T10:24:01.578087",
     "exception": false,
     "start_time": "2024-11-16T10:24:01.572079",
     "status": "completed"
    },
    "tags": []
   },
   "source": [
    "## Modeling"
   ]
  },
  {
   "cell_type": "code",
   "execution_count": 10,
   "id": "339d5205",
   "metadata": {
    "execution": {
     "iopub.execute_input": "2024-11-16T10:24:01.592579Z",
     "iopub.status.busy": "2024-11-16T10:24:01.592130Z",
     "iopub.status.idle": "2024-11-16T10:24:01.599847Z",
     "shell.execute_reply": "2024-11-16T10:24:01.598698Z"
    },
    "papermill": {
     "duration": 0.01776,
     "end_time": "2024-11-16T10:24:01.602232",
     "exception": false,
     "start_time": "2024-11-16T10:24:01.584472",
     "status": "completed"
    },
    "tags": []
   },
   "outputs": [],
   "source": [
    "sdg_params = dict(alpha=1e-5, penalty='l2', loss='log')\n",
    "arabic_stop_words = [\n",
    "    \"و\", \"في\", \"على\", \"إلى\", \"عن\", \"من\", \"مع\", \"كان\", \"التي\", \"الذي\", \"هذا\",\n",
    "    \"هذه\", \"ذلك\", \"تلك\", \"كل\", \"كما\", \"قد\", \"لقد\", \"ليس\", \"هو\", \"هي\", \"هم\",\n",
    "    \"هن\", \"أنا\", \"نحن\", \"انت\", \"انتِ\", \"لكن\", \"ثم\", \"أو\", \"أيضا\", \"هناك\",\n",
    "    \"هنا\", \"قبل\", \"بعد\"\n",
    "]\n",
    "vectorizer_params = dict(\n",
    "    ngram_range=(1, 5),       # 1-5 grams\n",
    "    min_df=5,                 # Ignore terms that appear in fewer than 5 documents\n",
    "    max_df=0.8,               # Ignore terms that appear in more than 80% of documents\n",
    "    analyzer='word',          # Tokenizes at the word level (common for Arabic text)\n",
    "    stop_words=arabic_stop_words  # None by default, add Arabic stop words if needed\n",
    ")"
   ]
  },
  {
   "cell_type": "code",
   "execution_count": 11,
   "id": "d17db2ac",
   "metadata": {
    "execution": {
     "iopub.execute_input": "2024-11-16T10:24:01.617576Z",
     "iopub.status.busy": "2024-11-16T10:24:01.617145Z",
     "iopub.status.idle": "2024-11-16T10:24:01.626559Z",
     "shell.execute_reply": "2024-11-16T10:24:01.625424Z"
    },
    "papermill": {
     "duration": 0.020149,
     "end_time": "2024-11-16T10:24:01.628960",
     "exception": false,
     "start_time": "2024-11-16T10:24:01.608811",
     "status": "completed"
    },
    "tags": []
   },
   "outputs": [],
   "source": [
    "def pipeline_creation(type_of_supervision, i, count=False):\n",
    "    # Define the list of classifiers and their names\n",
    "    classifiers = [\n",
    "        SGDClassifier(alpha=1e-5, penalty='l2', loss='log_loss', max_iter=1000),\n",
    "        LogisticRegression(max_iter=1000, solver='lbfgs', multi_class='multinomial'),\n",
    "        CalibratedClassifierCV(LinearSVC(), method='isotonic'),\n",
    "        CalibratedClassifierCV(PassiveAggressiveClassifier(max_iter=1000, C=0.5), method='isotonic'),\n",
    "        MultinomialNB(alpha=0.5, fit_prior=True)\n",
    "    ]\n",
    "    \n",
    "    classifier_names = [\n",
    "        \"SGDClassifier\",\n",
    "        \"LogisticRegression\",\n",
    "        \"Calibrated LinearSVC\",\n",
    "        \"Calibrated PassiveAggressiveClassifier\",\n",
    "        \"MultinomialNB\"\n",
    "    ]\n",
    "    \n",
    "    if count:\n",
    "        return len(classifiers)\n",
    "    \n",
    "    # Select classifier based on type of supervision\n",
    "    elif type_of_supervision == \"supervised\":\n",
    "        pipeline = Pipeline([\n",
    "            ('vect', CountVectorizer(**vectorizer_params)),\n",
    "            ('tfidf', TfidfTransformer()),\n",
    "            ('clf', classifiers[i])\n",
    "        ])\n",
    "        return pipeline, classifier_names[i]\n",
    "    \n",
    "    else:  # self-supervised\n",
    "        st_pipeline = Pipeline([\n",
    "            ('vect', CountVectorizer(**vectorizer_params)),\n",
    "            ('tfidf', TfidfTransformer()),\n",
    "            ('clf', SelfTrainingClassifier(classifiers[i], verbose=True))\n",
    "        ])\n",
    "        return st_pipeline, f\"SelfTrainingClassifier with {classifier_names[i]}\"\n"
   ]
  },
  {
   "cell_type": "code",
   "execution_count": 12,
   "id": "10b96f19",
   "metadata": {
    "execution": {
     "iopub.execute_input": "2024-11-16T10:24:01.644211Z",
     "iopub.status.busy": "2024-11-16T10:24:01.643768Z",
     "iopub.status.idle": "2024-11-16T10:24:01.651168Z",
     "shell.execute_reply": "2024-11-16T10:24:01.649653Z"
    },
    "papermill": {
     "duration": 0.018084,
     "end_time": "2024-11-16T10:24:01.653858",
     "exception": false,
     "start_time": "2024-11-16T10:24:01.635774",
     "status": "completed"
    },
    "tags": []
   },
   "outputs": [],
   "source": [
    "def eval_and_print_metrics(clf, X_train, y_train, X_test, y_test):\n",
    "    print(\"Number of training samples:\", len(X_train))\n",
    "    print(\"Unlabeled samples in training set:\",\n",
    "          sum(1 for x in y_train if x == -1))\n",
    "    clf.fit(X_train, y_train)\n",
    "    y_pred = clf.predict(X_test)\n",
    "    print(\"Micro-averaged F1 score on test set: \"\n",
    "          \"%0.3f\" % f1_score(y_test, y_pred, average='micro'))\n",
    "    print(\"-\" * 10)\n",
    "    print()"
   ]
  },
  {
   "cell_type": "code",
   "execution_count": 13,
   "id": "de8d407d",
   "metadata": {
    "execution": {
     "iopub.execute_input": "2024-11-16T10:24:01.668738Z",
     "iopub.status.busy": "2024-11-16T10:24:01.668296Z",
     "iopub.status.idle": "2024-11-16T10:24:42.232097Z",
     "shell.execute_reply": "2024-11-16T10:24:42.230279Z"
    },
    "papermill": {
     "duration": 40.574957,
     "end_time": "2024-11-16T10:24:42.235245",
     "exception": false,
     "start_time": "2024-11-16T10:24:01.660288",
     "status": "completed"
    },
    "tags": []
   },
   "outputs": [
    {
     "name": "stdout",
     "output_type": "stream",
     "text": [
      "****************************************************************************************************\n",
      "Supervised training on 100% of the data using SGDClassifier:\n",
      "Number of training samples: 9375\n",
      "Unlabeled samples in training set: 0\n",
      "Micro-averaged F1 score on test set: 0.527\n",
      "----------\n",
      "\n",
      "              precision    recall  f1-score   support\n",
      "\n",
      "    Egyptian       0.57      0.58      0.58       625\n",
      "        Gulf       0.43      0.44      0.44       625\n",
      "       Iraqi       0.46      0.47      0.47       625\n",
      "   Levantine       0.48      0.43      0.45       625\n",
      "    Maghrebi       0.69      0.70      0.70       625\n",
      "\n",
      "    accuracy                           0.53      3125\n",
      "   macro avg       0.53      0.53      0.53      3125\n",
      "weighted avg       0.53      0.53      0.53      3125\n",
      "\n",
      "Supervised training on 20% of the training data using SGDClassifier:\n",
      "Number of training samples: 1832\n",
      "Unlabeled samples in training set: 0\n",
      "Micro-averaged F1 score on test set: 0.397\n",
      "----------\n",
      "\n",
      "              precision    recall  f1-score   support\n",
      "\n",
      "    Egyptian       0.50      0.44      0.47       625\n",
      "        Gulf       0.30      0.20      0.24       625\n",
      "       Iraqi       0.34      0.32      0.33       625\n",
      "   Levantine       0.38      0.37      0.38       625\n",
      "    Maghrebi       0.43      0.66      0.52       625\n",
      "\n",
      "    accuracy                           0.40      3125\n",
      "   macro avg       0.39      0.40      0.39      3125\n",
      "weighted avg       0.39      0.40      0.39      3125\n",
      "\n",
      "SelfTrainingClassifier with SGDClassifier on 20% labeled training data (rest unlabeled):\n",
      "Number of training samples: 9375\n",
      "Unlabeled samples in training set: 7543\n",
      "End of iteration 1, added 2951 new labels.\n",
      "End of iteration 2, added 648 new labels.\n",
      "End of iteration 3, added 281 new labels.\n",
      "End of iteration 4, added 135 new labels.\n",
      "End of iteration 5, added 87 new labels.\n",
      "End of iteration 6, added 61 new labels.\n",
      "End of iteration 7, added 35 new labels.\n",
      "End of iteration 8, added 34 new labels.\n",
      "End of iteration 9, added 27 new labels.\n",
      "End of iteration 10, added 21 new labels.\n",
      "Micro-averaged F1 score on test set: 0.442\n",
      "----------\n",
      "\n",
      "              precision    recall  f1-score   support\n",
      "\n",
      "    Egyptian       0.51      0.48      0.49       625\n",
      "        Gulf       0.33      0.26      0.29       625\n",
      "       Iraqi       0.37      0.40      0.38       625\n",
      "   Levantine       0.40      0.43      0.42       625\n",
      "    Maghrebi       0.59      0.63      0.61       625\n",
      "\n",
      "    accuracy                           0.44      3125\n",
      "   macro avg       0.44      0.44      0.44      3125\n",
      "weighted avg       0.44      0.44      0.44      3125\n",
      "\n",
      "****************************************************************************************************\n",
      "Supervised training on 100% of the data using LogisticRegression:\n",
      "Number of training samples: 9375\n",
      "Unlabeled samples in training set: 0\n",
      "Micro-averaged F1 score on test set: 0.532\n",
      "----------\n",
      "\n",
      "              precision    recall  f1-score   support\n",
      "\n",
      "    Egyptian       0.57      0.59      0.58       625\n",
      "        Gulf       0.43      0.44      0.43       625\n",
      "       Iraqi       0.47      0.49      0.48       625\n",
      "   Levantine       0.51      0.44      0.47       625\n",
      "    Maghrebi       0.68      0.70      0.69       625\n",
      "\n",
      "    accuracy                           0.53      3125\n",
      "   macro avg       0.53      0.53      0.53      3125\n",
      "weighted avg       0.53      0.53      0.53      3125\n",
      "\n",
      "Supervised training on 20% of the training data using LogisticRegression:\n",
      "Number of training samples: 1844\n",
      "Unlabeled samples in training set: 0\n",
      "Micro-averaged F1 score on test set: 0.420\n",
      "----------\n",
      "\n",
      "              precision    recall  f1-score   support\n",
      "\n",
      "    Egyptian       0.45      0.50      0.47       625\n",
      "        Gulf       0.32      0.23      0.27       625\n",
      "       Iraqi       0.41      0.30      0.34       625\n",
      "   Levantine       0.44      0.37      0.40       625\n",
      "    Maghrebi       0.44      0.70      0.54       625\n",
      "\n",
      "    accuracy                           0.42      3125\n",
      "   macro avg       0.41      0.42      0.41      3125\n",
      "weighted avg       0.41      0.42      0.41      3125\n",
      "\n",
      "SelfTrainingClassifier with LogisticRegression on 20% labeled training data (rest unlabeled):\n",
      "Number of training samples: 9375\n",
      "Unlabeled samples in training set: 7531\n",
      "End of iteration 1, added 82 new labels.\n",
      "End of iteration 2, added 51 new labels.\n",
      "End of iteration 3, added 24 new labels.\n",
      "End of iteration 4, added 13 new labels.\n",
      "End of iteration 5, added 9 new labels.\n",
      "End of iteration 6, added 7 new labels.\n",
      "End of iteration 7, added 4 new labels.\n",
      "End of iteration 8, added 1 new labels.\n",
      "Micro-averaged F1 score on test set: 0.470\n",
      "----------\n",
      "\n",
      "              precision    recall  f1-score   support\n",
      "\n",
      "    Egyptian       0.45      0.58      0.51       625\n",
      "        Gulf       0.39      0.32      0.35       625\n",
      "       Iraqi       0.43      0.39      0.41       625\n",
      "   Levantine       0.46      0.39      0.42       625\n",
      "    Maghrebi       0.58      0.67      0.62       625\n",
      "\n",
      "    accuracy                           0.47      3125\n",
      "   macro avg       0.46      0.47      0.46      3125\n",
      "weighted avg       0.46      0.47      0.46      3125\n",
      "\n",
      "****************************************************************************************************\n",
      "Supervised training on 100% of the data using Calibrated LinearSVC:\n",
      "Number of training samples: 9375\n",
      "Unlabeled samples in training set: 0\n",
      "Micro-averaged F1 score on test set: 0.526\n",
      "----------\n",
      "\n",
      "              precision    recall  f1-score   support\n",
      "\n",
      "    Egyptian       0.56      0.61      0.59       625\n",
      "        Gulf       0.42      0.46      0.44       625\n",
      "       Iraqi       0.47      0.46      0.46       625\n",
      "   Levantine       0.50      0.40      0.44       625\n",
      "    Maghrebi       0.68      0.71      0.69       625\n",
      "\n",
      "    accuracy                           0.53      3125\n",
      "   macro avg       0.52      0.53      0.52      3125\n",
      "weighted avg       0.52      0.53      0.52      3125\n",
      "\n",
      "Supervised training on 20% of the training data using Calibrated LinearSVC:\n",
      "Number of training samples: 1872\n",
      "Unlabeled samples in training set: 0\n",
      "Micro-averaged F1 score on test set: 0.392\n",
      "----------\n",
      "\n",
      "              precision    recall  f1-score   support\n",
      "\n",
      "    Egyptian       0.45      0.47      0.46       625\n",
      "        Gulf       0.32      0.23      0.27       625\n",
      "       Iraqi       0.29      0.56      0.38       625\n",
      "   Levantine       0.44      0.28      0.34       625\n",
      "    Maghrebi       0.64      0.43      0.51       625\n",
      "\n",
      "    accuracy                           0.39      3125\n",
      "   macro avg       0.43      0.39      0.39      3125\n",
      "weighted avg       0.43      0.39      0.39      3125\n",
      "\n",
      "SelfTrainingClassifier with Calibrated LinearSVC on 20% labeled training data (rest unlabeled):\n",
      "Number of training samples: 9375\n",
      "Unlabeled samples in training set: 7503\n",
      "End of iteration 1, added 181 new labels.\n",
      "End of iteration 2, added 139 new labels.\n",
      "End of iteration 3, added 129 new labels.\n",
      "End of iteration 4, added 85 new labels.\n",
      "End of iteration 5, added 54 new labels.\n",
      "End of iteration 6, added 40 new labels.\n",
      "End of iteration 7, added 38 new labels.\n",
      "End of iteration 8, added 31 new labels.\n",
      "End of iteration 9, added 31 new labels.\n",
      "End of iteration 10, added 22 new labels.\n",
      "Micro-averaged F1 score on test set: 0.456\n",
      "----------\n",
      "\n",
      "              precision    recall  f1-score   support\n",
      "\n",
      "    Egyptian       0.50      0.57      0.53       625\n",
      "        Gulf       0.38      0.29      0.33       625\n",
      "       Iraqi       0.34      0.43      0.38       625\n",
      "   Levantine       0.44      0.33      0.38       625\n",
      "    Maghrebi       0.60      0.66      0.63       625\n",
      "\n",
      "    accuracy                           0.46      3125\n",
      "   macro avg       0.45      0.46      0.45      3125\n",
      "weighted avg       0.45      0.46      0.45      3125\n",
      "\n",
      "****************************************************************************************************\n",
      "Supervised training on 100% of the data using Calibrated PassiveAggressiveClassifier:\n",
      "Number of training samples: 9375\n",
      "Unlabeled samples in training set: 0\n",
      "Micro-averaged F1 score on test set: 0.511\n",
      "----------\n",
      "\n",
      "              precision    recall  f1-score   support\n",
      "\n",
      "    Egyptian       0.53      0.56      0.55       625\n",
      "        Gulf       0.41      0.44      0.43       625\n",
      "       Iraqi       0.45      0.47      0.46       625\n",
      "   Levantine       0.50      0.40      0.45       625\n",
      "    Maghrebi       0.66      0.68      0.67       625\n",
      "\n",
      "    accuracy                           0.51      3125\n",
      "   macro avg       0.51      0.51      0.51      3125\n",
      "weighted avg       0.51      0.51      0.51      3125\n",
      "\n",
      "Supervised training on 20% of the training data using Calibrated PassiveAggressiveClassifier:\n",
      "Number of training samples: 1856\n",
      "Unlabeled samples in training set: 0\n",
      "Micro-averaged F1 score on test set: 0.387\n",
      "----------\n",
      "\n",
      "              precision    recall  f1-score   support\n",
      "\n",
      "    Egyptian       0.47      0.42      0.44       625\n",
      "        Gulf       0.29      0.32      0.30       625\n",
      "       Iraqi       0.34      0.20      0.26       625\n",
      "   Levantine       0.38      0.34      0.36       625\n",
      "    Maghrebi       0.44      0.64      0.52       625\n",
      "\n",
      "    accuracy                           0.39      3125\n",
      "   macro avg       0.38      0.39      0.38      3125\n",
      "weighted avg       0.38      0.39      0.38      3125\n",
      "\n",
      "SelfTrainingClassifier with Calibrated PassiveAggressiveClassifier on 20% labeled training data (rest unlabeled):\n",
      "Number of training samples: 9375\n",
      "Unlabeled samples in training set: 7519\n",
      "End of iteration 1, added 21 new labels.\n",
      "End of iteration 2, added 9 new labels.\n",
      "End of iteration 3, added 7 new labels.\n",
      "End of iteration 4, added 12 new labels.\n",
      "End of iteration 5, added 12 new labels.\n",
      "End of iteration 6, added 6 new labels.\n",
      "End of iteration 7, added 5 new labels.\n",
      "End of iteration 8, added 5 new labels.\n",
      "End of iteration 9, added 4 new labels.\n",
      "End of iteration 10, added 1 new labels.\n",
      "Micro-averaged F1 score on test set: 0.425\n",
      "----------\n",
      "\n",
      "              precision    recall  f1-score   support\n",
      "\n",
      "    Egyptian       0.49      0.48      0.48       625\n",
      "        Gulf       0.32      0.36      0.34       625\n",
      "       Iraqi       0.39      0.31      0.34       625\n",
      "   Levantine       0.38      0.36      0.37       625\n",
      "    Maghrebi       0.53      0.62      0.57       625\n",
      "\n",
      "    accuracy                           0.43      3125\n",
      "   macro avg       0.42      0.43      0.42      3125\n",
      "weighted avg       0.42      0.43      0.42      3125\n",
      "\n",
      "****************************************************************************************************\n",
      "Supervised training on 100% of the data using MultinomialNB:\n",
      "Number of training samples: 9375\n",
      "Unlabeled samples in training set: 0\n",
      "Micro-averaged F1 score on test set: 0.509\n",
      "----------\n",
      "\n",
      "              precision    recall  f1-score   support\n",
      "\n",
      "    Egyptian       0.49      0.59      0.54       625\n",
      "        Gulf       0.43      0.42      0.42       625\n",
      "       Iraqi       0.47      0.47      0.47       625\n",
      "   Levantine       0.47      0.44      0.45       625\n",
      "    Maghrebi       0.73      0.63      0.67       625\n",
      "\n",
      "    accuracy                           0.51      3125\n",
      "   macro avg       0.52      0.51      0.51      3125\n",
      "weighted avg       0.52      0.51      0.51      3125\n",
      "\n",
      "Supervised training on 20% of the training data using MultinomialNB:\n",
      "Number of training samples: 1903\n",
      "Unlabeled samples in training set: 0\n",
      "Micro-averaged F1 score on test set: 0.408\n",
      "----------\n",
      "\n",
      "              precision    recall  f1-score   support\n",
      "\n",
      "    Egyptian       0.50      0.43      0.46       625\n",
      "        Gulf       0.33      0.28      0.30       625\n",
      "       Iraqi       0.36      0.29      0.32       625\n",
      "   Levantine       0.40      0.34      0.37       625\n",
      "    Maghrebi       0.42      0.70      0.53       625\n",
      "\n",
      "    accuracy                           0.41      3125\n",
      "   macro avg       0.40      0.41      0.40      3125\n",
      "weighted avg       0.40      0.41      0.40      3125\n",
      "\n",
      "SelfTrainingClassifier with MultinomialNB on 20% labeled training data (rest unlabeled):\n",
      "Number of training samples: 9375\n",
      "Unlabeled samples in training set: 7472\n",
      "End of iteration 1, added 147 new labels.\n",
      "End of iteration 2, added 148 new labels.\n",
      "End of iteration 3, added 114 new labels.\n",
      "End of iteration 4, added 64 new labels.\n",
      "End of iteration 5, added 51 new labels.\n",
      "End of iteration 6, added 39 new labels.\n",
      "End of iteration 7, added 21 new labels.\n",
      "End of iteration 8, added 8 new labels.\n",
      "End of iteration 9, added 3 new labels.\n",
      "End of iteration 10, added 3 new labels.\n",
      "Micro-averaged F1 score on test set: 0.444\n",
      "----------\n",
      "\n",
      "              precision    recall  f1-score   support\n",
      "\n",
      "    Egyptian       0.56      0.44      0.49       625\n",
      "        Gulf       0.43      0.26      0.32       625\n",
      "       Iraqi       0.44      0.31      0.36       625\n",
      "   Levantine       0.40      0.39      0.39       625\n",
      "    Maghrebi       0.43      0.83      0.56       625\n",
      "\n",
      "    accuracy                           0.44      3125\n",
      "   macro avg       0.45      0.44      0.43      3125\n",
      "weighted avg       0.45      0.44      0.43      3125\n",
      "\n"
     ]
    }
   ],
   "source": [
    "# Main code to iterate over classifiers and display results\n",
    "if __name__ == \"__main__\":\n",
    "    results = []\n",
    "    # Encode labels to handle text labels properly in sklearn classifiers\n",
    "    label_encoder = LabelEncoder()\n",
    "    y_encoded = label_encoder.fit_transform(data.label)  # Fit on full set of labels\n",
    "\n",
    "    X = data.sent\n",
    "    y = y_encoded\n",
    "    X_train, X_test, y_train, y_test = train_test_split(X, y, stratify=y, random_state=42)\n",
    "    \n",
    "    # Iterate over each classifier in the pipeline\n",
    "    for i in range(pipeline_creation(0, 0, True)):\n",
    "\n",
    "        print(100 * \"*\")\n",
    "        \n",
    "        # Supervised pipeline\n",
    "        pipeline, classifier_name = pipeline_creation(\"supervised\", i)\n",
    "        print(f\"Supervised training on 100% of the data using {classifier_name}:\")\n",
    "        eval_and_print_metrics(pipeline, X_train, y_train, X_test, y_test)\n",
    "        \n",
    "        # Decode labels to show original values in the classification report\n",
    "        y_test_decoded = label_encoder.inverse_transform(y_test)\n",
    "        y_pred = pipeline.predict(X_test)\n",
    "        y_pred_decoded = label_encoder.inverse_transform(y_pred)\n",
    "        report = classification_report(y_test_decoded, y_pred_decoded, output_dict=True)\n",
    "        print(classification_report(y_test_decoded, y_pred_decoded))\n",
    "        \n",
    "        # Save results for Supervised 100%\n",
    "        results.append({\n",
    "            'Classifier': classifier_name,\n",
    "            'Setting': 'Supervised 100%',\n",
    "            'Accuracy': report['accuracy'],\n",
    "            'F1-Score': report['macro avg']['f1-score']\n",
    "        })\n",
    "\n",
    "        # 20% labeled data setup\n",
    "        y_mask = np.random.rand(len(y_train)) < 0.2  # Random mask for 20% of the data\n",
    "        X_20, y_20 = map(list, zip(*((x, y) for x, y, m in zip(X_train, y_train, y_mask) if m)))\n",
    "        print(f\"Supervised training on 20% of the training data using {classifier_name}:\")\n",
    "        eval_and_print_metrics(pipeline, X_20, y_20, X_test, y_test)\n",
    "\n",
    "        # Decode labels for partial training classification report\n",
    "        y_pred_partial = pipeline.predict(X_test)\n",
    "        y_pred_partial_decoded = label_encoder.inverse_transform(y_pred_partial)\n",
    "        report_partial = classification_report(y_test_decoded, y_pred_partial_decoded, output_dict=True)\n",
    "        print(classification_report(y_test_decoded, y_pred_partial_decoded))\n",
    "\n",
    "        # Save results for Supervised 20%\n",
    "        results.append({\n",
    "            'Classifier': classifier_name,\n",
    "            'Setting': 'Supervised 20%',\n",
    "            'Accuracy': report_partial['accuracy'],\n",
    "            'F1-Score': report_partial['macro avg']['f1-score']\n",
    "        })\n",
    "\n",
    "        # Semi-supervised pipeline with self-training\n",
    "        st_pipeline, st_classifier_name = pipeline_creation(\"semi-supervised\", i)\n",
    "        y_train_semi = np.copy(y_train)  # Copy to modify labels for self-training\n",
    "        y_train_semi[~y_mask] = -1  # Unlabel the non-masked subset\n",
    "\n",
    "        print(f\"{st_classifier_name} on 20% labeled training data (rest unlabeled):\")\n",
    "        eval_and_print_metrics(st_pipeline, X_train, y_train_semi, X_test, y_test)\n",
    "\n",
    "        # Decode labels for semi-supervised classification report\n",
    "        y_pred_semi = st_pipeline.predict(X_test)\n",
    "        y_pred_semi_decoded = label_encoder.inverse_transform(y_pred_semi)\n",
    "        report_semi = classification_report(y_test_decoded, y_pred_semi_decoded, output_dict=True)\n",
    "        print(classification_report(y_test_decoded, y_pred_semi_decoded))\n",
    "\n",
    "        # Save results for Self-Training\n",
    "        results.append({\n",
    "            'Classifier': classifier_name,\n",
    "            'Setting': 'Self-Training',\n",
    "            'Accuracy': report_semi['accuracy'],\n",
    "            'F1-Score': report_semi['macro avg']['f1-score']\n",
    "        })\n"
   ]
  },
  {
   "cell_type": "code",
   "execution_count": 14,
   "id": "dbc2de0f",
   "metadata": {
    "execution": {
     "iopub.execute_input": "2024-11-16T10:24:42.257567Z",
     "iopub.status.busy": "2024-11-16T10:24:42.256998Z",
     "iopub.status.idle": "2024-11-16T10:24:43.047640Z",
     "shell.execute_reply": "2024-11-16T10:24:43.046110Z"
    },
    "papermill": {
     "duration": 0.805357,
     "end_time": "2024-11-16T10:24:43.050834",
     "exception": false,
     "start_time": "2024-11-16T10:24:42.245477",
     "status": "completed"
    },
    "tags": []
   },
   "outputs": [
    {
     "data": {
      "image/png": "[encoded data removed]",
      "text/plain": [
       "<Figure size 1200x1000 with 2 Axes>"
      ]
     },
     "metadata": {},
     "output_type": "display_data"
    }
   ],
   "source": [
    "\n",
    "# Plotting\n",
    "results_df = pd.DataFrame.from_dict(results)\n",
    "fig, axes = plt.subplots(2, 1, figsize=(12, 10))\n",
    "\n",
    "# Accuracy plot\n",
    "accuracy_df = results_df.pivot(index=\"Classifier\", columns=\"Setting\", values=\"Accuracy\")\n",
    "accuracy_df.plot(kind=\"bar\", ax=axes[0], color=[\"#4daf4a\", \"#377eb8\", \"#e41a1c\"])\n",
    "axes[0].set_title(\"Accuracy Comparison by Classifier and Setting\")\n",
    "axes[0].set_ylabel(\"Accuracy\")\n",
    "axes[0].set_xlabel(\"Classifier\")\n",
    "axes[0].legend(title=\"Setting\", loc=\"center left\", bbox_to_anchor=(1.0, 0.5))\n",
    "axes[0].tick_params(axis='x', rotation=45)\n",
    "\n",
    "# F1-Score plot\n",
    "f1_df = results_df.pivot(index=\"Classifier\", columns=\"Setting\", values=\"F1-Score\")\n",
    "f1_df.plot(kind=\"bar\", ax=axes[1], color=[\"#4daf4a\", \"#377eb8\", \"#e41a1c\"])\n",
    "axes[1].set_title(\"F1-Score Comparison by Classifier and Setting\")\n",
    "axes[1].set_ylabel(\"F1-Score\")\n",
    "axes[1].set_xlabel(\"Classifier\")\n",
    "axes[1].legend(title=\"Setting\", loc=\"center left\", bbox_to_anchor=(1.0, 0.5))\n",
    "axes[1].tick_params(axis='x', rotation=45)\n",
    "\n",
    "# Adjust layout\n",
    "plt.tight_layout()\n",
    "plt.show()\n"
   ]
  },
  {
   "cell_type": "code",
   "execution_count": 15,
   "id": "47505e23",
   "metadata": {
    "execution": {
     "iopub.execute_input": "2024-11-16T10:24:43.077867Z",
     "iopub.status.busy": "2024-11-16T10:24:43.077330Z",
     "iopub.status.idle": "2024-11-16T10:24:43.102717Z",
     "shell.execute_reply": "2024-11-16T10:24:43.101206Z"
    },
    "papermill": {
     "duration": 0.041542,
     "end_time": "2024-11-16T10:24:43.105018",
     "exception": false,
     "start_time": "2024-11-16T10:24:43.063476",
     "status": "completed"
    },
    "tags": []
   },
   "outputs": [
    {
     "name": "stdout",
     "output_type": "stream",
     "text": [
      "Comparison of Classifier Performance by Setting\n"
     ]
    },
    {
     "data": {
      "text/html": [
       "<div>\n",
       "<style scoped>\n",
       "    .dataframe tbody tr th:only-of-type {\n",
       "        vertical-align: middle;\n",
       "    }\n",
       "\n",
       "    .dataframe tbody tr th {\n",
       "        vertical-align: top;\n",
       "    }\n",
       "\n",
       "    .dataframe thead tr th {\n",
       "        text-align: left;\n",
       "    }\n",
       "\n",
       "    .dataframe thead tr:last-of-type th {\n",
       "        text-align: right;\n",
       "    }\n",
       "</style>\n",
       "<table border=\"1\" class=\"dataframe\">\n",
       "  <thead>\n",
       "    <tr>\n",
       "      <th></th>\n",
       "      <th colspan=\"3\" halign=\"left\">Accuracy</th>\n",
       "    </tr>\n",
       "    <tr>\n",
       "      <th>Setting</th>\n",
       "      <th>Self-Training</th>\n",
       "      <th>Supervised 100%</th>\n",
       "      <th>Supervised 20%</th>\n",
       "    </tr>\n",
       "    <tr>\n",
       "      <th>Classifier</th>\n",
       "      <th></th>\n",
       "      <th></th>\n",
       "      <th></th>\n",
       "    </tr>\n",
       "  </thead>\n",
       "  <tbody>\n",
       "    <tr>\n",
       "      <th>Calibrated LinearSVC</th>\n",
       "      <td>0.45600</td>\n",
       "      <td>0.52576</td>\n",
       "      <td>0.39232</td>\n",
       "    </tr>\n",
       "    <tr>\n",
       "      <th>Calibrated PassiveAggressiveClassifier</th>\n",
       "      <td>0.42528</td>\n",
       "      <td>0.51104</td>\n",
       "      <td>0.38656</td>\n",
       "    </tr>\n",
       "    <tr>\n",
       "      <th>LogisticRegression</th>\n",
       "      <td>0.47040</td>\n",
       "      <td>0.53216</td>\n",
       "      <td>0.42048</td>\n",
       "    </tr>\n",
       "    <tr>\n",
       "      <th>MultinomialNB</th>\n",
       "      <td>0.44384</td>\n",
       "      <td>0.50912</td>\n",
       "      <td>0.40768</td>\n",
       "    </tr>\n",
       "    <tr>\n",
       "      <th>SGDClassifier</th>\n",
       "      <td>0.44224</td>\n",
       "      <td>0.52704</td>\n",
       "      <td>0.39744</td>\n",
       "    </tr>\n",
       "  </tbody>\n",
       "</table>\n",
       "</div>"
      ],
      "text/plain": [
       "                                            Accuracy                  \\\n",
       "Setting                                Self-Training Supervised 100%   \n",
       "Classifier                                                             \n",
       "Calibrated LinearSVC                         0.45600         0.52576   \n",
       "Calibrated PassiveAggressiveClassifier       0.42528         0.51104   \n",
       "LogisticRegression                           0.47040         0.53216   \n",
       "MultinomialNB                                0.44384         0.50912   \n",
       "SGDClassifier                                0.44224         0.52704   \n",
       "\n",
       "                                                       \n",
       "Setting                                Supervised 20%  \n",
       "Classifier                                             \n",
       "Calibrated LinearSVC                          0.39232  \n",
       "Calibrated PassiveAggressiveClassifier        0.38656  \n",
       "LogisticRegression                            0.42048  \n",
       "MultinomialNB                                 0.40768  \n",
       "SGDClassifier                                 0.39744  "
      ]
     },
     "execution_count": 15,
     "metadata": {},
     "output_type": "execute_result"
    }
   ],
   "source": [
    "# Pivot the DataFrame to reorganize for comparison\n",
    "comparison_df = results_df.pivot(index=\"Classifier\", columns=\"Setting\", values=[\"Accuracy\"])\n",
    "\n",
    "# Display the formatted table\n",
    "print(\"Comparison of Classifier Performance by Setting\")\n",
    "comparison_df"
   ]
  },
  {
   "cell_type": "code",
   "execution_count": 16,
   "id": "b576df0f",
   "metadata": {
    "execution": {
     "iopub.execute_input": "2024-11-16T10:24:43.132075Z",
     "iopub.status.busy": "2024-11-16T10:24:43.131554Z",
     "iopub.status.idle": "2024-11-16T10:24:43.152698Z",
     "shell.execute_reply": "2024-11-16T10:24:43.151504Z"
    },
    "papermill": {
     "duration": 0.038095,
     "end_time": "2024-11-16T10:24:43.155572",
     "exception": false,
     "start_time": "2024-11-16T10:24:43.117477",
     "status": "completed"
    },
    "tags": []
   },
   "outputs": [
    {
     "name": "stdout",
     "output_type": "stream",
     "text": [
      "Comparison of Classifier Performance by Setting\n"
     ]
    },
    {
     "data": {
      "text/html": [
       "<div>\n",
       "<style scoped>\n",
       "    .dataframe tbody tr th:only-of-type {\n",
       "        vertical-align: middle;\n",
       "    }\n",
       "\n",
       "    .dataframe tbody tr th {\n",
       "        vertical-align: top;\n",
       "    }\n",
       "\n",
       "    .dataframe thead tr th {\n",
       "        text-align: left;\n",
       "    }\n",
       "\n",
       "    .dataframe thead tr:last-of-type th {\n",
       "        text-align: right;\n",
       "    }\n",
       "</style>\n",
       "<table border=\"1\" class=\"dataframe\">\n",
       "  <thead>\n",
       "    <tr>\n",
       "      <th></th>\n",
       "      <th colspan=\"3\" halign=\"left\">F1-Score</th>\n",
       "    </tr>\n",
       "    <tr>\n",
       "      <th>Setting</th>\n",
       "      <th>Self-Training</th>\n",
       "      <th>Supervised 100%</th>\n",
       "      <th>Supervised 20%</th>\n",
       "    </tr>\n",
       "    <tr>\n",
       "      <th>Classifier</th>\n",
       "      <th></th>\n",
       "      <th></th>\n",
       "      <th></th>\n",
       "    </tr>\n",
       "  </thead>\n",
       "  <tbody>\n",
       "    <tr>\n",
       "      <th>Calibrated LinearSVC</th>\n",
       "      <td>0.450290</td>\n",
       "      <td>0.523723</td>\n",
       "      <td>0.391916</td>\n",
       "    </tr>\n",
       "    <tr>\n",
       "      <th>Calibrated PassiveAggressiveClassifier</th>\n",
       "      <td>0.421703</td>\n",
       "      <td>0.509718</td>\n",
       "      <td>0.376453</td>\n",
       "    </tr>\n",
       "    <tr>\n",
       "      <th>LogisticRegression</th>\n",
       "      <td>0.463423</td>\n",
       "      <td>0.531162</td>\n",
       "      <td>0.406362</td>\n",
       "    </tr>\n",
       "    <tr>\n",
       "      <th>MultinomialNB</th>\n",
       "      <td>0.426169</td>\n",
       "      <td>0.510373</td>\n",
       "      <td>0.396524</td>\n",
       "    </tr>\n",
       "    <tr>\n",
       "      <th>SGDClassifier</th>\n",
       "      <td>0.438907</td>\n",
       "      <td>0.526199</td>\n",
       "      <td>0.386136</td>\n",
       "    </tr>\n",
       "  </tbody>\n",
       "</table>\n",
       "</div>"
      ],
      "text/plain": [
       "                                            F1-Score                  \\\n",
       "Setting                                Self-Training Supervised 100%   \n",
       "Classifier                                                             \n",
       "Calibrated LinearSVC                        0.450290        0.523723   \n",
       "Calibrated PassiveAggressiveClassifier      0.421703        0.509718   \n",
       "LogisticRegression                          0.463423        0.531162   \n",
       "MultinomialNB                               0.426169        0.510373   \n",
       "SGDClassifier                               0.438907        0.526199   \n",
       "\n",
       "                                                       \n",
       "Setting                                Supervised 20%  \n",
       "Classifier                                             \n",
       "Calibrated LinearSVC                         0.391916  \n",
       "Calibrated PassiveAggressiveClassifier       0.376453  \n",
       "LogisticRegression                           0.406362  \n",
       "MultinomialNB                                0.396524  \n",
       "SGDClassifier                                0.386136  "
      ]
     },
     "execution_count": 16,
     "metadata": {},
     "output_type": "execute_result"
    }
   ],
   "source": [
    "# Pivot the DataFrame to reorganize for comparison\n",
    "comparison_df = results_df.pivot(index=\"Classifier\", columns=\"Setting\", values=[\"F1-Score\"])\n",
    "\n",
    "# Display the formatted table\n",
    "print(\"Comparison of Classifier Performance by Setting\")\n",
    "comparison_df"
   ]
  }
 ],
 "metadata": {
  "kaggle": {
   "accelerator": "none",
   "dataSources": [
    {
     "datasetId": 6068996,
     "sourceId": 9883544,
     "sourceType": "datasetVersion"
    },
    {
     "datasetId": 6071343,
     "sourceId": 9886592,
     "sourceType": "datasetVersion"
    },
    {
     "datasetId": 6098689,
     "sourceId": 9922906,
     "sourceType": "datasetVersion"
    },
    {
     "datasetId": 6077150,
     "sourceId": 9894375,
     "sourceType": "datasetVersion"
    }
   ],
   "dockerImageVersionId": 30786,
   "isGpuEnabled": false,
   "isInternetEnabled": true,
   "language": "python",
   "sourceType": "notebook"
  },
  "kernelspec": {
   "display_name": "Python 3",
   "language": "python",
   "name": "python3"
  },
  "language_info": {
   "codemirror_mode": {
    "name": "ipython",
    "version": 3
   },
   "file_extension": ".py",
   "mimetype": "text/x-python",
   "name": "python",
   "nbconvert_exporter": "python",
   "pygments_lexer": "ipython3",
   "version": "3.10.14"
  },
  "papermill": {
   "default_parameters": {},
   "duration": 49.029534,
   "end_time": "2024-11-16T10:24:43.890638",
   "environment_variables": {},
   "exception": null,
   "input_path": "__notebook__.ipynb",
   "output_path": "__notebook__.ipynb",
   "parameters": {},
   "start_time": "2024-11-16T10:23:54.861104",
   "version": "2.6.0"
  }
 },
 "nbformat": 4,
 "nbformat_minor": 5
}
