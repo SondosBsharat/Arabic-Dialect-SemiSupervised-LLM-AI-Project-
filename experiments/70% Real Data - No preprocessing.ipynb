{
 "cells": [
  {
   "cell_type": "markdown",
   "id": "7ec10bc1",
   "metadata": {
    "papermill": {
     "duration": 0.010981,
     "end_time": "2024-11-16T10:39:42.313324",
     "exception": false,
     "start_time": "2024-11-16T10:39:42.302343",
     "status": "completed"
    },
    "tags": []
   },
   "source": [
    "# 6️⃣ 70% Real Data - No preprocessing"
   ]
  },
  {
   "cell_type": "markdown",
   "id": "6514cdfb",
   "metadata": {
    "_cell_guid": "b1076dfc-b9ad-4769-8c92-a6c4dae69d19",
    "_uuid": "8f2839f25d086af736a60e9eeb907d3b93b6e0e5",
    "papermill": {
     "duration": 0.009717,
     "end_time": "2024-11-16T10:39:42.333195",
     "exception": false,
     "start_time": "2024-11-16T10:39:42.323478",
     "status": "completed"
    },
    "tags": []
   },
   "source": [
    "# Semi-Supervised Learning (Self-Training) reverse 🔀\n",
    "\n",
    "* Semi-Supervised Learning combines labeled and unlabeled examples\n",
    "* In self-Training, you could convert a Supervised Machine Learning algorithm to a semi-supervised one\n",
    "\n",
    "### **Steps** ✨\n",
    "1. Train supervised model using labeled data\n",
    "2. Make predictions on unlabeled data using the model from the previous step\n",
    "3. Take predictions satisfying probability threshold criteria and add them to the pseudo-labeled set\n",
    "4. combine the labeled and pseudo-labeled data and train the next verion of the model\n",
    "5. Make predictions on the remaining unlabeled data using this model of step 4\n",
    "6. Take predictions satisfying the probability threshold and add them to an existing pseudo-labeled set\n",
    "\n",
    "### **References:** 🔗\n",
    "* https://www.kaggle.com/code/sasakitetsuya/semi-supervised-classification-on-a-text-dataset \n",
    "* https://scikit-learn.ru/example/semi-supervised-classification-on-a-text-dataset/\n"
   ]
  },
  {
   "cell_type": "markdown",
   "id": "707cd1c3",
   "metadata": {
    "papermill": {
     "duration": 0.009667,
     "end_time": "2024-11-16T10:39:42.352910",
     "exception": false,
     "start_time": "2024-11-16T10:39:42.343243",
     "status": "completed"
    },
    "tags": []
   },
   "source": [
    "## Importing "
   ]
  },
  {
   "cell_type": "code",
   "execution_count": 1,
   "id": "8413b3f9",
   "metadata": {
    "execution": {
     "iopub.execute_input": "2024-11-16T10:39:42.374764Z",
     "iopub.status.busy": "2024-11-16T10:39:42.374318Z",
     "iopub.status.idle": "2024-11-16T10:39:43.415718Z",
     "shell.execute_reply": "2024-11-16T10:39:43.414403Z"
    },
    "papermill": {
     "duration": 1.056029,
     "end_time": "2024-11-16T10:39:43.418934",
     "exception": false,
     "start_time": "2024-11-16T10:39:42.362905",
     "status": "completed"
    },
    "tags": []
   },
   "outputs": [
    {
     "name": "stdout",
     "output_type": "stream",
     "text": [
      "/kaggle/input/generated-data/generated_data.csv\n",
      "/kaggle/input/generated-data4o/generated_data_4o.csv\n",
      "/kaggle/input/arabic-real-data-dialects/Arabic_dialects.csv\n",
      "/kaggle/input/larger-dialects/Arabic_dialects_Larger.csv\n"
     ]
    }
   ],
   "source": [
    "import warnings\n",
    "warnings.filterwarnings(\"ignore\", category=FutureWarning)\n",
    "import numpy as np # linear algebra\n",
    "import pandas as pd # data processing, CSV file I/O (e.g. pd.read_csv)\n",
    "import matplotlib.pyplot as plt\n",
    "\n",
    "import os\n",
    "for dirname, _, filenames in os.walk('/kaggle/input'):\n",
    "    for filename in filenames:\n",
    "        print(os.path.join(dirname, filename))"
   ]
  },
  {
   "cell_type": "code",
   "execution_count": 2,
   "id": "3d16738c",
   "metadata": {
    "execution": {
     "iopub.execute_input": "2024-11-16T10:39:43.442801Z",
     "iopub.status.busy": "2024-11-16T10:39:43.442190Z",
     "iopub.status.idle": "2024-11-16T10:39:45.958354Z",
     "shell.execute_reply": "2024-11-16T10:39:45.957053Z"
    },
    "papermill": {
     "duration": 2.530786,
     "end_time": "2024-11-16T10:39:45.961249",
     "exception": false,
     "start_time": "2024-11-16T10:39:43.430463",
     "status": "completed"
    },
    "tags": []
   },
   "outputs": [],
   "source": [
    "from sklearn.feature_extraction.text import CountVectorizer\n",
    "from sklearn.feature_extraction.text import TfidfTransformer\n",
    "from sklearn.preprocessing import FunctionTransformer\n",
    "from sklearn.preprocessing import LabelEncoder\n",
    "from sklearn.calibration import CalibratedClassifierCV\n",
    "from sklearn.naive_bayes import MultinomialNB\n",
    "#==============================================different Linear classifiers\n",
    "from sklearn.linear_model import LogisticRegression, SGDClassifier, PassiveAggressiveClassifier, RidgeClassifier\n",
    "from sklearn.svm import LinearSVC\n",
    "#=====================================================\n",
    "from sklearn.model_selection import train_test_split\n",
    "from sklearn.pipeline import Pipeline\n",
    "from sklearn.semi_supervised import SelfTrainingClassifier\n",
    "from sklearn.semi_supervised import LabelSpreading\n",
    "from sklearn.metrics import f1_score\n",
    "from sklearn.metrics import classification_report\n",
    "\n",
    "import re\n",
    "import nltk\n",
    "from nltk.corpus import stopwords"
   ]
  },
  {
   "cell_type": "code",
   "execution_count": 3,
   "id": "ed1a96c3",
   "metadata": {
    "execution": {
     "iopub.execute_input": "2024-11-16T10:39:45.985364Z",
     "iopub.status.busy": "2024-11-16T10:39:45.984757Z",
     "iopub.status.idle": "2024-11-16T10:39:46.058282Z",
     "shell.execute_reply": "2024-11-16T10:39:46.057077Z"
    },
    "papermill": {
     "duration": 0.08833,
     "end_time": "2024-11-16T10:39:46.061294",
     "exception": false,
     "start_time": "2024-11-16T10:39:45.972964",
     "status": "completed"
    },
    "tags": []
   },
   "outputs": [],
   "source": [
    "data1=pd.read_csv('/kaggle/input/generated-data/generated_data.csv')\n",
    "data2=pd.read_csv('/kaggle/input/generated-data4o/generated_data_4o.csv')\n",
    "# Combine the two datasets\n",
    "data_generated = pd.concat([data1, data2], ignore_index=True)"
   ]
  },
  {
   "cell_type": "code",
   "execution_count": 4,
   "id": "b3e274b3",
   "metadata": {
    "execution": {
     "iopub.execute_input": "2024-11-16T10:39:46.083896Z",
     "iopub.status.busy": "2024-11-16T10:39:46.083398Z",
     "iopub.status.idle": "2024-11-16T10:39:46.112835Z",
     "shell.execute_reply": "2024-11-16T10:39:46.111571Z"
    },
    "papermill": {
     "duration": 0.043829,
     "end_time": "2024-11-16T10:39:46.115632",
     "exception": false,
     "start_time": "2024-11-16T10:39:46.071803",
     "status": "completed"
    },
    "tags": []
   },
   "outputs": [],
   "source": [
    "data_real = pd.read_csv('/kaggle/input/arabic-real-data-dialects/Arabic_dialects.csv')"
   ]
  },
  {
   "cell_type": "markdown",
   "id": "be01e168",
   "metadata": {
    "papermill": {
     "duration": 0.010107,
     "end_time": "2024-11-16T10:39:46.136202",
     "exception": false,
     "start_time": "2024-11-16T10:39:46.126095",
     "status": "completed"
    },
    "tags": []
   },
   "source": [
    "## Data Preprocessing"
   ]
  },
  {
   "cell_type": "code",
   "execution_count": 5,
   "id": "b717b8fe",
   "metadata": {
    "execution": {
     "iopub.execute_input": "2024-11-16T10:39:46.158712Z",
     "iopub.status.busy": "2024-11-16T10:39:46.158247Z",
     "iopub.status.idle": "2024-11-16T10:39:46.180691Z",
     "shell.execute_reply": "2024-11-16T10:39:46.179534Z"
    },
    "papermill": {
     "duration": 0.036905,
     "end_time": "2024-11-16T10:39:46.183350",
     "exception": false,
     "start_time": "2024-11-16T10:39:46.146445",
     "status": "completed"
    },
    "tags": []
   },
   "outputs": [
    {
     "data": {
      "text/html": [
       "<div>\n",
       "<style scoped>\n",
       "    .dataframe tbody tr th:only-of-type {\n",
       "        vertical-align: middle;\n",
       "    }\n",
       "\n",
       "    .dataframe tbody tr th {\n",
       "        vertical-align: top;\n",
       "    }\n",
       "\n",
       "    .dataframe thead th {\n",
       "        text-align: right;\n",
       "    }\n",
       "</style>\n",
       "<table border=\"1\" class=\"dataframe\">\n",
       "  <thead>\n",
       "    <tr style=\"text-align: right;\">\n",
       "      <th></th>\n",
       "      <th>Unnamed: 0</th>\n",
       "      <th>Text</th>\n",
       "      <th>label</th>\n",
       "    </tr>\n",
       "  </thead>\n",
       "  <tbody>\n",
       "    <tr>\n",
       "      <th>0</th>\n",
       "      <td>0</td>\n",
       "      <td>شرب الشاي مع النعناع، في وقت الاسترخاء.</td>\n",
       "      <td>Levantine</td>\n",
       "    </tr>\n",
       "    <tr>\n",
       "      <th>1</th>\n",
       "      <td>1</td>\n",
       "      <td>أمك شلونها، تحسنت صحتها بعد العملية؟</td>\n",
       "      <td>Iraqi</td>\n",
       "    </tr>\n",
       "    <tr>\n",
       "      <th>2</th>\n",
       "      <td>2</td>\n",
       "      <td>ذهبت لزيارة الأخت، وأحببت الجلسة معها.</td>\n",
       "      <td>Gulf</td>\n",
       "    </tr>\n",
       "    <tr>\n",
       "      <th>3</th>\n",
       "      <td>3</td>\n",
       "      <td>سمعت إنه فيه فرقة جديدة عم تتكون، بدها جماهير ...</td>\n",
       "      <td>Levantine</td>\n",
       "    </tr>\n",
       "    <tr>\n",
       "      <th>4</th>\n",
       "      <td>4</td>\n",
       "      <td>خطر لي، هل فعلا نقدر نحب جميعًا؟</td>\n",
       "      <td>Iraqi</td>\n",
       "    </tr>\n",
       "  </tbody>\n",
       "</table>\n",
       "</div>"
      ],
      "text/plain": [
       "   Unnamed: 0                                               Text      label\n",
       "0           0          شرب الشاي مع النعناع، في وقت الاسترخاء.    Levantine\n",
       "1           1             أمك شلونها، تحسنت صحتها بعد العملية؟        Iraqi\n",
       "2           2           ذهبت لزيارة الأخت، وأحببت الجلسة معها.         Gulf\n",
       "3           3  سمعت إنه فيه فرقة جديدة عم تتكون، بدها جماهير ...  Levantine\n",
       "4           4                 خطر لي، هل فعلا نقدر نحب جميعًا؟        Iraqi"
      ]
     },
     "execution_count": 5,
     "metadata": {},
     "output_type": "execute_result"
    }
   ],
   "source": [
    "data_generated.head()"
   ]
  },
  {
   "cell_type": "code",
   "execution_count": 6,
   "id": "cc4ab3c8",
   "metadata": {
    "execution": {
     "iopub.execute_input": "2024-11-16T10:39:46.207760Z",
     "iopub.status.busy": "2024-11-16T10:39:46.206612Z",
     "iopub.status.idle": "2024-11-16T10:39:46.214971Z",
     "shell.execute_reply": "2024-11-16T10:39:46.213813Z"
    },
    "papermill": {
     "duration": 0.0231,
     "end_time": "2024-11-16T10:39:46.217312",
     "exception": false,
     "start_time": "2024-11-16T10:39:46.194212",
     "status": "completed"
    },
    "tags": []
   },
   "outputs": [
    {
     "data": {
      "text/plain": [
       "Index(['Unnamed: 0', 'Text', 'label'], dtype='object')"
      ]
     },
     "execution_count": 6,
     "metadata": {},
     "output_type": "execute_result"
    }
   ],
   "source": [
    "data_generated.columns"
   ]
  },
  {
   "cell_type": "code",
   "execution_count": 7,
   "id": "f4063247",
   "metadata": {
    "execution": {
     "iopub.execute_input": "2024-11-16T10:39:46.241039Z",
     "iopub.status.busy": "2024-11-16T10:39:46.240517Z",
     "iopub.status.idle": "2024-11-16T10:39:46.253627Z",
     "shell.execute_reply": "2024-11-16T10:39:46.252204Z"
    },
    "papermill": {
     "duration": 0.029262,
     "end_time": "2024-11-16T10:39:46.257389",
     "exception": false,
     "start_time": "2024-11-16T10:39:46.228127",
     "status": "completed"
    },
    "tags": []
   },
   "outputs": [],
   "source": [
    "data_generated = data_generated.drop(['Unnamed: 0'], axis=1)"
   ]
  },
  {
   "cell_type": "code",
   "execution_count": 8,
   "id": "cfc7b85f",
   "metadata": {
    "execution": {
     "iopub.execute_input": "2024-11-16T10:39:46.289199Z",
     "iopub.status.busy": "2024-11-16T10:39:46.288558Z",
     "iopub.status.idle": "2024-11-16T10:39:46.295821Z",
     "shell.execute_reply": "2024-11-16T10:39:46.294460Z"
    },
    "papermill": {
     "duration": 0.027351,
     "end_time": "2024-11-16T10:39:46.298859",
     "exception": false,
     "start_time": "2024-11-16T10:39:46.271508",
     "status": "completed"
    },
    "tags": []
   },
   "outputs": [],
   "source": [
    "data_generated.rename(columns={'Text': 'sent'},inplace=True, errors='raise')"
   ]
  },
  {
   "cell_type": "code",
   "execution_count": 9,
   "id": "0ba18afa",
   "metadata": {
    "execution": {
     "iopub.execute_input": "2024-11-16T10:39:46.327709Z",
     "iopub.status.busy": "2024-11-16T10:39:46.327234Z",
     "iopub.status.idle": "2024-11-16T10:39:46.340228Z",
     "shell.execute_reply": "2024-11-16T10:39:46.339060Z"
    },
    "papermill": {
     "duration": 0.028858,
     "end_time": "2024-11-16T10:39:46.342559",
     "exception": false,
     "start_time": "2024-11-16T10:39:46.313701",
     "status": "completed"
    },
    "tags": []
   },
   "outputs": [
    {
     "data": {
      "text/plain": [
       "array(['Levantine', 'Iraqi', 'Gulf', 'Egyptian', 'Maghrebi'], dtype=object)"
      ]
     },
     "execution_count": 9,
     "metadata": {},
     "output_type": "execute_result"
    }
   ],
   "source": [
    "data_generated['label'].unique()"
   ]
  },
  {
   "cell_type": "code",
   "execution_count": 10,
   "id": "9a749450",
   "metadata": {
    "execution": {
     "iopub.execute_input": "2024-11-16T10:39:46.366304Z",
     "iopub.status.busy": "2024-11-16T10:39:46.365863Z",
     "iopub.status.idle": "2024-11-16T10:39:46.377861Z",
     "shell.execute_reply": "2024-11-16T10:39:46.376798Z"
    },
    "papermill": {
     "duration": 0.026816,
     "end_time": "2024-11-16T10:39:46.380487",
     "exception": false,
     "start_time": "2024-11-16T10:39:46.353671",
     "status": "completed"
    },
    "tags": []
   },
   "outputs": [],
   "source": [
    "label_counts_generated = data_generated['label'].value_counts()"
   ]
  },
  {
   "cell_type": "code",
   "execution_count": 11,
   "id": "0fe54594",
   "metadata": {
    "execution": {
     "iopub.execute_input": "2024-11-16T10:39:46.404171Z",
     "iopub.status.busy": "2024-11-16T10:39:46.403723Z",
     "iopub.status.idle": "2024-11-16T10:39:46.412437Z",
     "shell.execute_reply": "2024-11-16T10:39:46.411192Z"
    },
    "papermill": {
     "duration": 0.023586,
     "end_time": "2024-11-16T10:39:46.415212",
     "exception": false,
     "start_time": "2024-11-16T10:39:46.391626",
     "status": "completed"
    },
    "tags": []
   },
   "outputs": [
    {
     "data": {
      "text/plain": [
       "label\n",
       "Levantine    2500\n",
       "Iraqi        2500\n",
       "Gulf         2500\n",
       "Egyptian     2500\n",
       "Maghrebi     2500\n",
       "Name: count, dtype: int64"
      ]
     },
     "execution_count": 11,
     "metadata": {},
     "output_type": "execute_result"
    }
   ],
   "source": [
    "label_counts_generated"
   ]
  },
  {
   "cell_type": "code",
   "execution_count": 12,
   "id": "ab729c85",
   "metadata": {
    "execution": {
     "iopub.execute_input": "2024-11-16T10:39:46.447434Z",
     "iopub.status.busy": "2024-11-16T10:39:46.446853Z",
     "iopub.status.idle": "2024-11-16T10:39:46.468892Z",
     "shell.execute_reply": "2024-11-16T10:39:46.467333Z"
    },
    "papermill": {
     "duration": 0.041932,
     "end_time": "2024-11-16T10:39:46.471788",
     "exception": false,
     "start_time": "2024-11-16T10:39:46.429856",
     "status": "completed"
    },
    "tags": []
   },
   "outputs": [
    {
     "data": {
      "text/html": [
       "<div>\n",
       "<style scoped>\n",
       "    .dataframe tbody tr th:only-of-type {\n",
       "        vertical-align: middle;\n",
       "    }\n",
       "\n",
       "    .dataframe tbody tr th {\n",
       "        vertical-align: top;\n",
       "    }\n",
       "\n",
       "    .dataframe thead th {\n",
       "        text-align: right;\n",
       "    }\n",
       "</style>\n",
       "<table border=\"1\" class=\"dataframe\">\n",
       "  <thead>\n",
       "    <tr style=\"text-align: right;\">\n",
       "      <th></th>\n",
       "      <th>sentID.BTEC</th>\n",
       "      <th>split</th>\n",
       "      <th>lang</th>\n",
       "      <th>sent</th>\n",
       "      <th>label</th>\n",
       "    </tr>\n",
       "  </thead>\n",
       "  <tbody>\n",
       "    <tr>\n",
       "      <th>0</th>\n",
       "      <td>7671</td>\n",
       "      <td>corpus-6-test-corpus-26-train</td>\n",
       "      <td>MUS</td>\n",
       "      <td>خذني إلى طريق ابي، من فضلك.</td>\n",
       "      <td>Gulf</td>\n",
       "    </tr>\n",
       "    <tr>\n",
       "      <th>1</th>\n",
       "      <td>2118</td>\n",
       "      <td>corpus-6-train</td>\n",
       "      <td>RAB</td>\n",
       "      <td>كا نتمنى هاد الرحلة دوز مزيان.</td>\n",
       "      <td>Maghrebi</td>\n",
       "    </tr>\n",
       "    <tr>\n",
       "      <th>2</th>\n",
       "      <td>9862</td>\n",
       "      <td>corpus-6-test-corpus-26-train</td>\n",
       "      <td>MOS</td>\n",
       "      <td>الطريق للنجاح هو \"جنمياكو، \" صح؟</td>\n",
       "      <td>Iraqi</td>\n",
       "    </tr>\n",
       "    <tr>\n",
       "      <th>3</th>\n",
       "      <td>11549</td>\n",
       "      <td>corpus-6-train</td>\n",
       "      <td>CAI</td>\n",
       "      <td>ممكن تتكلم بشويش شوبه؟</td>\n",
       "      <td>Egyptian</td>\n",
       "    </tr>\n",
       "    <tr>\n",
       "      <th>4</th>\n",
       "      <td>15073</td>\n",
       "      <td>corpus-6-test-corpus-26-test</td>\n",
       "      <td>ALG</td>\n",
       "      <td>شحال سعر التوصيلة؟ تقدر تكتبلي سعر التوصيلة عل...</td>\n",
       "      <td>Maghrebi</td>\n",
       "    </tr>\n",
       "  </tbody>\n",
       "</table>\n",
       "</div>"
      ],
      "text/plain": [
       "   sentID.BTEC                          split lang  \\\n",
       "0         7671  corpus-6-test-corpus-26-train  MUS   \n",
       "1         2118                 corpus-6-train  RAB   \n",
       "2         9862  corpus-6-test-corpus-26-train  MOS   \n",
       "3        11549                 corpus-6-train  CAI   \n",
       "4        15073   corpus-6-test-corpus-26-test  ALG   \n",
       "\n",
       "                                                sent     label  \n",
       "0                        خذني إلى طريق ابي، من فضلك.      Gulf  \n",
       "1                     كا نتمنى هاد الرحلة دوز مزيان.  Maghrebi  \n",
       "2                   الطريق للنجاح هو \"جنمياكو، \" صح؟     Iraqi  \n",
       "3                             ممكن تتكلم بشويش شوبه؟  Egyptian  \n",
       "4  شحال سعر التوصيلة؟ تقدر تكتبلي سعر التوصيلة عل...  Maghrebi  "
      ]
     },
     "execution_count": 12,
     "metadata": {},
     "output_type": "execute_result"
    }
   ],
   "source": [
    "data_real.head()"
   ]
  },
  {
   "cell_type": "code",
   "execution_count": 13,
   "id": "b1593373",
   "metadata": {
    "execution": {
     "iopub.execute_input": "2024-11-16T10:39:46.501470Z",
     "iopub.status.busy": "2024-11-16T10:39:46.500864Z",
     "iopub.status.idle": "2024-11-16T10:39:46.508794Z",
     "shell.execute_reply": "2024-11-16T10:39:46.507573Z"
    },
    "papermill": {
     "duration": 0.026698,
     "end_time": "2024-11-16T10:39:46.511176",
     "exception": false,
     "start_time": "2024-11-16T10:39:46.484478",
     "status": "completed"
    },
    "tags": []
   },
   "outputs": [],
   "source": [
    "data_real = data_real.drop(['sentID.BTEC', 'split', 'lang'], axis=1)"
   ]
  },
  {
   "cell_type": "code",
   "execution_count": 14,
   "id": "197522b0",
   "metadata": {
    "execution": {
     "iopub.execute_input": "2024-11-16T10:39:46.536648Z",
     "iopub.status.busy": "2024-11-16T10:39:46.535352Z",
     "iopub.status.idle": "2024-11-16T10:39:46.547239Z",
     "shell.execute_reply": "2024-11-16T10:39:46.546055Z"
    },
    "papermill": {
     "duration": 0.027267,
     "end_time": "2024-11-16T10:39:46.549883",
     "exception": false,
     "start_time": "2024-11-16T10:39:46.522616",
     "status": "completed"
    },
    "tags": []
   },
   "outputs": [
    {
     "data": {
      "text/html": [
       "<div>\n",
       "<style scoped>\n",
       "    .dataframe tbody tr th:only-of-type {\n",
       "        vertical-align: middle;\n",
       "    }\n",
       "\n",
       "    .dataframe tbody tr th {\n",
       "        vertical-align: top;\n",
       "    }\n",
       "\n",
       "    .dataframe thead th {\n",
       "        text-align: right;\n",
       "    }\n",
       "</style>\n",
       "<table border=\"1\" class=\"dataframe\">\n",
       "  <thead>\n",
       "    <tr style=\"text-align: right;\">\n",
       "      <th></th>\n",
       "      <th>sent</th>\n",
       "      <th>label</th>\n",
       "    </tr>\n",
       "  </thead>\n",
       "  <tbody>\n",
       "    <tr>\n",
       "      <th>0</th>\n",
       "      <td>خذني إلى طريق ابي، من فضلك.</td>\n",
       "      <td>Gulf</td>\n",
       "    </tr>\n",
       "    <tr>\n",
       "      <th>1</th>\n",
       "      <td>كا نتمنى هاد الرحلة دوز مزيان.</td>\n",
       "      <td>Maghrebi</td>\n",
       "    </tr>\n",
       "    <tr>\n",
       "      <th>2</th>\n",
       "      <td>الطريق للنجاح هو \"جنمياكو، \" صح؟</td>\n",
       "      <td>Iraqi</td>\n",
       "    </tr>\n",
       "    <tr>\n",
       "      <th>3</th>\n",
       "      <td>ممكن تتكلم بشويش شوبه؟</td>\n",
       "      <td>Egyptian</td>\n",
       "    </tr>\n",
       "    <tr>\n",
       "      <th>4</th>\n",
       "      <td>شحال سعر التوصيلة؟ تقدر تكتبلي سعر التوصيلة عل...</td>\n",
       "      <td>Maghrebi</td>\n",
       "    </tr>\n",
       "  </tbody>\n",
       "</table>\n",
       "</div>"
      ],
      "text/plain": [
       "                                                sent     label\n",
       "0                        خذني إلى طريق ابي، من فضلك.      Gulf\n",
       "1                     كا نتمنى هاد الرحلة دوز مزيان.  Maghrebi\n",
       "2                   الطريق للنجاح هو \"جنمياكو، \" صح؟     Iraqi\n",
       "3                             ممكن تتكلم بشويش شوبه؟  Egyptian\n",
       "4  شحال سعر التوصيلة؟ تقدر تكتبلي سعر التوصيلة عل...  Maghrebi"
      ]
     },
     "execution_count": 14,
     "metadata": {},
     "output_type": "execute_result"
    }
   ],
   "source": [
    "data_real.head()"
   ]
  },
  {
   "cell_type": "code",
   "execution_count": 15,
   "id": "774a7057",
   "metadata": {
    "execution": {
     "iopub.execute_input": "2024-11-16T10:39:46.580615Z",
     "iopub.status.busy": "2024-11-16T10:39:46.580027Z",
     "iopub.status.idle": "2024-11-16T10:39:46.590779Z",
     "shell.execute_reply": "2024-11-16T10:39:46.589525Z"
    },
    "papermill": {
     "duration": 0.029601,
     "end_time": "2024-11-16T10:39:46.594224",
     "exception": false,
     "start_time": "2024-11-16T10:39:46.564623",
     "status": "completed"
    },
    "tags": []
   },
   "outputs": [
    {
     "data": {
      "text/plain": [
       "array(['Gulf', 'Maghrebi', 'Iraqi', 'Egyptian', 'Levantine'], dtype=object)"
      ]
     },
     "execution_count": 15,
     "metadata": {},
     "output_type": "execute_result"
    }
   ],
   "source": [
    "data_real['label'].unique()"
   ]
  },
  {
   "cell_type": "code",
   "execution_count": 16,
   "id": "93380b09",
   "metadata": {
    "execution": {
     "iopub.execute_input": "2024-11-16T10:39:46.620471Z",
     "iopub.status.busy": "2024-11-16T10:39:46.619979Z",
     "iopub.status.idle": "2024-11-16T10:39:46.627546Z",
     "shell.execute_reply": "2024-11-16T10:39:46.626332Z"
    },
    "papermill": {
     "duration": 0.023815,
     "end_time": "2024-11-16T10:39:46.630217",
     "exception": false,
     "start_time": "2024-11-16T10:39:46.606402",
     "status": "completed"
    },
    "tags": []
   },
   "outputs": [],
   "source": [
    "label_counts_real = data_real['label'].value_counts()"
   ]
  },
  {
   "cell_type": "code",
   "execution_count": 17,
   "id": "981f364d",
   "metadata": {
    "execution": {
     "iopub.execute_input": "2024-11-16T10:39:46.657606Z",
     "iopub.status.busy": "2024-11-16T10:39:46.656994Z",
     "iopub.status.idle": "2024-11-16T10:39:46.667184Z",
     "shell.execute_reply": "2024-11-16T10:39:46.666012Z"
    },
    "papermill": {
     "duration": 0.027181,
     "end_time": "2024-11-16T10:39:46.669711",
     "exception": false,
     "start_time": "2024-11-16T10:39:46.642530",
     "status": "completed"
    },
    "tags": []
   },
   "outputs": [
    {
     "data": {
      "text/plain": [
       "label\n",
       "Maghrebi     1002\n",
       "Iraqi        1002\n",
       "Egyptian     1002\n",
       "Levantine    1002\n",
       "Gulf         1000\n",
       "Name: count, dtype: int64"
      ]
     },
     "execution_count": 17,
     "metadata": {},
     "output_type": "execute_result"
    }
   ],
   "source": [
    "label_counts_real"
   ]
  },
  {
   "cell_type": "markdown",
   "id": "ae3a24b6",
   "metadata": {
    "papermill": {
     "duration": 0.011727,
     "end_time": "2024-11-16T10:39:46.693581",
     "exception": false,
     "start_time": "2024-11-16T10:39:46.681854",
     "status": "completed"
    },
    "tags": []
   },
   "source": [
    "## Modeling"
   ]
  },
  {
   "cell_type": "code",
   "execution_count": 18,
   "id": "83fe1383",
   "metadata": {
    "execution": {
     "iopub.execute_input": "2024-11-16T10:39:46.720192Z",
     "iopub.status.busy": "2024-11-16T10:39:46.719718Z",
     "iopub.status.idle": "2024-11-16T10:39:46.728307Z",
     "shell.execute_reply": "2024-11-16T10:39:46.727043Z"
    },
    "papermill": {
     "duration": 0.0253,
     "end_time": "2024-11-16T10:39:46.730972",
     "exception": false,
     "start_time": "2024-11-16T10:39:46.705672",
     "status": "completed"
    },
    "tags": []
   },
   "outputs": [],
   "source": [
    "sdg_params = dict(alpha=1e-5, penalty='l2', loss='log')\n",
    "arabic_stop_words = [\n",
    "    \"و\", \"في\", \"على\", \"إلى\", \"عن\", \"من\", \"مع\", \"كان\", \"التي\", \"الذي\", \"هذا\",\n",
    "    \"هذه\", \"ذلك\", \"تلك\", \"كل\", \"كما\", \"قد\", \"لقد\", \"ليس\", \"هو\", \"هي\", \"هم\",\n",
    "    \"هن\", \"أنا\", \"نحن\", \"انت\", \"انتِ\", \"لكن\", \"ثم\", \"أو\", \"أيضا\", \"هناك\",\n",
    "    \"هنا\", \"قبل\", \"بعد\"\n",
    "]\n",
    "vectorizer_params = dict(\n",
    "    ngram_range=(1, 5),       # 1-5 grams\n",
    "    min_df=5,                 # Ignore terms that appear in fewer than 5 documents\n",
    "    max_df=0.8,               # Ignore terms that appear in more than 80% of documents\n",
    "    analyzer='word',          # Tokenizes at the word level (common for Arabic text)\n",
    "    stop_words=arabic_stop_words  # None by default, add Arabic stop words if needed\n",
    ")"
   ]
  },
  {
   "cell_type": "code",
   "execution_count": 19,
   "id": "9a22d5aa",
   "metadata": {
    "execution": {
     "iopub.execute_input": "2024-11-16T10:39:46.757210Z",
     "iopub.status.busy": "2024-11-16T10:39:46.756313Z",
     "iopub.status.idle": "2024-11-16T10:39:46.767838Z",
     "shell.execute_reply": "2024-11-16T10:39:46.766478Z"
    },
    "papermill": {
     "duration": 0.027495,
     "end_time": "2024-11-16T10:39:46.770504",
     "exception": false,
     "start_time": "2024-11-16T10:39:46.743009",
     "status": "completed"
    },
    "tags": []
   },
   "outputs": [],
   "source": [
    "def pipeline_creation(type_of_supervision, i, count=False):\n",
    "    # Define the list of classifiers and their names\n",
    "    classifiers = [\n",
    "        SGDClassifier(alpha=1e-5, penalty='l2', loss='log_loss', max_iter=1000),\n",
    "        LogisticRegression(max_iter=1000, solver='lbfgs', multi_class='multinomial'),\n",
    "        CalibratedClassifierCV(LinearSVC(), method='isotonic'),\n",
    "        CalibratedClassifierCV(PassiveAggressiveClassifier(max_iter=1000, C=0.5), method='isotonic'),\n",
    "        MultinomialNB(alpha=0.5, fit_prior=True)\n",
    "    ]\n",
    "    \n",
    "    classifier_names = [\n",
    "        \"SGDClassifier\",\n",
    "        \"LogisticRegression\",\n",
    "        \"Calibrated LinearSVC\",\n",
    "        \"Calibrated PassiveAggressiveClassifier\",\n",
    "        \"MultinomialNB\"\n",
    "    ]\n",
    "    \n",
    "    if count:\n",
    "        return len(classifiers)\n",
    "    \n",
    "    # Select classifier based on type of supervision\n",
    "    elif type_of_supervision == \"supervised\":\n",
    "        pipeline = Pipeline([\n",
    "            ('vect', CountVectorizer(**vectorizer_params)),\n",
    "            ('tfidf', TfidfTransformer()),\n",
    "            ('clf', classifiers[i])\n",
    "        ])\n",
    "        return pipeline, classifier_names[i]\n",
    "    \n",
    "    else:  # self-supervised\n",
    "        st_pipeline = Pipeline([\n",
    "            ('vect', CountVectorizer(**vectorizer_params)),\n",
    "            ('tfidf', TfidfTransformer()),\n",
    "            ('clf', SelfTrainingClassifier(classifiers[i], verbose=True))\n",
    "        ])\n",
    "        return st_pipeline, f\"SelfTrainingClassifier with {classifier_names[i]}\"\n"
   ]
  },
  {
   "cell_type": "code",
   "execution_count": 20,
   "id": "d60ae762",
   "metadata": {
    "execution": {
     "iopub.execute_input": "2024-11-16T10:39:46.796389Z",
     "iopub.status.busy": "2024-11-16T10:39:46.795946Z",
     "iopub.status.idle": "2024-11-16T10:39:46.803244Z",
     "shell.execute_reply": "2024-11-16T10:39:46.802128Z"
    },
    "papermill": {
     "duration": 0.023591,
     "end_time": "2024-11-16T10:39:46.805862",
     "exception": false,
     "start_time": "2024-11-16T10:39:46.782271",
     "status": "completed"
    },
    "tags": []
   },
   "outputs": [],
   "source": [
    "def eval_and_print_metrics(clf, X_train, y_train, X_test, y_test):\n",
    "    print(\"Number of training samples:\", len(X_train))\n",
    "    print(\"Unlabeled samples in training set:\",\n",
    "          sum(1 for x in y_train if x == -1))\n",
    "    clf.fit(X_train, y_train)\n",
    "    y_pred = clf.predict(X_test)\n",
    "    print(\"Micro-averaged F1 score on test set: \"\n",
    "          \"%0.3f\" % f1_score(y_test, y_pred, average='micro'))\n",
    "    print(\"-\" * 10)\n",
    "    print()"
   ]
  },
  {
   "cell_type": "code",
   "execution_count": 21,
   "id": "eff17370",
   "metadata": {
    "execution": {
     "iopub.execute_input": "2024-11-16T10:39:46.831345Z",
     "iopub.status.busy": "2024-11-16T10:39:46.830911Z",
     "iopub.status.idle": "2024-11-16T10:39:46.888632Z",
     "shell.execute_reply": "2024-11-16T10:39:46.887003Z"
    },
    "papermill": {
     "duration": 0.073663,
     "end_time": "2024-11-16T10:39:46.891429",
     "exception": false,
     "start_time": "2024-11-16T10:39:46.817766",
     "status": "completed"
    },
    "tags": []
   },
   "outputs": [
    {
     "name": "stdout",
     "output_type": "stream",
     "text": [
      "Training set size: (4006, 2)\n",
      "Test set size: (1002, 2)\n"
     ]
    }
   ],
   "source": [
    "from sklearn.model_selection import train_test_split\n",
    "import pandas as pd\n",
    "\n",
    "# Assuming data_real and data_generated are the dataframes with 'sent' and 'label' columns\n",
    "\n",
    "# Set the ratio of real to generated data in the training set\n",
    "real_ratio = 0.7  # Example: real_ratio% real and 100%-real_ratio% generated in the training set\n",
    "\n",
    "# Step 1: Split the real data into train and test (all test data will come from real data)\n",
    "data_real_train, data_real_test = train_test_split(data_real, test_size=0.2, stratify=data_real['label'], random_state=42)\n",
    "\n",
    "# Step 2: Calculate the number of real and generated samples for the training set\n",
    "num_real_train = int(real_ratio * len(data_real_train))  # Number of samples to take from real data for training\n",
    "num_generated_train = len(data_real_train) - num_real_train  # Remaining samples to take from generated data\n",
    "\n",
    "# Step 3: Subsample the training data from real and generated data according to the specified ratio\n",
    "data_real_train_subsample, _ = train_test_split(data_real_train, train_size=num_real_train, stratify=data_real_train['label'], random_state=42)\n",
    "data_generated_train_subsample, _ = train_test_split(data_generated, train_size=num_generated_train, stratify=data_generated['label'], random_state=42)\n",
    "\n",
    "# Step 4: Concatenate the real and generated subsamples to create the final training set\n",
    "train_data = pd.concat([data_real_train_subsample, data_generated_train_subsample]).sample(frac=1, random_state=42).reset_index(drop=True)\n",
    "\n",
    "# Step 5: Use `data_real_test` as the test set (all real data)\n",
    "\n",
    "# Now, train_data contains the specified ratio of real to generated data, and data_real_test is the test set with only real data\n",
    "print(f\"Training set size: {train_data.shape}\")\n",
    "print(f\"Test set size: {data_real_test.shape}\")\n"
   ]
  },
  {
   "cell_type": "code",
   "execution_count": 22,
   "id": "701a584d",
   "metadata": {
    "execution": {
     "iopub.execute_input": "2024-11-16T10:39:46.918165Z",
     "iopub.status.busy": "2024-11-16T10:39:46.917317Z",
     "iopub.status.idle": "2024-11-16T10:39:55.943289Z",
     "shell.execute_reply": "2024-11-16T10:39:55.941419Z"
    },
    "papermill": {
     "duration": 9.042562,
     "end_time": "2024-11-16T10:39:55.946235",
     "exception": false,
     "start_time": "2024-11-16T10:39:46.903673",
     "status": "completed"
    },
    "tags": []
   },
   "outputs": [
    {
     "name": "stdout",
     "output_type": "stream",
     "text": [
      "****************************************************************************************************\n",
      "Supervised training on 100% of the data using SGDClassifier:\n",
      "Number of training samples: 4006\n",
      "Unlabeled samples in training set: 0\n",
      "Micro-averaged F1 score on test set: 0.632\n",
      "----------\n",
      "\n",
      "              precision    recall  f1-score   support\n",
      "\n",
      "    Egyptian       0.66      0.67      0.67       201\n",
      "        Gulf       0.51      0.45      0.47       200\n",
      "       Iraqi       0.69      0.59      0.64       200\n",
      "   Levantine       0.71      0.63      0.67       201\n",
      "    Maghrebi       0.60      0.82      0.69       200\n",
      "\n",
      "    accuracy                           0.63      1002\n",
      "   macro avg       0.63      0.63      0.63      1002\n",
      "weighted avg       0.63      0.63      0.63      1002\n",
      "\n",
      "Supervised training on 20% of the training data using SGDClassifier:\n",
      "Number of training samples: 760\n",
      "Unlabeled samples in training set: 0\n",
      "Micro-averaged F1 score on test set: 0.432\n",
      "----------\n",
      "\n",
      "              precision    recall  f1-score   support\n",
      "\n",
      "    Egyptian       0.29      0.74      0.42       201\n",
      "        Gulf       0.41      0.20      0.26       200\n",
      "       Iraqi       0.44      0.40      0.42       200\n",
      "   Levantine       0.62      0.32      0.42       201\n",
      "    Maghrebi       0.86      0.51      0.64       200\n",
      "\n",
      "    accuracy                           0.43      1002\n",
      "   macro avg       0.53      0.43      0.43      1002\n",
      "weighted avg       0.53      0.43      0.43      1002\n",
      "\n",
      "SelfTrainingClassifier with SGDClassifier on 20% labeled training data (rest unlabeled):\n",
      "Number of training samples: 4006\n",
      "Unlabeled samples in training set: 3246\n",
      "End of iteration 1, added 1639 new labels.\n",
      "End of iteration 2, added 322 new labels.\n",
      "End of iteration 3, added 114 new labels.\n",
      "End of iteration 4, added 72 new labels.\n",
      "End of iteration 5, added 39 new labels.\n",
      "End of iteration 6, added 23 new labels.\n",
      "End of iteration 7, added 9 new labels.\n",
      "End of iteration 8, added 15 new labels.\n",
      "End of iteration 9, added 11 new labels.\n",
      "End of iteration 10, added 10 new labels.\n",
      "Micro-averaged F1 score on test set: 0.542\n",
      "----------\n",
      "\n",
      "              precision    recall  f1-score   support\n",
      "\n",
      "    Egyptian       0.46      0.69      0.55       201\n",
      "        Gulf       0.43      0.35      0.39       200\n",
      "       Iraqi       0.57      0.52      0.54       200\n",
      "   Levantine       0.55      0.48      0.52       201\n",
      "    Maghrebi       0.75      0.67      0.71       200\n",
      "\n",
      "    accuracy                           0.54      1002\n",
      "   macro avg       0.55      0.54      0.54      1002\n",
      "weighted avg       0.55      0.54      0.54      1002\n",
      "\n",
      "****************************************************************************************************\n",
      "Supervised training on 100% of the data using LogisticRegression:\n",
      "Number of training samples: 4006\n",
      "Unlabeled samples in training set: 0\n",
      "Micro-averaged F1 score on test set: 0.648\n",
      "----------\n",
      "\n",
      "              precision    recall  f1-score   support\n",
      "\n",
      "    Egyptian       0.69      0.69      0.69       201\n",
      "        Gulf       0.45      0.57      0.51       200\n",
      "       Iraqi       0.69      0.61      0.65       200\n",
      "   Levantine       0.68      0.63      0.65       201\n",
      "    Maghrebi       0.79      0.73      0.76       200\n",
      "\n",
      "    accuracy                           0.65      1002\n",
      "   macro avg       0.66      0.65      0.65      1002\n",
      "weighted avg       0.66      0.65      0.65      1002\n",
      "\n",
      "Supervised training on 20% of the training data using LogisticRegression:\n",
      "Number of training samples: 792\n",
      "Unlabeled samples in training set: 0\n",
      "Micro-averaged F1 score on test set: 0.450\n",
      "----------\n",
      "\n",
      "              precision    recall  f1-score   support\n",
      "\n",
      "    Egyptian       0.62      0.51      0.56       201\n",
      "        Gulf       0.24      0.53      0.33       200\n",
      "       Iraqi       0.52      0.30      0.38       200\n",
      "   Levantine       0.50      0.43      0.46       201\n",
      "    Maghrebi       0.87      0.48      0.62       200\n",
      "\n",
      "    accuracy                           0.45      1002\n",
      "   macro avg       0.55      0.45      0.47      1002\n",
      "weighted avg       0.55      0.45      0.47      1002\n",
      "\n",
      "SelfTrainingClassifier with LogisticRegression on 20% labeled training data (rest unlabeled):\n",
      "Number of training samples: 4006\n",
      "Unlabeled samples in training set: 3214\n",
      "End of iteration 1, added 58 new labels.\n",
      "End of iteration 2, added 32 new labels.\n",
      "End of iteration 3, added 18 new labels.\n",
      "End of iteration 4, added 8 new labels.\n",
      "End of iteration 5, added 2 new labels.\n",
      "End of iteration 6, added 3 new labels.\n",
      "End of iteration 7, added 3 new labels.\n",
      "End of iteration 8, added 3 new labels.\n",
      "Micro-averaged F1 score on test set: 0.568\n",
      "----------\n",
      "\n",
      "              precision    recall  f1-score   support\n",
      "\n",
      "    Egyptian       0.60      0.65      0.62       201\n",
      "        Gulf       0.44      0.34      0.38       200\n",
      "       Iraqi       0.59      0.56      0.57       200\n",
      "   Levantine       0.63      0.53      0.58       201\n",
      "    Maghrebi       0.56      0.76      0.65       200\n",
      "\n",
      "    accuracy                           0.57      1002\n",
      "   macro avg       0.56      0.57      0.56      1002\n",
      "weighted avg       0.56      0.57      0.56      1002\n",
      "\n",
      "****************************************************************************************************\n",
      "Supervised training on 100% of the data using Calibrated LinearSVC:\n",
      "Number of training samples: 4006\n",
      "Unlabeled samples in training set: 0\n",
      "Micro-averaged F1 score on test set: 0.645\n",
      "----------\n",
      "\n",
      "              precision    recall  f1-score   support\n",
      "\n",
      "    Egyptian       0.69      0.69      0.69       201\n",
      "        Gulf       0.52      0.47      0.50       200\n",
      "       Iraqi       0.71      0.60      0.65       200\n",
      "   Levantine       0.69      0.63      0.66       201\n",
      "    Maghrebi       0.62      0.82      0.71       200\n",
      "\n",
      "    accuracy                           0.64      1002\n",
      "   macro avg       0.65      0.64      0.64      1002\n",
      "weighted avg       0.65      0.64      0.64      1002\n",
      "\n",
      "Supervised training on 20% of the training data using Calibrated LinearSVC:\n",
      "Number of training samples: 787\n",
      "Unlabeled samples in training set: 0\n",
      "Micro-averaged F1 score on test set: 0.460\n",
      "----------\n",
      "\n",
      "              precision    recall  f1-score   support\n",
      "\n",
      "    Egyptian       0.70      0.41      0.52       201\n",
      "        Gulf       0.27      0.71      0.39       200\n",
      "       Iraqi       0.55      0.26      0.35       200\n",
      "   Levantine       0.67      0.34      0.45       201\n",
      "    Maghrebi       0.73      0.57      0.64       200\n",
      "\n",
      "    accuracy                           0.46      1002\n",
      "   macro avg       0.59      0.46      0.47      1002\n",
      "weighted avg       0.59      0.46      0.47      1002\n",
      "\n",
      "SelfTrainingClassifier with Calibrated LinearSVC on 20% labeled training data (rest unlabeled):\n",
      "Number of training samples: 4006\n",
      "Unlabeled samples in training set: 3219\n",
      "End of iteration 1, added 354 new labels.\n",
      "End of iteration 2, added 237 new labels.\n",
      "End of iteration 3, added 215 new labels.\n",
      "End of iteration 4, added 212 new labels.\n",
      "End of iteration 5, added 171 new labels.\n",
      "End of iteration 6, added 149 new labels.\n",
      "End of iteration 7, added 97 new labels.\n",
      "End of iteration 8, added 72 new labels.\n",
      "End of iteration 9, added 50 new labels.\n",
      "End of iteration 10, added 36 new labels.\n",
      "Micro-averaged F1 score on test set: 0.557\n",
      "----------\n",
      "\n",
      "              precision    recall  f1-score   support\n",
      "\n",
      "    Egyptian       0.58      0.59      0.58       201\n",
      "        Gulf       0.34      0.54      0.41       200\n",
      "       Iraqi       0.70      0.51      0.59       200\n",
      "   Levantine       0.67      0.45      0.54       201\n",
      "    Maghrebi       0.70      0.70      0.70       200\n",
      "\n",
      "    accuracy                           0.56      1002\n",
      "   macro avg       0.60      0.56      0.57      1002\n",
      "weighted avg       0.60      0.56      0.57      1002\n",
      "\n",
      "****************************************************************************************************\n",
      "Supervised training on 100% of the data using Calibrated PassiveAggressiveClassifier:\n",
      "Number of training samples: 4006\n",
      "Unlabeled samples in training set: 0\n",
      "Micro-averaged F1 score on test set: 0.628\n",
      "----------\n",
      "\n",
      "              precision    recall  f1-score   support\n",
      "\n",
      "    Egyptian       0.67      0.66      0.66       201\n",
      "        Gulf       0.51      0.44      0.47       200\n",
      "       Iraqi       0.70      0.58      0.64       200\n",
      "   Levantine       0.66      0.65      0.65       201\n",
      "    Maghrebi       0.61      0.81      0.69       200\n",
      "\n",
      "    accuracy                           0.63      1002\n",
      "   macro avg       0.63      0.63      0.62      1002\n",
      "weighted avg       0.63      0.63      0.62      1002\n",
      "\n",
      "Supervised training on 20% of the training data using Calibrated PassiveAggressiveClassifier:\n",
      "Number of training samples: 816\n",
      "Unlabeled samples in training set: 0\n",
      "Micro-averaged F1 score on test set: 0.453\n",
      "----------\n",
      "\n",
      "              precision    recall  f1-score   support\n",
      "\n",
      "    Egyptian       0.56      0.45      0.50       201\n",
      "        Gulf       0.37      0.30      0.33       200\n",
      "       Iraqi       0.33      0.74      0.46       200\n",
      "   Levantine       0.50      0.29      0.37       201\n",
      "    Maghrebi       0.84      0.48      0.62       200\n",
      "\n",
      "    accuracy                           0.45      1002\n",
      "   macro avg       0.52      0.45      0.45      1002\n",
      "weighted avg       0.52      0.45      0.45      1002\n",
      "\n",
      "SelfTrainingClassifier with Calibrated PassiveAggressiveClassifier on 20% labeled training data (rest unlabeled):\n",
      "Number of training samples: 4006\n",
      "Unlabeled samples in training set: 3190\n",
      "End of iteration 1, added 180 new labels.\n",
      "End of iteration 2, added 116 new labels.\n",
      "End of iteration 3, added 98 new labels.\n",
      "End of iteration 4, added 92 new labels.\n",
      "End of iteration 5, added 62 new labels.\n",
      "End of iteration 6, added 50 new labels.\n",
      "End of iteration 7, added 53 new labels.\n",
      "End of iteration 8, added 52 new labels.\n",
      "End of iteration 9, added 33 new labels.\n",
      "End of iteration 10, added 37 new labels.\n",
      "Micro-averaged F1 score on test set: 0.550\n",
      "----------\n",
      "\n",
      "              precision    recall  f1-score   support\n",
      "\n",
      "    Egyptian       0.54      0.67      0.59       201\n",
      "        Gulf       0.37      0.41      0.39       200\n",
      "       Iraqi       0.56      0.61      0.59       200\n",
      "   Levantine       0.55      0.43      0.49       201\n",
      "    Maghrebi       0.80      0.62      0.70       200\n",
      "\n",
      "    accuracy                           0.55      1002\n",
      "   macro avg       0.57      0.55      0.55      1002\n",
      "weighted avg       0.57      0.55      0.55      1002\n",
      "\n",
      "****************************************************************************************************\n",
      "Supervised training on 100% of the data using MultinomialNB:\n",
      "Number of training samples: 4006\n",
      "Unlabeled samples in training set: 0\n",
      "Micro-averaged F1 score on test set: 0.640\n",
      "----------\n",
      "\n",
      "              precision    recall  f1-score   support\n",
      "\n",
      "    Egyptian       0.68      0.69      0.68       201\n",
      "        Gulf       0.53      0.45      0.49       200\n",
      "       Iraqi       0.70      0.62      0.66       200\n",
      "   Levantine       0.64      0.62      0.63       201\n",
      "    Maghrebi       0.63      0.82      0.71       200\n",
      "\n",
      "    accuracy                           0.64      1002\n",
      "   macro avg       0.64      0.64      0.64      1002\n",
      "weighted avg       0.64      0.64      0.64      1002\n",
      "\n",
      "Supervised training on 20% of the training data using MultinomialNB:\n",
      "Number of training samples: 766\n",
      "Unlabeled samples in training set: 0\n",
      "Micro-averaged F1 score on test set: 0.442\n",
      "----------\n",
      "\n",
      "              precision    recall  f1-score   support\n",
      "\n",
      "    Egyptian       0.76      0.35      0.48       201\n",
      "        Gulf       0.41      0.34      0.37       200\n",
      "       Iraqi       0.49      0.40      0.44       200\n",
      "   Levantine       0.59      0.34      0.43       201\n",
      "    Maghrebi       0.34      0.79      0.47       200\n",
      "\n",
      "    accuracy                           0.44      1002\n",
      "   macro avg       0.51      0.44      0.44      1002\n",
      "weighted avg       0.52      0.44      0.44      1002\n",
      "\n",
      "SelfTrainingClassifier with MultinomialNB on 20% labeled training data (rest unlabeled):\n",
      "Number of training samples: 4006\n",
      "Unlabeled samples in training set: 3240\n",
      "End of iteration 1, added 127 new labels.\n",
      "End of iteration 2, added 139 new labels.\n",
      "End of iteration 3, added 81 new labels.\n",
      "End of iteration 4, added 41 new labels.\n",
      "End of iteration 5, added 18 new labels.\n",
      "End of iteration 6, added 6 new labels.\n",
      "End of iteration 7, added 5 new labels.\n",
      "End of iteration 8, added 5 new labels.\n",
      "End of iteration 9, added 2 new labels.\n",
      "Micro-averaged F1 score on test set: 0.529\n",
      "----------\n",
      "\n",
      "              precision    recall  f1-score   support\n",
      "\n",
      "    Egyptian       0.77      0.42      0.55       201\n",
      "        Gulf       0.48      0.24      0.32       200\n",
      "       Iraqi       0.58      0.61      0.60       200\n",
      "   Levantine       0.61      0.48      0.54       201\n",
      "    Maghrebi       0.42      0.89      0.57       200\n",
      "\n",
      "    accuracy                           0.53      1002\n",
      "   macro avg       0.57      0.53      0.52      1002\n",
      "weighted avg       0.57      0.53      0.52      1002\n",
      "\n"
     ]
    }
   ],
   "source": [
    "# Main code to iterate over classifiers and display results\n",
    "if __name__ == \"__main__\":\n",
    "    results = []\n",
    "#     # Encode labels to handle text labels properly in sklearn classifiers\n",
    "#     label_encoder = LabelEncoder()\n",
    "#     y_encoded = label_encoder.fit_transform(data.label)  # Fit on full set of labels\n",
    "\n",
    "#     X = data.sent\n",
    "#     y = y_encoded\n",
    "#     X_train, X_test, y_train, y_test = train_test_split(X, y, stratify=y, random_state=42)\n",
    "\n",
    "    # Step 1: Encode labels\n",
    "    label_encoder = LabelEncoder()\n",
    "\n",
    "    # Apply label encoding to the combined labels in both train and test sets\n",
    "    train_data['label'] = label_encoder.fit_transform(train_data['label'])\n",
    "    data_real_test['label'] = label_encoder.transform(data_real_test['label'])  # Transform using the same encoder\n",
    "\n",
    "    # Step 2: Define features (X) and labels (y) for train and test sets\n",
    "    X_train = train_data['sent']\n",
    "    y_train = train_data['label']\n",
    "    X_test = data_real_test['sent']\n",
    "    y_test = data_real_test['label']\n",
    "    \n",
    "    # Iterate over each classifier in the pipeline\n",
    "    for i in range(pipeline_creation(0, 0, True)):\n",
    "\n",
    "        print(100 * \"*\")\n",
    "        \n",
    "        # Supervised pipeline\n",
    "        pipeline, classifier_name = pipeline_creation(\"supervised\", i)\n",
    "        print(f\"Supervised training on 100% of the data using {classifier_name}:\")\n",
    "        eval_and_print_metrics(pipeline, X_train, y_train, X_test, y_test)\n",
    "        \n",
    "        # Decode labels to show original values in the classification report\n",
    "        y_test_decoded = label_encoder.inverse_transform(y_test)\n",
    "        y_pred = pipeline.predict(X_test)\n",
    "        y_pred_decoded = label_encoder.inverse_transform(y_pred)\n",
    "        report = classification_report(y_test_decoded, y_pred_decoded, output_dict=True)\n",
    "        print(classification_report(y_test_decoded, y_pred_decoded))\n",
    "        \n",
    "        # Save results for Supervised 100%\n",
    "        results.append({\n",
    "            'Classifier': classifier_name,\n",
    "            'Setting': 'Supervised 100%',\n",
    "            'Accuracy': report['accuracy'],\n",
    "            'F1-Score': report['macro avg']['f1-score']\n",
    "        })\n",
    "\n",
    "        # 20% labeled data setup\n",
    "        y_mask = np.random.rand(len(y_train)) < 0.2  # Random mask for 20% of the data\n",
    "        X_20, y_20 = map(list, zip(*((x, y) for x, y, m in zip(X_train, y_train, y_mask) if m)))\n",
    "        print(f\"Supervised training on 20% of the training data using {classifier_name}:\")\n",
    "        eval_and_print_metrics(pipeline, X_20, y_20, X_test, y_test)\n",
    "\n",
    "        # Decode labels for partial training classification report\n",
    "        y_pred_partial = pipeline.predict(X_test)\n",
    "        y_pred_partial_decoded = label_encoder.inverse_transform(y_pred_partial)\n",
    "        report_partial = classification_report(y_test_decoded, y_pred_partial_decoded, output_dict=True)\n",
    "        print(classification_report(y_test_decoded, y_pred_partial_decoded))\n",
    "\n",
    "        # Save results for Supervised 20%\n",
    "        results.append({\n",
    "            'Classifier': classifier_name,\n",
    "            'Setting': 'Supervised 20%',\n",
    "            'Accuracy': report_partial['accuracy'],\n",
    "            'F1-Score': report_partial['macro avg']['f1-score']\n",
    "        })\n",
    "\n",
    "        # Semi-supervised pipeline with self-training\n",
    "        st_pipeline, st_classifier_name = pipeline_creation(\"semi-supervised\", i)\n",
    "        y_train_semi = np.copy(y_train)  # Copy to modify labels for self-training\n",
    "        y_train_semi[~y_mask] = -1  # Unlabel the non-masked subset\n",
    "\n",
    "        print(f\"{st_classifier_name} on 20% labeled training data (rest unlabeled):\")\n",
    "        eval_and_print_metrics(st_pipeline, X_train, y_train_semi, X_test, y_test)\n",
    "\n",
    "        # Decode labels for semi-supervised classification report\n",
    "        y_pred_semi = st_pipeline.predict(X_test)\n",
    "        y_pred_semi_decoded = label_encoder.inverse_transform(y_pred_semi)\n",
    "        report_semi = classification_report(y_test_decoded, y_pred_semi_decoded, output_dict=True)\n",
    "        print(classification_report(y_test_decoded, y_pred_semi_decoded))\n",
    "\n",
    "        # Save results for Self-Training\n",
    "        results.append({\n",
    "            'Classifier': classifier_name,\n",
    "            'Setting': 'Self-Training',\n",
    "            'Accuracy': report_semi['accuracy'],\n",
    "            'F1-Score': report_semi['macro avg']['f1-score']\n",
    "        })\n"
   ]
  },
  {
   "cell_type": "code",
   "execution_count": 23,
   "id": "41b06c78",
   "metadata": {
    "execution": {
     "iopub.execute_input": "2024-11-16T10:39:55.979091Z",
     "iopub.status.busy": "2024-11-16T10:39:55.978610Z",
     "iopub.status.idle": "2024-11-16T10:39:56.892162Z",
     "shell.execute_reply": "2024-11-16T10:39:56.890903Z"
    },
    "papermill": {
     "duration": 0.933987,
     "end_time": "2024-11-16T10:39:56.895903",
     "exception": false,
     "start_time": "2024-11-16T10:39:55.961916",
     "status": "completed"
    },
    "tags": []
   },
   "outputs": [
    {
     "data": {
      "image/png": "[encoded data removed]",
      "text/plain": [
       "<Figure size 1200x1000 with 2 Axes>"
      ]
     },
     "metadata": {},
     "output_type": "display_data"
    }
   ],
   "source": [
    "\n",
    "# Plotting\n",
    "results_df = pd.DataFrame.from_dict(results)\n",
    "fig, axes = plt.subplots(2, 1, figsize=(12, 10))\n",
    "\n",
    "# Accuracy plot\n",
    "accuracy_df = results_df.pivot(index=\"Classifier\", columns=\"Setting\", values=\"Accuracy\")\n",
    "accuracy_df.plot(kind=\"bar\", ax=axes[0], color=[\"#4daf4a\", \"#377eb8\", \"#e41a1c\"])\n",
    "axes[0].set_title(\"Accuracy Comparison by Classifier and Setting\")\n",
    "axes[0].set_ylabel(\"Accuracy\")\n",
    "axes[0].set_xlabel(\"Classifier\")\n",
    "axes[0].legend(title=\"Setting\", loc=\"center left\", bbox_to_anchor=(1.0, 0.5))\n",
    "axes[0].tick_params(axis='x', rotation=45)\n",
    "\n",
    "# F1-Score plot\n",
    "f1_df = results_df.pivot(index=\"Classifier\", columns=\"Setting\", values=\"F1-Score\")\n",
    "f1_df.plot(kind=\"bar\", ax=axes[1], color=[\"#4daf4a\", \"#377eb8\", \"#e41a1c\"])\n",
    "axes[1].set_title(\"F1-Score Comparison by Classifier and Setting\")\n",
    "axes[1].set_ylabel(\"F1-Score\")\n",
    "axes[1].set_xlabel(\"Classifier\")\n",
    "axes[1].legend(title=\"Setting\", loc=\"center left\", bbox_to_anchor=(1.0, 0.5))\n",
    "axes[1].tick_params(axis='x', rotation=45)\n",
    "\n",
    "# Adjust layout\n",
    "plt.tight_layout()\n",
    "plt.show()\n"
   ]
  },
  {
   "cell_type": "code",
   "execution_count": 24,
   "id": "3b3bc68b",
   "metadata": {
    "execution": {
     "iopub.execute_input": "2024-11-16T10:39:56.933160Z",
     "iopub.status.busy": "2024-11-16T10:39:56.932732Z",
     "iopub.status.idle": "2024-11-16T10:39:56.953110Z",
     "shell.execute_reply": "2024-11-16T10:39:56.951745Z"
    },
    "papermill": {
     "duration": 0.042063,
     "end_time": "2024-11-16T10:39:56.956089",
     "exception": false,
     "start_time": "2024-11-16T10:39:56.914026",
     "status": "completed"
    },
    "tags": []
   },
   "outputs": [
    {
     "name": "stdout",
     "output_type": "stream",
     "text": [
      "Comparison of Classifier Performance by Setting\n"
     ]
    },
    {
     "data": {
      "text/html": [
       "<div>\n",
       "<style scoped>\n",
       "    .dataframe tbody tr th:only-of-type {\n",
       "        vertical-align: middle;\n",
       "    }\n",
       "\n",
       "    .dataframe tbody tr th {\n",
       "        vertical-align: top;\n",
       "    }\n",
       "\n",
       "    .dataframe thead tr th {\n",
       "        text-align: left;\n",
       "    }\n",
       "\n",
       "    .dataframe thead tr:last-of-type th {\n",
       "        text-align: right;\n",
       "    }\n",
       "</style>\n",
       "<table border=\"1\" class=\"dataframe\">\n",
       "  <thead>\n",
       "    <tr>\n",
       "      <th></th>\n",
       "      <th colspan=\"3\" halign=\"left\">Accuracy</th>\n",
       "    </tr>\n",
       "    <tr>\n",
       "      <th>Setting</th>\n",
       "      <th>Self-Training</th>\n",
       "      <th>Supervised 100%</th>\n",
       "      <th>Supervised 20%</th>\n",
       "    </tr>\n",
       "    <tr>\n",
       "      <th>Classifier</th>\n",
       "      <th></th>\n",
       "      <th></th>\n",
       "      <th></th>\n",
       "    </tr>\n",
       "  </thead>\n",
       "  <tbody>\n",
       "    <tr>\n",
       "      <th>Calibrated LinearSVC</th>\n",
       "      <td>0.556886</td>\n",
       "      <td>0.644711</td>\n",
       "      <td>0.460080</td>\n",
       "    </tr>\n",
       "    <tr>\n",
       "      <th>Calibrated PassiveAggressiveClassifier</th>\n",
       "      <td>0.549900</td>\n",
       "      <td>0.627745</td>\n",
       "      <td>0.453094</td>\n",
       "    </tr>\n",
       "    <tr>\n",
       "      <th>LogisticRegression</th>\n",
       "      <td>0.567864</td>\n",
       "      <td>0.647705</td>\n",
       "      <td>0.450100</td>\n",
       "    </tr>\n",
       "    <tr>\n",
       "      <th>MultinomialNB</th>\n",
       "      <td>0.528942</td>\n",
       "      <td>0.639721</td>\n",
       "      <td>0.442116</td>\n",
       "    </tr>\n",
       "    <tr>\n",
       "      <th>SGDClassifier</th>\n",
       "      <td>0.541916</td>\n",
       "      <td>0.631737</td>\n",
       "      <td>0.432136</td>\n",
       "    </tr>\n",
       "  </tbody>\n",
       "</table>\n",
       "</div>"
      ],
      "text/plain": [
       "                                            Accuracy                  \\\n",
       "Setting                                Self-Training Supervised 100%   \n",
       "Classifier                                                             \n",
       "Calibrated LinearSVC                        0.556886        0.644711   \n",
       "Calibrated PassiveAggressiveClassifier      0.549900        0.627745   \n",
       "LogisticRegression                          0.567864        0.647705   \n",
       "MultinomialNB                               0.528942        0.639721   \n",
       "SGDClassifier                               0.541916        0.631737   \n",
       "\n",
       "                                                       \n",
       "Setting                                Supervised 20%  \n",
       "Classifier                                             \n",
       "Calibrated LinearSVC                         0.460080  \n",
       "Calibrated PassiveAggressiveClassifier       0.453094  \n",
       "LogisticRegression                           0.450100  \n",
       "MultinomialNB                                0.442116  \n",
       "SGDClassifier                                0.432136  "
      ]
     },
     "execution_count": 24,
     "metadata": {},
     "output_type": "execute_result"
    }
   ],
   "source": [
    "# Pivot the DataFrame to reorganize for comparison\n",
    "comparison_df = results_df.pivot(index=\"Classifier\", columns=\"Setting\", values=[\"Accuracy\"])\n",
    "\n",
    "# Display the formatted table\n",
    "print(\"Comparison of Classifier Performance by Setting\")\n",
    "comparison_df"
   ]
  },
  {
   "cell_type": "code",
   "execution_count": 25,
   "id": "d60d5efe",
   "metadata": {
    "execution": {
     "iopub.execute_input": "2024-11-16T10:39:56.993188Z",
     "iopub.status.busy": "2024-11-16T10:39:56.992730Z",
     "iopub.status.idle": "2024-11-16T10:39:57.014318Z",
     "shell.execute_reply": "2024-11-16T10:39:57.012932Z"
    },
    "papermill": {
     "duration": 0.04338,
     "end_time": "2024-11-16T10:39:57.017059",
     "exception": false,
     "start_time": "2024-11-16T10:39:56.973679",
     "status": "completed"
    },
    "tags": []
   },
   "outputs": [
    {
     "name": "stdout",
     "output_type": "stream",
     "text": [
      "Comparison of Classifier Performance by Setting\n"
     ]
    },
    {
     "data": {
      "text/html": [
       "<div>\n",
       "<style scoped>\n",
       "    .dataframe tbody tr th:only-of-type {\n",
       "        vertical-align: middle;\n",
       "    }\n",
       "\n",
       "    .dataframe tbody tr th {\n",
       "        vertical-align: top;\n",
       "    }\n",
       "\n",
       "    .dataframe thead tr th {\n",
       "        text-align: left;\n",
       "    }\n",
       "\n",
       "    .dataframe thead tr:last-of-type th {\n",
       "        text-align: right;\n",
       "    }\n",
       "</style>\n",
       "<table border=\"1\" class=\"dataframe\">\n",
       "  <thead>\n",
       "    <tr>\n",
       "      <th></th>\n",
       "      <th colspan=\"3\" halign=\"left\">F1-Score</th>\n",
       "    </tr>\n",
       "    <tr>\n",
       "      <th>Setting</th>\n",
       "      <th>Self-Training</th>\n",
       "      <th>Supervised 100%</th>\n",
       "      <th>Supervised 20%</th>\n",
       "    </tr>\n",
       "    <tr>\n",
       "      <th>Classifier</th>\n",
       "      <th></th>\n",
       "      <th></th>\n",
       "      <th></th>\n",
       "    </tr>\n",
       "  </thead>\n",
       "  <tbody>\n",
       "    <tr>\n",
       "      <th>Calibrated LinearSVC</th>\n",
       "      <td>0.565763</td>\n",
       "      <td>0.641482</td>\n",
       "      <td>0.471721</td>\n",
       "    </tr>\n",
       "    <tr>\n",
       "      <th>Calibrated PassiveAggressiveClassifier</th>\n",
       "      <td>0.552116</td>\n",
       "      <td>0.623540</td>\n",
       "      <td>0.454244</td>\n",
       "    </tr>\n",
       "    <tr>\n",
       "      <th>LogisticRegression</th>\n",
       "      <td>0.560702</td>\n",
       "      <td>0.652383</td>\n",
       "      <td>0.470724</td>\n",
       "    </tr>\n",
       "    <tr>\n",
       "      <th>MultinomialNB</th>\n",
       "      <td>0.515022</td>\n",
       "      <td>0.635094</td>\n",
       "      <td>0.438133</td>\n",
       "    </tr>\n",
       "    <tr>\n",
       "      <th>SGDClassifier</th>\n",
       "      <td>0.540468</td>\n",
       "      <td>0.627829</td>\n",
       "      <td>0.433422</td>\n",
       "    </tr>\n",
       "  </tbody>\n",
       "</table>\n",
       "</div>"
      ],
      "text/plain": [
       "                                            F1-Score                  \\\n",
       "Setting                                Self-Training Supervised 100%   \n",
       "Classifier                                                             \n",
       "Calibrated LinearSVC                        0.565763        0.641482   \n",
       "Calibrated PassiveAggressiveClassifier      0.552116        0.623540   \n",
       "LogisticRegression                          0.560702        0.652383   \n",
       "MultinomialNB                               0.515022        0.635094   \n",
       "SGDClassifier                               0.540468        0.627829   \n",
       "\n",
       "                                                       \n",
       "Setting                                Supervised 20%  \n",
       "Classifier                                             \n",
       "Calibrated LinearSVC                         0.471721  \n",
       "Calibrated PassiveAggressiveClassifier       0.454244  \n",
       "LogisticRegression                           0.470724  \n",
       "MultinomialNB                                0.438133  \n",
       "SGDClassifier                                0.433422  "
      ]
     },
     "execution_count": 25,
     "metadata": {},
     "output_type": "execute_result"
    }
   ],
   "source": [
    "# Pivot the DataFrame to reorganize for comparison\n",
    "comparison_df = results_df.pivot(index=\"Classifier\", columns=\"Setting\", values=[\"F1-Score\"])\n",
    "\n",
    "# Display the formatted table\n",
    "print(\"Comparison of Classifier Performance by Setting\")\n",
    "comparison_df"
   ]
  }
 ],
 "metadata": {
  "kaggle": {
   "accelerator": "none",
   "dataSources": [
    {
     "datasetId": 6068996,
     "sourceId": 9883544,
     "sourceType": "datasetVersion"
    },
    {
     "datasetId": 6071343,
     "sourceId": 9886592,
     "sourceType": "datasetVersion"
    },
    {
     "datasetId": 6077150,
     "sourceId": 9894375,
     "sourceType": "datasetVersion"
    },
    {
     "datasetId": 6098689,
     "sourceId": 9922906,
     "sourceType": "datasetVersion"
    }
   ],
   "dockerImageVersionId": 30786,
   "isGpuEnabled": false,
   "isInternetEnabled": true,
   "language": "python",
   "sourceType": "notebook"
  },
  "kernelspec": {
   "display_name": "Python 3",
   "language": "python",
   "name": "python3"
  },
  "language_info": {
   "codemirror_mode": {
    "name": "ipython",
    "version": 3
   },
   "file_extension": ".py",
   "mimetype": "text/x-python",
   "name": "python",
   "nbconvert_exporter": "python",
   "pygments_lexer": "ipython3",
   "version": "3.10.14"
  },
  "papermill": {
   "default_parameters": {},
   "duration": 19.004228,
   "end_time": "2024-11-16T10:39:57.759433",
   "environment_variables": {},
   "exception": null,
   "input_path": "__notebook__.ipynb",
   "output_path": "__notebook__.ipynb",
   "parameters": {},
   "start_time": "2024-11-16T10:39:38.755205",
   "version": "2.6.0"
  }
 },
 "nbformat": 4,
 "nbformat_minor": 5
}
