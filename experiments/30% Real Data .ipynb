{
 "cells": [
  {
   "cell_type": "markdown",
   "id": "ec6e6d63",
   "metadata": {
    "papermill": {
     "duration": 0.008303,
     "end_time": "2024-11-16T10:37:59.288286",
     "exception": false,
     "start_time": "2024-11-16T10:37:59.279983",
     "status": "completed"
    },
    "tags": []
   },
   "source": [
    "# 4️⃣ 30% Real Data - No preprocessing"
   ]
  },
  {
   "cell_type": "markdown",
   "id": "71fe3c0b",
   "metadata": {
    "_cell_guid": "b1076dfc-b9ad-4769-8c92-a6c4dae69d19",
    "_uuid": "8f2839f25d086af736a60e9eeb907d3b93b6e0e5",
    "papermill": {
     "duration": 0.006962,
     "end_time": "2024-11-16T10:37:59.303176",
     "exception": false,
     "start_time": "2024-11-16T10:37:59.296214",
     "status": "completed"
    },
    "tags": []
   },
   "source": [
    "# Semi-Supervised Learning (Self-Training) reverse 🔀\n",
    "\n",
    "* Semi-Supervised Learning combines labeled and unlabeled examples\n",
    "* In self-Training, you could convert a Supervised Machine Learning algorithm to a semi-supervised one\n",
    "\n",
    "### **Steps** ✨\n",
    "1. Train supervised model using labeled data\n",
    "2. Make predictions on unlabeled data using the model from the previous step\n",
    "3. Take predictions satisfying probability threshold criteria and add them to the pseudo-labeled set\n",
    "4. combine the labeled and pseudo-labeled data and train the next verion of the model\n",
    "5. Make predictions on the remaining unlabeled data using this model of step 4\n",
    "6. Take predictions satisfying the probability threshold and add them to an existing pseudo-labeled set\n",
    "\n",
    "### **References:** 🔗\n",
    "* https://www.kaggle.com/code/sasakitetsuya/semi-supervised-classification-on-a-text-dataset \n",
    "* https://scikit-learn.ru/example/semi-supervised-classification-on-a-text-dataset/\n"
   ]
  },
  {
   "cell_type": "markdown",
   "id": "8483f2ca",
   "metadata": {
    "papermill": {
     "duration": 0.006938,
     "end_time": "2024-11-16T10:37:59.317378",
     "exception": false,
     "start_time": "2024-11-16T10:37:59.310440",
     "status": "completed"
    },
    "tags": []
   },
   "source": [
    "## Importing "
   ]
  },
  {
   "cell_type": "code",
   "execution_count": 1,
   "id": "5e2d9ae6",
   "metadata": {
    "execution": {
     "iopub.execute_input": "2024-11-16T10:37:59.334685Z",
     "iopub.status.busy": "2024-11-16T10:37:59.334125Z",
     "iopub.status.idle": "2024-11-16T10:38:00.258819Z",
     "shell.execute_reply": "2024-11-16T10:38:00.257577Z"
    },
    "papermill": {
     "duration": 0.936372,
     "end_time": "2024-11-16T10:38:00.261348",
     "exception": false,
     "start_time": "2024-11-16T10:37:59.324976",
     "status": "completed"
    },
    "tags": []
   },
   "outputs": [
    {
     "name": "stdout",
     "output_type": "stream",
     "text": [
      "/kaggle/input/generated-data4o/generated_data_4o.csv\n",
      "/kaggle/input/larger-dialects/Arabic_dialects_Larger.csv\n",
      "/kaggle/input/generated-data/generated_data.csv\n",
      "/kaggle/input/arabic-real-data-dialects/Arabic_dialects.csv\n"
     ]
    }
   ],
   "source": [
    "import warnings\n",
    "warnings.filterwarnings(\"ignore\", category=FutureWarning)\n",
    "import numpy as np # linear algebra\n",
    "import pandas as pd # data processing, CSV file I/O (e.g. pd.read_csv)\n",
    "import matplotlib.pyplot as plt\n",
    "\n",
    "import os\n",
    "for dirname, _, filenames in os.walk('/kaggle/input'):\n",
    "    for filename in filenames:\n",
    "        print(os.path.join(dirname, filename))"
   ]
  },
  {
   "cell_type": "code",
   "execution_count": 2,
   "id": "91e1b18b",
   "metadata": {
    "execution": {
     "iopub.execute_input": "2024-11-16T10:38:00.278885Z",
     "iopub.status.busy": "2024-11-16T10:38:00.278357Z",
     "iopub.status.idle": "2024-11-16T10:38:02.493717Z",
     "shell.execute_reply": "2024-11-16T10:38:02.492613Z"
    },
    "papermill": {
     "duration": 2.22666,
     "end_time": "2024-11-16T10:38:02.496458",
     "exception": false,
     "start_time": "2024-11-16T10:38:00.269798",
     "status": "completed"
    },
    "tags": []
   },
   "outputs": [],
   "source": [
    "from sklearn.feature_extraction.text import CountVectorizer\n",
    "from sklearn.feature_extraction.text import TfidfTransformer\n",
    "from sklearn.preprocessing import FunctionTransformer\n",
    "from sklearn.preprocessing import LabelEncoder\n",
    "from sklearn.calibration import CalibratedClassifierCV\n",
    "from sklearn.naive_bayes import MultinomialNB\n",
    "#==============================================different Linear classifiers\n",
    "from sklearn.linear_model import LogisticRegression, SGDClassifier, PassiveAggressiveClassifier, RidgeClassifier\n",
    "from sklearn.svm import LinearSVC\n",
    "#=====================================================\n",
    "from sklearn.model_selection import train_test_split\n",
    "from sklearn.pipeline import Pipeline\n",
    "from sklearn.semi_supervised import SelfTrainingClassifier\n",
    "from sklearn.semi_supervised import LabelSpreading\n",
    "from sklearn.metrics import f1_score\n",
    "from sklearn.metrics import classification_report\n",
    "\n",
    "import re\n",
    "import nltk\n",
    "from nltk.corpus import stopwords"
   ]
  },
  {
   "cell_type": "code",
   "execution_count": 3,
   "id": "f92195da",
   "metadata": {
    "execution": {
     "iopub.execute_input": "2024-11-16T10:38:02.513528Z",
     "iopub.status.busy": "2024-11-16T10:38:02.512966Z",
     "iopub.status.idle": "2024-11-16T10:38:02.591471Z",
     "shell.execute_reply": "2024-11-16T10:38:02.590330Z"
    },
    "papermill": {
     "duration": 0.090031,
     "end_time": "2024-11-16T10:38:02.594228",
     "exception": false,
     "start_time": "2024-11-16T10:38:02.504197",
     "status": "completed"
    },
    "tags": []
   },
   "outputs": [],
   "source": [
    "data1=pd.read_csv('/kaggle/input/generated-data/generated_data.csv')\n",
    "data2=pd.read_csv('/kaggle/input/generated-data4o/generated_data_4o.csv')\n",
    "# Combine the two datasets\n",
    "data_generated = pd.concat([data1, data2], ignore_index=True)"
   ]
  },
  {
   "cell_type": "code",
   "execution_count": 4,
   "id": "f967324e",
   "metadata": {
    "execution": {
     "iopub.execute_input": "2024-11-16T10:38:02.611219Z",
     "iopub.status.busy": "2024-11-16T10:38:02.610794Z",
     "iopub.status.idle": "2024-11-16T10:38:02.645166Z",
     "shell.execute_reply": "2024-11-16T10:38:02.644155Z"
    },
    "papermill": {
     "duration": 0.045928,
     "end_time": "2024-11-16T10:38:02.647776",
     "exception": false,
     "start_time": "2024-11-16T10:38:02.601848",
     "status": "completed"
    },
    "tags": []
   },
   "outputs": [],
   "source": [
    "data_real = pd.read_csv('/kaggle/input/arabic-real-data-dialects/Arabic_dialects.csv')"
   ]
  },
  {
   "cell_type": "markdown",
   "id": "2649bf2f",
   "metadata": {
    "papermill": {
     "duration": 0.007116,
     "end_time": "2024-11-16T10:38:02.662391",
     "exception": false,
     "start_time": "2024-11-16T10:38:02.655275",
     "status": "completed"
    },
    "tags": []
   },
   "source": [
    "## Data Preprocessing"
   ]
  },
  {
   "cell_type": "code",
   "execution_count": 5,
   "id": "4888f51a",
   "metadata": {
    "execution": {
     "iopub.execute_input": "2024-11-16T10:38:02.679459Z",
     "iopub.status.busy": "2024-11-16T10:38:02.678519Z",
     "iopub.status.idle": "2024-11-16T10:38:02.697088Z",
     "shell.execute_reply": "2024-11-16T10:38:02.695867Z"
    },
    "papermill": {
     "duration": 0.029812,
     "end_time": "2024-11-16T10:38:02.699595",
     "exception": false,
     "start_time": "2024-11-16T10:38:02.669783",
     "status": "completed"
    },
    "tags": []
   },
   "outputs": [
    {
     "data": {
      "text/html": [
       "<div>\n",
       "<style scoped>\n",
       "    .dataframe tbody tr th:only-of-type {\n",
       "        vertical-align: middle;\n",
       "    }\n",
       "\n",
       "    .dataframe tbody tr th {\n",
       "        vertical-align: top;\n",
       "    }\n",
       "\n",
       "    .dataframe thead th {\n",
       "        text-align: right;\n",
       "    }\n",
       "</style>\n",
       "<table border=\"1\" class=\"dataframe\">\n",
       "  <thead>\n",
       "    <tr style=\"text-align: right;\">\n",
       "      <th></th>\n",
       "      <th>Unnamed: 0</th>\n",
       "      <th>Text</th>\n",
       "      <th>label</th>\n",
       "    </tr>\n",
       "  </thead>\n",
       "  <tbody>\n",
       "    <tr>\n",
       "      <th>0</th>\n",
       "      <td>0</td>\n",
       "      <td>شرب الشاي مع النعناع، في وقت الاسترخاء.</td>\n",
       "      <td>Levantine</td>\n",
       "    </tr>\n",
       "    <tr>\n",
       "      <th>1</th>\n",
       "      <td>1</td>\n",
       "      <td>أمك شلونها، تحسنت صحتها بعد العملية؟</td>\n",
       "      <td>Iraqi</td>\n",
       "    </tr>\n",
       "    <tr>\n",
       "      <th>2</th>\n",
       "      <td>2</td>\n",
       "      <td>ذهبت لزيارة الأخت، وأحببت الجلسة معها.</td>\n",
       "      <td>Gulf</td>\n",
       "    </tr>\n",
       "    <tr>\n",
       "      <th>3</th>\n",
       "      <td>3</td>\n",
       "      <td>سمعت إنه فيه فرقة جديدة عم تتكون، بدها جماهير ...</td>\n",
       "      <td>Levantine</td>\n",
       "    </tr>\n",
       "    <tr>\n",
       "      <th>4</th>\n",
       "      <td>4</td>\n",
       "      <td>خطر لي، هل فعلا نقدر نحب جميعًا؟</td>\n",
       "      <td>Iraqi</td>\n",
       "    </tr>\n",
       "  </tbody>\n",
       "</table>\n",
       "</div>"
      ],
      "text/plain": [
       "   Unnamed: 0                                               Text      label\n",
       "0           0          شرب الشاي مع النعناع، في وقت الاسترخاء.    Levantine\n",
       "1           1             أمك شلونها، تحسنت صحتها بعد العملية؟        Iraqi\n",
       "2           2           ذهبت لزيارة الأخت، وأحببت الجلسة معها.         Gulf\n",
       "3           3  سمعت إنه فيه فرقة جديدة عم تتكون، بدها جماهير ...  Levantine\n",
       "4           4                 خطر لي، هل فعلا نقدر نحب جميعًا؟        Iraqi"
      ]
     },
     "execution_count": 5,
     "metadata": {},
     "output_type": "execute_result"
    }
   ],
   "source": [
    "data_generated.head()"
   ]
  },
  {
   "cell_type": "code",
   "execution_count": 6,
   "id": "d262f061",
   "metadata": {
    "execution": {
     "iopub.execute_input": "2024-11-16T10:38:02.717460Z",
     "iopub.status.busy": "2024-11-16T10:38:02.716981Z",
     "iopub.status.idle": "2024-11-16T10:38:02.724501Z",
     "shell.execute_reply": "2024-11-16T10:38:02.723260Z"
    },
    "papermill": {
     "duration": 0.019843,
     "end_time": "2024-11-16T10:38:02.727142",
     "exception": false,
     "start_time": "2024-11-16T10:38:02.707299",
     "status": "completed"
    },
    "tags": []
   },
   "outputs": [
    {
     "data": {
      "text/plain": [
       "Index(['Unnamed: 0', 'Text', 'label'], dtype='object')"
      ]
     },
     "execution_count": 6,
     "metadata": {},
     "output_type": "execute_result"
    }
   ],
   "source": [
    "data_generated.columns"
   ]
  },
  {
   "cell_type": "code",
   "execution_count": 7,
   "id": "d5451c3f",
   "metadata": {
    "execution": {
     "iopub.execute_input": "2024-11-16T10:38:02.744594Z",
     "iopub.status.busy": "2024-11-16T10:38:02.744127Z",
     "iopub.status.idle": "2024-11-16T10:38:02.755006Z",
     "shell.execute_reply": "2024-11-16T10:38:02.753840Z"
    },
    "papermill": {
     "duration": 0.022845,
     "end_time": "2024-11-16T10:38:02.757756",
     "exception": false,
     "start_time": "2024-11-16T10:38:02.734911",
     "status": "completed"
    },
    "tags": []
   },
   "outputs": [],
   "source": [
    "data_generated = data_generated.drop(['Unnamed: 0'], axis=1)"
   ]
  },
  {
   "cell_type": "code",
   "execution_count": 8,
   "id": "f0162305",
   "metadata": {
    "execution": {
     "iopub.execute_input": "2024-11-16T10:38:02.775424Z",
     "iopub.status.busy": "2024-11-16T10:38:02.774964Z",
     "iopub.status.idle": "2024-11-16T10:38:02.780748Z",
     "shell.execute_reply": "2024-11-16T10:38:02.779601Z"
    },
    "papermill": {
     "duration": 0.01704,
     "end_time": "2024-11-16T10:38:02.782904",
     "exception": false,
     "start_time": "2024-11-16T10:38:02.765864",
     "status": "completed"
    },
    "tags": []
   },
   "outputs": [],
   "source": [
    "data_generated.rename(columns={'Text': 'sent'},inplace=True, errors='raise')"
   ]
  },
  {
   "cell_type": "code",
   "execution_count": 9,
   "id": "a1b7ec31",
   "metadata": {
    "execution": {
     "iopub.execute_input": "2024-11-16T10:38:02.800067Z",
     "iopub.status.busy": "2024-11-16T10:38:02.799627Z",
     "iopub.status.idle": "2024-11-16T10:38:02.812042Z",
     "shell.execute_reply": "2024-11-16T10:38:02.810869Z"
    },
    "papermill": {
     "duration": 0.023997,
     "end_time": "2024-11-16T10:38:02.814608",
     "exception": false,
     "start_time": "2024-11-16T10:38:02.790611",
     "status": "completed"
    },
    "tags": []
   },
   "outputs": [
    {
     "data": {
      "text/plain": [
       "array(['Levantine', 'Iraqi', 'Gulf', 'Egyptian', 'Maghrebi'], dtype=object)"
      ]
     },
     "execution_count": 9,
     "metadata": {},
     "output_type": "execute_result"
    }
   ],
   "source": [
    "data_generated['label'].unique()"
   ]
  },
  {
   "cell_type": "code",
   "execution_count": 10,
   "id": "bc75da01",
   "metadata": {
    "execution": {
     "iopub.execute_input": "2024-11-16T10:38:02.832336Z",
     "iopub.status.busy": "2024-11-16T10:38:02.831874Z",
     "iopub.status.idle": "2024-11-16T10:38:02.843282Z",
     "shell.execute_reply": "2024-11-16T10:38:02.841943Z"
    },
    "papermill": {
     "duration": 0.023473,
     "end_time": "2024-11-16T10:38:02.846152",
     "exception": false,
     "start_time": "2024-11-16T10:38:02.822679",
     "status": "completed"
    },
    "tags": []
   },
   "outputs": [],
   "source": [
    "label_counts_generated = data_generated['label'].value_counts()"
   ]
  },
  {
   "cell_type": "code",
   "execution_count": 11,
   "id": "f869348e",
   "metadata": {
    "execution": {
     "iopub.execute_input": "2024-11-16T10:38:02.865693Z",
     "iopub.status.busy": "2024-11-16T10:38:02.864525Z",
     "iopub.status.idle": "2024-11-16T10:38:02.872636Z",
     "shell.execute_reply": "2024-11-16T10:38:02.871600Z"
    },
    "papermill": {
     "duration": 0.020579,
     "end_time": "2024-11-16T10:38:02.875177",
     "exception": false,
     "start_time": "2024-11-16T10:38:02.854598",
     "status": "completed"
    },
    "tags": []
   },
   "outputs": [
    {
     "data": {
      "text/plain": [
       "label\n",
       "Levantine    2500\n",
       "Iraqi        2500\n",
       "Gulf         2500\n",
       "Egyptian     2500\n",
       "Maghrebi     2500\n",
       "Name: count, dtype: int64"
      ]
     },
     "execution_count": 11,
     "metadata": {},
     "output_type": "execute_result"
    }
   ],
   "source": [
    "label_counts_generated"
   ]
  },
  {
   "cell_type": "code",
   "execution_count": 12,
   "id": "28127ac7",
   "metadata": {
    "execution": {
     "iopub.execute_input": "2024-11-16T10:38:02.893263Z",
     "iopub.status.busy": "2024-11-16T10:38:02.892852Z",
     "iopub.status.idle": "2024-11-16T10:38:02.906250Z",
     "shell.execute_reply": "2024-11-16T10:38:02.904743Z"
    },
    "papermill": {
     "duration": 0.025588,
     "end_time": "2024-11-16T10:38:02.909054",
     "exception": false,
     "start_time": "2024-11-16T10:38:02.883466",
     "status": "completed"
    },
    "tags": []
   },
   "outputs": [
    {
     "data": {
      "text/html": [
       "<div>\n",
       "<style scoped>\n",
       "    .dataframe tbody tr th:only-of-type {\n",
       "        vertical-align: middle;\n",
       "    }\n",
       "\n",
       "    .dataframe tbody tr th {\n",
       "        vertical-align: top;\n",
       "    }\n",
       "\n",
       "    .dataframe thead th {\n",
       "        text-align: right;\n",
       "    }\n",
       "</style>\n",
       "<table border=\"1\" class=\"dataframe\">\n",
       "  <thead>\n",
       "    <tr style=\"text-align: right;\">\n",
       "      <th></th>\n",
       "      <th>sentID.BTEC</th>\n",
       "      <th>split</th>\n",
       "      <th>lang</th>\n",
       "      <th>sent</th>\n",
       "      <th>label</th>\n",
       "    </tr>\n",
       "  </thead>\n",
       "  <tbody>\n",
       "    <tr>\n",
       "      <th>0</th>\n",
       "      <td>7671</td>\n",
       "      <td>corpus-6-test-corpus-26-train</td>\n",
       "      <td>MUS</td>\n",
       "      <td>خذني إلى طريق ابي، من فضلك.</td>\n",
       "      <td>Gulf</td>\n",
       "    </tr>\n",
       "    <tr>\n",
       "      <th>1</th>\n",
       "      <td>2118</td>\n",
       "      <td>corpus-6-train</td>\n",
       "      <td>RAB</td>\n",
       "      <td>كا نتمنى هاد الرحلة دوز مزيان.</td>\n",
       "      <td>Maghrebi</td>\n",
       "    </tr>\n",
       "    <tr>\n",
       "      <th>2</th>\n",
       "      <td>9862</td>\n",
       "      <td>corpus-6-test-corpus-26-train</td>\n",
       "      <td>MOS</td>\n",
       "      <td>الطريق للنجاح هو \"جنمياكو، \" صح؟</td>\n",
       "      <td>Iraqi</td>\n",
       "    </tr>\n",
       "    <tr>\n",
       "      <th>3</th>\n",
       "      <td>11549</td>\n",
       "      <td>corpus-6-train</td>\n",
       "      <td>CAI</td>\n",
       "      <td>ممكن تتكلم بشويش شوبه؟</td>\n",
       "      <td>Egyptian</td>\n",
       "    </tr>\n",
       "    <tr>\n",
       "      <th>4</th>\n",
       "      <td>15073</td>\n",
       "      <td>corpus-6-test-corpus-26-test</td>\n",
       "      <td>ALG</td>\n",
       "      <td>شحال سعر التوصيلة؟ تقدر تكتبلي سعر التوصيلة عل...</td>\n",
       "      <td>Maghrebi</td>\n",
       "    </tr>\n",
       "  </tbody>\n",
       "</table>\n",
       "</div>"
      ],
      "text/plain": [
       "   sentID.BTEC                          split lang  \\\n",
       "0         7671  corpus-6-test-corpus-26-train  MUS   \n",
       "1         2118                 corpus-6-train  RAB   \n",
       "2         9862  corpus-6-test-corpus-26-train  MOS   \n",
       "3        11549                 corpus-6-train  CAI   \n",
       "4        15073   corpus-6-test-corpus-26-test  ALG   \n",
       "\n",
       "                                                sent     label  \n",
       "0                        خذني إلى طريق ابي، من فضلك.      Gulf  \n",
       "1                     كا نتمنى هاد الرحلة دوز مزيان.  Maghrebi  \n",
       "2                   الطريق للنجاح هو \"جنمياكو، \" صح؟     Iraqi  \n",
       "3                             ممكن تتكلم بشويش شوبه؟  Egyptian  \n",
       "4  شحال سعر التوصيلة؟ تقدر تكتبلي سعر التوصيلة عل...  Maghrebi  "
      ]
     },
     "execution_count": 12,
     "metadata": {},
     "output_type": "execute_result"
    }
   ],
   "source": [
    "data_real.head()"
   ]
  },
  {
   "cell_type": "code",
   "execution_count": 13,
   "id": "5dbdf553",
   "metadata": {
    "execution": {
     "iopub.execute_input": "2024-11-16T10:38:02.927640Z",
     "iopub.status.busy": "2024-11-16T10:38:02.927185Z",
     "iopub.status.idle": "2024-11-16T10:38:02.934046Z",
     "shell.execute_reply": "2024-11-16T10:38:02.932626Z"
    },
    "papermill": {
     "duration": 0.019983,
     "end_time": "2024-11-16T10:38:02.937452",
     "exception": false,
     "start_time": "2024-11-16T10:38:02.917469",
     "status": "completed"
    },
    "tags": []
   },
   "outputs": [],
   "source": [
    "data_real = data_real.drop(['sentID.BTEC', 'split', 'lang'], axis=1)"
   ]
  },
  {
   "cell_type": "code",
   "execution_count": 14,
   "id": "7f655c34",
   "metadata": {
    "execution": {
     "iopub.execute_input": "2024-11-16T10:38:02.955847Z",
     "iopub.status.busy": "2024-11-16T10:38:02.955401Z",
     "iopub.status.idle": "2024-11-16T10:38:02.967447Z",
     "shell.execute_reply": "2024-11-16T10:38:02.966253Z"
    },
    "papermill": {
     "duration": 0.024169,
     "end_time": "2024-11-16T10:38:02.969961",
     "exception": false,
     "start_time": "2024-11-16T10:38:02.945792",
     "status": "completed"
    },
    "tags": []
   },
   "outputs": [
    {
     "data": {
      "text/html": [
       "<div>\n",
       "<style scoped>\n",
       "    .dataframe tbody tr th:only-of-type {\n",
       "        vertical-align: middle;\n",
       "    }\n",
       "\n",
       "    .dataframe tbody tr th {\n",
       "        vertical-align: top;\n",
       "    }\n",
       "\n",
       "    .dataframe thead th {\n",
       "        text-align: right;\n",
       "    }\n",
       "</style>\n",
       "<table border=\"1\" class=\"dataframe\">\n",
       "  <thead>\n",
       "    <tr style=\"text-align: right;\">\n",
       "      <th></th>\n",
       "      <th>sent</th>\n",
       "      <th>label</th>\n",
       "    </tr>\n",
       "  </thead>\n",
       "  <tbody>\n",
       "    <tr>\n",
       "      <th>0</th>\n",
       "      <td>خذني إلى طريق ابي، من فضلك.</td>\n",
       "      <td>Gulf</td>\n",
       "    </tr>\n",
       "    <tr>\n",
       "      <th>1</th>\n",
       "      <td>كا نتمنى هاد الرحلة دوز مزيان.</td>\n",
       "      <td>Maghrebi</td>\n",
       "    </tr>\n",
       "    <tr>\n",
       "      <th>2</th>\n",
       "      <td>الطريق للنجاح هو \"جنمياكو، \" صح؟</td>\n",
       "      <td>Iraqi</td>\n",
       "    </tr>\n",
       "    <tr>\n",
       "      <th>3</th>\n",
       "      <td>ممكن تتكلم بشويش شوبه؟</td>\n",
       "      <td>Egyptian</td>\n",
       "    </tr>\n",
       "    <tr>\n",
       "      <th>4</th>\n",
       "      <td>شحال سعر التوصيلة؟ تقدر تكتبلي سعر التوصيلة عل...</td>\n",
       "      <td>Maghrebi</td>\n",
       "    </tr>\n",
       "  </tbody>\n",
       "</table>\n",
       "</div>"
      ],
      "text/plain": [
       "                                                sent     label\n",
       "0                        خذني إلى طريق ابي، من فضلك.      Gulf\n",
       "1                     كا نتمنى هاد الرحلة دوز مزيان.  Maghrebi\n",
       "2                   الطريق للنجاح هو \"جنمياكو، \" صح؟     Iraqi\n",
       "3                             ممكن تتكلم بشويش شوبه؟  Egyptian\n",
       "4  شحال سعر التوصيلة؟ تقدر تكتبلي سعر التوصيلة عل...  Maghrebi"
      ]
     },
     "execution_count": 14,
     "metadata": {},
     "output_type": "execute_result"
    }
   ],
   "source": [
    "data_real.head()"
   ]
  },
  {
   "cell_type": "code",
   "execution_count": 15,
   "id": "0ad857fd",
   "metadata": {
    "execution": {
     "iopub.execute_input": "2024-11-16T10:38:02.988535Z",
     "iopub.status.busy": "2024-11-16T10:38:02.988081Z",
     "iopub.status.idle": "2024-11-16T10:38:02.996477Z",
     "shell.execute_reply": "2024-11-16T10:38:02.995170Z"
    },
    "papermill": {
     "duration": 0.020532,
     "end_time": "2024-11-16T10:38:02.998940",
     "exception": false,
     "start_time": "2024-11-16T10:38:02.978408",
     "status": "completed"
    },
    "tags": []
   },
   "outputs": [
    {
     "data": {
      "text/plain": [
       "array(['Gulf', 'Maghrebi', 'Iraqi', 'Egyptian', 'Levantine'], dtype=object)"
      ]
     },
     "execution_count": 15,
     "metadata": {},
     "output_type": "execute_result"
    }
   ],
   "source": [
    "data_real['label'].unique()"
   ]
  },
  {
   "cell_type": "code",
   "execution_count": 16,
   "id": "23ece279",
   "metadata": {
    "execution": {
     "iopub.execute_input": "2024-11-16T10:38:03.018463Z",
     "iopub.status.busy": "2024-11-16T10:38:03.018003Z",
     "iopub.status.idle": "2024-11-16T10:38:03.024687Z",
     "shell.execute_reply": "2024-11-16T10:38:03.023474Z"
    },
    "papermill": {
     "duration": 0.019194,
     "end_time": "2024-11-16T10:38:03.027163",
     "exception": false,
     "start_time": "2024-11-16T10:38:03.007969",
     "status": "completed"
    },
    "tags": []
   },
   "outputs": [],
   "source": [
    "label_counts_real = data_real['label'].value_counts()"
   ]
  },
  {
   "cell_type": "code",
   "execution_count": 17,
   "id": "dc608de1",
   "metadata": {
    "execution": {
     "iopub.execute_input": "2024-11-16T10:38:03.046585Z",
     "iopub.status.busy": "2024-11-16T10:38:03.046040Z",
     "iopub.status.idle": "2024-11-16T10:38:03.054128Z",
     "shell.execute_reply": "2024-11-16T10:38:03.052811Z"
    },
    "papermill": {
     "duration": 0.02062,
     "end_time": "2024-11-16T10:38:03.056829",
     "exception": false,
     "start_time": "2024-11-16T10:38:03.036209",
     "status": "completed"
    },
    "tags": []
   },
   "outputs": [
    {
     "data": {
      "text/plain": [
       "label\n",
       "Maghrebi     1002\n",
       "Iraqi        1002\n",
       "Egyptian     1002\n",
       "Levantine    1002\n",
       "Gulf         1000\n",
       "Name: count, dtype: int64"
      ]
     },
     "execution_count": 17,
     "metadata": {},
     "output_type": "execute_result"
    }
   ],
   "source": [
    "label_counts_real"
   ]
  },
  {
   "cell_type": "markdown",
   "id": "6f1afba8",
   "metadata": {
    "papermill": {
     "duration": 0.008433,
     "end_time": "2024-11-16T10:38:03.074060",
     "exception": false,
     "start_time": "2024-11-16T10:38:03.065627",
     "status": "completed"
    },
    "tags": []
   },
   "source": [
    "## Modeling"
   ]
  },
  {
   "cell_type": "code",
   "execution_count": 18,
   "id": "5a3b6310",
   "metadata": {
    "execution": {
     "iopub.execute_input": "2024-11-16T10:38:03.093328Z",
     "iopub.status.busy": "2024-11-16T10:38:03.092839Z",
     "iopub.status.idle": "2024-11-16T10:38:03.100619Z",
     "shell.execute_reply": "2024-11-16T10:38:03.099350Z"
    },
    "papermill": {
     "duration": 0.02048,
     "end_time": "2024-11-16T10:38:03.103107",
     "exception": false,
     "start_time": "2024-11-16T10:38:03.082627",
     "status": "completed"
    },
    "tags": []
   },
   "outputs": [],
   "source": [
    "sdg_params = dict(alpha=1e-5, penalty='l2', loss='log')\n",
    "arabic_stop_words = [\n",
    "    \"و\", \"في\", \"على\", \"إلى\", \"عن\", \"من\", \"مع\", \"كان\", \"التي\", \"الذي\", \"هذا\",\n",
    "    \"هذه\", \"ذلك\", \"تلك\", \"كل\", \"كما\", \"قد\", \"لقد\", \"ليس\", \"هو\", \"هي\", \"هم\",\n",
    "    \"هن\", \"أنا\", \"نحن\", \"انت\", \"انتِ\", \"لكن\", \"ثم\", \"أو\", \"أيضا\", \"هناك\",\n",
    "    \"هنا\", \"قبل\", \"بعد\"\n",
    "]\n",
    "vectorizer_params = dict(\n",
    "    ngram_range=(1, 5),       # 1-5 grams\n",
    "    min_df=5,                 # Ignore terms that appear in fewer than 5 documents\n",
    "    max_df=0.8,               # Ignore terms that appear in more than 80% of documents\n",
    "    analyzer='word',          # Tokenizes at the word level (common for Arabic text)\n",
    "    stop_words=arabic_stop_words  # None by default, add Arabic stop words if needed\n",
    ")"
   ]
  },
  {
   "cell_type": "code",
   "execution_count": 19,
   "id": "3240e44d",
   "metadata": {
    "execution": {
     "iopub.execute_input": "2024-11-16T10:38:03.122299Z",
     "iopub.status.busy": "2024-11-16T10:38:03.121833Z",
     "iopub.status.idle": "2024-11-16T10:38:03.131678Z",
     "shell.execute_reply": "2024-11-16T10:38:03.130520Z"
    },
    "papermill": {
     "duration": 0.022319,
     "end_time": "2024-11-16T10:38:03.134186",
     "exception": false,
     "start_time": "2024-11-16T10:38:03.111867",
     "status": "completed"
    },
    "tags": []
   },
   "outputs": [],
   "source": [
    "def pipeline_creation(type_of_supervision, i, count=False):\n",
    "    # Define the list of classifiers and their names\n",
    "    classifiers = [\n",
    "        SGDClassifier(alpha=1e-5, penalty='l2', loss='log_loss', max_iter=1000),\n",
    "        LogisticRegression(max_iter=1000, solver='lbfgs', multi_class='multinomial'),\n",
    "        CalibratedClassifierCV(LinearSVC(), method='isotonic'),\n",
    "        CalibratedClassifierCV(PassiveAggressiveClassifier(max_iter=1000, C=0.5), method='isotonic'),\n",
    "        MultinomialNB(alpha=0.5, fit_prior=True)\n",
    "    ]\n",
    "    \n",
    "    classifier_names = [\n",
    "        \"SGDClassifier\",\n",
    "        \"LogisticRegression\",\n",
    "        \"Calibrated LinearSVC\",\n",
    "        \"Calibrated PassiveAggressiveClassifier\",\n",
    "        \"MultinomialNB\"\n",
    "    ]\n",
    "    \n",
    "    if count:\n",
    "        return len(classifiers)\n",
    "    \n",
    "    # Select classifier based on type of supervision\n",
    "    elif type_of_supervision == \"supervised\":\n",
    "        pipeline = Pipeline([\n",
    "            ('vect', CountVectorizer(**vectorizer_params)),\n",
    "            ('tfidf', TfidfTransformer()),\n",
    "            ('clf', classifiers[i])\n",
    "        ])\n",
    "        return pipeline, classifier_names[i]\n",
    "    \n",
    "    else:  # self-supervised\n",
    "        st_pipeline = Pipeline([\n",
    "            ('vect', CountVectorizer(**vectorizer_params)),\n",
    "            ('tfidf', TfidfTransformer()),\n",
    "            ('clf', SelfTrainingClassifier(classifiers[i], verbose=True))\n",
    "        ])\n",
    "        return st_pipeline, f\"SelfTrainingClassifier with {classifier_names[i]}\"\n"
   ]
  },
  {
   "cell_type": "code",
   "execution_count": 20,
   "id": "291baf80",
   "metadata": {
    "execution": {
     "iopub.execute_input": "2024-11-16T10:38:03.154447Z",
     "iopub.status.busy": "2024-11-16T10:38:03.153972Z",
     "iopub.status.idle": "2024-11-16T10:38:03.161201Z",
     "shell.execute_reply": "2024-11-16T10:38:03.159875Z"
    },
    "papermill": {
     "duration": 0.02005,
     "end_time": "2024-11-16T10:38:03.163904",
     "exception": false,
     "start_time": "2024-11-16T10:38:03.143854",
     "status": "completed"
    },
    "tags": []
   },
   "outputs": [],
   "source": [
    "def eval_and_print_metrics(clf, X_train, y_train, X_test, y_test):\n",
    "    print(\"Number of training samples:\", len(X_train))\n",
    "    print(\"Unlabeled samples in training set:\",\n",
    "          sum(1 for x in y_train if x == -1))\n",
    "    clf.fit(X_train, y_train)\n",
    "    y_pred = clf.predict(X_test)\n",
    "    print(\"Micro-averaged F1 score on test set: \"\n",
    "          \"%0.3f\" % f1_score(y_test, y_pred, average='micro'))\n",
    "    print(\"-\" * 10)\n",
    "    print()"
   ]
  },
  {
   "cell_type": "code",
   "execution_count": 21,
   "id": "01e62bd1",
   "metadata": {
    "execution": {
     "iopub.execute_input": "2024-11-16T10:38:03.183448Z",
     "iopub.status.busy": "2024-11-16T10:38:03.182979Z",
     "iopub.status.idle": "2024-11-16T10:38:03.226834Z",
     "shell.execute_reply": "2024-11-16T10:38:03.225390Z"
    },
    "papermill": {
     "duration": 0.056607,
     "end_time": "2024-11-16T10:38:03.229371",
     "exception": false,
     "start_time": "2024-11-16T10:38:03.172764",
     "status": "completed"
    },
    "tags": []
   },
   "outputs": [
    {
     "name": "stdout",
     "output_type": "stream",
     "text": [
      "Training set size: (4006, 2)\n",
      "Test set size: (1002, 2)\n"
     ]
    }
   ],
   "source": [
    "from sklearn.model_selection import train_test_split\n",
    "import pandas as pd\n",
    "\n",
    "# Assuming data_real and data_generated are the dataframes with 'sent' and 'label' columns\n",
    "\n",
    "# Set the ratio of real to generated data in the training set\n",
    "real_ratio = 0.3  # Example: real_ratio% real and 100%-real_ratio% generated in the training set\n",
    "\n",
    "# Step 1: Split the real data into train and test (all test data will come from real data)\n",
    "data_real_train, data_real_test = train_test_split(data_real, test_size=0.2, stratify=data_real['label'], random_state=42)\n",
    "\n",
    "# Step 2: Calculate the number of real and generated samples for the training set\n",
    "num_real_train = int(real_ratio * len(data_real_train))  # Number of samples to take from real data for training\n",
    "num_generated_train = len(data_real_train) - num_real_train  # Remaining samples to take from generated data\n",
    "\n",
    "# Step 3: Subsample the training data from real and generated data according to the specified ratio\n",
    "data_real_train_subsample, _ = train_test_split(data_real_train, train_size=num_real_train, stratify=data_real_train['label'], random_state=42)\n",
    "data_generated_train_subsample, _ = train_test_split(data_generated, train_size=num_generated_train, stratify=data_generated['label'], random_state=42)\n",
    "\n",
    "# Step 4: Concatenate the real and generated subsamples to create the final training set\n",
    "train_data = pd.concat([data_real_train_subsample, data_generated_train_subsample]).sample(frac=1, random_state=42).reset_index(drop=True)\n",
    "\n",
    "# Step 5: Use `data_real_test` as the test set (all real data)\n",
    "\n",
    "# Now, train_data contains the specified ratio of real to generated data, and data_real_test is the test set with only real data\n",
    "print(f\"Training set size: {train_data.shape}\")\n",
    "print(f\"Test set size: {data_real_test.shape}\")\n"
   ]
  },
  {
   "cell_type": "code",
   "execution_count": 22,
   "id": "2b126a24",
   "metadata": {
    "execution": {
     "iopub.execute_input": "2024-11-16T10:38:03.249519Z",
     "iopub.status.busy": "2024-11-16T10:38:03.249068Z",
     "iopub.status.idle": "2024-11-16T10:38:10.207018Z",
     "shell.execute_reply": "2024-11-16T10:38:10.205679Z"
    },
    "papermill": {
     "duration": 6.972078,
     "end_time": "2024-11-16T10:38:10.210281",
     "exception": false,
     "start_time": "2024-11-16T10:38:03.238203",
     "status": "completed"
    },
    "tags": []
   },
   "outputs": [
    {
     "name": "stdout",
     "output_type": "stream",
     "text": [
      "****************************************************************************************************\n",
      "Supervised training on 100% of the data using SGDClassifier:\n",
      "Number of training samples: 4006\n",
      "Unlabeled samples in training set: 0\n",
      "Micro-averaged F1 score on test set: 0.554\n",
      "----------\n",
      "\n",
      "              precision    recall  f1-score   support\n",
      "\n",
      "    Egyptian       0.62      0.59      0.60       201\n",
      "        Gulf       0.40      0.32      0.36       200\n",
      "       Iraqi       0.64      0.52      0.57       200\n",
      "   Levantine       0.56      0.53      0.54       201\n",
      "    Maghrebi       0.54      0.81      0.65       200\n",
      "\n",
      "    accuracy                           0.55      1002\n",
      "   macro avg       0.55      0.55      0.55      1002\n",
      "weighted avg       0.55      0.55      0.55      1002\n",
      "\n",
      "Supervised training on 20% of the training data using SGDClassifier:\n",
      "Number of training samples: 770\n",
      "Unlabeled samples in training set: 0\n",
      "Micro-averaged F1 score on test set: 0.396\n",
      "----------\n",
      "\n",
      "              precision    recall  f1-score   support\n",
      "\n",
      "    Egyptian       0.53      0.41      0.46       201\n",
      "        Gulf       0.23      0.64      0.34       200\n",
      "       Iraqi       0.47      0.23      0.31       200\n",
      "   Levantine       0.70      0.28      0.40       201\n",
      "    Maghrebi       0.76      0.41      0.54       200\n",
      "\n",
      "    accuracy                           0.40      1002\n",
      "   macro avg       0.54      0.40      0.41      1002\n",
      "weighted avg       0.54      0.40      0.41      1002\n",
      "\n",
      "SelfTrainingClassifier with SGDClassifier on 20% labeled training data (rest unlabeled):\n",
      "Number of training samples: 4006\n",
      "Unlabeled samples in training set: 3236\n",
      "End of iteration 1, added 1508 new labels.\n",
      "End of iteration 2, added 340 new labels.\n",
      "End of iteration 3, added 128 new labels.\n",
      "End of iteration 4, added 66 new labels.\n",
      "End of iteration 5, added 29 new labels.\n",
      "End of iteration 6, added 49 new labels.\n",
      "End of iteration 7, added 31 new labels.\n",
      "End of iteration 8, added 40 new labels.\n",
      "End of iteration 9, added 17 new labels.\n",
      "End of iteration 10, added 11 new labels.\n",
      "Micro-averaged F1 score on test set: 0.461\n",
      "----------\n",
      "\n",
      "              precision    recall  f1-score   support\n",
      "\n",
      "    Egyptian       0.53      0.41      0.46       201\n",
      "        Gulf       0.27      0.28      0.28       200\n",
      "       Iraqi       0.50      0.43      0.46       200\n",
      "   Levantine       0.64      0.40      0.50       201\n",
      "    Maghrebi       0.46      0.77      0.58       200\n",
      "\n",
      "    accuracy                           0.46      1002\n",
      "   macro avg       0.48      0.46      0.46      1002\n",
      "weighted avg       0.48      0.46      0.46      1002\n",
      "\n",
      "****************************************************************************************************\n",
      "Supervised training on 100% of the data using LogisticRegression:\n",
      "Number of training samples: 4006\n",
      "Unlabeled samples in training set: 0\n",
      "Micro-averaged F1 score on test set: 0.575\n",
      "----------\n",
      "\n",
      "              precision    recall  f1-score   support\n",
      "\n",
      "    Egyptian       0.63      0.63      0.63       201\n",
      "        Gulf       0.41      0.38      0.39       200\n",
      "       Iraqi       0.70      0.53      0.60       200\n",
      "   Levantine       0.61      0.55      0.58       201\n",
      "    Maghrebi       0.56      0.80      0.66       200\n",
      "\n",
      "    accuracy                           0.57      1002\n",
      "   macro avg       0.58      0.57      0.57      1002\n",
      "weighted avg       0.58      0.57      0.57      1002\n",
      "\n",
      "Supervised training on 20% of the training data using LogisticRegression:\n",
      "Number of training samples: 819\n",
      "Unlabeled samples in training set: 0\n",
      "Micro-averaged F1 score on test set: 0.383\n",
      "----------\n",
      "\n",
      "              precision    recall  f1-score   support\n",
      "\n",
      "    Egyptian       0.53      0.38      0.44       201\n",
      "        Gulf       0.35      0.20      0.25       200\n",
      "       Iraqi       0.51      0.22      0.31       200\n",
      "   Levantine       0.51      0.34      0.41       201\n",
      "    Maghrebi       0.30      0.77      0.43       200\n",
      "\n",
      "    accuracy                           0.38      1002\n",
      "   macro avg       0.44      0.38      0.37      1002\n",
      "weighted avg       0.44      0.38      0.37      1002\n",
      "\n",
      "SelfTrainingClassifier with LogisticRegression on 20% labeled training data (rest unlabeled):\n",
      "Number of training samples: 4006\n",
      "Unlabeled samples in training set: 3187\n",
      "End of iteration 1, added 12 new labels.\n",
      "End of iteration 2, added 10 new labels.\n",
      "End of iteration 3, added 12 new labels.\n",
      "End of iteration 4, added 3 new labels.\n",
      "End of iteration 5, added 2 new labels.\n",
      "Micro-averaged F1 score on test set: 0.476\n",
      "----------\n",
      "\n",
      "              precision    recall  f1-score   support\n",
      "\n",
      "    Egyptian       0.56      0.50      0.52       201\n",
      "        Gulf       0.35      0.24      0.29       200\n",
      "       Iraqi       0.51      0.40      0.45       200\n",
      "   Levantine       0.49      0.46      0.47       201\n",
      "    Maghrebi       0.47      0.78      0.58       200\n",
      "\n",
      "    accuracy                           0.48      1002\n",
      "   macro avg       0.47      0.48      0.46      1002\n",
      "weighted avg       0.47      0.48      0.46      1002\n",
      "\n",
      "****************************************************************************************************\n",
      "Supervised training on 100% of the data using Calibrated LinearSVC:\n",
      "Number of training samples: 4006\n",
      "Unlabeled samples in training set: 0\n",
      "Micro-averaged F1 score on test set: 0.561\n",
      "----------\n",
      "\n",
      "              precision    recall  f1-score   support\n",
      "\n",
      "    Egyptian       0.63      0.59      0.61       201\n",
      "        Gulf       0.39      0.39      0.39       200\n",
      "       Iraqi       0.68      0.48      0.56       200\n",
      "   Levantine       0.60      0.55      0.57       201\n",
      "    Maghrebi       0.55      0.80      0.65       200\n",
      "\n",
      "    accuracy                           0.56      1002\n",
      "   macro avg       0.57      0.56      0.56      1002\n",
      "weighted avg       0.57      0.56      0.56      1002\n",
      "\n",
      "Supervised training on 20% of the training data using Calibrated LinearSVC:\n",
      "Number of training samples: 810\n",
      "Unlabeled samples in training set: 0\n",
      "Micro-averaged F1 score on test set: 0.338\n",
      "----------\n",
      "\n",
      "              precision    recall  f1-score   support\n",
      "\n",
      "    Egyptian       0.24      0.73      0.36       201\n",
      "        Gulf       0.28      0.12      0.16       200\n",
      "       Iraqi       0.32      0.12      0.17       200\n",
      "   Levantine       0.49      0.34      0.40       201\n",
      "    Maghrebi       0.80      0.39      0.52       200\n",
      "\n",
      "    accuracy                           0.34      1002\n",
      "   macro avg       0.42      0.34      0.32      1002\n",
      "weighted avg       0.42      0.34      0.32      1002\n",
      "\n",
      "SelfTrainingClassifier with Calibrated LinearSVC on 20% labeled training data (rest unlabeled):\n",
      "Number of training samples: 4006\n",
      "Unlabeled samples in training set: 3196\n",
      "End of iteration 1, added 46 new labels.\n",
      "End of iteration 2, added 17 new labels.\n",
      "End of iteration 3, added 10 new labels.\n",
      "End of iteration 4, added 10 new labels.\n",
      "End of iteration 5, added 11 new labels.\n",
      "End of iteration 6, added 6 new labels.\n",
      "End of iteration 7, added 4 new labels.\n",
      "End of iteration 8, added 2 new labels.\n",
      "End of iteration 9, added 2 new labels.\n",
      "End of iteration 10, added 3 new labels.\n",
      "Micro-averaged F1 score on test set: 0.498\n",
      "----------\n",
      "\n",
      "              precision    recall  f1-score   support\n",
      "\n",
      "    Egyptian       0.38      0.67      0.48       201\n",
      "        Gulf       0.37      0.23      0.28       200\n",
      "       Iraqi       0.50      0.45      0.47       200\n",
      "   Levantine       0.56      0.48      0.51       201\n",
      "    Maghrebi       0.78      0.67      0.72       200\n",
      "\n",
      "    accuracy                           0.50      1002\n",
      "   macro avg       0.52      0.50      0.49      1002\n",
      "weighted avg       0.52      0.50      0.49      1002\n",
      "\n",
      "****************************************************************************************************\n",
      "Supervised training on 100% of the data using Calibrated PassiveAggressiveClassifier:\n",
      "Number of training samples: 4006\n",
      "Unlabeled samples in training set: 0\n",
      "Micro-averaged F1 score on test set: 0.554\n",
      "----------\n",
      "\n",
      "              precision    recall  f1-score   support\n",
      "\n",
      "    Egyptian       0.62      0.60      0.61       201\n",
      "        Gulf       0.38      0.35      0.37       200\n",
      "       Iraqi       0.65      0.49      0.56       200\n",
      "   Levantine       0.58      0.52      0.55       201\n",
      "    Maghrebi       0.55      0.81      0.66       200\n",
      "\n",
      "    accuracy                           0.55      1002\n",
      "   macro avg       0.56      0.55      0.55      1002\n",
      "weighted avg       0.56      0.55      0.55      1002\n",
      "\n",
      "Supervised training on 20% of the training data using Calibrated PassiveAggressiveClassifier:\n",
      "Number of training samples: 804\n",
      "Unlabeled samples in training set: 0\n",
      "Micro-averaged F1 score on test set: 0.369\n",
      "----------\n",
      "\n",
      "              precision    recall  f1-score   support\n",
      "\n",
      "    Egyptian       0.53      0.27      0.36       201\n",
      "        Gulf       0.33      0.10      0.15       200\n",
      "       Iraqi       0.68      0.18      0.28       200\n",
      "   Levantine       0.40      0.46      0.43       201\n",
      "    Maghrebi       0.30      0.84      0.44       200\n",
      "\n",
      "    accuracy                           0.37      1002\n",
      "   macro avg       0.45      0.37      0.33      1002\n",
      "weighted avg       0.45      0.37      0.33      1002\n",
      "\n",
      "SelfTrainingClassifier with Calibrated PassiveAggressiveClassifier on 20% labeled training data (rest unlabeled):\n",
      "Number of training samples: 4006\n",
      "Unlabeled samples in training set: 3202\n",
      "End of iteration 1, added 36 new labels.\n",
      "End of iteration 2, added 29 new labels.\n",
      "End of iteration 3, added 27 new labels.\n",
      "End of iteration 4, added 17 new labels.\n",
      "End of iteration 5, added 10 new labels.\n",
      "End of iteration 6, added 12 new labels.\n",
      "End of iteration 7, added 22 new labels.\n",
      "End of iteration 8, added 9 new labels.\n",
      "End of iteration 9, added 8 new labels.\n",
      "End of iteration 10, added 8 new labels.\n",
      "Micro-averaged F1 score on test set: 0.507\n",
      "----------\n",
      "\n",
      "              precision    recall  f1-score   support\n",
      "\n",
      "    Egyptian       0.53      0.47      0.50       201\n",
      "        Gulf       0.31      0.41      0.35       200\n",
      "       Iraqi       0.63      0.42      0.51       200\n",
      "   Levantine       0.48      0.53      0.50       201\n",
      "    Maghrebi       0.69      0.70      0.70       200\n",
      "\n",
      "    accuracy                           0.51      1002\n",
      "   macro avg       0.53      0.51      0.51      1002\n",
      "weighted avg       0.53      0.51      0.51      1002\n",
      "\n",
      "****************************************************************************************************\n",
      "Supervised training on 100% of the data using MultinomialNB:\n",
      "Number of training samples: 4006\n",
      "Unlabeled samples in training set: 0\n",
      "Micro-averaged F1 score on test set: 0.572\n",
      "----------\n",
      "\n",
      "              precision    recall  f1-score   support\n",
      "\n",
      "    Egyptian       0.64      0.61      0.63       201\n",
      "        Gulf       0.43      0.32      0.37       200\n",
      "       Iraqi       0.64      0.52      0.57       200\n",
      "   Levantine       0.58      0.60      0.59       201\n",
      "    Maghrebi       0.55      0.81      0.65       200\n",
      "\n",
      "    accuracy                           0.57      1002\n",
      "   macro avg       0.57      0.57      0.56      1002\n",
      "weighted avg       0.57      0.57      0.56      1002\n",
      "\n",
      "Supervised training on 20% of the training data using MultinomialNB:\n",
      "Number of training samples: 775\n",
      "Unlabeled samples in training set: 0\n",
      "Micro-averaged F1 score on test set: 0.381\n",
      "----------\n",
      "\n",
      "              precision    recall  f1-score   support\n",
      "\n",
      "    Egyptian       0.43      0.42      0.42       201\n",
      "        Gulf       0.32      0.15      0.21       200\n",
      "       Iraqi       0.28      0.72      0.41       200\n",
      "   Levantine       0.57      0.16      0.25       201\n",
      "    Maghrebi       0.63      0.45      0.52       200\n",
      "\n",
      "    accuracy                           0.38      1002\n",
      "   macro avg       0.45      0.38      0.36      1002\n",
      "weighted avg       0.45      0.38      0.36      1002\n",
      "\n",
      "SelfTrainingClassifier with MultinomialNB on 20% labeled training data (rest unlabeled):\n",
      "Number of training samples: 4006\n",
      "Unlabeled samples in training set: 3231\n",
      "End of iteration 1, added 28 new labels.\n",
      "End of iteration 2, added 40 new labels.\n",
      "End of iteration 3, added 44 new labels.\n",
      "End of iteration 4, added 41 new labels.\n",
      "End of iteration 5, added 26 new labels.\n",
      "End of iteration 6, added 21 new labels.\n",
      "End of iteration 7, added 16 new labels.\n",
      "End of iteration 8, added 7 new labels.\n",
      "End of iteration 9, added 3 new labels.\n",
      "End of iteration 10, added 2 new labels.\n",
      "Micro-averaged F1 score on test set: 0.482\n",
      "----------\n",
      "\n",
      "              precision    recall  f1-score   support\n",
      "\n",
      "    Egyptian       0.50      0.51      0.50       201\n",
      "        Gulf       0.46      0.20      0.27       200\n",
      "       Iraqi       0.64      0.46      0.53       200\n",
      "   Levantine       0.65      0.38      0.48       201\n",
      "    Maghrebi       0.39      0.88      0.54       200\n",
      "\n",
      "    accuracy                           0.48      1002\n",
      "   macro avg       0.53      0.48      0.46      1002\n",
      "weighted avg       0.53      0.48      0.46      1002\n",
      "\n"
     ]
    }
   ],
   "source": [
    "# Main code to iterate over classifiers and display results\n",
    "if __name__ == \"__main__\":\n",
    "    results = []\n",
    "#     # Encode labels to handle text labels properly in sklearn classifiers\n",
    "#     label_encoder = LabelEncoder()\n",
    "#     y_encoded = label_encoder.fit_transform(data.label)  # Fit on full set of labels\n",
    "\n",
    "#     X = data.sent\n",
    "#     y = y_encoded\n",
    "#     X_train, X_test, y_train, y_test = train_test_split(X, y, stratify=y, random_state=42)\n",
    "\n",
    "    # Step 1: Encode labels\n",
    "    label_encoder = LabelEncoder()\n",
    "\n",
    "    # Apply label encoding to the combined labels in both train and test sets\n",
    "    train_data['label'] = label_encoder.fit_transform(train_data['label'])\n",
    "    data_real_test['label'] = label_encoder.transform(data_real_test['label'])  # Transform using the same encoder\n",
    "\n",
    "    # Step 2: Define features (X) and labels (y) for train and test sets\n",
    "    X_train = train_data['sent']\n",
    "    y_train = train_data['label']\n",
    "    X_test = data_real_test['sent']\n",
    "    y_test = data_real_test['label']\n",
    "    \n",
    "    # Iterate over each classifier in the pipeline\n",
    "    for i in range(pipeline_creation(0, 0, True)):\n",
    "\n",
    "        print(100 * \"*\")\n",
    "        \n",
    "        # Supervised pipeline\n",
    "        pipeline, classifier_name = pipeline_creation(\"supervised\", i)\n",
    "        print(f\"Supervised training on 100% of the data using {classifier_name}:\")\n",
    "        eval_and_print_metrics(pipeline, X_train, y_train, X_test, y_test)\n",
    "        \n",
    "        # Decode labels to show original values in the classification report\n",
    "        y_test_decoded = label_encoder.inverse_transform(y_test)\n",
    "        y_pred = pipeline.predict(X_test)\n",
    "        y_pred_decoded = label_encoder.inverse_transform(y_pred)\n",
    "        report = classification_report(y_test_decoded, y_pred_decoded, output_dict=True)\n",
    "        print(classification_report(y_test_decoded, y_pred_decoded))\n",
    "        \n",
    "        # Save results for Supervised 100%\n",
    "        results.append({\n",
    "            'Classifier': classifier_name,\n",
    "            'Setting': 'Supervised 100%',\n",
    "            'Accuracy': report['accuracy'],\n",
    "            'F1-Score': report['macro avg']['f1-score']\n",
    "        })\n",
    "\n",
    "        # 20% labeled data setup\n",
    "        y_mask = np.random.rand(len(y_train)) < 0.2  # Random mask for 20% of the data\n",
    "        X_20, y_20 = map(list, zip(*((x, y) for x, y, m in zip(X_train, y_train, y_mask) if m)))\n",
    "        print(f\"Supervised training on 20% of the training data using {classifier_name}:\")\n",
    "        eval_and_print_metrics(pipeline, X_20, y_20, X_test, y_test)\n",
    "\n",
    "        # Decode labels for partial training classification report\n",
    "        y_pred_partial = pipeline.predict(X_test)\n",
    "        y_pred_partial_decoded = label_encoder.inverse_transform(y_pred_partial)\n",
    "        report_partial = classification_report(y_test_decoded, y_pred_partial_decoded, output_dict=True)\n",
    "        print(classification_report(y_test_decoded, y_pred_partial_decoded))\n",
    "\n",
    "        # Save results for Supervised 20%\n",
    "        results.append({\n",
    "            'Classifier': classifier_name,\n",
    "            'Setting': 'Supervised 20%',\n",
    "            'Accuracy': report_partial['accuracy'],\n",
    "            'F1-Score': report_partial['macro avg']['f1-score']\n",
    "        })\n",
    "\n",
    "        # Semi-supervised pipeline with self-training\n",
    "        st_pipeline, st_classifier_name = pipeline_creation(\"semi-supervised\", i)\n",
    "        y_train_semi = np.copy(y_train)  # Copy to modify labels for self-training\n",
    "        y_train_semi[~y_mask] = -1  # Unlabel the non-masked subset\n",
    "\n",
    "        print(f\"{st_classifier_name} on 20% labeled training data (rest unlabeled):\")\n",
    "        eval_and_print_metrics(st_pipeline, X_train, y_train_semi, X_test, y_test)\n",
    "\n",
    "        # Decode labels for semi-supervised classification report\n",
    "        y_pred_semi = st_pipeline.predict(X_test)\n",
    "        y_pred_semi_decoded = label_encoder.inverse_transform(y_pred_semi)\n",
    "        report_semi = classification_report(y_test_decoded, y_pred_semi_decoded, output_dict=True)\n",
    "        print(classification_report(y_test_decoded, y_pred_semi_decoded))\n",
    "\n",
    "        # Save results for Self-Training\n",
    "        results.append({\n",
    "            'Classifier': classifier_name,\n",
    "            'Setting': 'Self-Training',\n",
    "            'Accuracy': report_semi['accuracy'],\n",
    "            'F1-Score': report_semi['macro avg']['f1-score']\n",
    "        })\n"
   ]
  },
  {
   "cell_type": "code",
   "execution_count": 23,
   "id": "0763c365",
   "metadata": {
    "execution": {
     "iopub.execute_input": "2024-11-16T10:38:10.235015Z",
     "iopub.status.busy": "2024-11-16T10:38:10.234587Z",
     "iopub.status.idle": "2024-11-16T10:38:11.040289Z",
     "shell.execute_reply": "2024-11-16T10:38:11.038788Z"
    },
    "papermill": {
     "duration": 0.822307,
     "end_time": "2024-11-16T10:38:11.043697",
     "exception": false,
     "start_time": "2024-11-16T10:38:10.221390",
     "status": "completed"
    },
    "tags": []
   },
   "outputs": [
    {
     "data": {
      "image/png": "[encoded data removed]",
      "text/plain": [
       "<Figure size 1200x1000 with 2 Axes>"
      ]
     },
     "metadata": {},
     "output_type": "display_data"
    }
   ],
   "source": [
    "\n",
    "# Plotting\n",
    "results_df = pd.DataFrame.from_dict(results)\n",
    "fig, axes = plt.subplots(2, 1, figsize=(12, 10))\n",
    "\n",
    "# Accuracy plot\n",
    "accuracy_df = results_df.pivot(index=\"Classifier\", columns=\"Setting\", values=\"Accuracy\")\n",
    "accuracy_df.plot(kind=\"bar\", ax=axes[0], color=[\"#4daf4a\", \"#377eb8\", \"#e41a1c\"])\n",
    "axes[0].set_title(\"Accuracy Comparison by Classifier and Setting\")\n",
    "axes[0].set_ylabel(\"Accuracy\")\n",
    "axes[0].set_xlabel(\"Classifier\")\n",
    "axes[0].legend(title=\"Setting\", loc=\"center left\", bbox_to_anchor=(1.0, 0.5))\n",
    "axes[0].tick_params(axis='x', rotation=45)\n",
    "\n",
    "# F1-Score plot\n",
    "f1_df = results_df.pivot(index=\"Classifier\", columns=\"Setting\", values=\"F1-Score\")\n",
    "f1_df.plot(kind=\"bar\", ax=axes[1], color=[\"#4daf4a\", \"#377eb8\", \"#e41a1c\"])\n",
    "axes[1].set_title(\"F1-Score Comparison by Classifier and Setting\")\n",
    "axes[1].set_ylabel(\"F1-Score\")\n",
    "axes[1].set_xlabel(\"Classifier\")\n",
    "axes[1].legend(title=\"Setting\", loc=\"center left\", bbox_to_anchor=(1.0, 0.5))\n",
    "axes[1].tick_params(axis='x', rotation=45)\n",
    "\n",
    "# Adjust layout\n",
    "plt.tight_layout()\n",
    "plt.show()\n"
   ]
  },
  {
   "cell_type": "code",
   "execution_count": 24,
   "id": "ba08aba3",
   "metadata": {
    "execution": {
     "iopub.execute_input": "2024-11-16T10:38:11.072546Z",
     "iopub.status.busy": "2024-11-16T10:38:11.072118Z",
     "iopub.status.idle": "2024-11-16T10:38:11.092607Z",
     "shell.execute_reply": "2024-11-16T10:38:11.091174Z"
    },
    "papermill": {
     "duration": 0.037669,
     "end_time": "2024-11-16T10:38:11.095397",
     "exception": false,
     "start_time": "2024-11-16T10:38:11.057728",
     "status": "completed"
    },
    "tags": []
   },
   "outputs": [
    {
     "name": "stdout",
     "output_type": "stream",
     "text": [
      "Comparison of Classifier Performance by Setting\n"
     ]
    },
    {
     "data": {
      "text/html": [
       "<div>\n",
       "<style scoped>\n",
       "    .dataframe tbody tr th:only-of-type {\n",
       "        vertical-align: middle;\n",
       "    }\n",
       "\n",
       "    .dataframe tbody tr th {\n",
       "        vertical-align: top;\n",
       "    }\n",
       "\n",
       "    .dataframe thead tr th {\n",
       "        text-align: left;\n",
       "    }\n",
       "\n",
       "    .dataframe thead tr:last-of-type th {\n",
       "        text-align: right;\n",
       "    }\n",
       "</style>\n",
       "<table border=\"1\" class=\"dataframe\">\n",
       "  <thead>\n",
       "    <tr>\n",
       "      <th></th>\n",
       "      <th colspan=\"3\" halign=\"left\">Accuracy</th>\n",
       "    </tr>\n",
       "    <tr>\n",
       "      <th>Setting</th>\n",
       "      <th>Self-Training</th>\n",
       "      <th>Supervised 100%</th>\n",
       "      <th>Supervised 20%</th>\n",
       "    </tr>\n",
       "    <tr>\n",
       "      <th>Classifier</th>\n",
       "      <th></th>\n",
       "      <th></th>\n",
       "      <th></th>\n",
       "    </tr>\n",
       "  </thead>\n",
       "  <tbody>\n",
       "    <tr>\n",
       "      <th>Calibrated LinearSVC</th>\n",
       "      <td>0.498004</td>\n",
       "      <td>0.560878</td>\n",
       "      <td>0.338323</td>\n",
       "    </tr>\n",
       "    <tr>\n",
       "      <th>Calibrated PassiveAggressiveClassifier</th>\n",
       "      <td>0.506986</td>\n",
       "      <td>0.553892</td>\n",
       "      <td>0.369261</td>\n",
       "    </tr>\n",
       "    <tr>\n",
       "      <th>LogisticRegression</th>\n",
       "      <td>0.476048</td>\n",
       "      <td>0.574850</td>\n",
       "      <td>0.383234</td>\n",
       "    </tr>\n",
       "    <tr>\n",
       "      <th>MultinomialNB</th>\n",
       "      <td>0.482036</td>\n",
       "      <td>0.571856</td>\n",
       "      <td>0.381238</td>\n",
       "    </tr>\n",
       "    <tr>\n",
       "      <th>SGDClassifier</th>\n",
       "      <td>0.461078</td>\n",
       "      <td>0.553892</td>\n",
       "      <td>0.396208</td>\n",
       "    </tr>\n",
       "  </tbody>\n",
       "</table>\n",
       "</div>"
      ],
      "text/plain": [
       "                                            Accuracy                  \\\n",
       "Setting                                Self-Training Supervised 100%   \n",
       "Classifier                                                             \n",
       "Calibrated LinearSVC                        0.498004        0.560878   \n",
       "Calibrated PassiveAggressiveClassifier      0.506986        0.553892   \n",
       "LogisticRegression                          0.476048        0.574850   \n",
       "MultinomialNB                               0.482036        0.571856   \n",
       "SGDClassifier                               0.461078        0.553892   \n",
       "\n",
       "                                                       \n",
       "Setting                                Supervised 20%  \n",
       "Classifier                                             \n",
       "Calibrated LinearSVC                         0.338323  \n",
       "Calibrated PassiveAggressiveClassifier       0.369261  \n",
       "LogisticRegression                           0.383234  \n",
       "MultinomialNB                                0.381238  \n",
       "SGDClassifier                                0.396208  "
      ]
     },
     "execution_count": 24,
     "metadata": {},
     "output_type": "execute_result"
    }
   ],
   "source": [
    "# Pivot the DataFrame to reorganize for comparison\n",
    "comparison_df = results_df.pivot(index=\"Classifier\", columns=\"Setting\", values=[\"Accuracy\"])\n",
    "\n",
    "# Display the formatted table\n",
    "print(\"Comparison of Classifier Performance by Setting\")\n",
    "comparison_df"
   ]
  },
  {
   "cell_type": "code",
   "execution_count": 25,
   "id": "4298eb33",
   "metadata": {
    "execution": {
     "iopub.execute_input": "2024-11-16T10:38:11.125391Z",
     "iopub.status.busy": "2024-11-16T10:38:11.124840Z",
     "iopub.status.idle": "2024-11-16T10:38:11.148628Z",
     "shell.execute_reply": "2024-11-16T10:38:11.147084Z"
    },
    "papermill": {
     "duration": 0.043133,
     "end_time": "2024-11-16T10:38:11.151783",
     "exception": false,
     "start_time": "2024-11-16T10:38:11.108650",
     "status": "completed"
    },
    "tags": []
   },
   "outputs": [
    {
     "name": "stdout",
     "output_type": "stream",
     "text": [
      "Comparison of Classifier Performance by Setting\n"
     ]
    },
    {
     "data": {
      "text/html": [
       "<div>\n",
       "<style scoped>\n",
       "    .dataframe tbody tr th:only-of-type {\n",
       "        vertical-align: middle;\n",
       "    }\n",
       "\n",
       "    .dataframe tbody tr th {\n",
       "        vertical-align: top;\n",
       "    }\n",
       "\n",
       "    .dataframe thead tr th {\n",
       "        text-align: left;\n",
       "    }\n",
       "\n",
       "    .dataframe thead tr:last-of-type th {\n",
       "        text-align: right;\n",
       "    }\n",
       "</style>\n",
       "<table border=\"1\" class=\"dataframe\">\n",
       "  <thead>\n",
       "    <tr>\n",
       "      <th></th>\n",
       "      <th colspan=\"3\" halign=\"left\">F1-Score</th>\n",
       "    </tr>\n",
       "    <tr>\n",
       "      <th>Setting</th>\n",
       "      <th>Self-Training</th>\n",
       "      <th>Supervised 100%</th>\n",
       "      <th>Supervised 20%</th>\n",
       "    </tr>\n",
       "    <tr>\n",
       "      <th>Classifier</th>\n",
       "      <th></th>\n",
       "      <th></th>\n",
       "      <th></th>\n",
       "    </tr>\n",
       "  </thead>\n",
       "  <tbody>\n",
       "    <tr>\n",
       "      <th>Calibrated LinearSVC</th>\n",
       "      <td>0.494278</td>\n",
       "      <td>0.557322</td>\n",
       "      <td>0.323533</td>\n",
       "    </tr>\n",
       "    <tr>\n",
       "      <th>Calibrated PassiveAggressiveClassifier</th>\n",
       "      <td>0.511487</td>\n",
       "      <td>0.548203</td>\n",
       "      <td>0.332391</td>\n",
       "    </tr>\n",
       "    <tr>\n",
       "      <th>LogisticRegression</th>\n",
       "      <td>0.463146</td>\n",
       "      <td>0.570439</td>\n",
       "      <td>0.368739</td>\n",
       "    </tr>\n",
       "    <tr>\n",
       "      <th>MultinomialNB</th>\n",
       "      <td>0.464395</td>\n",
       "      <td>0.562371</td>\n",
       "      <td>0.363762</td>\n",
       "    </tr>\n",
       "    <tr>\n",
       "      <th>SGDClassifier</th>\n",
       "      <td>0.455792</td>\n",
       "      <td>0.545616</td>\n",
       "      <td>0.410702</td>\n",
       "    </tr>\n",
       "  </tbody>\n",
       "</table>\n",
       "</div>"
      ],
      "text/plain": [
       "                                            F1-Score                  \\\n",
       "Setting                                Self-Training Supervised 100%   \n",
       "Classifier                                                             \n",
       "Calibrated LinearSVC                        0.494278        0.557322   \n",
       "Calibrated PassiveAggressiveClassifier      0.511487        0.548203   \n",
       "LogisticRegression                          0.463146        0.570439   \n",
       "MultinomialNB                               0.464395        0.562371   \n",
       "SGDClassifier                               0.455792        0.545616   \n",
       "\n",
       "                                                       \n",
       "Setting                                Supervised 20%  \n",
       "Classifier                                             \n",
       "Calibrated LinearSVC                         0.323533  \n",
       "Calibrated PassiveAggressiveClassifier       0.332391  \n",
       "LogisticRegression                           0.368739  \n",
       "MultinomialNB                                0.363762  \n",
       "SGDClassifier                                0.410702  "
      ]
     },
     "execution_count": 25,
     "metadata": {},
     "output_type": "execute_result"
    }
   ],
   "source": [
    "# Pivot the DataFrame to reorganize for comparison\n",
    "comparison_df = results_df.pivot(index=\"Classifier\", columns=\"Setting\", values=[\"F1-Score\"])\n",
    "\n",
    "# Display the formatted table\n",
    "print(\"Comparison of Classifier Performance by Setting\")\n",
    "comparison_df"
   ]
  }
 ],
 "metadata": {
  "kaggle": {
   "accelerator": "none",
   "dataSources": [
    {
     "datasetId": 6068996,
     "sourceId": 9883544,
     "sourceType": "datasetVersion"
    },
    {
     "datasetId": 6071343,
     "sourceId": 9886592,
     "sourceType": "datasetVersion"
    },
    {
     "datasetId": 6077150,
     "sourceId": 9894375,
     "sourceType": "datasetVersion"
    },
    {
     "datasetId": 6098689,
     "sourceId": 9922906,
     "sourceType": "datasetVersion"
    }
   ],
   "dockerImageVersionId": 30786,
   "isGpuEnabled": false,
   "isInternetEnabled": true,
   "language": "python",
   "sourceType": "notebook"
  },
  "kernelspec": {
   "display_name": "Python 3",
   "language": "python",
   "name": "python3"
  },
  "language_info": {
   "codemirror_mode": {
    "name": "ipython",
    "version": 3
   },
   "file_extension": ".py",
   "mimetype": "text/x-python",
   "name": "python",
   "nbconvert_exporter": "python",
   "pygments_lexer": "ipython3",
   "version": "3.10.14"
  },
  "papermill": {
   "default_parameters": {},
   "duration": 15.489235,
   "end_time": "2024-11-16T10:38:11.887876",
   "environment_variables": {},
   "exception": null,
   "input_path": "__notebook__.ipynb",
   "output_path": "__notebook__.ipynb",
   "parameters": {},
   "start_time": "2024-11-16T10:37:56.398641",
   "version": "2.6.0"
  }
 },
 "nbformat": 4,
 "nbformat_minor": 5
}
