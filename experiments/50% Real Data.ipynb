{
 "cells": [
  {
   "cell_type": "markdown",
   "id": "245ad4d9",
   "metadata": {
    "papermill": {
     "duration": 0.008009,
     "end_time": "2024-11-16T10:34:53.286437",
     "exception": false,
     "start_time": "2024-11-16T10:34:53.278428",
     "status": "completed"
    },
    "tags": []
   },
   "source": [
    "# 3️⃣ 50% Real Data - No preprocessing"
   ]
  },
  {
   "cell_type": "markdown",
   "id": "26edfaad",
   "metadata": {
    "_cell_guid": "b1076dfc-b9ad-4769-8c92-a6c4dae69d19",
    "_uuid": "8f2839f25d086af736a60e9eeb907d3b93b6e0e5",
    "papermill": {
     "duration": 0.007625,
     "end_time": "2024-11-16T10:34:53.301474",
     "exception": false,
     "start_time": "2024-11-16T10:34:53.293849",
     "status": "completed"
    },
    "tags": []
   },
   "source": [
    "# Semi-Supervised Learning (Self-Training) reverse 🔀\n",
    "\n",
    "* Semi-Supervised Learning combines labeled and unlabeled examples\n",
    "* In self-Training, you could convert a Supervised Machine Learning algorithm to a semi-supervised one\n",
    "\n",
    "### **Steps** ✨\n",
    "1. Train supervised model using labeled data\n",
    "2. Make predictions on unlabeled data using the model from the previous step\n",
    "3. Take predictions satisfying probability threshold criteria and add them to the pseudo-labeled set\n",
    "4. combine the labeled and pseudo-labeled data and train the next verion of the model\n",
    "5. Make predictions on the remaining unlabeled data using this model of step 4\n",
    "6. Take predictions satisfying the probability threshold and add them to an existing pseudo-labeled set\n",
    "\n",
    "### **References:** 🔗\n",
    "* https://www.kaggle.com/code/sasakitetsuya/semi-supervised-classification-on-a-text-dataset \n",
    "* https://scikit-learn.ru/example/semi-supervised-classification-on-a-text-dataset/\n"
   ]
  },
  {
   "cell_type": "markdown",
   "id": "7551cacf",
   "metadata": {
    "papermill": {
     "duration": 0.006946,
     "end_time": "2024-11-16T10:34:53.316913",
     "exception": false,
     "start_time": "2024-11-16T10:34:53.309967",
     "status": "completed"
    },
    "tags": []
   },
   "source": [
    "## Importing "
   ]
  },
  {
   "cell_type": "code",
   "execution_count": 1,
   "id": "752d0082",
   "metadata": {
    "execution": {
     "iopub.execute_input": "2024-11-16T10:34:53.333323Z",
     "iopub.status.busy": "2024-11-16T10:34:53.332864Z",
     "iopub.status.idle": "2024-11-16T10:34:54.319567Z",
     "shell.execute_reply": "2024-11-16T10:34:54.318236Z"
    },
    "papermill": {
     "duration": 0.998071,
     "end_time": "2024-11-16T10:34:54.322280",
     "exception": false,
     "start_time": "2024-11-16T10:34:53.324209",
     "status": "completed"
    },
    "tags": []
   },
   "outputs": [
    {
     "name": "stdout",
     "output_type": "stream",
     "text": [
      "/kaggle/input/generated-data/generated_data.csv\n",
      "/kaggle/input/generated-data4o/generated_data_4o.csv\n",
      "/kaggle/input/larger-dialects/Arabic_dialects_Larger.csv\n",
      "/kaggle/input/arabic-real-data-dialects/Arabic_dialects.csv\n"
     ]
    }
   ],
   "source": [
    "import warnings\n",
    "warnings.filterwarnings(\"ignore\", category=FutureWarning)\n",
    "import numpy as np # linear algebra\n",
    "import pandas as pd # data processing, CSV file I/O (e.g. pd.read_csv)\n",
    "import matplotlib.pyplot as plt\n",
    "\n",
    "import os\n",
    "for dirname, _, filenames in os.walk('/kaggle/input'):\n",
    "    for filename in filenames:\n",
    "        print(os.path.join(dirname, filename))"
   ]
  },
  {
   "cell_type": "code",
   "execution_count": 2,
   "id": "d5baa4b7",
   "metadata": {
    "execution": {
     "iopub.execute_input": "2024-11-16T10:34:54.340770Z",
     "iopub.status.busy": "2024-11-16T10:34:54.340199Z",
     "iopub.status.idle": "2024-11-16T10:34:56.751433Z",
     "shell.execute_reply": "2024-11-16T10:34:56.750265Z"
    },
    "papermill": {
     "duration": 2.423146,
     "end_time": "2024-11-16T10:34:56.753985",
     "exception": false,
     "start_time": "2024-11-16T10:34:54.330839",
     "status": "completed"
    },
    "tags": []
   },
   "outputs": [],
   "source": [
    "from sklearn.feature_extraction.text import CountVectorizer\n",
    "from sklearn.feature_extraction.text import TfidfTransformer\n",
    "from sklearn.preprocessing import FunctionTransformer\n",
    "from sklearn.preprocessing import LabelEncoder\n",
    "from sklearn.calibration import CalibratedClassifierCV\n",
    "from sklearn.naive_bayes import MultinomialNB\n",
    "#==============================================different Linear classifiers\n",
    "from sklearn.linear_model import LogisticRegression, SGDClassifier, PassiveAggressiveClassifier, RidgeClassifier\n",
    "from sklearn.svm import LinearSVC\n",
    "#=====================================================\n",
    "from sklearn.model_selection import train_test_split\n",
    "from sklearn.pipeline import Pipeline\n",
    "from sklearn.semi_supervised import SelfTrainingClassifier\n",
    "from sklearn.semi_supervised import LabelSpreading\n",
    "from sklearn.metrics import f1_score\n",
    "from sklearn.metrics import classification_report\n",
    "\n",
    "import re\n",
    "import nltk\n",
    "from nltk.corpus import stopwords"
   ]
  },
  {
   "cell_type": "code",
   "execution_count": 3,
   "id": "8b5a576a",
   "metadata": {
    "execution": {
     "iopub.execute_input": "2024-11-16T10:34:56.770850Z",
     "iopub.status.busy": "2024-11-16T10:34:56.770165Z",
     "iopub.status.idle": "2024-11-16T10:34:56.846296Z",
     "shell.execute_reply": "2024-11-16T10:34:56.845047Z"
    },
    "papermill": {
     "duration": 0.087381,
     "end_time": "2024-11-16T10:34:56.848865",
     "exception": false,
     "start_time": "2024-11-16T10:34:56.761484",
     "status": "completed"
    },
    "tags": []
   },
   "outputs": [],
   "source": [
    "data1=pd.read_csv('/kaggle/input/generated-data/generated_data.csv')\n",
    "data2=pd.read_csv('/kaggle/input/generated-data4o/generated_data_4o.csv')\n",
    "# Combine the two datasets\n",
    "data_generated = pd.concat([data1, data2], ignore_index=True)"
   ]
  },
  {
   "cell_type": "code",
   "execution_count": 4,
   "id": "14dd7d2d",
   "metadata": {
    "execution": {
     "iopub.execute_input": "2024-11-16T10:34:56.865647Z",
     "iopub.status.busy": "2024-11-16T10:34:56.865205Z",
     "iopub.status.idle": "2024-11-16T10:34:56.896153Z",
     "shell.execute_reply": "2024-11-16T10:34:56.894823Z"
    },
    "papermill": {
     "duration": 0.042386,
     "end_time": "2024-11-16T10:34:56.898843",
     "exception": false,
     "start_time": "2024-11-16T10:34:56.856457",
     "status": "completed"
    },
    "tags": []
   },
   "outputs": [],
   "source": [
    "data_real = pd.read_csv('/kaggle/input/arabic-real-data-dialects/Arabic_dialects.csv')"
   ]
  },
  {
   "cell_type": "markdown",
   "id": "64a02a5d",
   "metadata": {
    "papermill": {
     "duration": 0.007096,
     "end_time": "2024-11-16T10:34:56.913520",
     "exception": false,
     "start_time": "2024-11-16T10:34:56.906424",
     "status": "completed"
    },
    "tags": []
   },
   "source": [
    "## Data Preprocessing"
   ]
  },
  {
   "cell_type": "code",
   "execution_count": 5,
   "id": "9fbfca61",
   "metadata": {
    "execution": {
     "iopub.execute_input": "2024-11-16T10:34:56.931041Z",
     "iopub.status.busy": "2024-11-16T10:34:56.930551Z",
     "iopub.status.idle": "2024-11-16T10:34:56.951262Z",
     "shell.execute_reply": "2024-11-16T10:34:56.949966Z"
    },
    "papermill": {
     "duration": 0.032345,
     "end_time": "2024-11-16T10:34:56.953882",
     "exception": false,
     "start_time": "2024-11-16T10:34:56.921537",
     "status": "completed"
    },
    "tags": []
   },
   "outputs": [
    {
     "data": {
      "text/html": [
       "<div>\n",
       "<style scoped>\n",
       "    .dataframe tbody tr th:only-of-type {\n",
       "        vertical-align: middle;\n",
       "    }\n",
       "\n",
       "    .dataframe tbody tr th {\n",
       "        vertical-align: top;\n",
       "    }\n",
       "\n",
       "    .dataframe thead th {\n",
       "        text-align: right;\n",
       "    }\n",
       "</style>\n",
       "<table border=\"1\" class=\"dataframe\">\n",
       "  <thead>\n",
       "    <tr style=\"text-align: right;\">\n",
       "      <th></th>\n",
       "      <th>Unnamed: 0</th>\n",
       "      <th>Text</th>\n",
       "      <th>label</th>\n",
       "    </tr>\n",
       "  </thead>\n",
       "  <tbody>\n",
       "    <tr>\n",
       "      <th>0</th>\n",
       "      <td>0</td>\n",
       "      <td>شرب الشاي مع النعناع، في وقت الاسترخاء.</td>\n",
       "      <td>Levantine</td>\n",
       "    </tr>\n",
       "    <tr>\n",
       "      <th>1</th>\n",
       "      <td>1</td>\n",
       "      <td>أمك شلونها، تحسنت صحتها بعد العملية؟</td>\n",
       "      <td>Iraqi</td>\n",
       "    </tr>\n",
       "    <tr>\n",
       "      <th>2</th>\n",
       "      <td>2</td>\n",
       "      <td>ذهبت لزيارة الأخت، وأحببت الجلسة معها.</td>\n",
       "      <td>Gulf</td>\n",
       "    </tr>\n",
       "    <tr>\n",
       "      <th>3</th>\n",
       "      <td>3</td>\n",
       "      <td>سمعت إنه فيه فرقة جديدة عم تتكون، بدها جماهير ...</td>\n",
       "      <td>Levantine</td>\n",
       "    </tr>\n",
       "    <tr>\n",
       "      <th>4</th>\n",
       "      <td>4</td>\n",
       "      <td>خطر لي، هل فعلا نقدر نحب جميعًا؟</td>\n",
       "      <td>Iraqi</td>\n",
       "    </tr>\n",
       "  </tbody>\n",
       "</table>\n",
       "</div>"
      ],
      "text/plain": [
       "   Unnamed: 0                                               Text      label\n",
       "0           0          شرب الشاي مع النعناع، في وقت الاسترخاء.    Levantine\n",
       "1           1             أمك شلونها، تحسنت صحتها بعد العملية؟        Iraqi\n",
       "2           2           ذهبت لزيارة الأخت، وأحببت الجلسة معها.         Gulf\n",
       "3           3  سمعت إنه فيه فرقة جديدة عم تتكون، بدها جماهير ...  Levantine\n",
       "4           4                 خطر لي، هل فعلا نقدر نحب جميعًا؟        Iraqi"
      ]
     },
     "execution_count": 5,
     "metadata": {},
     "output_type": "execute_result"
    }
   ],
   "source": [
    "data_generated.head()"
   ]
  },
  {
   "cell_type": "code",
   "execution_count": 6,
   "id": "2222ac44",
   "metadata": {
    "execution": {
     "iopub.execute_input": "2024-11-16T10:34:56.971462Z",
     "iopub.status.busy": "2024-11-16T10:34:56.971036Z",
     "iopub.status.idle": "2024-11-16T10:34:56.978348Z",
     "shell.execute_reply": "2024-11-16T10:34:56.977204Z"
    },
    "papermill": {
     "duration": 0.019454,
     "end_time": "2024-11-16T10:34:56.981020",
     "exception": false,
     "start_time": "2024-11-16T10:34:56.961566",
     "status": "completed"
    },
    "tags": []
   },
   "outputs": [
    {
     "data": {
      "text/plain": [
       "Index(['Unnamed: 0', 'Text', 'label'], dtype='object')"
      ]
     },
     "execution_count": 6,
     "metadata": {},
     "output_type": "execute_result"
    }
   ],
   "source": [
    "data_generated.columns"
   ]
  },
  {
   "cell_type": "code",
   "execution_count": 7,
   "id": "7a30e977",
   "metadata": {
    "execution": {
     "iopub.execute_input": "2024-11-16T10:34:56.999319Z",
     "iopub.status.busy": "2024-11-16T10:34:56.998844Z",
     "iopub.status.idle": "2024-11-16T10:34:57.013627Z",
     "shell.execute_reply": "2024-11-16T10:34:57.011633Z"
    },
    "papermill": {
     "duration": 0.026999,
     "end_time": "2024-11-16T10:34:57.016649",
     "exception": false,
     "start_time": "2024-11-16T10:34:56.989650",
     "status": "completed"
    },
    "tags": []
   },
   "outputs": [],
   "source": [
    "data_generated = data_generated.drop(['Unnamed: 0'], axis=1)"
   ]
  },
  {
   "cell_type": "code",
   "execution_count": 8,
   "id": "215aed91",
   "metadata": {
    "execution": {
     "iopub.execute_input": "2024-11-16T10:34:57.034544Z",
     "iopub.status.busy": "2024-11-16T10:34:57.034100Z",
     "iopub.status.idle": "2024-11-16T10:34:57.041063Z",
     "shell.execute_reply": "2024-11-16T10:34:57.039304Z"
    },
    "papermill": {
     "duration": 0.019302,
     "end_time": "2024-11-16T10:34:57.044284",
     "exception": false,
     "start_time": "2024-11-16T10:34:57.024982",
     "status": "completed"
    },
    "tags": []
   },
   "outputs": [],
   "source": [
    "data_generated.rename(columns={'Text': 'sent'},inplace=True, errors='raise')"
   ]
  },
  {
   "cell_type": "code",
   "execution_count": 9,
   "id": "41013e6e",
   "metadata": {
    "execution": {
     "iopub.execute_input": "2024-11-16T10:34:57.065306Z",
     "iopub.status.busy": "2024-11-16T10:34:57.063983Z",
     "iopub.status.idle": "2024-11-16T10:34:57.076577Z",
     "shell.execute_reply": "2024-11-16T10:34:57.075435Z"
    },
    "papermill": {
     "duration": 0.025221,
     "end_time": "2024-11-16T10:34:57.078890",
     "exception": false,
     "start_time": "2024-11-16T10:34:57.053669",
     "status": "completed"
    },
    "tags": []
   },
   "outputs": [
    {
     "data": {
      "text/plain": [
       "array(['Levantine', 'Iraqi', 'Gulf', 'Egyptian', 'Maghrebi'], dtype=object)"
      ]
     },
     "execution_count": 9,
     "metadata": {},
     "output_type": "execute_result"
    }
   ],
   "source": [
    "data_generated['label'].unique()"
   ]
  },
  {
   "cell_type": "code",
   "execution_count": 10,
   "id": "4576c3e1",
   "metadata": {
    "execution": {
     "iopub.execute_input": "2024-11-16T10:34:57.097233Z",
     "iopub.status.busy": "2024-11-16T10:34:57.096793Z",
     "iopub.status.idle": "2024-11-16T10:34:57.108252Z",
     "shell.execute_reply": "2024-11-16T10:34:57.106997Z"
    },
    "papermill": {
     "duration": 0.023713,
     "end_time": "2024-11-16T10:34:57.110898",
     "exception": false,
     "start_time": "2024-11-16T10:34:57.087185",
     "status": "completed"
    },
    "tags": []
   },
   "outputs": [],
   "source": [
    "label_counts_generated = data_generated['label'].value_counts()"
   ]
  },
  {
   "cell_type": "code",
   "execution_count": 11,
   "id": "ed63675b",
   "metadata": {
    "execution": {
     "iopub.execute_input": "2024-11-16T10:34:57.130379Z",
     "iopub.status.busy": "2024-11-16T10:34:57.129914Z",
     "iopub.status.idle": "2024-11-16T10:34:57.138674Z",
     "shell.execute_reply": "2024-11-16T10:34:57.137437Z"
    },
    "papermill": {
     "duration": 0.021898,
     "end_time": "2024-11-16T10:34:57.141066",
     "exception": false,
     "start_time": "2024-11-16T10:34:57.119168",
     "status": "completed"
    },
    "tags": []
   },
   "outputs": [
    {
     "data": {
      "text/plain": [
       "label\n",
       "Levantine    2500\n",
       "Iraqi        2500\n",
       "Gulf         2500\n",
       "Egyptian     2500\n",
       "Maghrebi     2500\n",
       "Name: count, dtype: int64"
      ]
     },
     "execution_count": 11,
     "metadata": {},
     "output_type": "execute_result"
    }
   ],
   "source": [
    "label_counts_generated"
   ]
  },
  {
   "cell_type": "code",
   "execution_count": 12,
   "id": "ff86e3dc",
   "metadata": {
    "execution": {
     "iopub.execute_input": "2024-11-16T10:34:57.158718Z",
     "iopub.status.busy": "2024-11-16T10:34:57.158323Z",
     "iopub.status.idle": "2024-11-16T10:34:57.172296Z",
     "shell.execute_reply": "2024-11-16T10:34:57.170911Z"
    },
    "papermill": {
     "duration": 0.02787,
     "end_time": "2024-11-16T10:34:57.176930",
     "exception": false,
     "start_time": "2024-11-16T10:34:57.149060",
     "status": "completed"
    },
    "tags": []
   },
   "outputs": [
    {
     "data": {
      "text/html": [
       "<div>\n",
       "<style scoped>\n",
       "    .dataframe tbody tr th:only-of-type {\n",
       "        vertical-align: middle;\n",
       "    }\n",
       "\n",
       "    .dataframe tbody tr th {\n",
       "        vertical-align: top;\n",
       "    }\n",
       "\n",
       "    .dataframe thead th {\n",
       "        text-align: right;\n",
       "    }\n",
       "</style>\n",
       "<table border=\"1\" class=\"dataframe\">\n",
       "  <thead>\n",
       "    <tr style=\"text-align: right;\">\n",
       "      <th></th>\n",
       "      <th>sentID.BTEC</th>\n",
       "      <th>split</th>\n",
       "      <th>lang</th>\n",
       "      <th>sent</th>\n",
       "      <th>label</th>\n",
       "    </tr>\n",
       "  </thead>\n",
       "  <tbody>\n",
       "    <tr>\n",
       "      <th>0</th>\n",
       "      <td>7671</td>\n",
       "      <td>corpus-6-test-corpus-26-train</td>\n",
       "      <td>MUS</td>\n",
       "      <td>خذني إلى طريق ابي، من فضلك.</td>\n",
       "      <td>Gulf</td>\n",
       "    </tr>\n",
       "    <tr>\n",
       "      <th>1</th>\n",
       "      <td>2118</td>\n",
       "      <td>corpus-6-train</td>\n",
       "      <td>RAB</td>\n",
       "      <td>كا نتمنى هاد الرحلة دوز مزيان.</td>\n",
       "      <td>Maghrebi</td>\n",
       "    </tr>\n",
       "    <tr>\n",
       "      <th>2</th>\n",
       "      <td>9862</td>\n",
       "      <td>corpus-6-test-corpus-26-train</td>\n",
       "      <td>MOS</td>\n",
       "      <td>الطريق للنجاح هو \"جنمياكو، \" صح؟</td>\n",
       "      <td>Iraqi</td>\n",
       "    </tr>\n",
       "    <tr>\n",
       "      <th>3</th>\n",
       "      <td>11549</td>\n",
       "      <td>corpus-6-train</td>\n",
       "      <td>CAI</td>\n",
       "      <td>ممكن تتكلم بشويش شوبه؟</td>\n",
       "      <td>Egyptian</td>\n",
       "    </tr>\n",
       "    <tr>\n",
       "      <th>4</th>\n",
       "      <td>15073</td>\n",
       "      <td>corpus-6-test-corpus-26-test</td>\n",
       "      <td>ALG</td>\n",
       "      <td>شحال سعر التوصيلة؟ تقدر تكتبلي سعر التوصيلة عل...</td>\n",
       "      <td>Maghrebi</td>\n",
       "    </tr>\n",
       "  </tbody>\n",
       "</table>\n",
       "</div>"
      ],
      "text/plain": [
       "   sentID.BTEC                          split lang  \\\n",
       "0         7671  corpus-6-test-corpus-26-train  MUS   \n",
       "1         2118                 corpus-6-train  RAB   \n",
       "2         9862  corpus-6-test-corpus-26-train  MOS   \n",
       "3        11549                 corpus-6-train  CAI   \n",
       "4        15073   corpus-6-test-corpus-26-test  ALG   \n",
       "\n",
       "                                                sent     label  \n",
       "0                        خذني إلى طريق ابي، من فضلك.      Gulf  \n",
       "1                     كا نتمنى هاد الرحلة دوز مزيان.  Maghrebi  \n",
       "2                   الطريق للنجاح هو \"جنمياكو، \" صح؟     Iraqi  \n",
       "3                             ممكن تتكلم بشويش شوبه؟  Egyptian  \n",
       "4  شحال سعر التوصيلة؟ تقدر تكتبلي سعر التوصيلة عل...  Maghrebi  "
      ]
     },
     "execution_count": 12,
     "metadata": {},
     "output_type": "execute_result"
    }
   ],
   "source": [
    "data_real.head()"
   ]
  },
  {
   "cell_type": "code",
   "execution_count": 13,
   "id": "46e7784a",
   "metadata": {
    "execution": {
     "iopub.execute_input": "2024-11-16T10:34:57.195249Z",
     "iopub.status.busy": "2024-11-16T10:34:57.194777Z",
     "iopub.status.idle": "2024-11-16T10:34:57.201887Z",
     "shell.execute_reply": "2024-11-16T10:34:57.200481Z"
    },
    "papermill": {
     "duration": 0.01935,
     "end_time": "2024-11-16T10:34:57.204546",
     "exception": false,
     "start_time": "2024-11-16T10:34:57.185196",
     "status": "completed"
    },
    "tags": []
   },
   "outputs": [],
   "source": [
    "data_real = data_real.drop(['sentID.BTEC', 'split', 'lang'], axis=1)"
   ]
  },
  {
   "cell_type": "code",
   "execution_count": 14,
   "id": "0f53cee9",
   "metadata": {
    "execution": {
     "iopub.execute_input": "2024-11-16T10:34:57.222821Z",
     "iopub.status.busy": "2024-11-16T10:34:57.222417Z",
     "iopub.status.idle": "2024-11-16T10:34:57.233436Z",
     "shell.execute_reply": "2024-11-16T10:34:57.232277Z"
    },
    "papermill": {
     "duration": 0.022806,
     "end_time": "2024-11-16T10:34:57.235889",
     "exception": false,
     "start_time": "2024-11-16T10:34:57.213083",
     "status": "completed"
    },
    "tags": []
   },
   "outputs": [
    {
     "data": {
      "text/html": [
       "<div>\n",
       "<style scoped>\n",
       "    .dataframe tbody tr th:only-of-type {\n",
       "        vertical-align: middle;\n",
       "    }\n",
       "\n",
       "    .dataframe tbody tr th {\n",
       "        vertical-align: top;\n",
       "    }\n",
       "\n",
       "    .dataframe thead th {\n",
       "        text-align: right;\n",
       "    }\n",
       "</style>\n",
       "<table border=\"1\" class=\"dataframe\">\n",
       "  <thead>\n",
       "    <tr style=\"text-align: right;\">\n",
       "      <th></th>\n",
       "      <th>sent</th>\n",
       "      <th>label</th>\n",
       "    </tr>\n",
       "  </thead>\n",
       "  <tbody>\n",
       "    <tr>\n",
       "      <th>0</th>\n",
       "      <td>خذني إلى طريق ابي، من فضلك.</td>\n",
       "      <td>Gulf</td>\n",
       "    </tr>\n",
       "    <tr>\n",
       "      <th>1</th>\n",
       "      <td>كا نتمنى هاد الرحلة دوز مزيان.</td>\n",
       "      <td>Maghrebi</td>\n",
       "    </tr>\n",
       "    <tr>\n",
       "      <th>2</th>\n",
       "      <td>الطريق للنجاح هو \"جنمياكو، \" صح؟</td>\n",
       "      <td>Iraqi</td>\n",
       "    </tr>\n",
       "    <tr>\n",
       "      <th>3</th>\n",
       "      <td>ممكن تتكلم بشويش شوبه؟</td>\n",
       "      <td>Egyptian</td>\n",
       "    </tr>\n",
       "    <tr>\n",
       "      <th>4</th>\n",
       "      <td>شحال سعر التوصيلة؟ تقدر تكتبلي سعر التوصيلة عل...</td>\n",
       "      <td>Maghrebi</td>\n",
       "    </tr>\n",
       "  </tbody>\n",
       "</table>\n",
       "</div>"
      ],
      "text/plain": [
       "                                                sent     label\n",
       "0                        خذني إلى طريق ابي، من فضلك.      Gulf\n",
       "1                     كا نتمنى هاد الرحلة دوز مزيان.  Maghrebi\n",
       "2                   الطريق للنجاح هو \"جنمياكو، \" صح؟     Iraqi\n",
       "3                             ممكن تتكلم بشويش شوبه؟  Egyptian\n",
       "4  شحال سعر التوصيلة؟ تقدر تكتبلي سعر التوصيلة عل...  Maghrebi"
      ]
     },
     "execution_count": 14,
     "metadata": {},
     "output_type": "execute_result"
    }
   ],
   "source": [
    "data_real.head()"
   ]
  },
  {
   "cell_type": "code",
   "execution_count": 15,
   "id": "4a9629d2",
   "metadata": {
    "execution": {
     "iopub.execute_input": "2024-11-16T10:34:57.254847Z",
     "iopub.status.busy": "2024-11-16T10:34:57.254454Z",
     "iopub.status.idle": "2024-11-16T10:34:57.262695Z",
     "shell.execute_reply": "2024-11-16T10:34:57.261556Z"
    },
    "papermill": {
     "duration": 0.020893,
     "end_time": "2024-11-16T10:34:57.265126",
     "exception": false,
     "start_time": "2024-11-16T10:34:57.244233",
     "status": "completed"
    },
    "tags": []
   },
   "outputs": [
    {
     "data": {
      "text/plain": [
       "array(['Gulf', 'Maghrebi', 'Iraqi', 'Egyptian', 'Levantine'], dtype=object)"
      ]
     },
     "execution_count": 15,
     "metadata": {},
     "output_type": "execute_result"
    }
   ],
   "source": [
    "data_real['label'].unique()"
   ]
  },
  {
   "cell_type": "code",
   "execution_count": 16,
   "id": "d0a36124",
   "metadata": {
    "execution": {
     "iopub.execute_input": "2024-11-16T10:34:57.285602Z",
     "iopub.status.busy": "2024-11-16T10:34:57.284699Z",
     "iopub.status.idle": "2024-11-16T10:34:57.291093Z",
     "shell.execute_reply": "2024-11-16T10:34:57.289746Z"
    },
    "papermill": {
     "duration": 0.018551,
     "end_time": "2024-11-16T10:34:57.293428",
     "exception": false,
     "start_time": "2024-11-16T10:34:57.274877",
     "status": "completed"
    },
    "tags": []
   },
   "outputs": [],
   "source": [
    "label_counts_real = data_real['label'].value_counts()"
   ]
  },
  {
   "cell_type": "code",
   "execution_count": 17,
   "id": "410248ea",
   "metadata": {
    "execution": {
     "iopub.execute_input": "2024-11-16T10:34:57.313333Z",
     "iopub.status.busy": "2024-11-16T10:34:57.312848Z",
     "iopub.status.idle": "2024-11-16T10:34:57.321163Z",
     "shell.execute_reply": "2024-11-16T10:34:57.319868Z"
    },
    "papermill": {
     "duration": 0.021771,
     "end_time": "2024-11-16T10:34:57.323985",
     "exception": false,
     "start_time": "2024-11-16T10:34:57.302214",
     "status": "completed"
    },
    "tags": []
   },
   "outputs": [
    {
     "data": {
      "text/plain": [
       "label\n",
       "Maghrebi     1002\n",
       "Iraqi        1002\n",
       "Egyptian     1002\n",
       "Levantine    1002\n",
       "Gulf         1000\n",
       "Name: count, dtype: int64"
      ]
     },
     "execution_count": 17,
     "metadata": {},
     "output_type": "execute_result"
    }
   ],
   "source": [
    "label_counts_real"
   ]
  },
  {
   "cell_type": "markdown",
   "id": "56f0eaf7",
   "metadata": {
    "papermill": {
     "duration": 0.008273,
     "end_time": "2024-11-16T10:34:57.342658",
     "exception": false,
     "start_time": "2024-11-16T10:34:57.334385",
     "status": "completed"
    },
    "tags": []
   },
   "source": [
    "## Modeling"
   ]
  },
  {
   "cell_type": "code",
   "execution_count": 18,
   "id": "ff1ee63f",
   "metadata": {
    "execution": {
     "iopub.execute_input": "2024-11-16T10:34:57.361425Z",
     "iopub.status.busy": "2024-11-16T10:34:57.361016Z",
     "iopub.status.idle": "2024-11-16T10:34:57.368307Z",
     "shell.execute_reply": "2024-11-16T10:34:57.367033Z"
    },
    "papermill": {
     "duration": 0.019646,
     "end_time": "2024-11-16T10:34:57.370777",
     "exception": false,
     "start_time": "2024-11-16T10:34:57.351131",
     "status": "completed"
    },
    "tags": []
   },
   "outputs": [],
   "source": [
    "sdg_params = dict(alpha=1e-5, penalty='l2', loss='log')\n",
    "arabic_stop_words = [\n",
    "    \"و\", \"في\", \"على\", \"إلى\", \"عن\", \"من\", \"مع\", \"كان\", \"التي\", \"الذي\", \"هذا\",\n",
    "    \"هذه\", \"ذلك\", \"تلك\", \"كل\", \"كما\", \"قد\", \"لقد\", \"ليس\", \"هو\", \"هي\", \"هم\",\n",
    "    \"هن\", \"أنا\", \"نحن\", \"انت\", \"انتِ\", \"لكن\", \"ثم\", \"أو\", \"أيضا\", \"هناك\",\n",
    "    \"هنا\", \"قبل\", \"بعد\"\n",
    "]\n",
    "vectorizer_params = dict(\n",
    "    ngram_range=(1, 5),       # 1-5 grams\n",
    "    min_df=5,                 # Ignore terms that appear in fewer than 5 documents\n",
    "    max_df=0.8,               # Ignore terms that appear in more than 80% of documents\n",
    "    analyzer='word',          # Tokenizes at the word level (common for Arabic text)\n",
    "    stop_words=arabic_stop_words  # None by default, add Arabic stop words if needed\n",
    ")"
   ]
  },
  {
   "cell_type": "code",
   "execution_count": 19,
   "id": "117d97bb",
   "metadata": {
    "execution": {
     "iopub.execute_input": "2024-11-16T10:34:57.390045Z",
     "iopub.status.busy": "2024-11-16T10:34:57.389599Z",
     "iopub.status.idle": "2024-11-16T10:34:57.399304Z",
     "shell.execute_reply": "2024-11-16T10:34:57.398030Z"
    },
    "papermill": {
     "duration": 0.022326,
     "end_time": "2024-11-16T10:34:57.401716",
     "exception": false,
     "start_time": "2024-11-16T10:34:57.379390",
     "status": "completed"
    },
    "tags": []
   },
   "outputs": [],
   "source": [
    "def pipeline_creation(type_of_supervision, i, count=False):\n",
    "    # Define the list of classifiers and their names\n",
    "    classifiers = [\n",
    "        SGDClassifier(alpha=1e-5, penalty='l2', loss='log_loss', max_iter=1000),\n",
    "        LogisticRegression(max_iter=1000, solver='lbfgs', multi_class='multinomial'),\n",
    "        CalibratedClassifierCV(LinearSVC(), method='isotonic'),\n",
    "        CalibratedClassifierCV(PassiveAggressiveClassifier(max_iter=1000, C=0.5), method='isotonic'),\n",
    "        MultinomialNB(alpha=0.5, fit_prior=True)\n",
    "    ]\n",
    "    \n",
    "    classifier_names = [\n",
    "        \"SGDClassifier\",\n",
    "        \"LogisticRegression\",\n",
    "        \"Calibrated LinearSVC\",\n",
    "        \"Calibrated PassiveAggressiveClassifier\",\n",
    "        \"MultinomialNB\"\n",
    "    ]\n",
    "    \n",
    "    if count:\n",
    "        return len(classifiers)\n",
    "    \n",
    "    # Select classifier based on type of supervision\n",
    "    elif type_of_supervision == \"supervised\":\n",
    "        pipeline = Pipeline([\n",
    "            ('vect', CountVectorizer(**vectorizer_params)),\n",
    "            ('tfidf', TfidfTransformer()),\n",
    "            ('clf', classifiers[i])\n",
    "        ])\n",
    "        return pipeline, classifier_names[i]\n",
    "    \n",
    "    else:  # self-supervised\n",
    "        st_pipeline = Pipeline([\n",
    "            ('vect', CountVectorizer(**vectorizer_params)),\n",
    "            ('tfidf', TfidfTransformer()),\n",
    "            ('clf', SelfTrainingClassifier(classifiers[i], verbose=True))\n",
    "        ])\n",
    "        return st_pipeline, f\"SelfTrainingClassifier with {classifier_names[i]}\"\n"
   ]
  },
  {
   "cell_type": "code",
   "execution_count": 20,
   "id": "5a379601",
   "metadata": {
    "execution": {
     "iopub.execute_input": "2024-11-16T10:34:57.423927Z",
     "iopub.status.busy": "2024-11-16T10:34:57.423310Z",
     "iopub.status.idle": "2024-11-16T10:34:57.433768Z",
     "shell.execute_reply": "2024-11-16T10:34:57.430406Z"
    },
    "papermill": {
     "duration": 0.026372,
     "end_time": "2024-11-16T10:34:57.437094",
     "exception": false,
     "start_time": "2024-11-16T10:34:57.410722",
     "status": "completed"
    },
    "tags": []
   },
   "outputs": [],
   "source": [
    "def eval_and_print_metrics(clf, X_train, y_train, X_test, y_test):\n",
    "    print(\"Number of training samples:\", len(X_train))\n",
    "    print(\"Unlabeled samples in training set:\",\n",
    "          sum(1 for x in y_train if x == -1))\n",
    "    clf.fit(X_train, y_train)\n",
    "    y_pred = clf.predict(X_test)\n",
    "    print(\"Micro-averaged F1 score on test set: \"\n",
    "          \"%0.3f\" % f1_score(y_test, y_pred, average='micro'))\n",
    "    print(\"-\" * 10)\n",
    "    print()"
   ]
  },
  {
   "cell_type": "code",
   "execution_count": 21,
   "id": "75685470",
   "metadata": {
    "execution": {
     "iopub.execute_input": "2024-11-16T10:34:57.458213Z",
     "iopub.status.busy": "2024-11-16T10:34:57.457747Z",
     "iopub.status.idle": "2024-11-16T10:34:57.501764Z",
     "shell.execute_reply": "2024-11-16T10:34:57.500057Z"
    },
    "papermill": {
     "duration": 0.057993,
     "end_time": "2024-11-16T10:34:57.505089",
     "exception": false,
     "start_time": "2024-11-16T10:34:57.447096",
     "status": "completed"
    },
    "tags": []
   },
   "outputs": [
    {
     "name": "stdout",
     "output_type": "stream",
     "text": [
      "Training set size: (4006, 2)\n",
      "Test set size: (1002, 2)\n"
     ]
    }
   ],
   "source": [
    "from sklearn.model_selection import train_test_split\n",
    "import pandas as pd\n",
    "\n",
    "# Assuming data_real and data_generated are the dataframes with 'sent' and 'label' columns\n",
    "\n",
    "# Set the ratio of real to generated data in the training set\n",
    "real_ratio = 0.5  # Example: real_ratio% real and 100%-real_ratio% generated in the training set\n",
    "\n",
    "# Step 1: Split the real data into train and test (all test data will come from real data)\n",
    "data_real_train, data_real_test = train_test_split(data_real, test_size=0.2, stratify=data_real['label'], random_state=42)\n",
    "\n",
    "# Step 2: Calculate the number of real and generated samples for the training set\n",
    "num_real_train = int(real_ratio * len(data_real_train))  # Number of samples to take from real data for training\n",
    "num_generated_train = len(data_real_train) - num_real_train  # Remaining samples to take from generated data\n",
    "\n",
    "# Step 3: Subsample the training data from real and generated data according to the specified ratio\n",
    "data_real_train_subsample, _ = train_test_split(data_real_train, train_size=num_real_train, stratify=data_real_train['label'], random_state=42)\n",
    "data_generated_train_subsample, _ = train_test_split(data_generated, train_size=num_generated_train, stratify=data_generated['label'], random_state=42)\n",
    "\n",
    "# Step 4: Concatenate the real and generated subsamples to create the final training set\n",
    "train_data = pd.concat([data_real_train_subsample, data_generated_train_subsample]).sample(frac=1, random_state=42).reset_index(drop=True)\n",
    "\n",
    "# Step 5: Use `data_real_test` as the test set (all real data)\n",
    "\n",
    "# Now, train_data contains the specified ratio of real to generated data, and data_real_test is the test set with only real data\n",
    "print(f\"Training set size: {train_data.shape}\")\n",
    "print(f\"Test set size: {data_real_test.shape}\")\n"
   ]
  },
  {
   "cell_type": "code",
   "execution_count": 22,
   "id": "d16a3068",
   "metadata": {
    "execution": {
     "iopub.execute_input": "2024-11-16T10:34:57.525373Z",
     "iopub.status.busy": "2024-11-16T10:34:57.524762Z",
     "iopub.status.idle": "2024-11-16T10:35:05.361621Z",
     "shell.execute_reply": "2024-11-16T10:35:05.360389Z"
    },
    "papermill": {
     "duration": 7.850193,
     "end_time": "2024-11-16T10:35:05.364120",
     "exception": false,
     "start_time": "2024-11-16T10:34:57.513927",
     "status": "completed"
    },
    "tags": []
   },
   "outputs": [
    {
     "name": "stdout",
     "output_type": "stream",
     "text": [
      "****************************************************************************************************\n",
      "Supervised training on 100% of the data using SGDClassifier:\n",
      "Number of training samples: 4006\n",
      "Unlabeled samples in training set: 0\n",
      "Micro-averaged F1 score on test set: 0.607\n",
      "----------\n",
      "\n",
      "              precision    recall  f1-score   support\n",
      "\n",
      "    Egyptian       0.67      0.64      0.66       201\n",
      "        Gulf       0.46      0.41      0.44       200\n",
      "       Iraqi       0.71      0.57      0.63       200\n",
      "   Levantine       0.63      0.60      0.62       201\n",
      "    Maghrebi       0.57      0.81      0.67       200\n",
      "\n",
      "    accuracy                           0.61      1002\n",
      "   macro avg       0.61      0.61      0.60      1002\n",
      "weighted avg       0.61      0.61      0.60      1002\n",
      "\n",
      "Supervised training on 20% of the training data using SGDClassifier:\n",
      "Number of training samples: 761\n",
      "Unlabeled samples in training set: 0\n",
      "Micro-averaged F1 score on test set: 0.437\n",
      "----------\n",
      "\n",
      "              precision    recall  f1-score   support\n",
      "\n",
      "    Egyptian       0.45      0.42      0.43       201\n",
      "        Gulf       0.54      0.10      0.16       200\n",
      "       Iraqi       0.31      0.77      0.44       200\n",
      "   Levantine       0.55      0.33      0.41       201\n",
      "    Maghrebi       0.72      0.57      0.64       200\n",
      "\n",
      "    accuracy                           0.44      1002\n",
      "   macro avg       0.51      0.44      0.42      1002\n",
      "weighted avg       0.51      0.44      0.42      1002\n",
      "\n",
      "SelfTrainingClassifier with SGDClassifier on 20% labeled training data (rest unlabeled):\n",
      "Number of training samples: 4006\n",
      "Unlabeled samples in training set: 3245\n",
      "End of iteration 1, added 1478 new labels.\n",
      "End of iteration 2, added 317 new labels.\n",
      "End of iteration 3, added 142 new labels.\n",
      "End of iteration 4, added 80 new labels.\n",
      "End of iteration 5, added 60 new labels.\n",
      "End of iteration 6, added 29 new labels.\n",
      "End of iteration 7, added 27 new labels.\n",
      "End of iteration 8, added 28 new labels.\n",
      "End of iteration 9, added 5 new labels.\n",
      "End of iteration 10, added 8 new labels.\n",
      "Micro-averaged F1 score on test set: 0.494\n",
      "----------\n",
      "\n",
      "              precision    recall  f1-score   support\n",
      "\n",
      "    Egyptian       0.52      0.63      0.57       201\n",
      "        Gulf       0.34      0.28      0.31       200\n",
      "       Iraqi       0.54      0.40      0.46       200\n",
      "   Levantine       0.59      0.41      0.49       201\n",
      "    Maghrebi       0.49      0.74      0.59       200\n",
      "\n",
      "    accuracy                           0.49      1002\n",
      "   macro avg       0.50      0.49      0.48      1002\n",
      "weighted avg       0.50      0.49      0.48      1002\n",
      "\n",
      "****************************************************************************************************\n",
      "Supervised training on 100% of the data using LogisticRegression:\n",
      "Number of training samples: 4006\n",
      "Unlabeled samples in training set: 0\n",
      "Micro-averaged F1 score on test set: 0.619\n",
      "----------\n",
      "\n",
      "              precision    recall  f1-score   support\n",
      "\n",
      "    Egyptian       0.68      0.67      0.67       201\n",
      "        Gulf       0.40      0.56      0.47       200\n",
      "       Iraqi       0.69      0.56      0.62       200\n",
      "   Levantine       0.64      0.59      0.61       201\n",
      "    Maghrebi       0.80      0.72      0.76       200\n",
      "\n",
      "    accuracy                           0.62      1002\n",
      "   macro avg       0.64      0.62      0.63      1002\n",
      "weighted avg       0.64      0.62      0.63      1002\n",
      "\n",
      "Supervised training on 20% of the training data using LogisticRegression:\n",
      "Number of training samples: 772\n",
      "Unlabeled samples in training set: 0\n",
      "Micro-averaged F1 score on test set: 0.432\n",
      "----------\n",
      "\n",
      "              precision    recall  f1-score   support\n",
      "\n",
      "    Egyptian       0.61      0.45      0.52       201\n",
      "        Gulf       0.26      0.58      0.36       200\n",
      "       Iraqi       0.44      0.23      0.30       200\n",
      "   Levantine       0.56      0.40      0.47       201\n",
      "    Maghrebi       0.62      0.51      0.56       200\n",
      "\n",
      "    accuracy                           0.43      1002\n",
      "   macro avg       0.50      0.43      0.44      1002\n",
      "weighted avg       0.50      0.43      0.44      1002\n",
      "\n",
      "SelfTrainingClassifier with LogisticRegression on 20% labeled training data (rest unlabeled):\n",
      "Number of training samples: 4006\n",
      "Unlabeled samples in training set: 3234\n",
      "End of iteration 1, added 28 new labels.\n",
      "End of iteration 2, added 11 new labels.\n",
      "End of iteration 3, added 10 new labels.\n",
      "End of iteration 4, added 9 new labels.\n",
      "End of iteration 5, added 8 new labels.\n",
      "End of iteration 6, added 5 new labels.\n",
      "Micro-averaged F1 score on test set: 0.530\n",
      "----------\n",
      "\n",
      "              precision    recall  f1-score   support\n",
      "\n",
      "    Egyptian       0.71      0.46      0.56       201\n",
      "        Gulf       0.41      0.29      0.34       200\n",
      "       Iraqi       0.40      0.64      0.49       200\n",
      "   Levantine       0.54      0.58      0.56       201\n",
      "    Maghrebi       0.70      0.68      0.69       200\n",
      "\n",
      "    accuracy                           0.53      1002\n",
      "   macro avg       0.55      0.53      0.53      1002\n",
      "weighted avg       0.55      0.53      0.53      1002\n",
      "\n",
      "****************************************************************************************************\n",
      "Supervised training on 100% of the data using Calibrated LinearSVC:\n",
      "Number of training samples: 4006\n",
      "Unlabeled samples in training set: 0\n",
      "Micro-averaged F1 score on test set: 0.614\n",
      "----------\n",
      "\n",
      "              precision    recall  f1-score   support\n",
      "\n",
      "    Egyptian       0.68      0.63      0.66       201\n",
      "        Gulf       0.47      0.47      0.47       200\n",
      "       Iraqi       0.73      0.57      0.64       200\n",
      "   Levantine       0.63      0.59      0.61       201\n",
      "    Maghrebi       0.59      0.81      0.68       200\n",
      "\n",
      "    accuracy                           0.61      1002\n",
      "   macro avg       0.62      0.61      0.61      1002\n",
      "weighted avg       0.62      0.61      0.61      1002\n",
      "\n",
      "Supervised training on 20% of the training data using Calibrated LinearSVC:\n",
      "Number of training samples: 805\n",
      "Unlabeled samples in training set: 0\n",
      "Micro-averaged F1 score on test set: 0.441\n",
      "----------\n",
      "\n",
      "              precision    recall  f1-score   support\n",
      "\n",
      "    Egyptian       0.50      0.47      0.48       201\n",
      "        Gulf       0.25      0.62      0.36       200\n",
      "       Iraqi       0.49      0.27      0.34       200\n",
      "   Levantine       0.76      0.39      0.52       201\n",
      "    Maghrebi       0.83      0.46      0.59       200\n",
      "\n",
      "    accuracy                           0.44      1002\n",
      "   macro avg       0.57      0.44      0.46      1002\n",
      "weighted avg       0.57      0.44      0.46      1002\n",
      "\n",
      "SelfTrainingClassifier with Calibrated LinearSVC on 20% labeled training data (rest unlabeled):\n",
      "Number of training samples: 4006\n",
      "Unlabeled samples in training set: 3201\n",
      "End of iteration 1, added 216 new labels.\n",
      "End of iteration 2, added 157 new labels.\n",
      "End of iteration 3, added 108 new labels.\n",
      "End of iteration 4, added 83 new labels.\n",
      "End of iteration 5, added 66 new labels.\n",
      "End of iteration 6, added 79 new labels.\n",
      "End of iteration 7, added 57 new labels.\n",
      "End of iteration 8, added 48 new labels.\n",
      "End of iteration 9, added 39 new labels.\n",
      "End of iteration 10, added 32 new labels.\n",
      "Micro-averaged F1 score on test set: 0.530\n",
      "----------\n",
      "\n",
      "              precision    recall  f1-score   support\n",
      "\n",
      "    Egyptian       0.61      0.64      0.62       201\n",
      "        Gulf       0.39      0.24      0.30       200\n",
      "       Iraqi       0.55      0.47      0.51       200\n",
      "   Levantine       0.60      0.53      0.56       201\n",
      "    Maghrebi       0.48      0.76      0.59       200\n",
      "\n",
      "    accuracy                           0.53      1002\n",
      "   macro avg       0.53      0.53      0.52      1002\n",
      "weighted avg       0.53      0.53      0.52      1002\n",
      "\n",
      "****************************************************************************************************\n",
      "Supervised training on 100% of the data using Calibrated PassiveAggressiveClassifier:\n",
      "Number of training samples: 4006\n",
      "Unlabeled samples in training set: 0\n",
      "Micro-averaged F1 score on test set: 0.594\n",
      "----------\n",
      "\n",
      "              precision    recall  f1-score   support\n",
      "\n",
      "    Egyptian       0.65      0.62      0.64       201\n",
      "        Gulf       0.44      0.45      0.45       200\n",
      "       Iraqi       0.73      0.54      0.62       200\n",
      "   Levantine       0.62      0.56      0.59       201\n",
      "    Maghrebi       0.57      0.80      0.67       200\n",
      "\n",
      "    accuracy                           0.59      1002\n",
      "   macro avg       0.60      0.59      0.59      1002\n",
      "weighted avg       0.60      0.59      0.59      1002\n",
      "\n",
      "Supervised training on 20% of the training data using Calibrated PassiveAggressiveClassifier:\n",
      "Number of training samples: 786\n",
      "Unlabeled samples in training set: 0\n",
      "Micro-averaged F1 score on test set: 0.432\n",
      "----------\n",
      "\n",
      "              precision    recall  f1-score   support\n",
      "\n",
      "    Egyptian       0.69      0.43      0.53       201\n",
      "        Gulf       0.26      0.61      0.37       200\n",
      "       Iraqi       0.42      0.28      0.33       200\n",
      "   Levantine       0.50      0.34      0.41       201\n",
      "    Maghrebi       0.71      0.49      0.58       200\n",
      "\n",
      "    accuracy                           0.43      1002\n",
      "   macro avg       0.52      0.43      0.44      1002\n",
      "weighted avg       0.52      0.43      0.44      1002\n",
      "\n",
      "SelfTrainingClassifier with Calibrated PassiveAggressiveClassifier on 20% labeled training data (rest unlabeled):\n",
      "Number of training samples: 4006\n",
      "Unlabeled samples in training set: 3220\n",
      "End of iteration 1, added 221 new labels.\n",
      "End of iteration 2, added 173 new labels.\n",
      "End of iteration 3, added 166 new labels.\n",
      "End of iteration 4, added 168 new labels.\n",
      "End of iteration 5, added 140 new labels.\n",
      "End of iteration 6, added 105 new labels.\n",
      "End of iteration 7, added 89 new labels.\n",
      "End of iteration 8, added 114 new labels.\n",
      "End of iteration 9, added 94 new labels.\n",
      "End of iteration 10, added 61 new labels.\n",
      "Micro-averaged F1 score on test set: 0.530\n",
      "----------\n",
      "\n",
      "              precision    recall  f1-score   support\n",
      "\n",
      "    Egyptian       0.59      0.58      0.58       201\n",
      "        Gulf       0.38      0.35      0.37       200\n",
      "       Iraqi       0.63      0.51      0.56       200\n",
      "   Levantine       0.55      0.45      0.50       201\n",
      "    Maghrebi       0.52      0.76      0.62       200\n",
      "\n",
      "    accuracy                           0.53      1002\n",
      "   macro avg       0.53      0.53      0.53      1002\n",
      "weighted avg       0.53      0.53      0.53      1002\n",
      "\n",
      "****************************************************************************************************\n",
      "Supervised training on 100% of the data using MultinomialNB:\n",
      "Number of training samples: 4006\n",
      "Unlabeled samples in training set: 0\n",
      "Micro-averaged F1 score on test set: 0.618\n",
      "----------\n",
      "\n",
      "              precision    recall  f1-score   support\n",
      "\n",
      "    Egyptian       0.66      0.69      0.67       201\n",
      "        Gulf       0.49      0.40      0.44       200\n",
      "       Iraqi       0.51      0.67      0.58       200\n",
      "   Levantine       0.63      0.61      0.62       201\n",
      "    Maghrebi       0.83      0.73      0.78       200\n",
      "\n",
      "    accuracy                           0.62      1002\n",
      "   macro avg       0.62      0.62      0.62      1002\n",
      "weighted avg       0.62      0.62      0.62      1002\n",
      "\n",
      "Supervised training on 20% of the training data using MultinomialNB:\n",
      "Number of training samples: 815\n",
      "Unlabeled samples in training set: 0\n",
      "Micro-averaged F1 score on test set: 0.465\n",
      "----------\n",
      "\n",
      "              precision    recall  f1-score   support\n",
      "\n",
      "    Egyptian       0.51      0.47      0.49       201\n",
      "        Gulf       0.41      0.24      0.30       200\n",
      "       Iraqi       0.32      0.70      0.44       200\n",
      "   Levantine       0.67      0.33      0.44       201\n",
      "    Maghrebi       0.74      0.58      0.65       200\n",
      "\n",
      "    accuracy                           0.47      1002\n",
      "   macro avg       0.53      0.47      0.46      1002\n",
      "weighted avg       0.53      0.47      0.46      1002\n",
      "\n",
      "SelfTrainingClassifier with MultinomialNB on 20% labeled training data (rest unlabeled):\n",
      "Number of training samples: 4006\n",
      "Unlabeled samples in training set: 3191\n",
      "End of iteration 1, added 66 new labels.\n",
      "End of iteration 2, added 76 new labels.\n",
      "End of iteration 3, added 59 new labels.\n",
      "End of iteration 4, added 34 new labels.\n",
      "End of iteration 5, added 26 new labels.\n",
      "End of iteration 6, added 16 new labels.\n",
      "End of iteration 7, added 12 new labels.\n",
      "End of iteration 8, added 9 new labels.\n",
      "End of iteration 9, added 6 new labels.\n",
      "End of iteration 10, added 7 new labels.\n",
      "Micro-averaged F1 score on test set: 0.501\n",
      "----------\n",
      "\n",
      "              precision    recall  f1-score   support\n",
      "\n",
      "    Egyptian       0.50      0.62      0.55       201\n",
      "        Gulf       0.37      0.18      0.25       200\n",
      "       Iraqi       0.64      0.47      0.54       200\n",
      "   Levantine       0.66      0.36      0.47       201\n",
      "    Maghrebi       0.44      0.88      0.58       200\n",
      "\n",
      "    accuracy                           0.50      1002\n",
      "   macro avg       0.52      0.50      0.48      1002\n",
      "weighted avg       0.52      0.50      0.48      1002\n",
      "\n"
     ]
    }
   ],
   "source": [
    "# Main code to iterate over classifiers and display results\n",
    "if __name__ == \"__main__\":\n",
    "    results = []\n",
    "#     # Encode labels to handle text labels properly in sklearn classifiers\n",
    "#     label_encoder = LabelEncoder()\n",
    "#     y_encoded = label_encoder.fit_transform(data.label)  # Fit on full set of labels\n",
    "\n",
    "#     X = data.sent\n",
    "#     y = y_encoded\n",
    "#     X_train, X_test, y_train, y_test = train_test_split(X, y, stratify=y, random_state=42)\n",
    "\n",
    "    # Step 1: Encode labels\n",
    "    label_encoder = LabelEncoder()\n",
    "\n",
    "    # Apply label encoding to the combined labels in both train and test sets\n",
    "    train_data['label'] = label_encoder.fit_transform(train_data['label'])\n",
    "    data_real_test['label'] = label_encoder.transform(data_real_test['label'])  # Transform using the same encoder\n",
    "\n",
    "    # Step 2: Define features (X) and labels (y) for train and test sets\n",
    "    X_train = train_data['sent']\n",
    "    y_train = train_data['label']\n",
    "    X_test = data_real_test['sent']\n",
    "    y_test = data_real_test['label']\n",
    "    \n",
    "    # Iterate over each classifier in the pipeline\n",
    "    for i in range(pipeline_creation(0, 0, True)):\n",
    "\n",
    "        print(100 * \"*\")\n",
    "        \n",
    "        # Supervised pipeline\n",
    "        pipeline, classifier_name = pipeline_creation(\"supervised\", i)\n",
    "        print(f\"Supervised training on 100% of the data using {classifier_name}:\")\n",
    "        eval_and_print_metrics(pipeline, X_train, y_train, X_test, y_test)\n",
    "        \n",
    "        # Decode labels to show original values in the classification report\n",
    "        y_test_decoded = label_encoder.inverse_transform(y_test)\n",
    "        y_pred = pipeline.predict(X_test)\n",
    "        y_pred_decoded = label_encoder.inverse_transform(y_pred)\n",
    "        report = classification_report(y_test_decoded, y_pred_decoded, output_dict=True)\n",
    "        print(classification_report(y_test_decoded, y_pred_decoded))\n",
    "        \n",
    "        # Save results for Supervised 100%\n",
    "        results.append({\n",
    "            'Classifier': classifier_name,\n",
    "            'Setting': 'Supervised 100%',\n",
    "            'Accuracy': report['accuracy'],\n",
    "            'F1-Score': report['macro avg']['f1-score']\n",
    "        })\n",
    "\n",
    "        # 20% labeled data setup\n",
    "        y_mask = np.random.rand(len(y_train)) < 0.2  # Random mask for 20% of the data\n",
    "        X_20, y_20 = map(list, zip(*((x, y) for x, y, m in zip(X_train, y_train, y_mask) if m)))\n",
    "        print(f\"Supervised training on 20% of the training data using {classifier_name}:\")\n",
    "        eval_and_print_metrics(pipeline, X_20, y_20, X_test, y_test)\n",
    "\n",
    "        # Decode labels for partial training classification report\n",
    "        y_pred_partial = pipeline.predict(X_test)\n",
    "        y_pred_partial_decoded = label_encoder.inverse_transform(y_pred_partial)\n",
    "        report_partial = classification_report(y_test_decoded, y_pred_partial_decoded, output_dict=True)\n",
    "        print(classification_report(y_test_decoded, y_pred_partial_decoded))\n",
    "\n",
    "        # Save results for Supervised 20%\n",
    "        results.append({\n",
    "            'Classifier': classifier_name,\n",
    "            'Setting': 'Supervised 20%',\n",
    "            'Accuracy': report_partial['accuracy'],\n",
    "            'F1-Score': report_partial['macro avg']['f1-score']\n",
    "        })\n",
    "\n",
    "        # Semi-supervised pipeline with self-training\n",
    "        st_pipeline, st_classifier_name = pipeline_creation(\"semi-supervised\", i)\n",
    "        y_train_semi = np.copy(y_train)  # Copy to modify labels for self-training\n",
    "        y_train_semi[~y_mask] = -1  # Unlabel the non-masked subset\n",
    "\n",
    "        print(f\"{st_classifier_name} on 20% labeled training data (rest unlabeled):\")\n",
    "        eval_and_print_metrics(st_pipeline, X_train, y_train_semi, X_test, y_test)\n",
    "\n",
    "        # Decode labels for semi-supervised classification report\n",
    "        y_pred_semi = st_pipeline.predict(X_test)\n",
    "        y_pred_semi_decoded = label_encoder.inverse_transform(y_pred_semi)\n",
    "        report_semi = classification_report(y_test_decoded, y_pred_semi_decoded, output_dict=True)\n",
    "        print(classification_report(y_test_decoded, y_pred_semi_decoded))\n",
    "\n",
    "        # Save results for Self-Training\n",
    "        results.append({\n",
    "            'Classifier': classifier_name,\n",
    "            'Setting': 'Self-Training',\n",
    "            'Accuracy': report_semi['accuracy'],\n",
    "            'F1-Score': report_semi['macro avg']['f1-score']\n",
    "        })\n"
   ]
  },
  {
   "cell_type": "code",
   "execution_count": 23,
   "id": "7dc18e7f",
   "metadata": {
    "execution": {
     "iopub.execute_input": "2024-11-16T10:35:05.387633Z",
     "iopub.status.busy": "2024-11-16T10:35:05.387174Z",
     "iopub.status.idle": "2024-11-16T10:35:06.238572Z",
     "shell.execute_reply": "2024-11-16T10:35:06.237177Z"
    },
    "papermill": {
     "duration": 0.866677,
     "end_time": "2024-11-16T10:35:06.241761",
     "exception": false,
     "start_time": "2024-11-16T10:35:05.375084",
     "status": "completed"
    },
    "tags": []
   },
   "outputs": [
    {
     "data": {
      "image/png": "[encoded data removed]",
      "text/plain": [
       "<Figure size 1200x1000 with 2 Axes>"
      ]
     },
     "metadata": {},
     "output_type": "display_data"
    }
   ],
   "source": [
    "\n",
    "# Plotting\n",
    "results_df = pd.DataFrame.from_dict(results)\n",
    "fig, axes = plt.subplots(2, 1, figsize=(12, 10))\n",
    "\n",
    "# Accuracy plot\n",
    "accuracy_df = results_df.pivot(index=\"Classifier\", columns=\"Setting\", values=\"Accuracy\")\n",
    "accuracy_df.plot(kind=\"bar\", ax=axes[0], color=[\"#4daf4a\", \"#377eb8\", \"#e41a1c\"])\n",
    "axes[0].set_title(\"Accuracy Comparison by Classifier and Setting\")\n",
    "axes[0].set_ylabel(\"Accuracy\")\n",
    "axes[0].set_xlabel(\"Classifier\")\n",
    "axes[0].legend(title=\"Setting\", loc=\"center left\", bbox_to_anchor=(1.0, 0.5))\n",
    "axes[0].tick_params(axis='x', rotation=45)\n",
    "\n",
    "# F1-Score plot\n",
    "f1_df = results_df.pivot(index=\"Classifier\", columns=\"Setting\", values=\"F1-Score\")\n",
    "f1_df.plot(kind=\"bar\", ax=axes[1], color=[\"#4daf4a\", \"#377eb8\", \"#e41a1c\"])\n",
    "axes[1].set_title(\"F1-Score Comparison by Classifier and Setting\")\n",
    "axes[1].set_ylabel(\"F1-Score\")\n",
    "axes[1].set_xlabel(\"Classifier\")\n",
    "axes[1].legend(title=\"Setting\", loc=\"center left\", bbox_to_anchor=(1.0, 0.5))\n",
    "axes[1].tick_params(axis='x', rotation=45)\n",
    "\n",
    "# Adjust layout\n",
    "plt.tight_layout()\n",
    "plt.show()\n"
   ]
  },
  {
   "cell_type": "code",
   "execution_count": 24,
   "id": "3d9275a9",
   "metadata": {
    "execution": {
     "iopub.execute_input": "2024-11-16T10:35:06.272040Z",
     "iopub.status.busy": "2024-11-16T10:35:06.271596Z",
     "iopub.status.idle": "2024-11-16T10:35:06.293201Z",
     "shell.execute_reply": "2024-11-16T10:35:06.291988Z"
    },
    "papermill": {
     "duration": 0.038868,
     "end_time": "2024-11-16T10:35:06.295999",
     "exception": false,
     "start_time": "2024-11-16T10:35:06.257131",
     "status": "completed"
    },
    "tags": []
   },
   "outputs": [
    {
     "name": "stdout",
     "output_type": "stream",
     "text": [
      "Comparison of Classifier Performance by Setting\n"
     ]
    },
    {
     "data": {
      "text/html": [
       "<div>\n",
       "<style scoped>\n",
       "    .dataframe tbody tr th:only-of-type {\n",
       "        vertical-align: middle;\n",
       "    }\n",
       "\n",
       "    .dataframe tbody tr th {\n",
       "        vertical-align: top;\n",
       "    }\n",
       "\n",
       "    .dataframe thead tr th {\n",
       "        text-align: left;\n",
       "    }\n",
       "\n",
       "    .dataframe thead tr:last-of-type th {\n",
       "        text-align: right;\n",
       "    }\n",
       "</style>\n",
       "<table border=\"1\" class=\"dataframe\">\n",
       "  <thead>\n",
       "    <tr>\n",
       "      <th></th>\n",
       "      <th colspan=\"3\" halign=\"left\">Accuracy</th>\n",
       "    </tr>\n",
       "    <tr>\n",
       "      <th>Setting</th>\n",
       "      <th>Self-Training</th>\n",
       "      <th>Supervised 100%</th>\n",
       "      <th>Supervised 20%</th>\n",
       "    </tr>\n",
       "    <tr>\n",
       "      <th>Classifier</th>\n",
       "      <th></th>\n",
       "      <th></th>\n",
       "      <th></th>\n",
       "    </tr>\n",
       "  </thead>\n",
       "  <tbody>\n",
       "    <tr>\n",
       "      <th>Calibrated LinearSVC</th>\n",
       "      <td>0.529940</td>\n",
       "      <td>0.613772</td>\n",
       "      <td>0.441118</td>\n",
       "    </tr>\n",
       "    <tr>\n",
       "      <th>Calibrated PassiveAggressiveClassifier</th>\n",
       "      <td>0.529940</td>\n",
       "      <td>0.593812</td>\n",
       "      <td>0.432136</td>\n",
       "    </tr>\n",
       "    <tr>\n",
       "      <th>LogisticRegression</th>\n",
       "      <td>0.529940</td>\n",
       "      <td>0.618762</td>\n",
       "      <td>0.432136</td>\n",
       "    </tr>\n",
       "    <tr>\n",
       "      <th>MultinomialNB</th>\n",
       "      <td>0.500998</td>\n",
       "      <td>0.617764</td>\n",
       "      <td>0.465070</td>\n",
       "    </tr>\n",
       "    <tr>\n",
       "      <th>SGDClassifier</th>\n",
       "      <td>0.494012</td>\n",
       "      <td>0.606786</td>\n",
       "      <td>0.437126</td>\n",
       "    </tr>\n",
       "  </tbody>\n",
       "</table>\n",
       "</div>"
      ],
      "text/plain": [
       "                                            Accuracy                  \\\n",
       "Setting                                Self-Training Supervised 100%   \n",
       "Classifier                                                             \n",
       "Calibrated LinearSVC                        0.529940        0.613772   \n",
       "Calibrated PassiveAggressiveClassifier      0.529940        0.593812   \n",
       "LogisticRegression                          0.529940        0.618762   \n",
       "MultinomialNB                               0.500998        0.617764   \n",
       "SGDClassifier                               0.494012        0.606786   \n",
       "\n",
       "                                                       \n",
       "Setting                                Supervised 20%  \n",
       "Classifier                                             \n",
       "Calibrated LinearSVC                         0.441118  \n",
       "Calibrated PassiveAggressiveClassifier       0.432136  \n",
       "LogisticRegression                           0.432136  \n",
       "MultinomialNB                                0.465070  \n",
       "SGDClassifier                                0.437126  "
      ]
     },
     "execution_count": 24,
     "metadata": {},
     "output_type": "execute_result"
    }
   ],
   "source": [
    "# Pivot the DataFrame to reorganize for comparison\n",
    "comparison_df = results_df.pivot(index=\"Classifier\", columns=\"Setting\", values=[\"Accuracy\"])\n",
    "\n",
    "# Display the formatted table\n",
    "print(\"Comparison of Classifier Performance by Setting\")\n",
    "comparison_df"
   ]
  },
  {
   "cell_type": "code",
   "execution_count": 25,
   "id": "c838dfea",
   "metadata": {
    "execution": {
     "iopub.execute_input": "2024-11-16T10:35:06.325413Z",
     "iopub.status.busy": "2024-11-16T10:35:06.324971Z",
     "iopub.status.idle": "2024-11-16T10:35:06.346596Z",
     "shell.execute_reply": "2024-11-16T10:35:06.345441Z"
    },
    "papermill": {
     "duration": 0.038958,
     "end_time": "2024-11-16T10:35:06.349373",
     "exception": false,
     "start_time": "2024-11-16T10:35:06.310415",
     "status": "completed"
    },
    "tags": []
   },
   "outputs": [
    {
     "name": "stdout",
     "output_type": "stream",
     "text": [
      "Comparison of Classifier Performance by Setting\n"
     ]
    },
    {
     "data": {
      "text/html": [
       "<div>\n",
       "<style scoped>\n",
       "    .dataframe tbody tr th:only-of-type {\n",
       "        vertical-align: middle;\n",
       "    }\n",
       "\n",
       "    .dataframe tbody tr th {\n",
       "        vertical-align: top;\n",
       "    }\n",
       "\n",
       "    .dataframe thead tr th {\n",
       "        text-align: left;\n",
       "    }\n",
       "\n",
       "    .dataframe thead tr:last-of-type th {\n",
       "        text-align: right;\n",
       "    }\n",
       "</style>\n",
       "<table border=\"1\" class=\"dataframe\">\n",
       "  <thead>\n",
       "    <tr>\n",
       "      <th></th>\n",
       "      <th colspan=\"3\" halign=\"left\">F1-Score</th>\n",
       "    </tr>\n",
       "    <tr>\n",
       "      <th>Setting</th>\n",
       "      <th>Self-Training</th>\n",
       "      <th>Supervised 100%</th>\n",
       "      <th>Supervised 20%</th>\n",
       "    </tr>\n",
       "    <tr>\n",
       "      <th>Classifier</th>\n",
       "      <th></th>\n",
       "      <th></th>\n",
       "      <th></th>\n",
       "    </tr>\n",
       "  </thead>\n",
       "  <tbody>\n",
       "    <tr>\n",
       "      <th>Calibrated LinearSVC</th>\n",
       "      <td>0.516877</td>\n",
       "      <td>0.612138</td>\n",
       "      <td>0.458914</td>\n",
       "    </tr>\n",
       "    <tr>\n",
       "      <th>Calibrated PassiveAggressiveClassifier</th>\n",
       "      <td>0.525230</td>\n",
       "      <td>0.592180</td>\n",
       "      <td>0.444578</td>\n",
       "    </tr>\n",
       "    <tr>\n",
       "      <th>LogisticRegression</th>\n",
       "      <td>0.528035</td>\n",
       "      <td>0.625990</td>\n",
       "      <td>0.439741</td>\n",
       "    </tr>\n",
       "    <tr>\n",
       "      <th>MultinomialNB</th>\n",
       "      <td>0.478367</td>\n",
       "      <td>0.617416</td>\n",
       "      <td>0.464432</td>\n",
       "    </tr>\n",
       "    <tr>\n",
       "      <th>SGDClassifier</th>\n",
       "      <td>0.482745</td>\n",
       "      <td>0.603199</td>\n",
       "      <td>0.417271</td>\n",
       "    </tr>\n",
       "  </tbody>\n",
       "</table>\n",
       "</div>"
      ],
      "text/plain": [
       "                                            F1-Score                  \\\n",
       "Setting                                Self-Training Supervised 100%   \n",
       "Classifier                                                             \n",
       "Calibrated LinearSVC                        0.516877        0.612138   \n",
       "Calibrated PassiveAggressiveClassifier      0.525230        0.592180   \n",
       "LogisticRegression                          0.528035        0.625990   \n",
       "MultinomialNB                               0.478367        0.617416   \n",
       "SGDClassifier                               0.482745        0.603199   \n",
       "\n",
       "                                                       \n",
       "Setting                                Supervised 20%  \n",
       "Classifier                                             \n",
       "Calibrated LinearSVC                         0.458914  \n",
       "Calibrated PassiveAggressiveClassifier       0.444578  \n",
       "LogisticRegression                           0.439741  \n",
       "MultinomialNB                                0.464432  \n",
       "SGDClassifier                                0.417271  "
      ]
     },
     "execution_count": 25,
     "metadata": {},
     "output_type": "execute_result"
    }
   ],
   "source": [
    "# Pivot the DataFrame to reorganize for comparison\n",
    "comparison_df = results_df.pivot(index=\"Classifier\", columns=\"Setting\", values=[\"F1-Score\"])\n",
    "\n",
    "# Display the formatted table\n",
    "print(\"Comparison of Classifier Performance by Setting\")\n",
    "comparison_df"
   ]
  }
 ],
 "metadata": {
  "kaggle": {
   "accelerator": "none",
   "dataSources": [
    {
     "datasetId": 6068996,
     "sourceId": 9883544,
     "sourceType": "datasetVersion"
    },
    {
     "datasetId": 6071343,
     "sourceId": 9886592,
     "sourceType": "datasetVersion"
    },
    {
     "datasetId": 6098689,
     "sourceId": 9922906,
     "sourceType": "datasetVersion"
    },
    {
     "datasetId": 6077150,
     "sourceId": 9894375,
     "sourceType": "datasetVersion"
    }
   ],
   "dockerImageVersionId": 30786,
   "isGpuEnabled": false,
   "isInternetEnabled": true,
   "language": "python",
   "sourceType": "notebook"
  },
  "kernelspec": {
   "display_name": "Python 3",
   "language": "python",
   "name": "python3"
  },
  "language_info": {
   "codemirror_mode": {
    "name": "ipython",
    "version": 3
   },
   "file_extension": ".py",
   "mimetype": "text/x-python",
   "name": "python",
   "nbconvert_exporter": "python",
   "pygments_lexer": "ipython3",
   "version": "3.10.14"
  },
  "papermill": {
   "default_parameters": {},
   "duration": 16.885742,
   "end_time": "2024-11-16T10:35:07.086814",
   "environment_variables": {},
   "exception": null,
   "input_path": "__notebook__.ipynb",
   "output_path": "__notebook__.ipynb",
   "parameters": {},
   "start_time": "2024-11-16T10:34:50.201072",
   "version": "2.6.0"
  }
 },
 "nbformat": 4,
 "nbformat_minor": 5
}
